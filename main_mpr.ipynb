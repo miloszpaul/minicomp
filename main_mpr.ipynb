{
 "cells": [
  {
   "cell_type": "markdown",
   "metadata": {},
   "source": [
    "# **DSR 36 - Mini Competition (Oct 5-7th, 2023): Richter's Earthquake Damage Predictor**\n",
    "\n",
    "## Team Boris, David, Petr, Milosz\n",
    "\n",
    "![Our Team](images/team.png)\n"
   ]
  },
  {
   "cell_type": "markdown",
   "metadata": {},
   "source": [
    "# In this competition, we aim to predict the level of damage to buildings caused by the 2015 Gorkha earthquake in Nepal\n",
    "\n",
    "![Map](images/map.png)\n",
    "\n",
    "# Our given dataset includes 38 features related to 162k buildings. Our main hypothesis is that destruction is based on building **location** and **construction**. \n",
    "\n",
    "Image that correlates location and construction features of final model \n",
    "\n",
    "# The **target variable** is 'damage_grade,' which represents the level of damage to the building. There are 3 grades: 1 (low damage), 2 (medium damage), and 3 (almost complete destruction).\n",
    "\n",
    "Image of distribution of final target variable model  \n",
    "\n",
    "# Our model is ... and received a test score of ....\n",
    "\n",
    "Image of test score \n",
    "\n",
    "# In this presentation we walk you through the .. steps of our model. "
   ]
  },
  {
   "cell_type": "markdown",
   "metadata": {},
   "source": []
  },
  {
   "cell_type": "markdown",
   "metadata": {},
   "source": [
    "0. Import modules and data"
   ]
  },
  {
   "cell_type": "code",
   "execution_count": 1,
   "metadata": {},
   "outputs": [],
   "source": [
    "# Modules\n",
    "import pandas as pd\n",
    "from sklearn.model_selection import train_test_split"
   ]
  },
  {
   "cell_type": "code",
   "execution_count": 1,
   "metadata": {},
   "outputs": [
    {
     "ename": "ModuleNotFoundError",
     "evalue": "No module named 'lightgbm'",
     "output_type": "error",
     "traceback": [
      "\u001b[0;31m---------------------------------------------------------------------------\u001b[0m",
      "\u001b[0;31mModuleNotFoundError\u001b[0m                       Traceback (most recent call last)",
      "\u001b[1;32m/Users/miloszrosi/Downloads/minicomp/main_mpr.ipynb Cell 6\u001b[0m line \u001b[0;36m3\n\u001b[1;32m      <a href='vscode-notebook-cell:/Users/miloszrosi/Downloads/minicomp/main_mpr.ipynb#W5sZmlsZQ%3D%3D?line=0'>1</a>\u001b[0m \u001b[39m# Import scripts\u001b[39;00m\n\u001b[1;32m      <a href='vscode-notebook-cell:/Users/miloszrosi/Downloads/minicomp/main_mpr.ipynb#W5sZmlsZQ%3D%3D?line=1'>2</a>\u001b[0m \u001b[39mimport\u001b[39;00m \u001b[39mhelper_functions\u001b[39;00m \u001b[39m# various helper functions\u001b[39;00m\n\u001b[0;32m----> <a href='vscode-notebook-cell:/Users/miloszrosi/Downloads/minicomp/main_mpr.ipynb#W5sZmlsZQ%3D%3D?line=2'>3</a>\u001b[0m \u001b[39mimport\u001b[39;00m \u001b[39mlgb_optimized\u001b[39;00m \u001b[39m# Random forest\u001b[39;00m\n",
      "File \u001b[0;32m~/Downloads/minicomp/lgb_optimized.py:5\u001b[0m\n\u001b[1;32m      1\u001b[0m \u001b[39m# Class for random forest including optimizer\u001b[39;00m\n\u001b[1;32m      2\u001b[0m \u001b[39m# Strongly modified from original source: ChatGPT\u001b[39;00m\n\u001b[1;32m      3\u001b[0m \u001b[39m# Last edit: 06.10.2023 07:20\u001b[39;00m\n\u001b[0;32m----> 5\u001b[0m \u001b[39mimport\u001b[39;00m \u001b[39mlightgbm\u001b[39;00m \u001b[39mas\u001b[39;00m \u001b[39mlgb\u001b[39;00m\n\u001b[1;32m      6\u001b[0m \u001b[39mimport\u001b[39;00m \u001b[39moptuna\u001b[39;00m\n\u001b[1;32m      7\u001b[0m \u001b[39mimport\u001b[39;00m \u001b[39mpandas\u001b[39;00m \u001b[39mas\u001b[39;00m \u001b[39mpd\u001b[39;00m\n",
      "\u001b[0;31mModuleNotFoundError\u001b[0m: No module named 'lightgbm'"
     ]
    }
   ],
   "source": [
    "# Import scripts\n",
    "import helper_functions # various helper functions\n",
    "import lgb_optimized # Random forest"
   ]
  },
  {
   "cell_type": "code",
   "execution_count": null,
   "metadata": {},
   "outputs": [],
   "source": [
    "# Load data\n",
    "X, y, X_test = helper_functions.imports()"
   ]
  },
  {
   "cell_type": "markdown",
   "metadata": {},
   "source": [
    "1. Perform exploratory **data analysis** to understand the dataset's characteristics, distributions, and relationships between variables.\n",
    "\n"
   ]
  },
  {
   "cell_type": "markdown",
   "metadata": {},
   "source": [
    "2. **Clean the data** to prepare it for modeling."
   ]
  },
  {
   "cell_type": "code",
   "execution_count": null,
   "metadata": {},
   "outputs": [],
   "source": [
    "#First cleaning (before split - if required)\n",
    "#For this competition, we initially focus on predicting 'damage_grade.' So, we extract this target variable from the dataset.\n",
    "\n",
    "y = y['damage_grade']"
   ]
  },
  {
   "cell_type": "code",
   "execution_count": null,
   "metadata": {},
   "outputs": [],
   "source": [
    "# Split data in training and validation set to evaluate our model's performance.\n",
    "\n",
    "\n",
    "X_train, X_valid, y_train, y_valid = train_test_split(X, y, test_size=0.2, random_state=42)"
   ]
  },
  {
   "cell_type": "code",
   "execution_count": null,
   "metadata": {},
   "outputs": [],
   "source": [
    "# More cleaning (after split)"
   ]
  },
  {
   "cell_type": "markdown",
   "metadata": {},
   "source": [
    "3. **Visualization**:..."
   ]
  },
  {
   "cell_type": "code",
   "execution_count": null,
   "metadata": {},
   "outputs": [],
   "source": []
  },
  {
   "cell_type": "markdown",
   "metadata": {},
   "source": [
    "4. Generate a **Random Forest model** and optimize it for better predictive performance.\n",
    "\n"
   ]
  },
  {
   "cell_type": "code",
   "execution_count": 2,
   "metadata": {},
   "outputs": [
    {
     "ename": "NameError",
     "evalue": "name 'X' is not defined",
     "output_type": "error",
     "traceback": [
      "\u001b[0;31m---------------------------------------------------------------------------\u001b[0m",
      "\u001b[0;31mNameError\u001b[0m                                 Traceback (most recent call last)",
      "\u001b[1;32m/Users/miloszrosi/Downloads/minicomp/main_mpr.ipynb Cell 16\u001b[0m line \u001b[0;36m7\n\u001b[1;32m      <a href='vscode-notebook-cell:/Users/miloszrosi/Downloads/minicomp/main_mpr.ipynb#X23sZmlsZQ%3D%3D?line=1'>2</a>\u001b[0m mask \u001b[39m=\u001b[39m [\u001b[39m'\u001b[39m\u001b[39mhas_superstructure_adobe_mud\u001b[39m\u001b[39m'\u001b[39m, \u001b[39m'\u001b[39m\u001b[39mage\u001b[39m\u001b[39m'\u001b[39m,\u001b[39m'\u001b[39m\u001b[39mcount_floors_pre_eq\u001b[39m\u001b[39m'\u001b[39m,\u001b[39m'\u001b[39m\u001b[39marea_percentage\u001b[39m\u001b[39m'\u001b[39m,\u001b[39m'\u001b[39m\u001b[39mheight_percentage\u001b[39m\u001b[39m'\u001b[39m,\u001b[39m'\u001b[39m\u001b[39mhas_secondary_use\u001b[39m\u001b[39m'\u001b[39m,\n\u001b[1;32m      <a href='vscode-notebook-cell:/Users/miloszrosi/Downloads/minicomp/main_mpr.ipynb#X23sZmlsZQ%3D%3D?line=2'>3</a>\u001b[0m         \u001b[39m'\u001b[39m\u001b[39mhas_superstructure_cement_mortar_brick\u001b[39m\u001b[39m'\u001b[39m, \u001b[39m'\u001b[39m\u001b[39mhas_superstructure_timber\u001b[39m\u001b[39m'\u001b[39m, \u001b[39m'\u001b[39m\u001b[39mhas_superstructure_bamboo\u001b[39m\u001b[39m'\u001b[39m] \n\u001b[1;32m      <a href='vscode-notebook-cell:/Users/miloszrosi/Downloads/minicomp/main_mpr.ipynb#X23sZmlsZQ%3D%3D?line=5'>6</a>\u001b[0m \u001b[39m# Apply mask\u001b[39;00m\n\u001b[0;32m----> <a href='vscode-notebook-cell:/Users/miloszrosi/Downloads/minicomp/main_mpr.ipynb#X23sZmlsZQ%3D%3D?line=6'>7</a>\u001b[0m X \u001b[39m=\u001b[39m X[mask]\n\u001b[1;32m      <a href='vscode-notebook-cell:/Users/miloszrosi/Downloads/minicomp/main_mpr.ipynb#X23sZmlsZQ%3D%3D?line=8'>9</a>\u001b[0m X_train \u001b[39m=\u001b[39m X_train[mask]\n\u001b[1;32m     <a href='vscode-notebook-cell:/Users/miloszrosi/Downloads/minicomp/main_mpr.ipynb#X23sZmlsZQ%3D%3D?line=9'>10</a>\u001b[0m X_valid \u001b[39m=\u001b[39m X_valid[mask]\n",
      "\u001b[0;31mNameError\u001b[0m: name 'X' is not defined"
     ]
    }
   ],
   "source": [
    "# Initially, we limit the dataset to a subset of relevant features for testing tree generation. \n",
    "# These features are selected based on our domain knowledge and preliminary analysis.\n",
    "\n",
    "\n",
    "mask = ['has_superstructure_adobe_mud', 'age','count_floors_pre_eq','area_percentage','height_percentage','has_secondary_use',\n",
    "        'has_superstructure_cement_mortar_brick', 'has_superstructure_timber', 'has_superstructure_bamboo'] \n",
    "\n",
    "\n",
    "# Apply the feature mask\n",
    "X = X[mask]\n",
    "\n",
    "X_train = X_train[mask]\n",
    "X_valid = X_valid[mask]\n",
    "\n",
    "# Prepare the test data with the same feature mask\n",
    "X_test_pred = X_test[mask]"
   ]
  },
  {
   "cell_type": "code",
   "execution_count": 4,
   "metadata": {},
   "outputs": [
    {
     "ename": "NameError",
     "evalue": "name 'lgb_optimized' is not defined",
     "output_type": "error",
     "traceback": [
      "\u001b[0;31m---------------------------------------------------------------------------\u001b[0m",
      "\u001b[0;31mNameError\u001b[0m                                 Traceback (most recent call last)",
      "\u001b[1;32m/Users/miloszrosi/Downloads/minicomp/main_mpr.ipynb Cell 17\u001b[0m line \u001b[0;36m2\n\u001b[1;32m      <a href='vscode-notebook-cell:/Users/miloszrosi/Downloads/minicomp/main_mpr.ipynb#X24sZmlsZQ%3D%3D?line=0'>1</a>\u001b[0m \u001b[39m# Initiate model\u001b[39;00m\n\u001b[0;32m----> <a href='vscode-notebook-cell:/Users/miloszrosi/Downloads/minicomp/main_mpr.ipynb#X24sZmlsZQ%3D%3D?line=1'>2</a>\u001b[0m model \u001b[39m=\u001b[39m lgb_optimized\u001b[39m.\u001b[39mLGBM(X_train, X_valid, y_train, y_valid)\n\u001b[1;32m      <a href='vscode-notebook-cell:/Users/miloszrosi/Downloads/minicomp/main_mpr.ipynb#X24sZmlsZQ%3D%3D?line=2'>3</a>\u001b[0m \u001b[39m# Generate and optimize Random Forest, feed with test data to create prediction\u001b[39;00m\n\u001b[1;32m      <a href='vscode-notebook-cell:/Users/miloszrosi/Downloads/minicomp/main_mpr.ipynb#X24sZmlsZQ%3D%3D?line=4'>5</a>\u001b[0m y_pred \u001b[39m=\u001b[39m model\u001b[39m.\u001b[39moptimization(X, y, X_test_pred)\n",
      "\u001b[0;31mNameError\u001b[0m: name 'lgb_optimized' is not defined"
     ]
    }
   ],
   "source": [
    "# Initialize a LightGBM (LGBM) model using the training and validation sets.\n",
    "\n",
    "model = lgb_optimized.LGBM(X_train, X_valid, y_train, y_valid)\n",
    "\n",
    "\n",
    "# Generate and optimize the Random Forest model and feed it with test data to create predictions.\n",
    "\n",
    "y_pred = model.optimization(X, y, X_test_pred)"
   ]
  },
  {
   "cell_type": "markdown",
   "metadata": {},
   "source": [
    "5. **Evaluation**"
   ]
  },
  {
   "cell_type": "markdown",
   "metadata": {},
   "source": [
    "6. **Export**"
   ]
  },
  {
   "cell_type": "code",
   "execution_count": null,
   "metadata": {},
   "outputs": [],
   "source": [
    "# Export the model's predictions to create a CSV file following DrivenData.org data standards.\n",
    "\n",
    "helper_functions.write_output(X_test, y_pred)"
   ]
  }
 ],
 "metadata": {
  "kernelspec": {
   "display_name": "11_minicomp",
   "language": "python",
   "name": "python3"
  },
  "language_info": {
   "codemirror_mode": {
    "name": "ipython",
    "version": 3
   },
   "file_extension": ".py",
   "mimetype": "text/x-python",
   "name": "python",
   "nbconvert_exporter": "python",
   "pygments_lexer": "ipython3",
   "version": "3.12.0"
  }
 },
 "nbformat": 4,
 "nbformat_minor": 2
}
