{
 "cells": [
  {
   "cell_type": "markdown",
   "metadata": {},
   "source": [
    "# **DSR 36 - Mini Competition (Oct 5-7th, 2023): Richter's Earthquake Damage Predictor**\n",
    "\n",
    "![Eearthquake](images/earthquake.jpg)\n",
    "\n",
    "\n",
    "## Team Remote: Boris, David, Petr, Milosz\n",
    "\n",
    "![Our Team](images/team.png)\n",
    "\n",
    "\n",
    "- Working with agile principles\n",
    "- Using Google Meets and Jira\n",
    "- Dividing roles Admin: Milosz -- EDA/Viz: Petr -- Modeling: Boris -- Feature Engineering: David\n",
    "\n",
    "\n",
    "## Git Repository\n",
    "\n",
    "https://github.com/miloszpaul/minicomp\n",
    "\n",
    "\n",
    "![Our Repo](images/repo.png)\n"
   ]
  },
  {
   "cell_type": "markdown",
   "metadata": {},
   "source": [
    "# In this competition, we aim to predict the level of damage to buildings caused by the 2015 Gorkha earthquake in Nepal\n",
    "\n",
    "![Map](images/map.png)\n",
    "\n",
    "# Our given dataset includes 38 features related to 162k buildings. \n",
    "\n",
    "# Our main hypothesis is that destruction is based on building **location** and **construction**. \n",
    "\n",
    "## Location (geo_level_1_id)\n",
    "\n",
    "![Map](images/nepal.png)\n",
    "Source: Wikimedia \n",
    "\n",
    "## Construction types (foundation_type, roof_type, ground_floor_type, etc)\n",
    "\n",
    "\n",
    "![Map](images/building_types.jpg)\n",
    "Source: https://doi.org/10.1016/j.engstruct.2016.04.043\n",
    "\n",
    "\n",
    "MISSING Image that correlates location and construction features of final model \n",
    "\n",
    "\n",
    "# The **target variable** is _'damage_grade'_, which represents the level of damage to the building. There are 3 grades: \n",
    "\n",
    "# 1 (low damage)\n",
    "# 2 (medium damage)\n",
    "# 3 (almost complete destruction)\n",
    "\n",
    "MISSING Image of distribution of final target variable model  \n",
    "\n",
    "# Our model is ... and received a test score of ....\n",
    "\n",
    "![Submission](images/submission.png)\n",
    "\n",
    "# In this presentation we walk you through the .. steps of our model. "
   ]
  },
  {
   "cell_type": "markdown",
   "metadata": {},
   "source": [
    "# 0. Import modules and data"
   ]
  },
  {
   "cell_type": "code",
   "execution_count": 176,
   "metadata": {},
   "outputs": [],
   "source": [
    "# Modules\n",
    "import pandas as pd\n",
    "from sklearn.model_selection import train_test_split\n",
    "from sklearn.metrics import f1_score"
   ]
  },
  {
   "cell_type": "code",
   "execution_count": 177,
   "metadata": {},
   "outputs": [],
   "source": [
    "# Import scripts\n",
    "import helper_functions # Various helper functions\n",
    "import log_regression # Simple regression model\n",
    "import lgb_optimized # Random forest"
   ]
  },
  {
   "cell_type": "code",
   "execution_count": 178,
   "metadata": {},
   "outputs": [],
   "source": [
    "# Load data\n",
    "X, y, X_test = helper_functions.imports()"
   ]
  },
  {
   "cell_type": "markdown",
   "metadata": {},
   "source": [
    "## 1. Perform exploratory **data analysis** to understand the dataset's characteristics, distributions, and relationships between variables.\n",
    "\n"
   ]
  },
  {
   "cell_type": "code",
   "execution_count": 179,
   "metadata": {},
   "outputs": [
    {
     "name": "stdout",
     "output_type": "stream",
     "text": [
      "Proportions of the DataFrame X, containing the features for testing: (260601, 39)\n",
      "Proportions of the DataFrage y, containing the target value for testing: (260601, 2)\n",
      "Proportions of the DataFrame X, containing the features for the prediction: (86868, 39)\n"
     ]
    }
   ],
   "source": [
    "print(f\"Proportions of the DataFrame X, containing the features for testing: {X.shape}\")\n",
    "print(f\"Proportions of the DataFrage y, containing the target value for testing: {y.shape}\")\n",
    "print(f\"Proportions of the DataFrame X, containing the features for the prediction: {X_test.shape}\")"
   ]
  },
  {
   "cell_type": "code",
   "execution_count": 180,
   "metadata": {},
   "outputs": [
    {
     "data": {
      "text/html": [
       "<div>\n",
       "<style scoped>\n",
       "    .dataframe tbody tr th:only-of-type {\n",
       "        vertical-align: middle;\n",
       "    }\n",
       "\n",
       "    .dataframe tbody tr th {\n",
       "        vertical-align: top;\n",
       "    }\n",
       "\n",
       "    .dataframe thead th {\n",
       "        text-align: right;\n",
       "    }\n",
       "</style>\n",
       "<table border=\"1\" class=\"dataframe\">\n",
       "  <thead>\n",
       "    <tr style=\"text-align: right;\">\n",
       "      <th></th>\n",
       "      <th>building_id</th>\n",
       "      <th>geo_level_1_id</th>\n",
       "      <th>geo_level_2_id</th>\n",
       "      <th>geo_level_3_id</th>\n",
       "      <th>count_floors_pre_eq</th>\n",
       "      <th>age</th>\n",
       "      <th>area_percentage</th>\n",
       "      <th>height_percentage</th>\n",
       "      <th>land_surface_condition</th>\n",
       "      <th>foundation_type</th>\n",
       "      <th>...</th>\n",
       "      <th>has_secondary_use_agriculture</th>\n",
       "      <th>has_secondary_use_hotel</th>\n",
       "      <th>has_secondary_use_rental</th>\n",
       "      <th>has_secondary_use_institution</th>\n",
       "      <th>has_secondary_use_school</th>\n",
       "      <th>has_secondary_use_industry</th>\n",
       "      <th>has_secondary_use_health_post</th>\n",
       "      <th>has_secondary_use_gov_office</th>\n",
       "      <th>has_secondary_use_use_police</th>\n",
       "      <th>has_secondary_use_other</th>\n",
       "    </tr>\n",
       "  </thead>\n",
       "  <tbody>\n",
       "    <tr>\n",
       "      <th>0</th>\n",
       "      <td>802906</td>\n",
       "      <td>6</td>\n",
       "      <td>487</td>\n",
       "      <td>12198</td>\n",
       "      <td>2</td>\n",
       "      <td>30</td>\n",
       "      <td>6</td>\n",
       "      <td>5</td>\n",
       "      <td>t</td>\n",
       "      <td>r</td>\n",
       "      <td>...</td>\n",
       "      <td>0</td>\n",
       "      <td>0</td>\n",
       "      <td>0</td>\n",
       "      <td>0</td>\n",
       "      <td>0</td>\n",
       "      <td>0</td>\n",
       "      <td>0</td>\n",
       "      <td>0</td>\n",
       "      <td>0</td>\n",
       "      <td>0</td>\n",
       "    </tr>\n",
       "    <tr>\n",
       "      <th>1</th>\n",
       "      <td>28830</td>\n",
       "      <td>8</td>\n",
       "      <td>900</td>\n",
       "      <td>2812</td>\n",
       "      <td>2</td>\n",
       "      <td>10</td>\n",
       "      <td>8</td>\n",
       "      <td>7</td>\n",
       "      <td>o</td>\n",
       "      <td>r</td>\n",
       "      <td>...</td>\n",
       "      <td>0</td>\n",
       "      <td>0</td>\n",
       "      <td>0</td>\n",
       "      <td>0</td>\n",
       "      <td>0</td>\n",
       "      <td>0</td>\n",
       "      <td>0</td>\n",
       "      <td>0</td>\n",
       "      <td>0</td>\n",
       "      <td>0</td>\n",
       "    </tr>\n",
       "    <tr>\n",
       "      <th>2</th>\n",
       "      <td>94947</td>\n",
       "      <td>21</td>\n",
       "      <td>363</td>\n",
       "      <td>8973</td>\n",
       "      <td>2</td>\n",
       "      <td>10</td>\n",
       "      <td>5</td>\n",
       "      <td>5</td>\n",
       "      <td>t</td>\n",
       "      <td>r</td>\n",
       "      <td>...</td>\n",
       "      <td>0</td>\n",
       "      <td>0</td>\n",
       "      <td>0</td>\n",
       "      <td>0</td>\n",
       "      <td>0</td>\n",
       "      <td>0</td>\n",
       "      <td>0</td>\n",
       "      <td>0</td>\n",
       "      <td>0</td>\n",
       "      <td>0</td>\n",
       "    </tr>\n",
       "    <tr>\n",
       "      <th>3</th>\n",
       "      <td>590882</td>\n",
       "      <td>22</td>\n",
       "      <td>418</td>\n",
       "      <td>10694</td>\n",
       "      <td>2</td>\n",
       "      <td>10</td>\n",
       "      <td>6</td>\n",
       "      <td>5</td>\n",
       "      <td>t</td>\n",
       "      <td>r</td>\n",
       "      <td>...</td>\n",
       "      <td>0</td>\n",
       "      <td>0</td>\n",
       "      <td>0</td>\n",
       "      <td>0</td>\n",
       "      <td>0</td>\n",
       "      <td>0</td>\n",
       "      <td>0</td>\n",
       "      <td>0</td>\n",
       "      <td>0</td>\n",
       "      <td>0</td>\n",
       "    </tr>\n",
       "    <tr>\n",
       "      <th>4</th>\n",
       "      <td>201944</td>\n",
       "      <td>11</td>\n",
       "      <td>131</td>\n",
       "      <td>1488</td>\n",
       "      <td>3</td>\n",
       "      <td>30</td>\n",
       "      <td>8</td>\n",
       "      <td>9</td>\n",
       "      <td>t</td>\n",
       "      <td>r</td>\n",
       "      <td>...</td>\n",
       "      <td>0</td>\n",
       "      <td>0</td>\n",
       "      <td>0</td>\n",
       "      <td>0</td>\n",
       "      <td>0</td>\n",
       "      <td>0</td>\n",
       "      <td>0</td>\n",
       "      <td>0</td>\n",
       "      <td>0</td>\n",
       "      <td>0</td>\n",
       "    </tr>\n",
       "  </tbody>\n",
       "</table>\n",
       "<p>5 rows × 39 columns</p>\n",
       "</div>"
      ],
      "text/plain": [
       "   building_id  geo_level_1_id  geo_level_2_id  geo_level_3_id  \\\n",
       "0       802906               6             487           12198   \n",
       "1        28830               8             900            2812   \n",
       "2        94947              21             363            8973   \n",
       "3       590882              22             418           10694   \n",
       "4       201944              11             131            1488   \n",
       "\n",
       "   count_floors_pre_eq  age  area_percentage  height_percentage  \\\n",
       "0                    2   30                6                  5   \n",
       "1                    2   10                8                  7   \n",
       "2                    2   10                5                  5   \n",
       "3                    2   10                6                  5   \n",
       "4                    3   30                8                  9   \n",
       "\n",
       "  land_surface_condition foundation_type  ... has_secondary_use_agriculture  \\\n",
       "0                      t               r  ...                             0   \n",
       "1                      o               r  ...                             0   \n",
       "2                      t               r  ...                             0   \n",
       "3                      t               r  ...                             0   \n",
       "4                      t               r  ...                             0   \n",
       "\n",
       "  has_secondary_use_hotel has_secondary_use_rental  \\\n",
       "0                       0                        0   \n",
       "1                       0                        0   \n",
       "2                       0                        0   \n",
       "3                       0                        0   \n",
       "4                       0                        0   \n",
       "\n",
       "  has_secondary_use_institution has_secondary_use_school  \\\n",
       "0                             0                        0   \n",
       "1                             0                        0   \n",
       "2                             0                        0   \n",
       "3                             0                        0   \n",
       "4                             0                        0   \n",
       "\n",
       "   has_secondary_use_industry  has_secondary_use_health_post  \\\n",
       "0                           0                              0   \n",
       "1                           0                              0   \n",
       "2                           0                              0   \n",
       "3                           0                              0   \n",
       "4                           0                              0   \n",
       "\n",
       "   has_secondary_use_gov_office  has_secondary_use_use_police  \\\n",
       "0                             0                             0   \n",
       "1                             0                             0   \n",
       "2                             0                             0   \n",
       "3                             0                             0   \n",
       "4                             0                             0   \n",
       "\n",
       "   has_secondary_use_other  \n",
       "0                        0  \n",
       "1                        0  \n",
       "2                        0  \n",
       "3                        0  \n",
       "4                        0  \n",
       "\n",
       "[5 rows x 39 columns]"
      ]
     },
     "execution_count": 180,
     "metadata": {},
     "output_type": "execute_result"
    }
   ],
   "source": [
    "X.head()"
   ]
  },
  {
   "cell_type": "code",
   "execution_count": 181,
   "metadata": {},
   "outputs": [
    {
     "data": {
      "text/html": [
       "<div>\n",
       "<style scoped>\n",
       "    .dataframe tbody tr th:only-of-type {\n",
       "        vertical-align: middle;\n",
       "    }\n",
       "\n",
       "    .dataframe tbody tr th {\n",
       "        vertical-align: top;\n",
       "    }\n",
       "\n",
       "    .dataframe thead th {\n",
       "        text-align: right;\n",
       "    }\n",
       "</style>\n",
       "<table border=\"1\" class=\"dataframe\">\n",
       "  <thead>\n",
       "    <tr style=\"text-align: right;\">\n",
       "      <th></th>\n",
       "      <th>building_id</th>\n",
       "      <th>damage_grade</th>\n",
       "    </tr>\n",
       "  </thead>\n",
       "  <tbody>\n",
       "    <tr>\n",
       "      <th>0</th>\n",
       "      <td>802906</td>\n",
       "      <td>3</td>\n",
       "    </tr>\n",
       "    <tr>\n",
       "      <th>1</th>\n",
       "      <td>28830</td>\n",
       "      <td>2</td>\n",
       "    </tr>\n",
       "    <tr>\n",
       "      <th>2</th>\n",
       "      <td>94947</td>\n",
       "      <td>3</td>\n",
       "    </tr>\n",
       "    <tr>\n",
       "      <th>3</th>\n",
       "      <td>590882</td>\n",
       "      <td>2</td>\n",
       "    </tr>\n",
       "    <tr>\n",
       "      <th>4</th>\n",
       "      <td>201944</td>\n",
       "      <td>3</td>\n",
       "    </tr>\n",
       "  </tbody>\n",
       "</table>\n",
       "</div>"
      ],
      "text/plain": [
       "   building_id  damage_grade\n",
       "0       802906             3\n",
       "1        28830             2\n",
       "2        94947             3\n",
       "3       590882             2\n",
       "4       201944             3"
      ]
     },
     "execution_count": 181,
     "metadata": {},
     "output_type": "execute_result"
    }
   ],
   "source": [
    "y.head()"
   ]
  },
  {
   "cell_type": "code",
   "execution_count": 182,
   "metadata": {},
   "outputs": [
    {
     "data": {
      "text/html": [
       "<div>\n",
       "<style scoped>\n",
       "    .dataframe tbody tr th:only-of-type {\n",
       "        vertical-align: middle;\n",
       "    }\n",
       "\n",
       "    .dataframe tbody tr th {\n",
       "        vertical-align: top;\n",
       "    }\n",
       "\n",
       "    .dataframe thead th {\n",
       "        text-align: right;\n",
       "    }\n",
       "</style>\n",
       "<table border=\"1\" class=\"dataframe\">\n",
       "  <thead>\n",
       "    <tr style=\"text-align: right;\">\n",
       "      <th></th>\n",
       "      <th>building_id</th>\n",
       "      <th>geo_level_1_id</th>\n",
       "      <th>geo_level_2_id</th>\n",
       "      <th>geo_level_3_id</th>\n",
       "      <th>count_floors_pre_eq</th>\n",
       "      <th>age</th>\n",
       "      <th>area_percentage</th>\n",
       "      <th>height_percentage</th>\n",
       "      <th>land_surface_condition</th>\n",
       "      <th>foundation_type</th>\n",
       "      <th>...</th>\n",
       "      <th>has_secondary_use_agriculture</th>\n",
       "      <th>has_secondary_use_hotel</th>\n",
       "      <th>has_secondary_use_rental</th>\n",
       "      <th>has_secondary_use_institution</th>\n",
       "      <th>has_secondary_use_school</th>\n",
       "      <th>has_secondary_use_industry</th>\n",
       "      <th>has_secondary_use_health_post</th>\n",
       "      <th>has_secondary_use_gov_office</th>\n",
       "      <th>has_secondary_use_use_police</th>\n",
       "      <th>has_secondary_use_other</th>\n",
       "    </tr>\n",
       "  </thead>\n",
       "  <tbody>\n",
       "    <tr>\n",
       "      <th>0</th>\n",
       "      <td>300051</td>\n",
       "      <td>17</td>\n",
       "      <td>596</td>\n",
       "      <td>11307</td>\n",
       "      <td>3</td>\n",
       "      <td>20</td>\n",
       "      <td>7</td>\n",
       "      <td>6</td>\n",
       "      <td>t</td>\n",
       "      <td>r</td>\n",
       "      <td>...</td>\n",
       "      <td>0</td>\n",
       "      <td>0</td>\n",
       "      <td>0</td>\n",
       "      <td>0</td>\n",
       "      <td>0</td>\n",
       "      <td>0</td>\n",
       "      <td>0</td>\n",
       "      <td>0</td>\n",
       "      <td>0</td>\n",
       "      <td>0</td>\n",
       "    </tr>\n",
       "    <tr>\n",
       "      <th>1</th>\n",
       "      <td>99355</td>\n",
       "      <td>6</td>\n",
       "      <td>141</td>\n",
       "      <td>11987</td>\n",
       "      <td>2</td>\n",
       "      <td>25</td>\n",
       "      <td>13</td>\n",
       "      <td>5</td>\n",
       "      <td>t</td>\n",
       "      <td>r</td>\n",
       "      <td>...</td>\n",
       "      <td>1</td>\n",
       "      <td>0</td>\n",
       "      <td>0</td>\n",
       "      <td>0</td>\n",
       "      <td>0</td>\n",
       "      <td>0</td>\n",
       "      <td>0</td>\n",
       "      <td>0</td>\n",
       "      <td>0</td>\n",
       "      <td>0</td>\n",
       "    </tr>\n",
       "    <tr>\n",
       "      <th>2</th>\n",
       "      <td>890251</td>\n",
       "      <td>22</td>\n",
       "      <td>19</td>\n",
       "      <td>10044</td>\n",
       "      <td>2</td>\n",
       "      <td>5</td>\n",
       "      <td>4</td>\n",
       "      <td>5</td>\n",
       "      <td>t</td>\n",
       "      <td>r</td>\n",
       "      <td>...</td>\n",
       "      <td>0</td>\n",
       "      <td>0</td>\n",
       "      <td>0</td>\n",
       "      <td>0</td>\n",
       "      <td>0</td>\n",
       "      <td>0</td>\n",
       "      <td>0</td>\n",
       "      <td>0</td>\n",
       "      <td>0</td>\n",
       "      <td>0</td>\n",
       "    </tr>\n",
       "    <tr>\n",
       "      <th>3</th>\n",
       "      <td>745817</td>\n",
       "      <td>26</td>\n",
       "      <td>39</td>\n",
       "      <td>633</td>\n",
       "      <td>1</td>\n",
       "      <td>0</td>\n",
       "      <td>19</td>\n",
       "      <td>3</td>\n",
       "      <td>t</td>\n",
       "      <td>r</td>\n",
       "      <td>...</td>\n",
       "      <td>0</td>\n",
       "      <td>0</td>\n",
       "      <td>1</td>\n",
       "      <td>0</td>\n",
       "      <td>0</td>\n",
       "      <td>0</td>\n",
       "      <td>0</td>\n",
       "      <td>0</td>\n",
       "      <td>0</td>\n",
       "      <td>0</td>\n",
       "    </tr>\n",
       "    <tr>\n",
       "      <th>4</th>\n",
       "      <td>421793</td>\n",
       "      <td>17</td>\n",
       "      <td>289</td>\n",
       "      <td>7970</td>\n",
       "      <td>3</td>\n",
       "      <td>15</td>\n",
       "      <td>8</td>\n",
       "      <td>7</td>\n",
       "      <td>t</td>\n",
       "      <td>r</td>\n",
       "      <td>...</td>\n",
       "      <td>0</td>\n",
       "      <td>0</td>\n",
       "      <td>0</td>\n",
       "      <td>0</td>\n",
       "      <td>0</td>\n",
       "      <td>0</td>\n",
       "      <td>0</td>\n",
       "      <td>0</td>\n",
       "      <td>0</td>\n",
       "      <td>0</td>\n",
       "    </tr>\n",
       "  </tbody>\n",
       "</table>\n",
       "<p>5 rows × 39 columns</p>\n",
       "</div>"
      ],
      "text/plain": [
       "   building_id  geo_level_1_id  geo_level_2_id  geo_level_3_id  \\\n",
       "0       300051              17             596           11307   \n",
       "1        99355               6             141           11987   \n",
       "2       890251              22              19           10044   \n",
       "3       745817              26              39             633   \n",
       "4       421793              17             289            7970   \n",
       "\n",
       "   count_floors_pre_eq  age  area_percentage  height_percentage  \\\n",
       "0                    3   20                7                  6   \n",
       "1                    2   25               13                  5   \n",
       "2                    2    5                4                  5   \n",
       "3                    1    0               19                  3   \n",
       "4                    3   15                8                  7   \n",
       "\n",
       "  land_surface_condition foundation_type  ... has_secondary_use_agriculture  \\\n",
       "0                      t               r  ...                             0   \n",
       "1                      t               r  ...                             1   \n",
       "2                      t               r  ...                             0   \n",
       "3                      t               r  ...                             0   \n",
       "4                      t               r  ...                             0   \n",
       "\n",
       "  has_secondary_use_hotel has_secondary_use_rental  \\\n",
       "0                       0                        0   \n",
       "1                       0                        0   \n",
       "2                       0                        0   \n",
       "3                       0                        1   \n",
       "4                       0                        0   \n",
       "\n",
       "  has_secondary_use_institution has_secondary_use_school  \\\n",
       "0                             0                        0   \n",
       "1                             0                        0   \n",
       "2                             0                        0   \n",
       "3                             0                        0   \n",
       "4                             0                        0   \n",
       "\n",
       "   has_secondary_use_industry  has_secondary_use_health_post  \\\n",
       "0                           0                              0   \n",
       "1                           0                              0   \n",
       "2                           0                              0   \n",
       "3                           0                              0   \n",
       "4                           0                              0   \n",
       "\n",
       "   has_secondary_use_gov_office  has_secondary_use_use_police  \\\n",
       "0                             0                             0   \n",
       "1                             0                             0   \n",
       "2                             0                             0   \n",
       "3                             0                             0   \n",
       "4                             0                             0   \n",
       "\n",
       "   has_secondary_use_other  \n",
       "0                        0  \n",
       "1                        0  \n",
       "2                        0  \n",
       "3                        0  \n",
       "4                        0  \n",
       "\n",
       "[5 rows x 39 columns]"
      ]
     },
     "execution_count": 182,
     "metadata": {},
     "output_type": "execute_result"
    }
   ],
   "source": [
    "X_test.head()\n"
   ]
  },
  {
   "cell_type": "markdown",
   "metadata": {},
   "source": [
    "## Check whether _X_ and _X_test_ have the same columns"
   ]
  },
  {
   "cell_type": "code",
   "execution_count": 183,
   "metadata": {},
   "outputs": [
    {
     "data": {
      "text/plain": [
       "Index(['building_id', 'geo_level_1_id', 'geo_level_2_id', 'geo_level_3_id',\n",
       "       'count_floors_pre_eq', 'age', 'area_percentage', 'height_percentage',\n",
       "       'land_surface_condition', 'foundation_type', 'roof_type',\n",
       "       'ground_floor_type', 'other_floor_type', 'position',\n",
       "       'plan_configuration', 'has_superstructure_adobe_mud',\n",
       "       'has_superstructure_mud_mortar_stone', 'has_superstructure_stone_flag',\n",
       "       'has_superstructure_cement_mortar_stone',\n",
       "       'has_superstructure_mud_mortar_brick',\n",
       "       'has_superstructure_cement_mortar_brick', 'has_superstructure_timber',\n",
       "       'has_superstructure_bamboo', 'has_superstructure_rc_non_engineered',\n",
       "       'has_superstructure_rc_engineered', 'has_superstructure_other',\n",
       "       'legal_ownership_status', 'count_families', 'has_secondary_use',\n",
       "       'has_secondary_use_agriculture', 'has_secondary_use_hotel',\n",
       "       'has_secondary_use_rental', 'has_secondary_use_institution',\n",
       "       'has_secondary_use_school', 'has_secondary_use_industry',\n",
       "       'has_secondary_use_health_post', 'has_secondary_use_gov_office',\n",
       "       'has_secondary_use_use_police', 'has_secondary_use_other'],\n",
       "      dtype='object')"
      ]
     },
     "execution_count": 183,
     "metadata": {},
     "output_type": "execute_result"
    }
   ],
   "source": [
    "X.columns"
   ]
  },
  {
   "cell_type": "code",
   "execution_count": 184,
   "metadata": {},
   "outputs": [
    {
     "ename": "AttributeError",
     "evalue": "module 'helper_functions' has no attribute 'test_column_equality'",
     "output_type": "error",
     "traceback": [
      "\u001b[0;31m---------------------------------------------------------------------------\u001b[0m",
      "\u001b[0;31mAttributeError\u001b[0m                            Traceback (most recent call last)",
      "\u001b[1;32m/Users/miloszrosi/Downloads/minicomp/presi_mpr.ipynb Cell 14\u001b[0m line \u001b[0;36m1\n\u001b[0;32m----> <a href='vscode-notebook-cell:/Users/miloszrosi/Downloads/minicomp/presi_mpr.ipynb#Y104sZmlsZQ%3D%3D?line=0'>1</a>\u001b[0m helper_functions\u001b[39m.\u001b[39;49mtest_column_equality(X, X_test)\n",
      "\u001b[0;31mAttributeError\u001b[0m: module 'helper_functions' has no attribute 'test_column_equality'"
     ]
    }
   ],
   "source": [
    "helper_functions.test_column_equality(X, X_test)"
   ]
  },
  {
   "cell_type": "code",
   "execution_count": null,
   "metadata": {},
   "outputs": [
    {
     "data": {
      "text/plain": [
       "building_id                                int64\n",
       "geo_level_1_id                             int64\n",
       "geo_level_2_id                             int64\n",
       "geo_level_3_id                             int64\n",
       "count_floors_pre_eq                        int64\n",
       "age                                        int64\n",
       "area_percentage                            int64\n",
       "height_percentage                          int64\n",
       "land_surface_condition                    object\n",
       "foundation_type                           object\n",
       "roof_type                                 object\n",
       "ground_floor_type                         object\n",
       "other_floor_type                          object\n",
       "position                                  object\n",
       "plan_configuration                        object\n",
       "has_superstructure_adobe_mud               int64\n",
       "has_superstructure_mud_mortar_stone        int64\n",
       "has_superstructure_stone_flag              int64\n",
       "has_superstructure_cement_mortar_stone     int64\n",
       "has_superstructure_mud_mortar_brick        int64\n",
       "has_superstructure_cement_mortar_brick     int64\n",
       "has_superstructure_timber                  int64\n",
       "has_superstructure_bamboo                  int64\n",
       "has_superstructure_rc_non_engineered       int64\n",
       "has_superstructure_rc_engineered           int64\n",
       "has_superstructure_other                   int64\n",
       "legal_ownership_status                    object\n",
       "count_families                             int64\n",
       "has_secondary_use                          int64\n",
       "has_secondary_use_agriculture              int64\n",
       "has_secondary_use_hotel                    int64\n",
       "has_secondary_use_rental                   int64\n",
       "has_secondary_use_institution              int64\n",
       "has_secondary_use_school                   int64\n",
       "has_secondary_use_industry                 int64\n",
       "has_secondary_use_health_post              int64\n",
       "has_secondary_use_gov_office               int64\n",
       "has_secondary_use_use_police               int64\n",
       "has_secondary_use_other                    int64\n",
       "dtype: object"
      ]
     },
     "execution_count": 87,
     "metadata": {},
     "output_type": "execute_result"
    }
   ],
   "source": [
    "X.dtypes"
   ]
  },
  {
   "cell_type": "code",
   "execution_count": null,
   "metadata": {},
   "outputs": [
    {
     "data": {
      "text/plain": [
       "has_superstructure_adobe_mud               2\n",
       "age                                       42\n",
       "count_floors_pre_eq                        9\n",
       "area_percentage                           84\n",
       "height_percentage                         27\n",
       "has_secondary_use                          2\n",
       "has_superstructure_cement_mortar_brick     2\n",
       "has_superstructure_timber                  2\n",
       "has_superstructure_bamboo                  2\n",
       "dtype: int64"
      ]
     },
     "execution_count": 93,
     "metadata": {},
     "output_type": "execute_result"
    }
   ],
   "source": [
    "X.nunique()"
   ]
  },
  {
   "cell_type": "markdown",
   "metadata": {},
   "source": [
    "Note: From the description, we assume Geo Level 3 is the most precise whereas Geo Level 1 the least precise. Follow that logic, we expect more unique data points in Level 3 than Level 1."
   ]
  },
  {
   "cell_type": "code",
   "execution_count": null,
   "metadata": {},
   "outputs": [
    {
     "name": "stdout",
     "output_type": "stream",
     "text": [
      "Unique data points in geo_level_1_id: 31\n",
      "Unique data points in geo_level_2_id: 1414\n",
      "Unique data points in geo_level_3_id: 11595\n"
     ]
    }
   ],
   "source": [
    "print(f\"Unique data points in geo_level_1_id: {X.loc[:, 'geo_level_1_id'].nunique()}\")\n",
    "print(f\"Unique data points in geo_level_2_id: {X.loc[:, 'geo_level_2_id'].nunique()}\")\n",
    "print(f\"Unique data points in geo_level_3_id: {X.loc[:, 'geo_level_3_id'].nunique()}\")"
   ]
  },
  {
   "cell_type": "markdown",
   "metadata": {},
   "source": [
    "!!!MISSING (Report) on MISSING DATA? "
   ]
  },
  {
   "cell_type": "markdown",
   "metadata": {},
   "source": [
    "## 2. **Clean the data** to prepare it for modeling."
   ]
  },
  {
   "cell_type": "code",
   "execution_count": null,
   "metadata": {},
   "outputs": [
    {
     "ename": "KeyError",
     "evalue": "'damage_grade'",
     "output_type": "error",
     "traceback": [
      "\u001b[0;31m---------------------------------------------------------------------------\u001b[0m",
      "\u001b[0;31mKeyError\u001b[0m                                  Traceback (most recent call last)",
      "\u001b[1;32m/Users/miloszrosi/Downloads/minicomp/presi_mpr.ipynb Cell 21\u001b[0m line \u001b[0;36m4\n\u001b[1;32m      <a href='vscode-notebook-cell:/Users/miloszrosi/Downloads/minicomp/presi_mpr.ipynb#X41sZmlsZQ%3D%3D?line=0'>1</a>\u001b[0m \u001b[39m#First cleaning (before split - if required)\u001b[39;00m\n\u001b[1;32m      <a href='vscode-notebook-cell:/Users/miloszrosi/Downloads/minicomp/presi_mpr.ipynb#X41sZmlsZQ%3D%3D?line=1'>2</a>\u001b[0m \u001b[39m#For this competition, we initially focus on predicting 'damage_grade.' So, we extract this target variable from the dataset.\u001b[39;00m\n\u001b[0;32m----> <a href='vscode-notebook-cell:/Users/miloszrosi/Downloads/minicomp/presi_mpr.ipynb#X41sZmlsZQ%3D%3D?line=3'>4</a>\u001b[0m y \u001b[39m=\u001b[39m y[\u001b[39m'\u001b[39;49m\u001b[39mdamage_grade\u001b[39;49m\u001b[39m'\u001b[39;49m]\n",
      "File \u001b[0;32m~/anaconda3/envs/dsr-setup/lib/python3.10/site-packages/pandas/core/series.py:1040\u001b[0m, in \u001b[0;36mSeries.__getitem__\u001b[0;34m(self, key)\u001b[0m\n\u001b[1;32m   1037\u001b[0m     \u001b[39mreturn\u001b[39;00m \u001b[39mself\u001b[39m\u001b[39m.\u001b[39m_values[key]\n\u001b[1;32m   1039\u001b[0m \u001b[39melif\u001b[39;00m key_is_scalar:\n\u001b[0;32m-> 1040\u001b[0m     \u001b[39mreturn\u001b[39;00m \u001b[39mself\u001b[39;49m\u001b[39m.\u001b[39;49m_get_value(key)\n\u001b[1;32m   1042\u001b[0m \u001b[39m# Convert generator to list before going through hashable part\u001b[39;00m\n\u001b[1;32m   1043\u001b[0m \u001b[39m# (We will iterate through the generator there to check for slices)\u001b[39;00m\n\u001b[1;32m   1044\u001b[0m \u001b[39mif\u001b[39;00m is_iterator(key):\n",
      "File \u001b[0;32m~/anaconda3/envs/dsr-setup/lib/python3.10/site-packages/pandas/core/series.py:1156\u001b[0m, in \u001b[0;36mSeries._get_value\u001b[0;34m(self, label, takeable)\u001b[0m\n\u001b[1;32m   1153\u001b[0m     \u001b[39mreturn\u001b[39;00m \u001b[39mself\u001b[39m\u001b[39m.\u001b[39m_values[label]\n\u001b[1;32m   1155\u001b[0m \u001b[39m# Similar to Index.get_value, but we do not fall back to positional\u001b[39;00m\n\u001b[0;32m-> 1156\u001b[0m loc \u001b[39m=\u001b[39m \u001b[39mself\u001b[39;49m\u001b[39m.\u001b[39;49mindex\u001b[39m.\u001b[39;49mget_loc(label)\n\u001b[1;32m   1158\u001b[0m \u001b[39mif\u001b[39;00m is_integer(loc):\n\u001b[1;32m   1159\u001b[0m     \u001b[39mreturn\u001b[39;00m \u001b[39mself\u001b[39m\u001b[39m.\u001b[39m_values[loc]\n",
      "File \u001b[0;32m~/anaconda3/envs/dsr-setup/lib/python3.10/site-packages/pandas/core/indexes/range.py:418\u001b[0m, in \u001b[0;36mRangeIndex.get_loc\u001b[0;34m(self, key)\u001b[0m\n\u001b[1;32m    416\u001b[0m         \u001b[39mraise\u001b[39;00m \u001b[39mKeyError\u001b[39;00m(key) \u001b[39mfrom\u001b[39;00m \u001b[39merr\u001b[39;00m\n\u001b[1;32m    417\u001b[0m \u001b[39mif\u001b[39;00m \u001b[39misinstance\u001b[39m(key, Hashable):\n\u001b[0;32m--> 418\u001b[0m     \u001b[39mraise\u001b[39;00m \u001b[39mKeyError\u001b[39;00m(key)\n\u001b[1;32m    419\u001b[0m \u001b[39mself\u001b[39m\u001b[39m.\u001b[39m_check_indexing_error(key)\n\u001b[1;32m    420\u001b[0m \u001b[39mraise\u001b[39;00m \u001b[39mKeyError\u001b[39;00m(key)\n",
      "\u001b[0;31mKeyError\u001b[0m: 'damage_grade'"
     ]
    }
   ],
   "source": [
    "#First cleaning (before split - if required)\n",
    "#For this competition, we initially focus on predicting 'damage_grade.' So, we extract this target variable from the dataset.\n",
    "\n",
    "y = y['damage_grade']"
   ]
  },
  {
   "cell_type": "code",
   "execution_count": null,
   "metadata": {},
   "outputs": [],
   "source": [
    "# Split data in training and validation set to evaluate our model's performance.\n",
    "X_train, X_valid, y_train, y_valid = train_test_split(X, y, test_size=0.2, random_state=42)"
   ]
  },
  {
   "cell_type": "markdown",
   "metadata": {},
   "source": [
    "## _geo_level2_ mean encodings"
   ]
  },
  {
   "cell_type": "code",
   "execution_count": null,
   "metadata": {},
   "outputs": [],
   "source": [
    "geo_levels = []\n",
    "for col in filter(lambda col: col.startswith(\"geo\"), X):\n",
    "    print(str(col))\n",
    "    geo_levels.append(col)"
   ]
  },
  {
   "cell_type": "code",
   "execution_count": null,
   "metadata": {},
   "outputs": [
    {
     "ename": "NameError",
     "evalue": "name 'data' is not defined",
     "output_type": "error",
     "traceback": [
      "\u001b[0;31m---------------------------------------------------------------------------\u001b[0m",
      "\u001b[0;31mNameError\u001b[0m                                 Traceback (most recent call last)",
      "\u001b[1;32m/Users/miloszrosi/Downloads/minicomp/presi_mpr.ipynb Cell 27\u001b[0m line \u001b[0;36m1\n\u001b[0;32m----> <a href='vscode-notebook-cell:/Users/miloszrosi/Downloads/minicomp/presi_mpr.ipynb#Y131sZmlsZQ%3D%3D?line=0'>1</a>\u001b[0m mean_encodings \u001b[39m=\u001b[39m data\u001b[39m.\u001b[39mgroupby(\u001b[39m'\u001b[39m\u001b[39mgeo_level_2_id\u001b[39m\u001b[39m'\u001b[39m)[\u001b[39m'\u001b[39m\u001b[39mdamage_grade\u001b[39m\u001b[39m'\u001b[39m]\u001b[39m.\u001b[39mmean()\n\u001b[1;32m      <a href='vscode-notebook-cell:/Users/miloszrosi/Downloads/minicomp/presi_mpr.ipynb#Y131sZmlsZQ%3D%3D?line=1'>2</a>\u001b[0m pd\u001b[39m.\u001b[39mDataFrame(mean_encodings)\u001b[39m.\u001b[39mhead()\n",
      "\u001b[0;31mNameError\u001b[0m: name 'data' is not defined"
     ]
    }
   ],
   "source": [
    "mean_encodings = data.groupby('geo_level_2_id')['damage_grade'].mean()\n",
    "pd.DataFrame(mean_encodings).head()\n"
   ]
  },
  {
   "cell_type": "code",
   "execution_count": null,
   "metadata": {},
   "outputs": [
    {
     "ename": "KeyError",
     "evalue": "'geo_level_2_id'",
     "output_type": "error",
     "traceback": [
      "\u001b[0;31m---------------------------------------------------------------------------\u001b[0m",
      "\u001b[0;31mKeyError\u001b[0m                                  Traceback (most recent call last)",
      "File \u001b[0;32m~/anaconda3/envs/dsr-setup/lib/python3.10/site-packages/pandas/core/indexes/base.py:3790\u001b[0m, in \u001b[0;36mIndex.get_loc\u001b[0;34m(self, key)\u001b[0m\n\u001b[1;32m   3789\u001b[0m \u001b[39mtry\u001b[39;00m:\n\u001b[0;32m-> 3790\u001b[0m     \u001b[39mreturn\u001b[39;00m \u001b[39mself\u001b[39;49m\u001b[39m.\u001b[39;49m_engine\u001b[39m.\u001b[39;49mget_loc(casted_key)\n\u001b[1;32m   3791\u001b[0m \u001b[39mexcept\u001b[39;00m \u001b[39mKeyError\u001b[39;00m \u001b[39mas\u001b[39;00m err:\n",
      "File \u001b[0;32mindex.pyx:152\u001b[0m, in \u001b[0;36mpandas._libs.index.IndexEngine.get_loc\u001b[0;34m()\u001b[0m\n",
      "File \u001b[0;32mindex.pyx:181\u001b[0m, in \u001b[0;36mpandas._libs.index.IndexEngine.get_loc\u001b[0;34m()\u001b[0m\n",
      "File \u001b[0;32mpandas/_libs/hashtable_class_helper.pxi:7080\u001b[0m, in \u001b[0;36mpandas._libs.hashtable.PyObjectHashTable.get_item\u001b[0;34m()\u001b[0m\n",
      "File \u001b[0;32mpandas/_libs/hashtable_class_helper.pxi:7088\u001b[0m, in \u001b[0;36mpandas._libs.hashtable.PyObjectHashTable.get_item\u001b[0;34m()\u001b[0m\n",
      "\u001b[0;31mKeyError\u001b[0m: 'geo_level_2_id'",
      "\nThe above exception was the direct cause of the following exception:\n",
      "\u001b[0;31mKeyError\u001b[0m                                  Traceback (most recent call last)",
      "\u001b[1;32m/Users/miloszrosi/Downloads/minicomp/presi_mpr.ipynb Cell 28\u001b[0m line \u001b[0;36m2\n\u001b[1;32m      <a href='vscode-notebook-cell:/Users/miloszrosi/Downloads/minicomp/presi_mpr.ipynb#Y132sZmlsZQ%3D%3D?line=0'>1</a>\u001b[0m \u001b[39mfor\u001b[39;00m df \u001b[39min\u001b[39;00m X, X_test:\n\u001b[0;32m----> <a href='vscode-notebook-cell:/Users/miloszrosi/Downloads/minicomp/presi_mpr.ipynb#Y132sZmlsZQ%3D%3D?line=1'>2</a>\u001b[0m     df[\u001b[39m\"\u001b[39m\u001b[39mgeo_level_2_enc\u001b[39m\u001b[39m\"\u001b[39m] \u001b[39m=\u001b[39m df[\u001b[39m'\u001b[39;49m\u001b[39mgeo_level_2_id\u001b[39;49m\u001b[39m'\u001b[39;49m]\u001b[39m.\u001b[39mmap(mean_encodings)\n\u001b[1;32m      <a href='vscode-notebook-cell:/Users/miloszrosi/Downloads/minicomp/presi_mpr.ipynb#Y132sZmlsZQ%3D%3D?line=2'>3</a>\u001b[0m     \u001b[39m# print(df[[\"geo_level_2_id\", \"geo_level_2_enc\"]].sort_values(\"geo_level_2_id\")[:100], end=\"\\n\")\u001b[39;00m\n\u001b[1;32m      <a href='vscode-notebook-cell:/Users/miloszrosi/Downloads/minicomp/presi_mpr.ipynb#Y132sZmlsZQ%3D%3D?line=4'>5</a>\u001b[0m \u001b[39mprint\u001b[39m(geo_levels)\n",
      "File \u001b[0;32m~/anaconda3/envs/dsr-setup/lib/python3.10/site-packages/pandas/core/frame.py:3896\u001b[0m, in \u001b[0;36mDataFrame.__getitem__\u001b[0;34m(self, key)\u001b[0m\n\u001b[1;32m   3894\u001b[0m \u001b[39mif\u001b[39;00m \u001b[39mself\u001b[39m\u001b[39m.\u001b[39mcolumns\u001b[39m.\u001b[39mnlevels \u001b[39m>\u001b[39m \u001b[39m1\u001b[39m:\n\u001b[1;32m   3895\u001b[0m     \u001b[39mreturn\u001b[39;00m \u001b[39mself\u001b[39m\u001b[39m.\u001b[39m_getitem_multilevel(key)\n\u001b[0;32m-> 3896\u001b[0m indexer \u001b[39m=\u001b[39m \u001b[39mself\u001b[39;49m\u001b[39m.\u001b[39;49mcolumns\u001b[39m.\u001b[39;49mget_loc(key)\n\u001b[1;32m   3897\u001b[0m \u001b[39mif\u001b[39;00m is_integer(indexer):\n\u001b[1;32m   3898\u001b[0m     indexer \u001b[39m=\u001b[39m [indexer]\n",
      "File \u001b[0;32m~/anaconda3/envs/dsr-setup/lib/python3.10/site-packages/pandas/core/indexes/base.py:3797\u001b[0m, in \u001b[0;36mIndex.get_loc\u001b[0;34m(self, key)\u001b[0m\n\u001b[1;32m   3792\u001b[0m     \u001b[39mif\u001b[39;00m \u001b[39misinstance\u001b[39m(casted_key, \u001b[39mslice\u001b[39m) \u001b[39mor\u001b[39;00m (\n\u001b[1;32m   3793\u001b[0m         \u001b[39misinstance\u001b[39m(casted_key, abc\u001b[39m.\u001b[39mIterable)\n\u001b[1;32m   3794\u001b[0m         \u001b[39mand\u001b[39;00m \u001b[39many\u001b[39m(\u001b[39misinstance\u001b[39m(x, \u001b[39mslice\u001b[39m) \u001b[39mfor\u001b[39;00m x \u001b[39min\u001b[39;00m casted_key)\n\u001b[1;32m   3795\u001b[0m     ):\n\u001b[1;32m   3796\u001b[0m         \u001b[39mraise\u001b[39;00m InvalidIndexError(key)\n\u001b[0;32m-> 3797\u001b[0m     \u001b[39mraise\u001b[39;00m \u001b[39mKeyError\u001b[39;00m(key) \u001b[39mfrom\u001b[39;00m \u001b[39merr\u001b[39;00m\n\u001b[1;32m   3798\u001b[0m \u001b[39mexcept\u001b[39;00m \u001b[39mTypeError\u001b[39;00m:\n\u001b[1;32m   3799\u001b[0m     \u001b[39m# If we have a listlike key, _check_indexing_error will raise\u001b[39;00m\n\u001b[1;32m   3800\u001b[0m     \u001b[39m#  InvalidIndexError. Otherwise we fall through and re-raise\u001b[39;00m\n\u001b[1;32m   3801\u001b[0m     \u001b[39m#  the TypeError.\u001b[39;00m\n\u001b[1;32m   3802\u001b[0m     \u001b[39mself\u001b[39m\u001b[39m.\u001b[39m_check_indexing_error(key)\n",
      "\u001b[0;31mKeyError\u001b[0m: 'geo_level_2_id'"
     ]
    }
   ],
   "source": [
    "for df in X, X_test:\n",
    "    df[\"geo_level_2_enc\"] = df['geo_level_2_id'].map(mean_encodings)\n",
    "    # print(df[[\"geo_level_2_id\", \"geo_level_2_enc\"]].sort_values(\"geo_level_2_id\")[:100], end=\"\\n\")\n",
    "\n",
    "print(geo_levels)"
   ]
  },
  {
   "cell_type": "markdown",
   "metadata": {},
   "source": [
    "## _geo_level1_ dummies"
   ]
  },
  {
   "cell_type": "code",
   "execution_count": null,
   "metadata": {},
   "outputs": [
    {
     "ename": "KeyError",
     "evalue": "'geo_level_1_id'",
     "output_type": "error",
     "traceback": [
      "\u001b[0;31m---------------------------------------------------------------------------\u001b[0m",
      "\u001b[0;31mKeyError\u001b[0m                                  Traceback (most recent call last)",
      "File \u001b[0;32m~/anaconda3/envs/dsr-setup/lib/python3.10/site-packages/pandas/core/indexes/base.py:3790\u001b[0m, in \u001b[0;36mIndex.get_loc\u001b[0;34m(self, key)\u001b[0m\n\u001b[1;32m   3789\u001b[0m \u001b[39mtry\u001b[39;00m:\n\u001b[0;32m-> 3790\u001b[0m     \u001b[39mreturn\u001b[39;00m \u001b[39mself\u001b[39;49m\u001b[39m.\u001b[39;49m_engine\u001b[39m.\u001b[39;49mget_loc(casted_key)\n\u001b[1;32m   3791\u001b[0m \u001b[39mexcept\u001b[39;00m \u001b[39mKeyError\u001b[39;00m \u001b[39mas\u001b[39;00m err:\n",
      "File \u001b[0;32mindex.pyx:152\u001b[0m, in \u001b[0;36mpandas._libs.index.IndexEngine.get_loc\u001b[0;34m()\u001b[0m\n",
      "File \u001b[0;32mindex.pyx:181\u001b[0m, in \u001b[0;36mpandas._libs.index.IndexEngine.get_loc\u001b[0;34m()\u001b[0m\n",
      "File \u001b[0;32mpandas/_libs/hashtable_class_helper.pxi:7080\u001b[0m, in \u001b[0;36mpandas._libs.hashtable.PyObjectHashTable.get_item\u001b[0;34m()\u001b[0m\n",
      "File \u001b[0;32mpandas/_libs/hashtable_class_helper.pxi:7088\u001b[0m, in \u001b[0;36mpandas._libs.hashtable.PyObjectHashTable.get_item\u001b[0;34m()\u001b[0m\n",
      "\u001b[0;31mKeyError\u001b[0m: 'geo_level_1_id'",
      "\nThe above exception was the direct cause of the following exception:\n",
      "\u001b[0;31mKeyError\u001b[0m                                  Traceback (most recent call last)",
      "\u001b[1;32m/Users/miloszrosi/Downloads/minicomp/presi_mpr.ipynb Cell 30\u001b[0m line \u001b[0;36m1\n\u001b[0;32m----> <a href='vscode-notebook-cell:/Users/miloszrosi/Downloads/minicomp/presi_mpr.ipynb#Y136sZmlsZQ%3D%3D?line=0'>1</a>\u001b[0m dummies \u001b[39m=\u001b[39m pd\u001b[39m.\u001b[39mget_dummies(X[\u001b[39m\"\u001b[39;49m\u001b[39mgeo_level_1_id\u001b[39;49m\u001b[39m\"\u001b[39;49m], prefix\u001b[39m=\u001b[39m\u001b[39m\"\u001b[39m\u001b[39mgeo_level_cat\u001b[39m\u001b[39m\"\u001b[39m)\n\u001b[1;32m      <a href='vscode-notebook-cell:/Users/miloszrosi/Downloads/minicomp/presi_mpr.ipynb#Y136sZmlsZQ%3D%3D?line=1'>2</a>\u001b[0m X \u001b[39m=\u001b[39m pd\u001b[39m.\u001b[39mconcat([X, dummies], axis\u001b[39m=\u001b[39m\u001b[39m1\u001b[39m)\n\u001b[1;32m      <a href='vscode-notebook-cell:/Users/miloszrosi/Downloads/minicomp/presi_mpr.ipynb#Y136sZmlsZQ%3D%3D?line=2'>3</a>\u001b[0m dummies \u001b[39m=\u001b[39m pd\u001b[39m.\u001b[39mget_dummies(X_test[\u001b[39m\"\u001b[39m\u001b[39mgeo_level_1_id\u001b[39m\u001b[39m\"\u001b[39m], prefix\u001b[39m=\u001b[39m\u001b[39m\"\u001b[39m\u001b[39mgeo_level_cat\u001b[39m\u001b[39m\"\u001b[39m)\n",
      "File \u001b[0;32m~/anaconda3/envs/dsr-setup/lib/python3.10/site-packages/pandas/core/frame.py:3896\u001b[0m, in \u001b[0;36mDataFrame.__getitem__\u001b[0;34m(self, key)\u001b[0m\n\u001b[1;32m   3894\u001b[0m \u001b[39mif\u001b[39;00m \u001b[39mself\u001b[39m\u001b[39m.\u001b[39mcolumns\u001b[39m.\u001b[39mnlevels \u001b[39m>\u001b[39m \u001b[39m1\u001b[39m:\n\u001b[1;32m   3895\u001b[0m     \u001b[39mreturn\u001b[39;00m \u001b[39mself\u001b[39m\u001b[39m.\u001b[39m_getitem_multilevel(key)\n\u001b[0;32m-> 3896\u001b[0m indexer \u001b[39m=\u001b[39m \u001b[39mself\u001b[39;49m\u001b[39m.\u001b[39;49mcolumns\u001b[39m.\u001b[39;49mget_loc(key)\n\u001b[1;32m   3897\u001b[0m \u001b[39mif\u001b[39;00m is_integer(indexer):\n\u001b[1;32m   3898\u001b[0m     indexer \u001b[39m=\u001b[39m [indexer]\n",
      "File \u001b[0;32m~/anaconda3/envs/dsr-setup/lib/python3.10/site-packages/pandas/core/indexes/base.py:3797\u001b[0m, in \u001b[0;36mIndex.get_loc\u001b[0;34m(self, key)\u001b[0m\n\u001b[1;32m   3792\u001b[0m     \u001b[39mif\u001b[39;00m \u001b[39misinstance\u001b[39m(casted_key, \u001b[39mslice\u001b[39m) \u001b[39mor\u001b[39;00m (\n\u001b[1;32m   3793\u001b[0m         \u001b[39misinstance\u001b[39m(casted_key, abc\u001b[39m.\u001b[39mIterable)\n\u001b[1;32m   3794\u001b[0m         \u001b[39mand\u001b[39;00m \u001b[39many\u001b[39m(\u001b[39misinstance\u001b[39m(x, \u001b[39mslice\u001b[39m) \u001b[39mfor\u001b[39;00m x \u001b[39min\u001b[39;00m casted_key)\n\u001b[1;32m   3795\u001b[0m     ):\n\u001b[1;32m   3796\u001b[0m         \u001b[39mraise\u001b[39;00m InvalidIndexError(key)\n\u001b[0;32m-> 3797\u001b[0m     \u001b[39mraise\u001b[39;00m \u001b[39mKeyError\u001b[39;00m(key) \u001b[39mfrom\u001b[39;00m \u001b[39merr\u001b[39;00m\n\u001b[1;32m   3798\u001b[0m \u001b[39mexcept\u001b[39;00m \u001b[39mTypeError\u001b[39;00m:\n\u001b[1;32m   3799\u001b[0m     \u001b[39m# If we have a listlike key, _check_indexing_error will raise\u001b[39;00m\n\u001b[1;32m   3800\u001b[0m     \u001b[39m#  InvalidIndexError. Otherwise we fall through and re-raise\u001b[39;00m\n\u001b[1;32m   3801\u001b[0m     \u001b[39m#  the TypeError.\u001b[39;00m\n\u001b[1;32m   3802\u001b[0m     \u001b[39mself\u001b[39m\u001b[39m.\u001b[39m_check_indexing_error(key)\n",
      "\u001b[0;31mKeyError\u001b[0m: 'geo_level_1_id'"
     ]
    }
   ],
   "source": [
    "dummies = pd.get_dummies(X[\"geo_level_1_id\"], prefix=\"geo_level_cat\")\n",
    "X = pd.concat([X, dummies], axis=1)\n",
    "dummies = pd.get_dummies(X_test[\"geo_level_1_id\"], prefix=\"geo_level_cat\")\n",
    "X_test = pd.concat([X_test, dummies], axis=1)\n",
    "\n",
    "print(\n",
    "    X.shape,    \n",
    "    X_test.shape, sep=\"\\n\"\n",
    ")"
   ]
  },
  {
   "cell_type": "code",
   "execution_count": null,
   "metadata": {},
   "outputs": [
    {
     "ename": "KeyError",
     "evalue": "'geo_level_1_id'",
     "output_type": "error",
     "traceback": [
      "\u001b[0;31m---------------------------------------------------------------------------\u001b[0m",
      "\u001b[0;31mKeyError\u001b[0m                                  Traceback (most recent call last)",
      "\u001b[1;32m/Users/miloszrosi/Downloads/minicomp/presi_mpr.ipynb Cell 31\u001b[0m line \u001b[0;36m2\n\u001b[1;32m      <a href='vscode-notebook-cell:/Users/miloszrosi/Downloads/minicomp/presi_mpr.ipynb#Y140sZmlsZQ%3D%3D?line=0'>1</a>\u001b[0m geo_columns \u001b[39m=\u001b[39m [col \u001b[39mfor\u001b[39;00m col \u001b[39min\u001b[39;00m X\u001b[39m.\u001b[39mcolumns \u001b[39mif\u001b[39;00m col\u001b[39m.\u001b[39mstartswith(\u001b[39m'\u001b[39m\u001b[39mgeo_level_cat\u001b[39m\u001b[39m'\u001b[39m)]\n\u001b[0;32m----> <a href='vscode-notebook-cell:/Users/miloszrosi/Downloads/minicomp/presi_mpr.ipynb#Y140sZmlsZQ%3D%3D?line=1'>2</a>\u001b[0m \u001b[39mprint\u001b[39m(X\u001b[39m.\u001b[39;49mgroupby(\u001b[39m\"\u001b[39;49m\u001b[39mgeo_level_1_id\u001b[39;49m\u001b[39m\"\u001b[39;49m)\u001b[39m.\u001b[39mfirst()[geo_columns]\u001b[39m.\u001b[39miloc[:\u001b[39m6\u001b[39m,:\u001b[39m6\u001b[39m])\n",
      "File \u001b[0;32m~/anaconda3/envs/dsr-setup/lib/python3.10/site-packages/pandas/core/frame.py:8872\u001b[0m, in \u001b[0;36mDataFrame.groupby\u001b[0;34m(self, by, axis, level, as_index, sort, group_keys, observed, dropna)\u001b[0m\n\u001b[1;32m   8869\u001b[0m \u001b[39mif\u001b[39;00m level \u001b[39mis\u001b[39;00m \u001b[39mNone\u001b[39;00m \u001b[39mand\u001b[39;00m by \u001b[39mis\u001b[39;00m \u001b[39mNone\u001b[39;00m:\n\u001b[1;32m   8870\u001b[0m     \u001b[39mraise\u001b[39;00m \u001b[39mTypeError\u001b[39;00m(\u001b[39m\"\u001b[39m\u001b[39mYou have to supply one of \u001b[39m\u001b[39m'\u001b[39m\u001b[39mby\u001b[39m\u001b[39m'\u001b[39m\u001b[39m and \u001b[39m\u001b[39m'\u001b[39m\u001b[39mlevel\u001b[39m\u001b[39m'\u001b[39m\u001b[39m\"\u001b[39m)\n\u001b[0;32m-> 8872\u001b[0m \u001b[39mreturn\u001b[39;00m DataFrameGroupBy(\n\u001b[1;32m   8873\u001b[0m     obj\u001b[39m=\u001b[39;49m\u001b[39mself\u001b[39;49m,\n\u001b[1;32m   8874\u001b[0m     keys\u001b[39m=\u001b[39;49mby,\n\u001b[1;32m   8875\u001b[0m     axis\u001b[39m=\u001b[39;49maxis,\n\u001b[1;32m   8876\u001b[0m     level\u001b[39m=\u001b[39;49mlevel,\n\u001b[1;32m   8877\u001b[0m     as_index\u001b[39m=\u001b[39;49mas_index,\n\u001b[1;32m   8878\u001b[0m     sort\u001b[39m=\u001b[39;49msort,\n\u001b[1;32m   8879\u001b[0m     group_keys\u001b[39m=\u001b[39;49mgroup_keys,\n\u001b[1;32m   8880\u001b[0m     observed\u001b[39m=\u001b[39;49mobserved,\n\u001b[1;32m   8881\u001b[0m     dropna\u001b[39m=\u001b[39;49mdropna,\n\u001b[1;32m   8882\u001b[0m )\n",
      "File \u001b[0;32m~/anaconda3/envs/dsr-setup/lib/python3.10/site-packages/pandas/core/groupby/groupby.py:1274\u001b[0m, in \u001b[0;36mGroupBy.__init__\u001b[0;34m(self, obj, keys, axis, level, grouper, exclusions, selection, as_index, sort, group_keys, observed, dropna)\u001b[0m\n\u001b[1;32m   1271\u001b[0m \u001b[39mself\u001b[39m\u001b[39m.\u001b[39mdropna \u001b[39m=\u001b[39m dropna\n\u001b[1;32m   1273\u001b[0m \u001b[39mif\u001b[39;00m grouper \u001b[39mis\u001b[39;00m \u001b[39mNone\u001b[39;00m:\n\u001b[0;32m-> 1274\u001b[0m     grouper, exclusions, obj \u001b[39m=\u001b[39m get_grouper(\n\u001b[1;32m   1275\u001b[0m         obj,\n\u001b[1;32m   1276\u001b[0m         keys,\n\u001b[1;32m   1277\u001b[0m         axis\u001b[39m=\u001b[39;49maxis,\n\u001b[1;32m   1278\u001b[0m         level\u001b[39m=\u001b[39;49mlevel,\n\u001b[1;32m   1279\u001b[0m         sort\u001b[39m=\u001b[39;49msort,\n\u001b[1;32m   1280\u001b[0m         observed\u001b[39m=\u001b[39;49m\u001b[39mFalse\u001b[39;49;00m \u001b[39mif\u001b[39;49;00m observed \u001b[39mis\u001b[39;49;00m lib\u001b[39m.\u001b[39;49mno_default \u001b[39melse\u001b[39;49;00m observed,\n\u001b[1;32m   1281\u001b[0m         dropna\u001b[39m=\u001b[39;49m\u001b[39mself\u001b[39;49m\u001b[39m.\u001b[39;49mdropna,\n\u001b[1;32m   1282\u001b[0m     )\n\u001b[1;32m   1284\u001b[0m \u001b[39mif\u001b[39;00m observed \u001b[39mis\u001b[39;00m lib\u001b[39m.\u001b[39mno_default:\n\u001b[1;32m   1285\u001b[0m     \u001b[39mif\u001b[39;00m \u001b[39many\u001b[39m(ping\u001b[39m.\u001b[39m_passed_categorical \u001b[39mfor\u001b[39;00m ping \u001b[39min\u001b[39;00m grouper\u001b[39m.\u001b[39mgroupings):\n",
      "File \u001b[0;32m~/anaconda3/envs/dsr-setup/lib/python3.10/site-packages/pandas/core/groupby/grouper.py:1009\u001b[0m, in \u001b[0;36mget_grouper\u001b[0;34m(obj, key, axis, level, sort, observed, validate, dropna)\u001b[0m\n\u001b[1;32m   1007\u001b[0m         in_axis, level, gpr \u001b[39m=\u001b[39m \u001b[39mFalse\u001b[39;00m, gpr, \u001b[39mNone\u001b[39;00m\n\u001b[1;32m   1008\u001b[0m     \u001b[39melse\u001b[39;00m:\n\u001b[0;32m-> 1009\u001b[0m         \u001b[39mraise\u001b[39;00m \u001b[39mKeyError\u001b[39;00m(gpr)\n\u001b[1;32m   1010\u001b[0m \u001b[39melif\u001b[39;00m \u001b[39misinstance\u001b[39m(gpr, Grouper) \u001b[39mand\u001b[39;00m gpr\u001b[39m.\u001b[39mkey \u001b[39mis\u001b[39;00m \u001b[39mnot\u001b[39;00m \u001b[39mNone\u001b[39;00m:\n\u001b[1;32m   1011\u001b[0m     \u001b[39m# Add key to exclusions\u001b[39;00m\n\u001b[1;32m   1012\u001b[0m     exclusions\u001b[39m.\u001b[39madd(gpr\u001b[39m.\u001b[39mkey)\n",
      "\u001b[0;31mKeyError\u001b[0m: 'geo_level_1_id'"
     ]
    }
   ],
   "source": [
    "geo_columns = [col for col in X.columns if col.startswith('geo_level_cat')]\n",
    "print(X.groupby(\"geo_level_1_id\").first()[geo_columns].iloc[:6,:6])"
   ]
  },
  {
   "cell_type": "markdown",
   "metadata": {},
   "source": [
    "## _foundation_type_ dummies"
   ]
  },
  {
   "cell_type": "code",
   "execution_count": null,
   "metadata": {},
   "outputs": [
    {
     "ename": "KeyError",
     "evalue": "\"None of [Index(['foundation_type'], dtype='object')] are in the [columns]\"",
     "output_type": "error",
     "traceback": [
      "\u001b[0;31m---------------------------------------------------------------------------\u001b[0m",
      "\u001b[0;31mKeyError\u001b[0m                                  Traceback (most recent call last)",
      "\u001b[1;32m/Users/miloszrosi/Downloads/minicomp/presi_mpr.ipynb Cell 33\u001b[0m line \u001b[0;36m1\n\u001b[0;32m----> <a href='vscode-notebook-cell:/Users/miloszrosi/Downloads/minicomp/presi_mpr.ipynb#Y142sZmlsZQ%3D%3D?line=0'>1</a>\u001b[0m X \u001b[39m=\u001b[39m pd\u001b[39m.\u001b[39;49mget_dummies(X, columns\u001b[39m=\u001b[39;49m[\u001b[39m\"\u001b[39;49m\u001b[39mfoundation_type\u001b[39;49m\u001b[39m\"\u001b[39;49m], drop_first\u001b[39m=\u001b[39;49m\u001b[39mFalse\u001b[39;49;00m)\n\u001b[1;32m      <a href='vscode-notebook-cell:/Users/miloszrosi/Downloads/minicomp/presi_mpr.ipynb#Y142sZmlsZQ%3D%3D?line=1'>2</a>\u001b[0m X_test \u001b[39m=\u001b[39m pd\u001b[39m.\u001b[39mget_dummies(X_test, columns\u001b[39m=\u001b[39m[\u001b[39m\"\u001b[39m\u001b[39mfoundation_type\u001b[39m\u001b[39m\"\u001b[39m], drop_first\u001b[39m=\u001b[39m\u001b[39mFalse\u001b[39;00m)\n\u001b[1;32m      <a href='vscode-notebook-cell:/Users/miloszrosi/Downloads/minicomp/presi_mpr.ipynb#Y142sZmlsZQ%3D%3D?line=3'>4</a>\u001b[0m \u001b[39mprint\u001b[39m(X\u001b[39m.\u001b[39mshape)\n",
      "File \u001b[0;32m~/anaconda3/envs/dsr-setup/lib/python3.10/site-packages/pandas/core/reshape/encoding.py:164\u001b[0m, in \u001b[0;36mget_dummies\u001b[0;34m(data, prefix, prefix_sep, dummy_na, columns, sparse, drop_first, dtype)\u001b[0m\n\u001b[1;32m    162\u001b[0m     \u001b[39mraise\u001b[39;00m \u001b[39mTypeError\u001b[39;00m(\u001b[39m\"\u001b[39m\u001b[39mInput must be a list-like for parameter `columns`\u001b[39m\u001b[39m\"\u001b[39m)\n\u001b[1;32m    163\u001b[0m \u001b[39melse\u001b[39;00m:\n\u001b[0;32m--> 164\u001b[0m     data_to_encode \u001b[39m=\u001b[39m data[columns]\n\u001b[1;32m    166\u001b[0m \u001b[39m# validate prefixes and separator to avoid silently dropping cols\u001b[39;00m\n\u001b[1;32m    167\u001b[0m \u001b[39mdef\u001b[39;00m \u001b[39mcheck_len\u001b[39m(item, name: \u001b[39mstr\u001b[39m):\n",
      "File \u001b[0;32m~/anaconda3/envs/dsr-setup/lib/python3.10/site-packages/pandas/core/frame.py:3902\u001b[0m, in \u001b[0;36mDataFrame.__getitem__\u001b[0;34m(self, key)\u001b[0m\n\u001b[1;32m   3900\u001b[0m     \u001b[39mif\u001b[39;00m is_iterator(key):\n\u001b[1;32m   3901\u001b[0m         key \u001b[39m=\u001b[39m \u001b[39mlist\u001b[39m(key)\n\u001b[0;32m-> 3902\u001b[0m     indexer \u001b[39m=\u001b[39m \u001b[39mself\u001b[39;49m\u001b[39m.\u001b[39;49mcolumns\u001b[39m.\u001b[39;49m_get_indexer_strict(key, \u001b[39m\"\u001b[39;49m\u001b[39mcolumns\u001b[39;49m\u001b[39m\"\u001b[39;49m)[\u001b[39m1\u001b[39m]\n\u001b[1;32m   3904\u001b[0m \u001b[39m# take() does not accept boolean indexers\u001b[39;00m\n\u001b[1;32m   3905\u001b[0m \u001b[39mif\u001b[39;00m \u001b[39mgetattr\u001b[39m(indexer, \u001b[39m\"\u001b[39m\u001b[39mdtype\u001b[39m\u001b[39m\"\u001b[39m, \u001b[39mNone\u001b[39;00m) \u001b[39m==\u001b[39m \u001b[39mbool\u001b[39m:\n",
      "File \u001b[0;32m~/anaconda3/envs/dsr-setup/lib/python3.10/site-packages/pandas/core/indexes/base.py:6114\u001b[0m, in \u001b[0;36mIndex._get_indexer_strict\u001b[0;34m(self, key, axis_name)\u001b[0m\n\u001b[1;32m   6111\u001b[0m \u001b[39melse\u001b[39;00m:\n\u001b[1;32m   6112\u001b[0m     keyarr, indexer, new_indexer \u001b[39m=\u001b[39m \u001b[39mself\u001b[39m\u001b[39m.\u001b[39m_reindex_non_unique(keyarr)\n\u001b[0;32m-> 6114\u001b[0m \u001b[39mself\u001b[39;49m\u001b[39m.\u001b[39;49m_raise_if_missing(keyarr, indexer, axis_name)\n\u001b[1;32m   6116\u001b[0m keyarr \u001b[39m=\u001b[39m \u001b[39mself\u001b[39m\u001b[39m.\u001b[39mtake(indexer)\n\u001b[1;32m   6117\u001b[0m \u001b[39mif\u001b[39;00m \u001b[39misinstance\u001b[39m(key, Index):\n\u001b[1;32m   6118\u001b[0m     \u001b[39m# GH 42790 - Preserve name from an Index\u001b[39;00m\n",
      "File \u001b[0;32m~/anaconda3/envs/dsr-setup/lib/python3.10/site-packages/pandas/core/indexes/base.py:6175\u001b[0m, in \u001b[0;36mIndex._raise_if_missing\u001b[0;34m(self, key, indexer, axis_name)\u001b[0m\n\u001b[1;32m   6173\u001b[0m     \u001b[39mif\u001b[39;00m use_interval_msg:\n\u001b[1;32m   6174\u001b[0m         key \u001b[39m=\u001b[39m \u001b[39mlist\u001b[39m(key)\n\u001b[0;32m-> 6175\u001b[0m     \u001b[39mraise\u001b[39;00m \u001b[39mKeyError\u001b[39;00m(\u001b[39mf\u001b[39m\u001b[39m\"\u001b[39m\u001b[39mNone of [\u001b[39m\u001b[39m{\u001b[39;00mkey\u001b[39m}\u001b[39;00m\u001b[39m] are in the [\u001b[39m\u001b[39m{\u001b[39;00maxis_name\u001b[39m}\u001b[39;00m\u001b[39m]\u001b[39m\u001b[39m\"\u001b[39m)\n\u001b[1;32m   6177\u001b[0m not_found \u001b[39m=\u001b[39m \u001b[39mlist\u001b[39m(ensure_index(key)[missing_mask\u001b[39m.\u001b[39mnonzero()[\u001b[39m0\u001b[39m]]\u001b[39m.\u001b[39munique())\n\u001b[1;32m   6178\u001b[0m \u001b[39mraise\u001b[39;00m \u001b[39mKeyError\u001b[39;00m(\u001b[39mf\u001b[39m\u001b[39m\"\u001b[39m\u001b[39m{\u001b[39;00mnot_found\u001b[39m}\u001b[39;00m\u001b[39m not in index\u001b[39m\u001b[39m\"\u001b[39m)\n",
      "\u001b[0;31mKeyError\u001b[0m: \"None of [Index(['foundation_type'], dtype='object')] are in the [columns]\""
     ]
    }
   ],
   "source": [
    "X = pd.get_dummies(X, columns=[\"foundation_type\"], drop_first=False)\n",
    "X_test = pd.get_dummies(X_test, columns=[\"foundation_type\"], drop_first=False)\n",
    "\n",
    "print(X.shape)\n",
    "print(X_test.shape)\n",
    "foundation_cols = [col for col in X.columns if col.startswith(\"foundation\")]\n",
    "print(\n",
    "    X[foundation_cols].columns,\n",
    "    X_test[foundation_cols].columns,\n",
    "    sep=\"\\n\")"
   ]
  },
  {
   "cell_type": "code",
   "execution_count": null,
   "metadata": {},
   "outputs": [
    {
     "ename": "KeyError",
     "evalue": "\"None of [Index(['roof_type'], dtype='object')] are in the [columns]\"",
     "output_type": "error",
     "traceback": [
      "\u001b[0;31m---------------------------------------------------------------------------\u001b[0m",
      "\u001b[0;31mKeyError\u001b[0m                                  Traceback (most recent call last)",
      "\u001b[1;32m/Users/miloszrosi/Downloads/minicomp/presi_mpr.ipynb Cell 34\u001b[0m line \u001b[0;36m1\n\u001b[0;32m----> <a href='vscode-notebook-cell:/Users/miloszrosi/Downloads/minicomp/presi_mpr.ipynb#Y144sZmlsZQ%3D%3D?line=0'>1</a>\u001b[0m X \u001b[39m=\u001b[39m pd\u001b[39m.\u001b[39;49mget_dummies(X, columns\u001b[39m=\u001b[39;49m[\u001b[39m\"\u001b[39;49m\u001b[39mroof_type\u001b[39;49m\u001b[39m\"\u001b[39;49m], drop_first\u001b[39m=\u001b[39;49m\u001b[39mFalse\u001b[39;49;00m)\n\u001b[1;32m      <a href='vscode-notebook-cell:/Users/miloszrosi/Downloads/minicomp/presi_mpr.ipynb#Y144sZmlsZQ%3D%3D?line=1'>2</a>\u001b[0m X_test \u001b[39m=\u001b[39m pd\u001b[39m.\u001b[39mget_dummies(X_test, columns\u001b[39m=\u001b[39m[\u001b[39m\"\u001b[39m\u001b[39mroof_type\u001b[39m\u001b[39m\"\u001b[39m], drop_first\u001b[39m=\u001b[39m\u001b[39mFalse\u001b[39;00m)\n\u001b[1;32m      <a href='vscode-notebook-cell:/Users/miloszrosi/Downloads/minicomp/presi_mpr.ipynb#Y144sZmlsZQ%3D%3D?line=3'>4</a>\u001b[0m \u001b[39mprint\u001b[39m(X\u001b[39m.\u001b[39mshape)\n",
      "File \u001b[0;32m~/anaconda3/envs/dsr-setup/lib/python3.10/site-packages/pandas/core/reshape/encoding.py:164\u001b[0m, in \u001b[0;36mget_dummies\u001b[0;34m(data, prefix, prefix_sep, dummy_na, columns, sparse, drop_first, dtype)\u001b[0m\n\u001b[1;32m    162\u001b[0m     \u001b[39mraise\u001b[39;00m \u001b[39mTypeError\u001b[39;00m(\u001b[39m\"\u001b[39m\u001b[39mInput must be a list-like for parameter `columns`\u001b[39m\u001b[39m\"\u001b[39m)\n\u001b[1;32m    163\u001b[0m \u001b[39melse\u001b[39;00m:\n\u001b[0;32m--> 164\u001b[0m     data_to_encode \u001b[39m=\u001b[39m data[columns]\n\u001b[1;32m    166\u001b[0m \u001b[39m# validate prefixes and separator to avoid silently dropping cols\u001b[39;00m\n\u001b[1;32m    167\u001b[0m \u001b[39mdef\u001b[39;00m \u001b[39mcheck_len\u001b[39m(item, name: \u001b[39mstr\u001b[39m):\n",
      "File \u001b[0;32m~/anaconda3/envs/dsr-setup/lib/python3.10/site-packages/pandas/core/frame.py:3902\u001b[0m, in \u001b[0;36mDataFrame.__getitem__\u001b[0;34m(self, key)\u001b[0m\n\u001b[1;32m   3900\u001b[0m     \u001b[39mif\u001b[39;00m is_iterator(key):\n\u001b[1;32m   3901\u001b[0m         key \u001b[39m=\u001b[39m \u001b[39mlist\u001b[39m(key)\n\u001b[0;32m-> 3902\u001b[0m     indexer \u001b[39m=\u001b[39m \u001b[39mself\u001b[39;49m\u001b[39m.\u001b[39;49mcolumns\u001b[39m.\u001b[39;49m_get_indexer_strict(key, \u001b[39m\"\u001b[39;49m\u001b[39mcolumns\u001b[39;49m\u001b[39m\"\u001b[39;49m)[\u001b[39m1\u001b[39m]\n\u001b[1;32m   3904\u001b[0m \u001b[39m# take() does not accept boolean indexers\u001b[39;00m\n\u001b[1;32m   3905\u001b[0m \u001b[39mif\u001b[39;00m \u001b[39mgetattr\u001b[39m(indexer, \u001b[39m\"\u001b[39m\u001b[39mdtype\u001b[39m\u001b[39m\"\u001b[39m, \u001b[39mNone\u001b[39;00m) \u001b[39m==\u001b[39m \u001b[39mbool\u001b[39m:\n",
      "File \u001b[0;32m~/anaconda3/envs/dsr-setup/lib/python3.10/site-packages/pandas/core/indexes/base.py:6114\u001b[0m, in \u001b[0;36mIndex._get_indexer_strict\u001b[0;34m(self, key, axis_name)\u001b[0m\n\u001b[1;32m   6111\u001b[0m \u001b[39melse\u001b[39;00m:\n\u001b[1;32m   6112\u001b[0m     keyarr, indexer, new_indexer \u001b[39m=\u001b[39m \u001b[39mself\u001b[39m\u001b[39m.\u001b[39m_reindex_non_unique(keyarr)\n\u001b[0;32m-> 6114\u001b[0m \u001b[39mself\u001b[39;49m\u001b[39m.\u001b[39;49m_raise_if_missing(keyarr, indexer, axis_name)\n\u001b[1;32m   6116\u001b[0m keyarr \u001b[39m=\u001b[39m \u001b[39mself\u001b[39m\u001b[39m.\u001b[39mtake(indexer)\n\u001b[1;32m   6117\u001b[0m \u001b[39mif\u001b[39;00m \u001b[39misinstance\u001b[39m(key, Index):\n\u001b[1;32m   6118\u001b[0m     \u001b[39m# GH 42790 - Preserve name from an Index\u001b[39;00m\n",
      "File \u001b[0;32m~/anaconda3/envs/dsr-setup/lib/python3.10/site-packages/pandas/core/indexes/base.py:6175\u001b[0m, in \u001b[0;36mIndex._raise_if_missing\u001b[0;34m(self, key, indexer, axis_name)\u001b[0m\n\u001b[1;32m   6173\u001b[0m     \u001b[39mif\u001b[39;00m use_interval_msg:\n\u001b[1;32m   6174\u001b[0m         key \u001b[39m=\u001b[39m \u001b[39mlist\u001b[39m(key)\n\u001b[0;32m-> 6175\u001b[0m     \u001b[39mraise\u001b[39;00m \u001b[39mKeyError\u001b[39;00m(\u001b[39mf\u001b[39m\u001b[39m\"\u001b[39m\u001b[39mNone of [\u001b[39m\u001b[39m{\u001b[39;00mkey\u001b[39m}\u001b[39;00m\u001b[39m] are in the [\u001b[39m\u001b[39m{\u001b[39;00maxis_name\u001b[39m}\u001b[39;00m\u001b[39m]\u001b[39m\u001b[39m\"\u001b[39m)\n\u001b[1;32m   6177\u001b[0m not_found \u001b[39m=\u001b[39m \u001b[39mlist\u001b[39m(ensure_index(key)[missing_mask\u001b[39m.\u001b[39mnonzero()[\u001b[39m0\u001b[39m]]\u001b[39m.\u001b[39munique())\n\u001b[1;32m   6178\u001b[0m \u001b[39mraise\u001b[39;00m \u001b[39mKeyError\u001b[39;00m(\u001b[39mf\u001b[39m\u001b[39m\"\u001b[39m\u001b[39m{\u001b[39;00mnot_found\u001b[39m}\u001b[39;00m\u001b[39m not in index\u001b[39m\u001b[39m\"\u001b[39m)\n",
      "\u001b[0;31mKeyError\u001b[0m: \"None of [Index(['roof_type'], dtype='object')] are in the [columns]\""
     ]
    }
   ],
   "source": [
    "X = pd.get_dummies(X, columns=[\"roof_type\"], drop_first=False)\n",
    "X_test = pd.get_dummies(X_test, columns=[\"roof_type\"], drop_first=False)\n",
    "\n",
    "print(X.shape)\n",
    "print(X_test.shape)\n",
    "cols = [col for col in X.columns if col.startswith(\"roof_type\")]\n",
    "print(\n",
    "    X[cols].columns,\n",
    "    X_test[cols].columns,\n",
    "    sep=\"\\n\")"
   ]
  },
  {
   "cell_type": "code",
   "execution_count": null,
   "metadata": {},
   "outputs": [
    {
     "ename": "KeyError",
     "evalue": "\"None of [Index(['ground_floor_type'], dtype='object')] are in the [columns]\"",
     "output_type": "error",
     "traceback": [
      "\u001b[0;31m---------------------------------------------------------------------------\u001b[0m",
      "\u001b[0;31mKeyError\u001b[0m                                  Traceback (most recent call last)",
      "\u001b[1;32m/Users/miloszrosi/Downloads/minicomp/presi_mpr.ipynb Cell 35\u001b[0m line \u001b[0;36m1\n\u001b[0;32m----> <a href='vscode-notebook-cell:/Users/miloszrosi/Downloads/minicomp/presi_mpr.ipynb#Y145sZmlsZQ%3D%3D?line=0'>1</a>\u001b[0m X \u001b[39m=\u001b[39m pd\u001b[39m.\u001b[39;49mget_dummies(X, columns\u001b[39m=\u001b[39;49m[\u001b[39m\"\u001b[39;49m\u001b[39mground_floor_type\u001b[39;49m\u001b[39m\"\u001b[39;49m], drop_first\u001b[39m=\u001b[39;49m\u001b[39mFalse\u001b[39;49;00m)\n\u001b[1;32m      <a href='vscode-notebook-cell:/Users/miloszrosi/Downloads/minicomp/presi_mpr.ipynb#Y145sZmlsZQ%3D%3D?line=1'>2</a>\u001b[0m X_test \u001b[39m=\u001b[39m pd\u001b[39m.\u001b[39mget_dummies(X_test, columns\u001b[39m=\u001b[39m[\u001b[39m\"\u001b[39m\u001b[39mground_floor_type\u001b[39m\u001b[39m\"\u001b[39m], drop_first\u001b[39m=\u001b[39m\u001b[39mFalse\u001b[39;00m)\n\u001b[1;32m      <a href='vscode-notebook-cell:/Users/miloszrosi/Downloads/minicomp/presi_mpr.ipynb#Y145sZmlsZQ%3D%3D?line=3'>4</a>\u001b[0m \u001b[39mprint\u001b[39m(X\u001b[39m.\u001b[39mshape)\n",
      "File \u001b[0;32m~/anaconda3/envs/dsr-setup/lib/python3.10/site-packages/pandas/core/reshape/encoding.py:164\u001b[0m, in \u001b[0;36mget_dummies\u001b[0;34m(data, prefix, prefix_sep, dummy_na, columns, sparse, drop_first, dtype)\u001b[0m\n\u001b[1;32m    162\u001b[0m     \u001b[39mraise\u001b[39;00m \u001b[39mTypeError\u001b[39;00m(\u001b[39m\"\u001b[39m\u001b[39mInput must be a list-like for parameter `columns`\u001b[39m\u001b[39m\"\u001b[39m)\n\u001b[1;32m    163\u001b[0m \u001b[39melse\u001b[39;00m:\n\u001b[0;32m--> 164\u001b[0m     data_to_encode \u001b[39m=\u001b[39m data[columns]\n\u001b[1;32m    166\u001b[0m \u001b[39m# validate prefixes and separator to avoid silently dropping cols\u001b[39;00m\n\u001b[1;32m    167\u001b[0m \u001b[39mdef\u001b[39;00m \u001b[39mcheck_len\u001b[39m(item, name: \u001b[39mstr\u001b[39m):\n",
      "File \u001b[0;32m~/anaconda3/envs/dsr-setup/lib/python3.10/site-packages/pandas/core/frame.py:3902\u001b[0m, in \u001b[0;36mDataFrame.__getitem__\u001b[0;34m(self, key)\u001b[0m\n\u001b[1;32m   3900\u001b[0m     \u001b[39mif\u001b[39;00m is_iterator(key):\n\u001b[1;32m   3901\u001b[0m         key \u001b[39m=\u001b[39m \u001b[39mlist\u001b[39m(key)\n\u001b[0;32m-> 3902\u001b[0m     indexer \u001b[39m=\u001b[39m \u001b[39mself\u001b[39;49m\u001b[39m.\u001b[39;49mcolumns\u001b[39m.\u001b[39;49m_get_indexer_strict(key, \u001b[39m\"\u001b[39;49m\u001b[39mcolumns\u001b[39;49m\u001b[39m\"\u001b[39;49m)[\u001b[39m1\u001b[39m]\n\u001b[1;32m   3904\u001b[0m \u001b[39m# take() does not accept boolean indexers\u001b[39;00m\n\u001b[1;32m   3905\u001b[0m \u001b[39mif\u001b[39;00m \u001b[39mgetattr\u001b[39m(indexer, \u001b[39m\"\u001b[39m\u001b[39mdtype\u001b[39m\u001b[39m\"\u001b[39m, \u001b[39mNone\u001b[39;00m) \u001b[39m==\u001b[39m \u001b[39mbool\u001b[39m:\n",
      "File \u001b[0;32m~/anaconda3/envs/dsr-setup/lib/python3.10/site-packages/pandas/core/indexes/base.py:6114\u001b[0m, in \u001b[0;36mIndex._get_indexer_strict\u001b[0;34m(self, key, axis_name)\u001b[0m\n\u001b[1;32m   6111\u001b[0m \u001b[39melse\u001b[39;00m:\n\u001b[1;32m   6112\u001b[0m     keyarr, indexer, new_indexer \u001b[39m=\u001b[39m \u001b[39mself\u001b[39m\u001b[39m.\u001b[39m_reindex_non_unique(keyarr)\n\u001b[0;32m-> 6114\u001b[0m \u001b[39mself\u001b[39;49m\u001b[39m.\u001b[39;49m_raise_if_missing(keyarr, indexer, axis_name)\n\u001b[1;32m   6116\u001b[0m keyarr \u001b[39m=\u001b[39m \u001b[39mself\u001b[39m\u001b[39m.\u001b[39mtake(indexer)\n\u001b[1;32m   6117\u001b[0m \u001b[39mif\u001b[39;00m \u001b[39misinstance\u001b[39m(key, Index):\n\u001b[1;32m   6118\u001b[0m     \u001b[39m# GH 42790 - Preserve name from an Index\u001b[39;00m\n",
      "File \u001b[0;32m~/anaconda3/envs/dsr-setup/lib/python3.10/site-packages/pandas/core/indexes/base.py:6175\u001b[0m, in \u001b[0;36mIndex._raise_if_missing\u001b[0;34m(self, key, indexer, axis_name)\u001b[0m\n\u001b[1;32m   6173\u001b[0m     \u001b[39mif\u001b[39;00m use_interval_msg:\n\u001b[1;32m   6174\u001b[0m         key \u001b[39m=\u001b[39m \u001b[39mlist\u001b[39m(key)\n\u001b[0;32m-> 6175\u001b[0m     \u001b[39mraise\u001b[39;00m \u001b[39mKeyError\u001b[39;00m(\u001b[39mf\u001b[39m\u001b[39m\"\u001b[39m\u001b[39mNone of [\u001b[39m\u001b[39m{\u001b[39;00mkey\u001b[39m}\u001b[39;00m\u001b[39m] are in the [\u001b[39m\u001b[39m{\u001b[39;00maxis_name\u001b[39m}\u001b[39;00m\u001b[39m]\u001b[39m\u001b[39m\"\u001b[39m)\n\u001b[1;32m   6177\u001b[0m not_found \u001b[39m=\u001b[39m \u001b[39mlist\u001b[39m(ensure_index(key)[missing_mask\u001b[39m.\u001b[39mnonzero()[\u001b[39m0\u001b[39m]]\u001b[39m.\u001b[39munique())\n\u001b[1;32m   6178\u001b[0m \u001b[39mraise\u001b[39;00m \u001b[39mKeyError\u001b[39;00m(\u001b[39mf\u001b[39m\u001b[39m\"\u001b[39m\u001b[39m{\u001b[39;00mnot_found\u001b[39m}\u001b[39;00m\u001b[39m not in index\u001b[39m\u001b[39m\"\u001b[39m)\n",
      "\u001b[0;31mKeyError\u001b[0m: \"None of [Index(['ground_floor_type'], dtype='object')] are in the [columns]\""
     ]
    }
   ],
   "source": [
    "X = pd.get_dummies(X, columns=[\"ground_floor_type\"], drop_first=False)\n",
    "X_test = pd.get_dummies(X_test, columns=[\"ground_floor_type\"], drop_first=False)\n",
    "\n",
    "print(X.shape)\n",
    "print(X_test.shape)\n",
    "cols = [col for col in X.columns if col.startswith(\"ground_floor_type\")]\n",
    "print(\n",
    "    X[cols].columns,\n",
    "    X_test[cols].columns,\n",
    "    sep=\"\\n\")"
   ]
  },
  {
   "cell_type": "markdown",
   "metadata": {},
   "source": [
    "# Hot encodings"
   ]
  },
  {
   "cell_type": "code",
   "execution_count": null,
   "metadata": {},
   "outputs": [],
   "source": [
    "for name,df in {\"X\":X, \"X_test\":X_test}.items():\n",
    "    encode_cols = [\"foundation_type\", \"roof_type\", \"ground_floor_type\", \"geo_level_1_id\"]\n",
    "    globals()[name] = pd.get_dummies(df, columns=encode_cols, drop_first=False)\n",
    "    globals()[name].drop(columns=['geo_level_2_id', 'geo_level_3_id'], inplace=True)\n",
    "    cols = [col for col in df.columns if any(map(col.startswith, encode_cols))]"
   ]
  },
  {
   "cell_type": "code",
   "execution_count": null,
   "metadata": {},
   "outputs": [
    {
     "name": "stdout",
     "output_type": "stream",
     "text": [
      "<class 'pandas.core.frame.DataFrame'>\n",
      "RangeIndex: 260601 entries, 0 to 260600\n",
      "Data columns (total 9 columns):\n",
      " #   Column                                  Non-Null Count   Dtype\n",
      "---  ------                                  --------------   -----\n",
      " 0   has_superstructure_adobe_mud            260601 non-null  int64\n",
      " 1   age                                     260601 non-null  int64\n",
      " 2   count_floors_pre_eq                     260601 non-null  int64\n",
      " 3   area_percentage                         260601 non-null  int64\n",
      " 4   height_percentage                       260601 non-null  int64\n",
      " 5   has_secondary_use                       260601 non-null  int64\n",
      " 6   has_superstructure_cement_mortar_brick  260601 non-null  int64\n",
      " 7   has_superstructure_timber               260601 non-null  int64\n",
      " 8   has_superstructure_bamboo               260601 non-null  int64\n",
      "dtypes: int64(9)\n",
      "memory usage: 17.9 MB\n",
      "(260601, 9) None\n",
      "<class 'pandas.core.frame.DataFrame'>\n",
      "RangeIndex: 86868 entries, 0 to 86867\n",
      "Data columns (total 77 columns):\n",
      " #   Column                                  Non-Null Count  Dtype \n",
      "---  ------                                  --------------  ----- \n",
      " 0   building_id                             86868 non-null  int64 \n",
      " 1   count_floors_pre_eq                     86868 non-null  int64 \n",
      " 2   age                                     86868 non-null  int64 \n",
      " 3   area_percentage                         86868 non-null  int64 \n",
      " 4   height_percentage                       86868 non-null  int64 \n",
      " 5   land_surface_condition                  86868 non-null  object\n",
      " 6   other_floor_type                        86868 non-null  object\n",
      " 7   position                                86868 non-null  object\n",
      " 8   plan_configuration                      86868 non-null  object\n",
      " 9   has_superstructure_adobe_mud            86868 non-null  int64 \n",
      " 10  has_superstructure_mud_mortar_stone     86868 non-null  int64 \n",
      " 11  has_superstructure_stone_flag           86868 non-null  int64 \n",
      " 12  has_superstructure_cement_mortar_stone  86868 non-null  int64 \n",
      " 13  has_superstructure_mud_mortar_brick     86868 non-null  int64 \n",
      " 14  has_superstructure_cement_mortar_brick  86868 non-null  int64 \n",
      " 15  has_superstructure_timber               86868 non-null  int64 \n",
      " 16  has_superstructure_bamboo               86868 non-null  int64 \n",
      " 17  has_superstructure_rc_non_engineered    86868 non-null  int64 \n",
      " 18  has_superstructure_rc_engineered        86868 non-null  int64 \n",
      " 19  has_superstructure_other                86868 non-null  int64 \n",
      " 20  legal_ownership_status                  86868 non-null  object\n",
      " 21  count_families                          86868 non-null  int64 \n",
      " 22  has_secondary_use                       86868 non-null  int64 \n",
      " 23  has_secondary_use_agriculture           86868 non-null  int64 \n",
      " 24  has_secondary_use_hotel                 86868 non-null  int64 \n",
      " 25  has_secondary_use_rental                86868 non-null  int64 \n",
      " 26  has_secondary_use_institution           86868 non-null  int64 \n",
      " 27  has_secondary_use_school                86868 non-null  int64 \n",
      " 28  has_secondary_use_industry              86868 non-null  int64 \n",
      " 29  has_secondary_use_health_post           86868 non-null  int64 \n",
      " 30  has_secondary_use_gov_office            86868 non-null  int64 \n",
      " 31  has_secondary_use_use_police            86868 non-null  int64 \n",
      " 32  has_secondary_use_other                 86868 non-null  int64 \n",
      " 33  foundation_type_h                       86868 non-null  bool  \n",
      " 34  foundation_type_i                       86868 non-null  bool  \n",
      " 35  foundation_type_r                       86868 non-null  bool  \n",
      " 36  foundation_type_u                       86868 non-null  bool  \n",
      " 37  foundation_type_w                       86868 non-null  bool  \n",
      " 38  roof_type_n                             86868 non-null  bool  \n",
      " 39  roof_type_q                             86868 non-null  bool  \n",
      " 40  roof_type_x                             86868 non-null  bool  \n",
      " 41  ground_floor_type_f                     86868 non-null  bool  \n",
      " 42  ground_floor_type_m                     86868 non-null  bool  \n",
      " 43  ground_floor_type_v                     86868 non-null  bool  \n",
      " 44  ground_floor_type_x                     86868 non-null  bool  \n",
      " 45  ground_floor_type_z                     86868 non-null  bool  \n",
      " 46  geo_level_1_id_0                        86868 non-null  bool  \n",
      " 47  geo_level_1_id_1                        86868 non-null  bool  \n",
      " 48  geo_level_1_id_2                        86868 non-null  bool  \n",
      " 49  geo_level_1_id_3                        86868 non-null  bool  \n",
      " 50  geo_level_1_id_4                        86868 non-null  bool  \n",
      " 51  geo_level_1_id_5                        86868 non-null  bool  \n",
      " 52  geo_level_1_id_6                        86868 non-null  bool  \n",
      " 53  geo_level_1_id_7                        86868 non-null  bool  \n",
      " 54  geo_level_1_id_8                        86868 non-null  bool  \n",
      " 55  geo_level_1_id_9                        86868 non-null  bool  \n",
      " 56  geo_level_1_id_10                       86868 non-null  bool  \n",
      " 57  geo_level_1_id_11                       86868 non-null  bool  \n",
      " 58  geo_level_1_id_12                       86868 non-null  bool  \n",
      " 59  geo_level_1_id_13                       86868 non-null  bool  \n",
      " 60  geo_level_1_id_14                       86868 non-null  bool  \n",
      " 61  geo_level_1_id_15                       86868 non-null  bool  \n",
      " 62  geo_level_1_id_16                       86868 non-null  bool  \n",
      " 63  geo_level_1_id_17                       86868 non-null  bool  \n",
      " 64  geo_level_1_id_18                       86868 non-null  bool  \n",
      " 65  geo_level_1_id_19                       86868 non-null  bool  \n",
      " 66  geo_level_1_id_20                       86868 non-null  bool  \n",
      " 67  geo_level_1_id_21                       86868 non-null  bool  \n",
      " 68  geo_level_1_id_22                       86868 non-null  bool  \n",
      " 69  geo_level_1_id_23                       86868 non-null  bool  \n",
      " 70  geo_level_1_id_24                       86868 non-null  bool  \n",
      " 71  geo_level_1_id_25                       86868 non-null  bool  \n",
      " 72  geo_level_1_id_26                       86868 non-null  bool  \n",
      " 73  geo_level_1_id_27                       86868 non-null  bool  \n",
      " 74  geo_level_1_id_28                       86868 non-null  bool  \n",
      " 75  geo_level_1_id_29                       86868 non-null  bool  \n",
      " 76  geo_level_1_id_30                       86868 non-null  bool  \n",
      "dtypes: bool(44), int64(28), object(5)\n",
      "memory usage: 25.5+ MB\n",
      "(86868, 77) None\n"
     ]
    }
   ],
   "source": [
    "for df in X, X_test:\n",
    "    print(\n",
    "        df.shape,\n",
    "        # df.columns,\n",
    "        df.info()\n",
    "    )"
   ]
  },
  {
   "cell_type": "markdown",
   "metadata": {},
   "source": [
    "## Prepare data for analysis"
   ]
  },
  {
   "cell_type": "code",
   "execution_count": null,
   "metadata": {},
   "outputs": [
    {
     "ename": "KeyError",
     "evalue": "\"None of ['building_id'] are in the columns\"",
     "output_type": "error",
     "traceback": [
      "\u001b[0;31m---------------------------------------------------------------------------\u001b[0m",
      "\u001b[0;31mKeyError\u001b[0m                                  Traceback (most recent call last)",
      "\u001b[0;32m/var/folders/w3/cwmq4rsx1sgcbmcfs4s9gzhr0000gn/T/ipykernel_50560/3182961896.py\u001b[0m in \u001b[0;36m?\u001b[0;34m()\u001b[0m\n\u001b[1;32m      1\u001b[0m \u001b[0;31m# set index to building_id\u001b[0m\u001b[0;34m\u001b[0m\u001b[0;34m\u001b[0m\u001b[0m\n\u001b[1;32m      2\u001b[0m \u001b[0;32mfor\u001b[0m \u001b[0mdf\u001b[0m \u001b[0;32min\u001b[0m \u001b[0my\u001b[0m\u001b[0;34m,\u001b[0m \u001b[0mX\u001b[0m\u001b[0;34m,\u001b[0m \u001b[0mX_test\u001b[0m\u001b[0;34m:\u001b[0m\u001b[0;34m\u001b[0m\u001b[0;34m\u001b[0m\u001b[0m\n\u001b[0;32m----> 3\u001b[0;31m     \u001b[0mdf\u001b[0m\u001b[0;34m.\u001b[0m\u001b[0mset_index\u001b[0m\u001b[0;34m(\u001b[0m\u001b[0;34m\"building_id\"\u001b[0m\u001b[0;34m,\u001b[0m \u001b[0minplace\u001b[0m\u001b[0;34m=\u001b[0m\u001b[0;32mTrue\u001b[0m\u001b[0;34m)\u001b[0m\u001b[0;34m\u001b[0m\u001b[0;34m\u001b[0m\u001b[0m\n\u001b[0m\u001b[1;32m      4\u001b[0m \u001b[0;34m\u001b[0m\u001b[0m\n\u001b[1;32m      5\u001b[0m drop_cols = [\"land_surface_condition\", \"other_floor_type\", \"position\", \n\u001b[1;32m      6\u001b[0m              \"plan_configuration\", \"legal_ownership_status\"]\n",
      "\u001b[0;32m~/anaconda3/envs/dsr-setup/lib/python3.10/site-packages/pandas/core/frame.py\u001b[0m in \u001b[0;36m?\u001b[0;34m(self, keys, drop, append, inplace, verify_integrity)\u001b[0m\n\u001b[1;32m   5869\u001b[0m                     \u001b[0;32mif\u001b[0m \u001b[0;32mnot\u001b[0m \u001b[0mfound\u001b[0m\u001b[0;34m:\u001b[0m\u001b[0;34m\u001b[0m\u001b[0;34m\u001b[0m\u001b[0m\n\u001b[1;32m   5870\u001b[0m                         \u001b[0mmissing\u001b[0m\u001b[0;34m.\u001b[0m\u001b[0mappend\u001b[0m\u001b[0;34m(\u001b[0m\u001b[0mcol\u001b[0m\u001b[0;34m)\u001b[0m\u001b[0;34m\u001b[0m\u001b[0;34m\u001b[0m\u001b[0m\n\u001b[1;32m   5871\u001b[0m \u001b[0;34m\u001b[0m\u001b[0m\n\u001b[1;32m   5872\u001b[0m         \u001b[0;32mif\u001b[0m \u001b[0mmissing\u001b[0m\u001b[0;34m:\u001b[0m\u001b[0;34m\u001b[0m\u001b[0;34m\u001b[0m\u001b[0m\n\u001b[0;32m-> 5873\u001b[0;31m             \u001b[0;32mraise\u001b[0m \u001b[0mKeyError\u001b[0m\u001b[0;34m(\u001b[0m\u001b[0;34mf\"None of {missing} are in the columns\"\u001b[0m\u001b[0;34m)\u001b[0m\u001b[0;34m\u001b[0m\u001b[0;34m\u001b[0m\u001b[0m\n\u001b[0m\u001b[1;32m   5874\u001b[0m \u001b[0;34m\u001b[0m\u001b[0m\n\u001b[1;32m   5875\u001b[0m         \u001b[0;32mif\u001b[0m \u001b[0minplace\u001b[0m\u001b[0;34m:\u001b[0m\u001b[0;34m\u001b[0m\u001b[0;34m\u001b[0m\u001b[0m\n\u001b[1;32m   5876\u001b[0m             \u001b[0mframe\u001b[0m \u001b[0;34m=\u001b[0m \u001b[0mself\u001b[0m\u001b[0;34m\u001b[0m\u001b[0;34m\u001b[0m\u001b[0m\n",
      "\u001b[0;31mKeyError\u001b[0m: \"None of ['building_id'] are in the columns\""
     ]
    }
   ],
   "source": [
    "# set index to building_id\n",
    "for df in y, X, X_test:\n",
    "    df.set_index(\"building_id\", inplace=True)\n",
    "\n",
    "drop_cols = [\"land_surface_condition\", \"other_floor_type\", \"position\", \n",
    "             \"plan_configuration\", \"legal_ownership_status\"]\n",
    "for df in X, X_test:\n",
    "    df.drop(columns=drop_cols, inplace=True)"
   ]
  },
  {
   "cell_type": "code",
   "execution_count": null,
   "metadata": {},
   "outputs": [
    {
     "name": "stdout",
     "output_type": "stream",
     "text": [
      "X\t260601\t9\n",
      "X_train\t208480\t9\n",
      "X_valid\t52121\t9\n",
      "X_test\t86868\t77\n"
     ]
    }
   ],
   "source": [
    "X_train, X_valid, y_train, y_valid = train_test_split(X, y, test_size=0.2, random_state=42)\n",
    "X_test_pred = X_test\n",
    "\n",
    "# for k,v in {\"X\":X, X_train, X_valid, X_test}:\n",
    "for name,df in {\"X\":X, \"X_train\":X_train, \"X_valid\": X_valid, \"X_test\": X_test}.items():\n",
    "    print(name, *df.shape, sep=\"\\t\")"
   ]
  },
  {
   "cell_type": "markdown",
   "metadata": {},
   "source": [
    "## 3. **Visualizations**"
   ]
  },
  {
   "cell_type": "code",
   "execution_count": null,
   "metadata": {},
   "outputs": [
    {
     "ename": "NameError",
     "evalue": "name 'np' is not defined",
     "output_type": "error",
     "traceback": [
      "\u001b[0;31m---------------------------------------------------------------------------\u001b[0m",
      "\u001b[0;31mNameError\u001b[0m                                 Traceback (most recent call last)",
      "\u001b[1;32m/Users/miloszrosi/Downloads/minicomp/presi_mpr.ipynb Cell 41\u001b[0m line \u001b[0;36m2\n\u001b[1;32m      <a href='vscode-notebook-cell:/Users/miloszrosi/Downloads/minicomp/presi_mpr.ipynb#Y163sZmlsZQ%3D%3D?line=0'>1</a>\u001b[0m \u001b[39m# correlation heatmap of predictors\u001b[39;00m\n\u001b[0;32m----> <a href='vscode-notebook-cell:/Users/miloszrosi/Downloads/minicomp/presi_mpr.ipynb#Y163sZmlsZQ%3D%3D?line=1'>2</a>\u001b[0m corr \u001b[39m=\u001b[39m X\u001b[39m.\u001b[39mselect_dtypes(include\u001b[39m=\u001b[39m[np\u001b[39m.\u001b[39mnumber])\u001b[39m.\u001b[39mdrop(\u001b[39m'\u001b[39m\u001b[39mbuilding_id\u001b[39m\u001b[39m'\u001b[39m, axis\u001b[39m=\u001b[39m\u001b[39m1\u001b[39m)\u001b[39m.\u001b[39mcorr()\n\u001b[1;32m      <a href='vscode-notebook-cell:/Users/miloszrosi/Downloads/minicomp/presi_mpr.ipynb#Y163sZmlsZQ%3D%3D?line=2'>3</a>\u001b[0m fig, ax \u001b[39m=\u001b[39m plt\u001b[39m.\u001b[39msubplots(figsize\u001b[39m=\u001b[39m(\u001b[39m10\u001b[39m,\u001b[39m8\u001b[39m))\n\u001b[1;32m      <a href='vscode-notebook-cell:/Users/miloszrosi/Downloads/minicomp/presi_mpr.ipynb#Y163sZmlsZQ%3D%3D?line=3'>4</a>\u001b[0m ax\u001b[39m.\u001b[39mset_title(\u001b[39m\"\u001b[39m\u001b[39mFeature Correlation Heatmap\u001b[39m\u001b[39m\"\u001b[39m)\n",
      "\u001b[0;31mNameError\u001b[0m: name 'np' is not defined"
     ]
    }
   ],
   "source": [
    "# correlation heatmap of predictors\n",
    "corr = X.select_dtypes(include=[np.number]).drop('building_id', axis=1).corr()\n",
    "fig, ax = plt.subplots(figsize=(10,8))\n",
    "ax.set_title(\"Feature Correlation Heatmap\")\n",
    "sns.heatmap(corr, ax=ax)"
   ]
  },
  {
   "cell_type": "markdown",
   "metadata": {},
   "source": [
    "## **Plot:** Correlation heatmap of predictors\n",
    "\n",
    "## **Observations:** Secondary uses are highly correlated, Ground floor and height are highly correlated\n",
    "\n",
    "## **Actions:** 1) eliminate one variable (gorund floor OR height), or 2) keep both but be aware that the coefficients are not statistically significant, however combined predictive power might be worthwhile to keep"
   ]
  },
  {
   "cell_type": "code",
   "execution_count": 185,
   "metadata": {},
   "outputs": [
    {
     "ename": "NameError",
     "evalue": "name 'visualisation_functions' is not defined",
     "output_type": "error",
     "traceback": [
      "\u001b[0;31m---------------------------------------------------------------------------\u001b[0m",
      "\u001b[0;31mNameError\u001b[0m                                 Traceback (most recent call last)",
      "\u001b[1;32m/Users/miloszrosi/Downloads/minicomp/presi_mpr.ipynb Cell 43\u001b[0m line \u001b[0;36m2\n\u001b[1;32m      <a href='vscode-notebook-cell:/Users/miloszrosi/Downloads/minicomp/presi_mpr.ipynb#Y166sZmlsZQ%3D%3D?line=0'>1</a>\u001b[0m \u001b[39m# for each predictor, show histogram and 100% stacked histogram  \u001b[39;00m\n\u001b[0;32m----> <a href='vscode-notebook-cell:/Users/miloszrosi/Downloads/minicomp/presi_mpr.ipynb#Y166sZmlsZQ%3D%3D?line=1'>2</a>\u001b[0m visualisation_functions\u001b[39m.\u001b[39mhist2x2_f(X_train,y_train,cols_include\u001b[39m=\u001b[39m[\u001b[39m'\u001b[39m\u001b[39mgeo_level_1_id\u001b[39m\u001b[39m'\u001b[39m,\u001b[39m'\u001b[39m\u001b[39mage\u001b[39m\u001b[39m'\u001b[39m],cols_ignore\u001b[39m=\u001b[39m[])\n",
      "\u001b[0;31mNameError\u001b[0m: name 'visualisation_functions' is not defined"
     ]
    }
   ],
   "source": [
    "# for each predictor, show histogram and 100% stacked histogram  \n",
    "visualisation_functions.hist2x2_f(X_train,y_train,cols_include=['geo_level_1_id','age'],cols_ignore=[])"
   ]
  },
  {
   "cell_type": "markdown",
   "metadata": {},
   "source": [
    "## **Plot I:** Histograms of geo_id\n",
    "\n",
    "## **Observations:** Epicenter of earthquake is at 17\n",
    "\n",
    "## **Actions:** Confirmation of hypothesis that location is important\n",
    "\n",
    "## **Plot II:** Histograms of age \n",
    "\n",
    "## **Observations:** 1) Correlation between newest buildings and low damage 1, i.e. the percentage of low damage decreases with age; 1.1) very low number of buildings explains varation around age 200 2) outliers at age 1000 are old protected buildings \n",
    "\n",
    "\n",
    "## **Actions:** Non linear model, use _lightgbm_ \n"
   ]
  },
  {
   "cell_type": "code",
   "execution_count": 186,
   "metadata": {},
   "outputs": [
    {
     "ename": "NameError",
     "evalue": "name 'visualisation_functions' is not defined",
     "output_type": "error",
     "traceback": [
      "\u001b[0;31m---------------------------------------------------------------------------\u001b[0m",
      "\u001b[0;31mNameError\u001b[0m                                 Traceback (most recent call last)",
      "\u001b[1;32m/Users/miloszrosi/Downloads/minicomp/presi_mpr.ipynb Cell 45\u001b[0m line \u001b[0;36m3\n\u001b[1;32m      <a href='vscode-notebook-cell:/Users/miloszrosi/Downloads/minicomp/presi_mpr.ipynb#Y201sZmlsZQ%3D%3D?line=0'>1</a>\u001b[0m \u001b[39m# pairwise correlation\u001b[39;00m\n\u001b[1;32m      <a href='vscode-notebook-cell:/Users/miloszrosi/Downloads/minicomp/presi_mpr.ipynb#Y201sZmlsZQ%3D%3D?line=1'>2</a>\u001b[0m \u001b[39m# Concatenate X_train and y for correlation calculation\u001b[39;00m\n\u001b[0;32m----> <a href='vscode-notebook-cell:/Users/miloszrosi/Downloads/minicomp/presi_mpr.ipynb#Y201sZmlsZQ%3D%3D?line=2'>3</a>\u001b[0m visualisation_functions\u001b[39m.\u001b[39mplot_pairwise_cor(X_train,y)\n",
      "\u001b[0;31mNameError\u001b[0m: name 'visualisation_functions' is not defined"
     ]
    }
   ],
   "source": [
    "# pairwise correlation\n",
    "# Concatenate X_train and y for correlation calculation\n",
    "visualisation_functions.plot_pairwise_cor(X_train,y)"
   ]
  },
  {
   "cell_type": "markdown",
   "metadata": {},
   "source": [
    "## **Plot:** Pairwise correlation of each feature\n",
    "\n",
    "## **Observations:** Outliers (for instance superstructures), are highly correlated to the predictor\n",
    "\n",
    "## **Actions:** Not blindly exclude outliers  "
   ]
  },
  {
   "cell_type": "code",
   "execution_count": 194,
   "metadata": {},
   "outputs": [
    {
     "ename": "NameError",
     "evalue": "name 'lgb' is not defined",
     "output_type": "error",
     "traceback": [
      "\u001b[0;31m---------------------------------------------------------------------------\u001b[0m",
      "\u001b[0;31mNameError\u001b[0m                                 Traceback (most recent call last)",
      "\u001b[1;32m/Users/miloszrosi/Downloads/minicomp/presi_mpr.ipynb Cell 47\u001b[0m line \u001b[0;36m3\n\u001b[1;32m      <a href='vscode-notebook-cell:/Users/miloszrosi/Downloads/minicomp/presi_mpr.ipynb#Y212sZmlsZQ%3D%3D?line=0'>1</a>\u001b[0m \u001b[39m# feature importance default plot\u001b[39;00m\n\u001b[1;32m      <a href='vscode-notebook-cell:/Users/miloszrosi/Downloads/minicomp/presi_mpr.ipynb#Y212sZmlsZQ%3D%3D?line=1'>2</a>\u001b[0m fitted_model\u001b[39m=\u001b[39mmodel\u001b[39m.\u001b[39mget_model()\n\u001b[0;32m----> <a href='vscode-notebook-cell:/Users/miloszrosi/Downloads/minicomp/presi_mpr.ipynb#Y212sZmlsZQ%3D%3D?line=2'>3</a>\u001b[0m lgb\u001b[39m.\u001b[39mplot_importance(fitted_model)\n",
      "\u001b[0;31mNameError\u001b[0m: name 'lgb' is not defined"
     ]
    }
   ],
   "source": [
    "# feature importance default plot\n",
    "fitted_model=model.get_model()\n",
    "lgb.plot_importance(fitted_model)\n"
   ]
  },
  {
   "cell_type": "markdown",
   "metadata": {},
   "source": [
    "## **Plot:** Feature importance of our most relevant model lightgbm classifier \n",
    "\n",
    "## **Observations:** How frequent is it that we ask to split forest by age? \n",
    "\n",
    "## **Actions:** "
   ]
  },
  {
   "cell_type": "markdown",
   "metadata": {},
   "source": [
    "## 4. Generate a **Random Forest model** and optimize it for better predictive performance.\n",
    "\n"
   ]
  },
  {
   "cell_type": "code",
   "execution_count": null,
   "metadata": {},
   "outputs": [],
   "source": [
    "# Initially, we limit the dataset to a subset of relevant features for testing tree generation. \n",
    "# These features are selected based on our domain knowledge and preliminary analysis.\n",
    "\n",
    "\n",
    "mask = ['has_superstructure_adobe_mud', 'age','count_floors_pre_eq','area_percentage','height_percentage','has_secondary_use',\n",
    "        'has_superstructure_cement_mortar_brick', 'has_superstructure_timber', 'has_superstructure_bamboo'] \n",
    "\n",
    "\n",
    "# Apply the feature mask\n",
    "X = X[mask]\n",
    "\n",
    "X_train = X_train[mask]\n",
    "X_valid = X_valid[mask]\n",
    "\n",
    "# Prepare the test data with the same feature mask\n",
    "X_test_pred = X_test[mask]"
   ]
  },
  {
   "cell_type": "code",
   "execution_count": null,
   "metadata": {},
   "outputs": [
    {
     "name": "stderr",
     "output_type": "stream",
     "text": [
      "[I 2023-10-07 13:50:13,836] A new study created in memory with name: no-name-0c5a9c9b-3887-4349-b110-2fe8f8691a7d\n"
     ]
    },
    {
     "name": "stdout",
     "output_type": "stream",
     "text": [
      "[1]\tvalid_0's multi_logloss: 0.889345\n",
      "[2]\tvalid_0's multi_logloss: 0.873301\n",
      "[3]\tvalid_0's multi_logloss: 0.862211\n",
      "[4]\tvalid_0's multi_logloss: 0.854359\n",
      "[5]\tvalid_0's multi_logloss: 0.848449\n",
      "[6]\tvalid_0's multi_logloss: 0.843939\n",
      "[7]\tvalid_0's multi_logloss: 0.840582\n",
      "[8]\tvalid_0's multi_logloss: 0.837772\n",
      "[9]\tvalid_0's multi_logloss: 0.835388\n",
      "[10]\tvalid_0's multi_logloss: 0.833687\n",
      "[11]\tvalid_0's multi_logloss: 0.832322\n",
      "[12]\tvalid_0's multi_logloss: 0.831086\n",
      "[13]\tvalid_0's multi_logloss: 0.830206\n",
      "[14]\tvalid_0's multi_logloss: 0.829291\n",
      "[15]\tvalid_0's multi_logloss: 0.828517\n",
      "[16]\tvalid_0's multi_logloss: 0.827949\n",
      "[17]\tvalid_0's multi_logloss: 0.827334\n",
      "[18]\tvalid_0's multi_logloss: 0.826787\n",
      "[19]\tvalid_0's multi_logloss: 0.826356\n",
      "[20]\tvalid_0's multi_logloss: 0.82609\n",
      "[21]\tvalid_0's multi_logloss: 0.825711\n",
      "[22]\tvalid_0's multi_logloss: 0.825501\n",
      "[23]\tvalid_0's multi_logloss: 0.825115\n",
      "[24]\tvalid_0's multi_logloss: 0.824962\n",
      "[25]\tvalid_0's multi_logloss: 0.824711\n",
      "[26]\tvalid_0's multi_logloss: 0.824619\n",
      "[27]\tvalid_0's multi_logloss: 0.8245\n",
      "[28]\tvalid_0's multi_logloss: 0.824281\n",
      "[29]\tvalid_0's multi_logloss: 0.824197\n",
      "[30]\tvalid_0's multi_logloss: 0.823975\n",
      "[31]\tvalid_0's multi_logloss: 0.823846\n",
      "[32]\tvalid_0's multi_logloss: 0.823754\n",
      "[33]\tvalid_0's multi_logloss: 0.823662\n",
      "[34]\tvalid_0's multi_logloss: 0.823532\n",
      "[35]\tvalid_0's multi_logloss: 0.823225\n",
      "[36]\tvalid_0's multi_logloss: 0.823074\n",
      "[37]\tvalid_0's multi_logloss: 0.822969\n",
      "[38]\tvalid_0's multi_logloss: 0.822938\n",
      "[39]\tvalid_0's multi_logloss: 0.822841\n",
      "[40]\tvalid_0's multi_logloss: 0.822837\n",
      "[41]\tvalid_0's multi_logloss: 0.822671\n",
      "[42]\tvalid_0's multi_logloss: 0.822537\n",
      "[43]\tvalid_0's multi_logloss: 0.822367\n",
      "[44]\tvalid_0's multi_logloss: 0.822311\n",
      "[45]\tvalid_0's multi_logloss: 0.822271\n",
      "[46]\tvalid_0's multi_logloss: 0.822249\n",
      "[47]\tvalid_0's multi_logloss: 0.822149\n",
      "[48]\tvalid_0's multi_logloss: 0.82204\n",
      "[49]\tvalid_0's multi_logloss: 0.82203\n",
      "[50]\tvalid_0's multi_logloss: 0.822006\n",
      "[51]\tvalid_0's multi_logloss: 0.821928\n",
      "[52]\tvalid_0's multi_logloss: 0.821826\n",
      "[53]\tvalid_0's multi_logloss: 0.82179\n",
      "[54]\tvalid_0's multi_logloss: 0.821811\n",
      "[55]\tvalid_0's multi_logloss: 0.821782\n",
      "[56]\tvalid_0's multi_logloss: 0.821786\n",
      "[57]\tvalid_0's multi_logloss: 0.821772\n",
      "[58]\tvalid_0's multi_logloss: 0.821757\n",
      "[59]\tvalid_0's multi_logloss: 0.821751\n",
      "[60]\tvalid_0's multi_logloss: 0.821728\n",
      "[61]\tvalid_0's multi_logloss: 0.821731\n",
      "[62]\tvalid_0's multi_logloss: 0.821668\n",
      "[63]\tvalid_0's multi_logloss: 0.821667\n",
      "[64]\tvalid_0's multi_logloss: 0.821666\n",
      "[65]\tvalid_0's multi_logloss: 0.821592\n",
      "[66]\tvalid_0's multi_logloss: 0.821603\n",
      "[67]\tvalid_0's multi_logloss: 0.821582\n",
      "[68]\tvalid_0's multi_logloss: 0.821549\n",
      "[69]\tvalid_0's multi_logloss: 0.821512\n",
      "[70]\tvalid_0's multi_logloss: 0.82151\n",
      "[71]\tvalid_0's multi_logloss: 0.821493\n",
      "[72]\tvalid_0's multi_logloss: 0.821368\n",
      "[73]\tvalid_0's multi_logloss: 0.821297\n",
      "[74]\tvalid_0's multi_logloss: 0.821271\n",
      "[75]\tvalid_0's multi_logloss: 0.821262\n",
      "[76]\tvalid_0's multi_logloss: 0.821262\n",
      "[77]\tvalid_0's multi_logloss: 0.821247\n",
      "[78]\tvalid_0's multi_logloss: 0.821199\n",
      "[79]\tvalid_0's multi_logloss: 0.821154\n",
      "[80]\tvalid_0's multi_logloss: 0.821179\n",
      "[81]\tvalid_0's multi_logloss: 0.821155\n",
      "[82]\tvalid_0's multi_logloss: 0.82111\n",
      "[83]\tvalid_0's multi_logloss: 0.821102\n",
      "[84]\tvalid_0's multi_logloss: 0.821076\n",
      "[85]\tvalid_0's multi_logloss: 0.821043\n",
      "[86]\tvalid_0's multi_logloss: 0.821011\n",
      "[87]\tvalid_0's multi_logloss: 0.821005\n",
      "[88]\tvalid_0's multi_logloss: 0.821026\n",
      "[89]\tvalid_0's multi_logloss: 0.821018\n",
      "[90]\tvalid_0's multi_logloss: 0.82101\n",
      "[91]\tvalid_0's multi_logloss: 0.821027\n",
      "[92]\tvalid_0's multi_logloss: 0.821022\n",
      "[93]\tvalid_0's multi_logloss: 0.82103\n",
      "[94]\tvalid_0's multi_logloss: 0.821017\n",
      "[95]\tvalid_0's multi_logloss: 0.820993\n",
      "[96]\tvalid_0's multi_logloss: 0.820947\n",
      "[97]\tvalid_0's multi_logloss: 0.820924\n",
      "[98]\tvalid_0's multi_logloss: 0.820934\n",
      "[99]\tvalid_0's multi_logloss: 0.820929\n"
     ]
    },
    {
     "name": "stderr",
     "output_type": "stream",
     "text": [
      "[I 2023-10-07 13:50:16,139] Trial 0 finished with value: 0.2996488939199171 and parameters: {'learning_rate': 0.2088837713596667, 'subsample': 0.9895708837679428, 'num_leaves': 56, 'min_data_in_leaf': 5, 'max_depth': 5, 'lambda_l2': 0.0019107565692958461}. Best is trial 0 with value: 0.2996488939199171.\n"
     ]
    },
    {
     "name": "stdout",
     "output_type": "stream",
     "text": [
      "[100]\tvalid_0's multi_logloss: 0.820918\n",
      "[1]\tvalid_0's multi_logloss: 0.891678\n",
      "[2]\tvalid_0's multi_logloss: 0.876861\n",
      "[3]\tvalid_0's multi_logloss: 0.867622\n",
      "[4]\tvalid_0's multi_logloss: 0.860887\n",
      "[5]\tvalid_0's multi_logloss: 0.85583\n",
      "[6]\tvalid_0's multi_logloss: 0.851918\n",
      "[7]\tvalid_0's multi_logloss: 0.848564\n",
      "[8]\tvalid_0's multi_logloss: 0.845679\n",
      "[9]\tvalid_0's multi_logloss: 0.843656\n",
      "[10]\tvalid_0's multi_logloss: 0.841882\n",
      "[11]\tvalid_0's multi_logloss: 0.840287\n",
      "[12]\tvalid_0's multi_logloss: 0.839198\n",
      "[13]\tvalid_0's multi_logloss: 0.837882\n",
      "[14]\tvalid_0's multi_logloss: 0.836802\n",
      "[15]\tvalid_0's multi_logloss: 0.835787\n",
      "[16]\tvalid_0's multi_logloss: 0.835094\n",
      "[17]\tvalid_0's multi_logloss: 0.834112\n",
      "[18]\tvalid_0's multi_logloss: 0.833665\n",
      "[19]\tvalid_0's multi_logloss: 0.833136\n",
      "[20]\tvalid_0's multi_logloss: 0.832662\n",
      "[21]\tvalid_0's multi_logloss: 0.832363\n",
      "[22]\tvalid_0's multi_logloss: 0.831801\n",
      "[23]\tvalid_0's multi_logloss: 0.8315\n",
      "[24]\tvalid_0's multi_logloss: 0.831143\n",
      "[25]\tvalid_0's multi_logloss: 0.830843\n",
      "[26]\tvalid_0's multi_logloss: 0.830503\n",
      "[27]\tvalid_0's multi_logloss: 0.830295\n",
      "[28]\tvalid_0's multi_logloss: 0.830149\n",
      "[29]\tvalid_0's multi_logloss: 0.829993\n",
      "[30]\tvalid_0's multi_logloss: 0.829785\n",
      "[31]\tvalid_0's multi_logloss: 0.829572\n",
      "[32]\tvalid_0's multi_logloss: 0.829389\n",
      "[33]\tvalid_0's multi_logloss: 0.82924\n",
      "[34]\tvalid_0's multi_logloss: 0.829035\n",
      "[35]\tvalid_0's multi_logloss: 0.828955\n",
      "[36]\tvalid_0's multi_logloss: 0.828768\n",
      "[37]\tvalid_0's multi_logloss: 0.828611\n",
      "[38]\tvalid_0's multi_logloss: 0.828371\n",
      "[39]\tvalid_0's multi_logloss: 0.828276\n",
      "[40]\tvalid_0's multi_logloss: 0.828206\n",
      "[41]\tvalid_0's multi_logloss: 0.828124\n",
      "[42]\tvalid_0's multi_logloss: 0.827957\n",
      "[43]\tvalid_0's multi_logloss: 0.827911\n",
      "[44]\tvalid_0's multi_logloss: 0.827853\n",
      "[45]\tvalid_0's multi_logloss: 0.827733\n",
      "[46]\tvalid_0's multi_logloss: 0.827512\n",
      "[47]\tvalid_0's multi_logloss: 0.827414\n",
      "[48]\tvalid_0's multi_logloss: 0.82737\n",
      "[49]\tvalid_0's multi_logloss: 0.827179\n",
      "[50]\tvalid_0's multi_logloss: 0.827177\n",
      "[51]\tvalid_0's multi_logloss: 0.82709\n",
      "[52]\tvalid_0's multi_logloss: 0.827067\n",
      "[53]\tvalid_0's multi_logloss: 0.826992\n",
      "[54]\tvalid_0's multi_logloss: 0.826944\n",
      "[55]\tvalid_0's multi_logloss: 0.826887\n",
      "[56]\tvalid_0's multi_logloss: 0.826786\n",
      "[57]\tvalid_0's multi_logloss: 0.826755\n",
      "[58]\tvalid_0's multi_logloss: 0.826682\n",
      "[59]\tvalid_0's multi_logloss: 0.826618\n",
      "[60]\tvalid_0's multi_logloss: 0.826606\n",
      "[61]\tvalid_0's multi_logloss: 0.826531\n",
      "[62]\tvalid_0's multi_logloss: 0.826391\n",
      "[63]\tvalid_0's multi_logloss: 0.82619\n",
      "[64]\tvalid_0's multi_logloss: 0.826113\n",
      "[65]\tvalid_0's multi_logloss: 0.826057\n",
      "[66]\tvalid_0's multi_logloss: 0.826047\n",
      "[67]\tvalid_0's multi_logloss: 0.825999\n",
      "[68]\tvalid_0's multi_logloss: 0.825921\n",
      "[69]\tvalid_0's multi_logloss: 0.825845\n",
      "[70]\tvalid_0's multi_logloss: 0.825796\n",
      "[71]\tvalid_0's multi_logloss: 0.825793\n",
      "[72]\tvalid_0's multi_logloss: 0.825782\n",
      "[73]\tvalid_0's multi_logloss: 0.825679\n",
      "[74]\tvalid_0's multi_logloss: 0.825627\n",
      "[75]\tvalid_0's multi_logloss: 0.825618\n",
      "[76]\tvalid_0's multi_logloss: 0.825571\n",
      "[77]\tvalid_0's multi_logloss: 0.825529\n",
      "[78]\tvalid_0's multi_logloss: 0.825502\n",
      "[79]\tvalid_0's multi_logloss: 0.825476\n",
      "[80]\tvalid_0's multi_logloss: 0.825407\n",
      "[81]\tvalid_0's multi_logloss: 0.825282\n",
      "[82]\tvalid_0's multi_logloss: 0.825188\n",
      "[83]\tvalid_0's multi_logloss: 0.825038\n",
      "[84]\tvalid_0's multi_logloss: 0.824967\n",
      "[85]\tvalid_0's multi_logloss: 0.824835\n",
      "[86]\tvalid_0's multi_logloss: 0.824786\n",
      "[87]\tvalid_0's multi_logloss: 0.824735\n",
      "[88]\tvalid_0's multi_logloss: 0.824676\n",
      "[89]\tvalid_0's multi_logloss: 0.82464\n",
      "[90]\tvalid_0's multi_logloss: 0.824597\n",
      "[91]\tvalid_0's multi_logloss: 0.824598\n",
      "[92]\tvalid_0's multi_logloss: 0.824585\n",
      "[93]\tvalid_0's multi_logloss: 0.824579\n",
      "[94]\tvalid_0's multi_logloss: 0.824577\n"
     ]
    },
    {
     "name": "stderr",
     "output_type": "stream",
     "text": [
      "[I 2023-10-07 13:50:17,664] Trial 1 finished with value: 0.30482914756048424 and parameters: {'learning_rate': 0.24567376174643976, 'subsample': 0.8651750307524942, 'num_leaves': 76, 'min_data_in_leaf': 12, 'max_depth': 3, 'lambda_l2': 0.4208698856132629}. Best is trial 1 with value: 0.30482914756048424.\n"
     ]
    },
    {
     "name": "stdout",
     "output_type": "stream",
     "text": [
      "[95]\tvalid_0's multi_logloss: 0.824568\n",
      "[96]\tvalid_0's multi_logloss: 0.824482\n",
      "[97]\tvalid_0's multi_logloss: 0.824458\n",
      "[98]\tvalid_0's multi_logloss: 0.824381\n",
      "[99]\tvalid_0's multi_logloss: 0.824347\n",
      "[100]\tvalid_0's multi_logloss: 0.824327\n",
      "Number of finished trials: 2\n",
      "Best trial:\n",
      "--------------------------------\n",
      "Best F1 Score: 0.30482914756048424\n",
      "--------------------------------\n"
     ]
    },
    {
     "name": "stderr",
     "output_type": "stream",
     "text": [
      "/Users/miloszrosi/anaconda3/envs/dsr-setup/lib/python3.10/site-packages/sklearn/preprocessing/_label.py:97: DataConversionWarning: A column-vector y was passed when a 1d array was expected. Please change the shape of y to (n_samples, ), for example using ravel().\n",
      "  y = column_or_1d(y, warn=True)\n",
      "/Users/miloszrosi/anaconda3/envs/dsr-setup/lib/python3.10/site-packages/sklearn/preprocessing/_label.py:132: DataConversionWarning: A column-vector y was passed when a 1d array was expected. Please change the shape of y to (n_samples, ), for example using ravel().\n",
      "  y = column_or_1d(y, dtype=self.classes_.dtype, warn=True)\n"
     ]
    },
    {
     "name": "stdout",
     "output_type": "stream",
     "text": [
      "[LightGBM] [Warning] min_data_in_leaf is set=12, min_child_samples=20 will be ignored. Current value: min_data_in_leaf=12\n",
      "[LightGBM] [Warning] lambda_l2 is set=0.4208698856132629, reg_lambda=0.0 will be ignored. Current value: lambda_l2=0.4208698856132629\n"
     ]
    },
    {
     "ename": "AttributeError",
     "evalue": "'LGBM' object has no attribute 'optimization'",
     "output_type": "error",
     "traceback": [
      "\u001b[0;31m---------------------------------------------------------------------------\u001b[0m",
      "\u001b[0;31mAttributeError\u001b[0m                            Traceback (most recent call last)",
      "\u001b[1;32m/Users/miloszrosi/Downloads/minicomp/presi_mpr.ipynb Cell 51\u001b[0m line \u001b[0;36m8\n\u001b[1;32m      <a href='vscode-notebook-cell:/Users/miloszrosi/Downloads/minicomp/presi_mpr.ipynb#X51sZmlsZQ%3D%3D?line=2'>3</a>\u001b[0m model \u001b[39m=\u001b[39m lgb_optimized\u001b[39m.\u001b[39mLGBM(X_train, X_valid, y_train, y_valid)\n\u001b[1;32m      <a href='vscode-notebook-cell:/Users/miloszrosi/Downloads/minicomp/presi_mpr.ipynb#X51sZmlsZQ%3D%3D?line=5'>6</a>\u001b[0m \u001b[39m# Generate and optimize the Random Forest model and feed it with test data to create predictions.\u001b[39;00m\n\u001b[0;32m----> <a href='vscode-notebook-cell:/Users/miloszrosi/Downloads/minicomp/presi_mpr.ipynb#X51sZmlsZQ%3D%3D?line=7'>8</a>\u001b[0m y_pred \u001b[39m=\u001b[39m model\u001b[39m.\u001b[39;49moptimization(X, y, X_test_pred)\n",
      "\u001b[0;31mAttributeError\u001b[0m: 'LGBM' object has no attribute 'optimization'"
     ]
    }
   ],
   "source": [
    "# Initialize a LightGBM (LGBM) model using the training and validation sets.\n",
    "\n",
    "model = lgb_optimized.LGBM(X_train, X_valid, y_train, y_valid)\n",
    "\n",
    "\n",
    "# Generate and optimize the Random Forest model and feed it with test data to create predictions.\n",
    "\n",
    "y_pred = model.optimization(X, y, X_test_pred)"
   ]
  },
  {
   "cell_type": "markdown",
   "metadata": {},
   "source": [
    "## 5. **Evaluation**"
   ]
  },
  {
   "cell_type": "markdown",
   "metadata": {},
   "source": [
    "## 6. **Export**"
   ]
  },
  {
   "cell_type": "code",
   "execution_count": null,
   "metadata": {},
   "outputs": [],
   "source": [
    "# Export the model's predictions to create a CSV file following DrivenData.org data standards.\n",
    "\n",
    "helper_functions.write_output(X_test, y_pred)"
   ]
  }
 ],
 "metadata": {
  "kernelspec": {
   "display_name": "dsr-setup",
   "language": "python",
   "name": "dsr-setup"
  },
  "language_info": {
   "codemirror_mode": {
    "name": "ipython",
    "version": 3
   },
   "file_extension": ".py",
   "mimetype": "text/x-python",
   "name": "python",
   "nbconvert_exporter": "python",
   "pygments_lexer": "ipython3",
   "version": "3.10.13"
  }
 },
 "nbformat": 4,
 "nbformat_minor": 2
}
