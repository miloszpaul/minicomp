{
 "cells": [
  {
   "cell_type": "markdown",
   "metadata": {},
   "source": [
    "# Setup"
   ]
  },
  {
   "cell_type": "code",
   "execution_count": 54,
   "metadata": {},
   "outputs": [
    {
     "name": "stdout",
     "output_type": "stream",
     "text": [
      "['In', 'Out', 'get_ipython', 'exit', 'quit', 'open', 'pd', 'px', 'train_features', 'train_labels', 'test_features', 'ids', 'columns', 'col', 'delete_rows', 'train_features2', 'delete_cols', 'value_counts', 'ratio', 'train_features3', 'train_features4', 'dummies', 'train_features5', 'lgb', 'lgbc', 'object_dtype_cols', 'train_features6', 'train_labels_filtered', 'warnings', 'test_features2', 'test_labels']\n"
     ]
    }
   ],
   "source": [
    "import pandas as pd\n",
    "import plotly.express as px\n",
    "\n",
    "#data\n",
    "train_features = pd.read_csv(\"data/train_values.csv\").set_index(\"building_id\")\n",
    "train_labels = pd.read_csv(\"data/train_labels.csv\").set_index(\"building_id\")\n",
    "test_features = pd.read_csv(\"data/test_values.csv\").set_index(\"building_id\")\n",
    "\n",
    "# helper functions\n",
    "def ids():\n",
    "    ids = [id for id in globals().keys() if not id.startswith(\"_\")]\n",
    "    print(ids)\n",
    "\n",
    "columns = train_features.columns\n",
    "# for col in columns:\n",
    "#     globals()[col] = train_features[col]\n",
    "\n",
    "ids()\n"
   ]
  },
  {
   "cell_type": "markdown",
   "metadata": {},
   "source": [
    "# Explore"
   ]
  },
  {
   "cell_type": "markdown",
   "metadata": {},
   "source": [
    "## outliers"
   ]
  },
  {
   "cell_type": "code",
   "execution_count": 55,
   "metadata": {},
   "outputs": [
    {
     "name": "stdout",
     "output_type": "stream",
     "text": [
      "       geo_level_1_id  geo_level_2_id  geo_level_3_id  count_floors_pre_eq  \\\n",
      "count       260601.00       260601.00       260601.00            260601.00   \n",
      "mean            13.90          701.07         6257.88                 2.13   \n",
      "std              8.03          412.71         3646.37                 0.73   \n",
      "min              0.00            0.00            0.00                 1.00   \n",
      "25%              7.00          350.00         3073.00                 2.00   \n",
      "50%             12.00          702.00         6270.00                 2.00   \n",
      "75%             21.00         1050.00         9412.00                 2.00   \n",
      "max             30.00         1427.00        12567.00                 9.00   \n",
      "\n",
      "             age  area_percentage  height_percentage  \\\n",
      "count  260601.00        260601.00          260601.00   \n",
      "mean       26.54             8.02               5.43   \n",
      "std        73.57             4.39               1.92   \n",
      "min         0.00             1.00               2.00   \n",
      "25%        10.00             5.00               4.00   \n",
      "50%        15.00             7.00               5.00   \n",
      "75%        30.00             9.00               6.00   \n",
      "max       995.00           100.00              32.00   \n",
      "\n",
      "       has_superstructure_adobe_mud  has_superstructure_mud_mortar_stone  \\\n",
      "count                     260601.00                            260601.00   \n",
      "mean                           0.09                                 0.76   \n",
      "std                            0.28                                 0.43   \n",
      "min                            0.00                                 0.00   \n",
      "25%                            0.00                                 1.00   \n",
      "50%                            0.00                                 1.00   \n",
      "75%                            0.00                                 1.00   \n",
      "max                            1.00                                 1.00   \n",
      "\n",
      "       has_superstructure_stone_flag  ...  has_secondary_use_agriculture  \\\n",
      "count                      260601.00  ...                      260601.00   \n",
      "mean                            0.03  ...                           0.06   \n",
      "std                             0.18  ...                           0.25   \n",
      "min                             0.00  ...                           0.00   \n",
      "25%                             0.00  ...                           0.00   \n",
      "50%                             0.00  ...                           0.00   \n",
      "75%                             0.00  ...                           0.00   \n",
      "max                             1.00  ...                           1.00   \n",
      "\n",
      "       has_secondary_use_hotel  has_secondary_use_rental  \\\n",
      "count                260601.00                  2.61e+05   \n",
      "mean                      0.03                  8.10e-03   \n",
      "std                       0.18                  8.96e-02   \n",
      "min                       0.00                  0.00e+00   \n",
      "25%                       0.00                  0.00e+00   \n",
      "50%                       0.00                  0.00e+00   \n",
      "75%                       0.00                  0.00e+00   \n",
      "max                       1.00                  1.00e+00   \n",
      "\n",
      "       has_secondary_use_institution  has_secondary_use_school  \\\n",
      "count                       2.61e+05                  2.61e+05   \n",
      "mean                        9.40e-04                  3.61e-04   \n",
      "std                         3.06e-02                  1.90e-02   \n",
      "min                         0.00e+00                  0.00e+00   \n",
      "25%                         0.00e+00                  0.00e+00   \n",
      "50%                         0.00e+00                  0.00e+00   \n",
      "75%                         0.00e+00                  0.00e+00   \n",
      "max                         1.00e+00                  1.00e+00   \n",
      "\n",
      "       has_secondary_use_industry  has_secondary_use_health_post  \\\n",
      "count                    2.61e+05                       2.61e+05   \n",
      "mean                     1.07e-03                       1.88e-04   \n",
      "std                      3.27e-02                       1.37e-02   \n",
      "min                      0.00e+00                       0.00e+00   \n",
      "25%                      0.00e+00                       0.00e+00   \n",
      "50%                      0.00e+00                       0.00e+00   \n",
      "75%                      0.00e+00                       0.00e+00   \n",
      "max                      1.00e+00                       1.00e+00   \n",
      "\n",
      "       has_secondary_use_gov_office  has_secondary_use_use_police  \\\n",
      "count                      2.61e+05                      2.61e+05   \n",
      "mean                       1.46e-04                      8.83e-05   \n",
      "std                        1.21e-02                      9.39e-03   \n",
      "min                        0.00e+00                      0.00e+00   \n",
      "25%                        0.00e+00                      0.00e+00   \n",
      "50%                        0.00e+00                      0.00e+00   \n",
      "75%                        0.00e+00                      0.00e+00   \n",
      "max                        1.00e+00                      1.00e+00   \n",
      "\n",
      "       has_secondary_use_other  \n",
      "count                 2.61e+05  \n",
      "mean                  5.12e-03  \n",
      "std                   7.14e-02  \n",
      "min                   0.00e+00  \n",
      "25%                   0.00e+00  \n",
      "50%                   0.00e+00  \n",
      "75%                   0.00e+00  \n",
      "max                   1.00e+00  \n",
      "\n",
      "[8 rows x 30 columns]\n"
     ]
    }
   ],
   "source": [
    "pd.set_option(\"display.precision\", 2)\n",
    "print(train_features.describe())\n",
    "#outliers: age(+), area_perc(+), height_perc(+)"
   ]
  },
  {
   "cell_type": "code",
   "execution_count": 56,
   "metadata": {},
   "outputs": [
    {
     "name": "stdout",
     "output_type": "stream",
     "text": [
      "0.024\n",
      "260601\n",
      "254462\n"
     ]
    }
   ],
   "source": [
    "# let's take a closer look at age(+), area_perc(+), height_perc(+)\n",
    "for col in \"age\", \"area_percentage\", \"height_percentage\":\n",
    "    # px.histogram(train_features, x = col).show()\n",
    "    pass\n",
    "\n",
    "#drop if\n",
    "## age>100\n",
    "## area_perc>31\n",
    "## height_perc>10\n",
    "delete_rows = ( \n",
    "    (train_features[\"age\"]>100) | \n",
    "    (train_features[\"area_percentage\"]>31) | \n",
    "    (train_features[\"height_percentage\"]>10)\n",
    ")\n",
    "print(delete_rows.mean().round(3)) #we're losing 2.5% of observations\n",
    "\n",
    "print(len(train_features))\n",
    "train_features2 = train_features[~delete_rows]\n",
    "print(len(train_features2))\n"
   ]
  },
  {
   "cell_type": "markdown",
   "metadata": {},
   "source": [
    "## binary `has_*` variables"
   ]
  },
  {
   "cell_type": "code",
   "execution_count": 57,
   "metadata": {},
   "outputs": [
    {
     "data": {
      "text/plain": [
       "(254462, 24)"
      ]
     },
     "execution_count": 57,
     "metadata": {},
     "output_type": "execute_result"
    }
   ],
   "source": [
    "#are all has_* variables binary?\n",
    "#are some has_* very unbalanced?\n",
    "\n",
    "delete_cols = []\n",
    "\n",
    "for col in filter(lambda col: col.startswith(\"has\"), train_features2):\n",
    "    value_counts = train_features2[col].value_counts()\n",
    "    if value_counts.shape[0]!=2:\n",
    "        # print(col, \"takes on\", value_counts.shape[0], \"values.\") \n",
    "        delete_cols.append(col)\n",
    "    \n",
    "    ratio = value_counts[0]/value_counts[1]\n",
    "    if ratio<0.05 or ratio>20:\n",
    "        # print(\"Values in\", col, \"are imbalanced.\")\n",
    "        # print(train_features2[col].value_counts())\n",
    "        delete_cols.append(col)\n",
    "\n",
    "train_features3 = train_features2.drop(columns = delete_cols)\n",
    "train_features3.shape"
   ]
  },
  {
   "cell_type": "markdown",
   "metadata": {},
   "source": [
    "## `geo_level`"
   ]
  },
  {
   "cell_type": "code",
   "execution_count": 58,
   "metadata": {},
   "outputs": [
    {
     "name": "stdout",
     "output_type": "stream",
     "text": [
      "Index(['geo_level_1_id', 'count_floors_pre_eq', 'age', 'area_percentage',\n",
      "       'height_percentage', 'land_surface_condition', 'foundation_type',\n",
      "       'roof_type', 'ground_floor_type', 'other_floor_type', 'position',\n",
      "       'plan_configuration', 'has_superstructure_adobe_mud',\n",
      "       'has_superstructure_mud_mortar_stone',\n",
      "       'has_superstructure_mud_mortar_brick',\n",
      "       'has_superstructure_cement_mortar_brick', 'has_superstructure_timber',\n",
      "       'has_superstructure_bamboo', 'legal_ownership_status', 'count_families',\n",
      "       'has_secondary_use', 'has_secondary_use_agriculture'],\n",
      "      dtype='object')\n",
      "(254462, 22)\n"
     ]
    }
   ],
   "source": [
    "# print(train_features.describe())\n",
    "# drop geo_level_2 and geo_level_3\n",
    "# turn geo_level_1 into dummies\n",
    "train_features4 = train_features3.drop(columns=[\"geo_level_2_id\", \"geo_level_3_id\"])\n",
    "\n",
    "dummies = pd.get_dummies(train_features4[\"geo_level_1_id\"], prefix=\"geo_level_cat\")\n",
    "# print(dummies.columns, dummies.shape, sep=\"\\n\")\n",
    "\n",
    "# train_features5 = pd.concat([train_features4, dummies], axis=1).drop(columns=\"geo_level_1_id\")\n",
    "train_features5 = train_features4.copy(deep=True)\n",
    "print(train_features5.columns, train_features5.shape, sep=\"\\n\")"
   ]
  },
  {
   "cell_type": "markdown",
   "metadata": {},
   "source": [
    "# lightGBM"
   ]
  },
  {
   "cell_type": "code",
   "execution_count": 59,
   "metadata": {},
   "outputs": [
    {
     "name": "stdout",
     "output_type": "stream",
     "text": [
      "[LightGBM] [Warning] min_data_in_leaf is set=20, min_child_samples=20 will be ignored. Current value: min_data_in_leaf=20\n",
      "[LightGBM] [Warning] feature_fraction is set=0.8, colsample_bytree=1.0 will be ignored. Current value: feature_fraction=0.8\n",
      "[LightGBM] [Warning] min_data_in_leaf is set=20, min_child_samples=20 will be ignored. Current value: min_data_in_leaf=20\n",
      "[LightGBM] [Warning] feature_fraction is set=0.8, colsample_bytree=1.0 will be ignored. Current value: feature_fraction=0.8\n",
      "[LightGBM] [Info] Auto-choosing row-wise multi-threading, the overhead of testing was 0.033872 seconds.\n",
      "You can set `force_row_wise=true` to remove the overhead.\n",
      "And if memory is not enough, you can set `force_col_wise=true`.\n",
      "[LightGBM] [Info] Total Bins 127\n",
      "[LightGBM] [Info] Number of data points in the train set: 254462, number of used features: 14\n",
      "[LightGBM] [Info] Start training from score -2.369256\n",
      "[LightGBM] [Info] Start training from score -0.563184\n",
      "[LightGBM] [Info] Start training from score -1.087506\n"
     ]
    },
    {
     "data": {
      "text/html": [
       "<style>#sk-container-id-7 {color: black;}#sk-container-id-7 pre{padding: 0;}#sk-container-id-7 div.sk-toggleable {background-color: white;}#sk-container-id-7 label.sk-toggleable__label {cursor: pointer;display: block;width: 100%;margin-bottom: 0;padding: 0.3em;box-sizing: border-box;text-align: center;}#sk-container-id-7 label.sk-toggleable__label-arrow:before {content: \"▸\";float: left;margin-right: 0.25em;color: #696969;}#sk-container-id-7 label.sk-toggleable__label-arrow:hover:before {color: black;}#sk-container-id-7 div.sk-estimator:hover label.sk-toggleable__label-arrow:before {color: black;}#sk-container-id-7 div.sk-toggleable__content {max-height: 0;max-width: 0;overflow: hidden;text-align: left;background-color: #f0f8ff;}#sk-container-id-7 div.sk-toggleable__content pre {margin: 0.2em;color: black;border-radius: 0.25em;background-color: #f0f8ff;}#sk-container-id-7 input.sk-toggleable__control:checked~div.sk-toggleable__content {max-height: 200px;max-width: 100%;overflow: auto;}#sk-container-id-7 input.sk-toggleable__control:checked~label.sk-toggleable__label-arrow:before {content: \"▾\";}#sk-container-id-7 div.sk-estimator input.sk-toggleable__control:checked~label.sk-toggleable__label {background-color: #d4ebff;}#sk-container-id-7 div.sk-label input.sk-toggleable__control:checked~label.sk-toggleable__label {background-color: #d4ebff;}#sk-container-id-7 input.sk-hidden--visually {border: 0;clip: rect(1px 1px 1px 1px);clip: rect(1px, 1px, 1px, 1px);height: 1px;margin: -1px;overflow: hidden;padding: 0;position: absolute;width: 1px;}#sk-container-id-7 div.sk-estimator {font-family: monospace;background-color: #f0f8ff;border: 1px dotted black;border-radius: 0.25em;box-sizing: border-box;margin-bottom: 0.5em;}#sk-container-id-7 div.sk-estimator:hover {background-color: #d4ebff;}#sk-container-id-7 div.sk-parallel-item::after {content: \"\";width: 100%;border-bottom: 1px solid gray;flex-grow: 1;}#sk-container-id-7 div.sk-label:hover label.sk-toggleable__label {background-color: #d4ebff;}#sk-container-id-7 div.sk-serial::before {content: \"\";position: absolute;border-left: 1px solid gray;box-sizing: border-box;top: 0;bottom: 0;left: 50%;z-index: 0;}#sk-container-id-7 div.sk-serial {display: flex;flex-direction: column;align-items: center;background-color: white;padding-right: 0.2em;padding-left: 0.2em;position: relative;}#sk-container-id-7 div.sk-item {position: relative;z-index: 1;}#sk-container-id-7 div.sk-parallel {display: flex;align-items: stretch;justify-content: center;background-color: white;position: relative;}#sk-container-id-7 div.sk-item::before, #sk-container-id-7 div.sk-parallel-item::before {content: \"\";position: absolute;border-left: 1px solid gray;box-sizing: border-box;top: 0;bottom: 0;left: 50%;z-index: -1;}#sk-container-id-7 div.sk-parallel-item {display: flex;flex-direction: column;z-index: 1;position: relative;background-color: white;}#sk-container-id-7 div.sk-parallel-item:first-child::after {align-self: flex-end;width: 50%;}#sk-container-id-7 div.sk-parallel-item:last-child::after {align-self: flex-start;width: 50%;}#sk-container-id-7 div.sk-parallel-item:only-child::after {width: 0;}#sk-container-id-7 div.sk-dashed-wrapped {border: 1px dashed gray;margin: 0 0.4em 0.5em 0.4em;box-sizing: border-box;padding-bottom: 0.4em;background-color: white;}#sk-container-id-7 div.sk-label label {font-family: monospace;font-weight: bold;display: inline-block;line-height: 1.2em;}#sk-container-id-7 div.sk-label-container {text-align: center;}#sk-container-id-7 div.sk-container {/* jupyter's `normalize.less` sets `[hidden] { display: none; }` but bootstrap.min.css set `[hidden] { display: none !important; }` so we also need the `!important` here to be able to override the default hidden behavior on the sphinx rendered scikit-learn.org. See: https://github.com/scikit-learn/scikit-learn/issues/21755 */display: inline-block !important;position: relative;}#sk-container-id-7 div.sk-text-repr-fallback {display: none;}</style><div id=\"sk-container-id-7\" class=\"sk-top-container\"><div class=\"sk-text-repr-fallback\"><pre>LGBMClassifier(feature_fraction=0.8, min_data_in_leaf=20, num_class=3,\n",
       "               objective=&#x27;multiclass&#x27;)</pre><b>In a Jupyter environment, please rerun this cell to show the HTML representation or trust the notebook. <br />On GitHub, the HTML representation is unable to render, please try loading this page with nbviewer.org.</b></div><div class=\"sk-container\" hidden><div class=\"sk-item\"><div class=\"sk-estimator sk-toggleable\"><input class=\"sk-toggleable__control sk-hidden--visually\" id=\"sk-estimator-id-7\" type=\"checkbox\" checked><label for=\"sk-estimator-id-7\" class=\"sk-toggleable__label sk-toggleable__label-arrow\">LGBMClassifier</label><div class=\"sk-toggleable__content\"><pre>LGBMClassifier(feature_fraction=0.8, min_data_in_leaf=20, num_class=3,\n",
       "               objective=&#x27;multiclass&#x27;)</pre></div></div></div></div></div>"
      ],
      "text/plain": [
       "LGBMClassifier(feature_fraction=0.8, min_data_in_leaf=20, num_class=3,\n",
       "               objective='multiclass')"
      ]
     },
     "execution_count": 59,
     "metadata": {},
     "output_type": "execute_result"
    }
   ],
   "source": [
    "import lightgbm as lgb\n",
    "\n",
    "lgbc = lgb.LGBMClassifier(\n",
    "    objective='multiclass',\n",
    "    num_class=3,\n",
    "    learning_rate=0.1,  # commonly used starting value\n",
    "    n_estimators=100,   # number of trees, can start with 100 for initial run\n",
    "    max_depth=-1,       # -1 means no limit on tree depth (consider adjusting if overfitting occurs)\n",
    "    num_leaves=31,      # default value, you may increase or decrease based on the complexity of your data\n",
    "    min_data_in_leaf=20, # minimum number of samples in a leaf, helps to avoid overfitting\n",
    "    feature_fraction=0.8 # fraction of features to be randomly selected for each tree (adjust for overfitting/underfitting)\n",
    ")\n",
    "\n",
    "object_dtype_cols = [\n",
    "    \"land_surface_condition\", \"foundation_type\", \"roof_type\", \"ground_floor_type\", \n",
    "    \"other_floor_type\", \"position\", \"plan_configuration\", \"legal_ownership_status\"\n",
    "]\n",
    "\n",
    "train_features6 = train_features5.drop(columns=object_dtype_cols)\n",
    "train_labels_filtered = train_labels.loc[train_features6.index]\n",
    "\n",
    "lgbc.fit(train_features6, train_labels_filtered)\n",
    "\n"
   ]
  },
  {
   "cell_type": "code",
   "execution_count": 66,
   "metadata": {},
   "outputs": [
    {
     "name": "stdout",
     "output_type": "stream",
     "text": [
      "[LightGBM] [Warning] min_data_in_leaf is set=20, min_child_samples=20 will be ignored. Current value: min_data_in_leaf=20\n",
      "[LightGBM] [Warning] feature_fraction is set=0.8, colsample_bytree=1.0 will be ignored. Current value: feature_fraction=0.8\n"
     ]
    }
   ],
   "source": [
    "test_features2 = test_features[train_features6.columns]\n",
    "test_labels = pd.DataFrame( lgbc.predict(test_features2) )"
   ]
  },
  {
   "cell_type": "code",
   "execution_count": 75,
   "metadata": {},
   "outputs": [
    {
     "name": "stdout",
     "output_type": "stream",
     "text": [
      "2    60137\n",
      "3    21908\n",
      "1     4823\n",
      "Name: count, dtype: int64              0\n",
      "building_id   \n",
      "300051       3\n",
      "99355        2\n",
      "890251       2\n",
      "745817       1\n",
      "421793       3\n"
     ]
    }
   ],
   "source": [
    "test_labels.index = test_features2.index\n",
    "print(\n",
    "    test_labels.value_counts(),\n",
    "    test_labels.head()    \n",
    ")\n",
    "\n",
    "test_labels.columns = [\"damage_grade\"]\n",
    "test_labels.to_csv(\"data/test_labels.csv\")\n",
    "\n",
    "''' \n",
    "11:00am:    0.6814 (imbalanced added)\n",
    "02:00am:    0.6785\n",
    "'''"
   ]
  }
 ],
 "metadata": {
  "kernelspec": {
   "display_name": "Python 3",
   "language": "python",
   "name": "python3"
  },
  "language_info": {
   "codemirror_mode": {
    "name": "ipython",
    "version": 3
   },
   "file_extension": ".py",
   "mimetype": "text/x-python",
   "name": "python",
   "nbconvert_exporter": "python",
   "pygments_lexer": "ipython3",
   "version": "3.11.6"
  },
  "orig_nbformat": 4
 },
 "nbformat": 4,
 "nbformat_minor": 2
}
