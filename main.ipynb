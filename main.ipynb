{
 "cells": [
  {
   "cell_type": "markdown",
   "metadata": {},
   "source": [
    "# Mini Competition: Richter's Predictor"
   ]
  },
  {
   "cell_type": "markdown",
   "metadata": {},
   "source": [
    "Import modules and data"
   ]
  },
  {
   "cell_type": "code",
   "execution_count": 1,
   "metadata": {},
   "outputs": [],
   "source": [
    "# Modules\n",
    "import pandas as pd\n",
    "from sklearn.model_selection import train_test_split\n",
    "from sklearn.metrics import f1_score"
   ]
  },
  {
   "cell_type": "code",
   "execution_count": 2,
   "metadata": {},
   "outputs": [],
   "source": [
    "# Import scripts\n",
    "import helper_functions # various helper functions\n",
    "import log_regression # Simple regression model\n",
    "import lgb_optimized # Random forest"
   ]
  },
  {
   "cell_type": "code",
   "execution_count": 3,
   "metadata": {},
   "outputs": [],
   "source": [
    "# Load data\n",
    "X, y, X_test = helper_functions.imports()"
   ]
  },
  {
   "cell_type": "markdown",
   "metadata": {},
   "source": [
    "### Data Analysis"
   ]
  },
  {
   "cell_type": "markdown",
   "metadata": {},
   "source": [
    "Start with a basic analysis of the data to get a general feeling of what we are dealing with."
   ]
  },
  {
   "cell_type": "code",
   "execution_count": 4,
   "metadata": {},
   "outputs": [
    {
     "name": "stdout",
     "output_type": "stream",
     "text": [
      "Proportions of the DataFrame X, containing the features for testing: (260601, 39)\n",
      "Proportions of the DataFrage y, containing the target value for testing: (260601, 2)\n",
      "Proportions of the DataFrame X, containing the features for the prediction: (86868, 39)\n"
     ]
    }
   ],
   "source": [
    "print(f\"Proportions of the DataFrame X, containing the features for testing: {X.shape}\")\n",
    "print(f\"Proportions of the DataFrage y, containing the target value for testing: {y.shape}\")\n",
    "print(f\"Proportions of the DataFrame X, containing the features for the prediction: {X_test.shape}\")"
   ]
  },
  {
   "cell_type": "code",
   "execution_count": 5,
   "metadata": {},
   "outputs": [
    {
     "data": {
      "text/html": [
       "<div>\n",
       "<style scoped>\n",
       "    .dataframe tbody tr th:only-of-type {\n",
       "        vertical-align: middle;\n",
       "    }\n",
       "\n",
       "    .dataframe tbody tr th {\n",
       "        vertical-align: top;\n",
       "    }\n",
       "\n",
       "    .dataframe thead th {\n",
       "        text-align: right;\n",
       "    }\n",
       "</style>\n",
       "<table border=\"1\" class=\"dataframe\">\n",
       "  <thead>\n",
       "    <tr style=\"text-align: right;\">\n",
       "      <th></th>\n",
       "      <th>building_id</th>\n",
       "      <th>geo_level_1_id</th>\n",
       "      <th>geo_level_2_id</th>\n",
       "      <th>geo_level_3_id</th>\n",
       "      <th>count_floors_pre_eq</th>\n",
       "      <th>age</th>\n",
       "      <th>area_percentage</th>\n",
       "      <th>height_percentage</th>\n",
       "      <th>land_surface_condition</th>\n",
       "      <th>foundation_type</th>\n",
       "      <th>...</th>\n",
       "      <th>has_secondary_use_agriculture</th>\n",
       "      <th>has_secondary_use_hotel</th>\n",
       "      <th>has_secondary_use_rental</th>\n",
       "      <th>has_secondary_use_institution</th>\n",
       "      <th>has_secondary_use_school</th>\n",
       "      <th>has_secondary_use_industry</th>\n",
       "      <th>has_secondary_use_health_post</th>\n",
       "      <th>has_secondary_use_gov_office</th>\n",
       "      <th>has_secondary_use_use_police</th>\n",
       "      <th>has_secondary_use_other</th>\n",
       "    </tr>\n",
       "  </thead>\n",
       "  <tbody>\n",
       "    <tr>\n",
       "      <th>0</th>\n",
       "      <td>802906</td>\n",
       "      <td>6</td>\n",
       "      <td>487</td>\n",
       "      <td>12198</td>\n",
       "      <td>2</td>\n",
       "      <td>30</td>\n",
       "      <td>6</td>\n",
       "      <td>5</td>\n",
       "      <td>t</td>\n",
       "      <td>r</td>\n",
       "      <td>...</td>\n",
       "      <td>0</td>\n",
       "      <td>0</td>\n",
       "      <td>0</td>\n",
       "      <td>0</td>\n",
       "      <td>0</td>\n",
       "      <td>0</td>\n",
       "      <td>0</td>\n",
       "      <td>0</td>\n",
       "      <td>0</td>\n",
       "      <td>0</td>\n",
       "    </tr>\n",
       "    <tr>\n",
       "      <th>1</th>\n",
       "      <td>28830</td>\n",
       "      <td>8</td>\n",
       "      <td>900</td>\n",
       "      <td>2812</td>\n",
       "      <td>2</td>\n",
       "      <td>10</td>\n",
       "      <td>8</td>\n",
       "      <td>7</td>\n",
       "      <td>o</td>\n",
       "      <td>r</td>\n",
       "      <td>...</td>\n",
       "      <td>0</td>\n",
       "      <td>0</td>\n",
       "      <td>0</td>\n",
       "      <td>0</td>\n",
       "      <td>0</td>\n",
       "      <td>0</td>\n",
       "      <td>0</td>\n",
       "      <td>0</td>\n",
       "      <td>0</td>\n",
       "      <td>0</td>\n",
       "    </tr>\n",
       "    <tr>\n",
       "      <th>2</th>\n",
       "      <td>94947</td>\n",
       "      <td>21</td>\n",
       "      <td>363</td>\n",
       "      <td>8973</td>\n",
       "      <td>2</td>\n",
       "      <td>10</td>\n",
       "      <td>5</td>\n",
       "      <td>5</td>\n",
       "      <td>t</td>\n",
       "      <td>r</td>\n",
       "      <td>...</td>\n",
       "      <td>0</td>\n",
       "      <td>0</td>\n",
       "      <td>0</td>\n",
       "      <td>0</td>\n",
       "      <td>0</td>\n",
       "      <td>0</td>\n",
       "      <td>0</td>\n",
       "      <td>0</td>\n",
       "      <td>0</td>\n",
       "      <td>0</td>\n",
       "    </tr>\n",
       "    <tr>\n",
       "      <th>3</th>\n",
       "      <td>590882</td>\n",
       "      <td>22</td>\n",
       "      <td>418</td>\n",
       "      <td>10694</td>\n",
       "      <td>2</td>\n",
       "      <td>10</td>\n",
       "      <td>6</td>\n",
       "      <td>5</td>\n",
       "      <td>t</td>\n",
       "      <td>r</td>\n",
       "      <td>...</td>\n",
       "      <td>0</td>\n",
       "      <td>0</td>\n",
       "      <td>0</td>\n",
       "      <td>0</td>\n",
       "      <td>0</td>\n",
       "      <td>0</td>\n",
       "      <td>0</td>\n",
       "      <td>0</td>\n",
       "      <td>0</td>\n",
       "      <td>0</td>\n",
       "    </tr>\n",
       "    <tr>\n",
       "      <th>4</th>\n",
       "      <td>201944</td>\n",
       "      <td>11</td>\n",
       "      <td>131</td>\n",
       "      <td>1488</td>\n",
       "      <td>3</td>\n",
       "      <td>30</td>\n",
       "      <td>8</td>\n",
       "      <td>9</td>\n",
       "      <td>t</td>\n",
       "      <td>r</td>\n",
       "      <td>...</td>\n",
       "      <td>0</td>\n",
       "      <td>0</td>\n",
       "      <td>0</td>\n",
       "      <td>0</td>\n",
       "      <td>0</td>\n",
       "      <td>0</td>\n",
       "      <td>0</td>\n",
       "      <td>0</td>\n",
       "      <td>0</td>\n",
       "      <td>0</td>\n",
       "    </tr>\n",
       "  </tbody>\n",
       "</table>\n",
       "<p>5 rows × 39 columns</p>\n",
       "</div>"
      ],
      "text/plain": [
       "   building_id  geo_level_1_id  geo_level_2_id  geo_level_3_id  \\\n",
       "0       802906               6             487           12198   \n",
       "1        28830               8             900            2812   \n",
       "2        94947              21             363            8973   \n",
       "3       590882              22             418           10694   \n",
       "4       201944              11             131            1488   \n",
       "\n",
       "   count_floors_pre_eq  age  area_percentage  height_percentage  \\\n",
       "0                    2   30                6                  5   \n",
       "1                    2   10                8                  7   \n",
       "2                    2   10                5                  5   \n",
       "3                    2   10                6                  5   \n",
       "4                    3   30                8                  9   \n",
       "\n",
       "  land_surface_condition foundation_type  ... has_secondary_use_agriculture  \\\n",
       "0                      t               r  ...                             0   \n",
       "1                      o               r  ...                             0   \n",
       "2                      t               r  ...                             0   \n",
       "3                      t               r  ...                             0   \n",
       "4                      t               r  ...                             0   \n",
       "\n",
       "  has_secondary_use_hotel has_secondary_use_rental  \\\n",
       "0                       0                        0   \n",
       "1                       0                        0   \n",
       "2                       0                        0   \n",
       "3                       0                        0   \n",
       "4                       0                        0   \n",
       "\n",
       "  has_secondary_use_institution has_secondary_use_school  \\\n",
       "0                             0                        0   \n",
       "1                             0                        0   \n",
       "2                             0                        0   \n",
       "3                             0                        0   \n",
       "4                             0                        0   \n",
       "\n",
       "   has_secondary_use_industry  has_secondary_use_health_post  \\\n",
       "0                           0                              0   \n",
       "1                           0                              0   \n",
       "2                           0                              0   \n",
       "3                           0                              0   \n",
       "4                           0                              0   \n",
       "\n",
       "   has_secondary_use_gov_office  has_secondary_use_use_police  \\\n",
       "0                             0                             0   \n",
       "1                             0                             0   \n",
       "2                             0                             0   \n",
       "3                             0                             0   \n",
       "4                             0                             0   \n",
       "\n",
       "   has_secondary_use_other  \n",
       "0                        0  \n",
       "1                        0  \n",
       "2                        0  \n",
       "3                        0  \n",
       "4                        0  \n",
       "\n",
       "[5 rows x 39 columns]"
      ]
     },
     "execution_count": 5,
     "metadata": {},
     "output_type": "execute_result"
    }
   ],
   "source": [
    "X.head()"
   ]
  },
  {
   "cell_type": "code",
   "execution_count": 6,
   "metadata": {},
   "outputs": [
    {
     "data": {
      "text/html": [
       "<div>\n",
       "<style scoped>\n",
       "    .dataframe tbody tr th:only-of-type {\n",
       "        vertical-align: middle;\n",
       "    }\n",
       "\n",
       "    .dataframe tbody tr th {\n",
       "        vertical-align: top;\n",
       "    }\n",
       "\n",
       "    .dataframe thead th {\n",
       "        text-align: right;\n",
       "    }\n",
       "</style>\n",
       "<table border=\"1\" class=\"dataframe\">\n",
       "  <thead>\n",
       "    <tr style=\"text-align: right;\">\n",
       "      <th></th>\n",
       "      <th>building_id</th>\n",
       "      <th>damage_grade</th>\n",
       "    </tr>\n",
       "  </thead>\n",
       "  <tbody>\n",
       "    <tr>\n",
       "      <th>0</th>\n",
       "      <td>802906</td>\n",
       "      <td>3</td>\n",
       "    </tr>\n",
       "    <tr>\n",
       "      <th>1</th>\n",
       "      <td>28830</td>\n",
       "      <td>2</td>\n",
       "    </tr>\n",
       "    <tr>\n",
       "      <th>2</th>\n",
       "      <td>94947</td>\n",
       "      <td>3</td>\n",
       "    </tr>\n",
       "    <tr>\n",
       "      <th>3</th>\n",
       "      <td>590882</td>\n",
       "      <td>2</td>\n",
       "    </tr>\n",
       "    <tr>\n",
       "      <th>4</th>\n",
       "      <td>201944</td>\n",
       "      <td>3</td>\n",
       "    </tr>\n",
       "  </tbody>\n",
       "</table>\n",
       "</div>"
      ],
      "text/plain": [
       "   building_id  damage_grade\n",
       "0       802906             3\n",
       "1        28830             2\n",
       "2        94947             3\n",
       "3       590882             2\n",
       "4       201944             3"
      ]
     },
     "execution_count": 6,
     "metadata": {},
     "output_type": "execute_result"
    }
   ],
   "source": [
    "y.head()"
   ]
  },
  {
   "cell_type": "code",
   "execution_count": 7,
   "metadata": {},
   "outputs": [
    {
     "data": {
      "text/html": [
       "<div>\n",
       "<style scoped>\n",
       "    .dataframe tbody tr th:only-of-type {\n",
       "        vertical-align: middle;\n",
       "    }\n",
       "\n",
       "    .dataframe tbody tr th {\n",
       "        vertical-align: top;\n",
       "    }\n",
       "\n",
       "    .dataframe thead th {\n",
       "        text-align: right;\n",
       "    }\n",
       "</style>\n",
       "<table border=\"1\" class=\"dataframe\">\n",
       "  <thead>\n",
       "    <tr style=\"text-align: right;\">\n",
       "      <th></th>\n",
       "      <th>building_id</th>\n",
       "      <th>geo_level_1_id</th>\n",
       "      <th>geo_level_2_id</th>\n",
       "      <th>geo_level_3_id</th>\n",
       "      <th>count_floors_pre_eq</th>\n",
       "      <th>age</th>\n",
       "      <th>area_percentage</th>\n",
       "      <th>height_percentage</th>\n",
       "      <th>land_surface_condition</th>\n",
       "      <th>foundation_type</th>\n",
       "      <th>...</th>\n",
       "      <th>has_secondary_use_agriculture</th>\n",
       "      <th>has_secondary_use_hotel</th>\n",
       "      <th>has_secondary_use_rental</th>\n",
       "      <th>has_secondary_use_institution</th>\n",
       "      <th>has_secondary_use_school</th>\n",
       "      <th>has_secondary_use_industry</th>\n",
       "      <th>has_secondary_use_health_post</th>\n",
       "      <th>has_secondary_use_gov_office</th>\n",
       "      <th>has_secondary_use_use_police</th>\n",
       "      <th>has_secondary_use_other</th>\n",
       "    </tr>\n",
       "  </thead>\n",
       "  <tbody>\n",
       "    <tr>\n",
       "      <th>0</th>\n",
       "      <td>300051</td>\n",
       "      <td>17</td>\n",
       "      <td>596</td>\n",
       "      <td>11307</td>\n",
       "      <td>3</td>\n",
       "      <td>20</td>\n",
       "      <td>7</td>\n",
       "      <td>6</td>\n",
       "      <td>t</td>\n",
       "      <td>r</td>\n",
       "      <td>...</td>\n",
       "      <td>0</td>\n",
       "      <td>0</td>\n",
       "      <td>0</td>\n",
       "      <td>0</td>\n",
       "      <td>0</td>\n",
       "      <td>0</td>\n",
       "      <td>0</td>\n",
       "      <td>0</td>\n",
       "      <td>0</td>\n",
       "      <td>0</td>\n",
       "    </tr>\n",
       "    <tr>\n",
       "      <th>1</th>\n",
       "      <td>99355</td>\n",
       "      <td>6</td>\n",
       "      <td>141</td>\n",
       "      <td>11987</td>\n",
       "      <td>2</td>\n",
       "      <td>25</td>\n",
       "      <td>13</td>\n",
       "      <td>5</td>\n",
       "      <td>t</td>\n",
       "      <td>r</td>\n",
       "      <td>...</td>\n",
       "      <td>1</td>\n",
       "      <td>0</td>\n",
       "      <td>0</td>\n",
       "      <td>0</td>\n",
       "      <td>0</td>\n",
       "      <td>0</td>\n",
       "      <td>0</td>\n",
       "      <td>0</td>\n",
       "      <td>0</td>\n",
       "      <td>0</td>\n",
       "    </tr>\n",
       "    <tr>\n",
       "      <th>2</th>\n",
       "      <td>890251</td>\n",
       "      <td>22</td>\n",
       "      <td>19</td>\n",
       "      <td>10044</td>\n",
       "      <td>2</td>\n",
       "      <td>5</td>\n",
       "      <td>4</td>\n",
       "      <td>5</td>\n",
       "      <td>t</td>\n",
       "      <td>r</td>\n",
       "      <td>...</td>\n",
       "      <td>0</td>\n",
       "      <td>0</td>\n",
       "      <td>0</td>\n",
       "      <td>0</td>\n",
       "      <td>0</td>\n",
       "      <td>0</td>\n",
       "      <td>0</td>\n",
       "      <td>0</td>\n",
       "      <td>0</td>\n",
       "      <td>0</td>\n",
       "    </tr>\n",
       "    <tr>\n",
       "      <th>3</th>\n",
       "      <td>745817</td>\n",
       "      <td>26</td>\n",
       "      <td>39</td>\n",
       "      <td>633</td>\n",
       "      <td>1</td>\n",
       "      <td>0</td>\n",
       "      <td>19</td>\n",
       "      <td>3</td>\n",
       "      <td>t</td>\n",
       "      <td>r</td>\n",
       "      <td>...</td>\n",
       "      <td>0</td>\n",
       "      <td>0</td>\n",
       "      <td>1</td>\n",
       "      <td>0</td>\n",
       "      <td>0</td>\n",
       "      <td>0</td>\n",
       "      <td>0</td>\n",
       "      <td>0</td>\n",
       "      <td>0</td>\n",
       "      <td>0</td>\n",
       "    </tr>\n",
       "    <tr>\n",
       "      <th>4</th>\n",
       "      <td>421793</td>\n",
       "      <td>17</td>\n",
       "      <td>289</td>\n",
       "      <td>7970</td>\n",
       "      <td>3</td>\n",
       "      <td>15</td>\n",
       "      <td>8</td>\n",
       "      <td>7</td>\n",
       "      <td>t</td>\n",
       "      <td>r</td>\n",
       "      <td>...</td>\n",
       "      <td>0</td>\n",
       "      <td>0</td>\n",
       "      <td>0</td>\n",
       "      <td>0</td>\n",
       "      <td>0</td>\n",
       "      <td>0</td>\n",
       "      <td>0</td>\n",
       "      <td>0</td>\n",
       "      <td>0</td>\n",
       "      <td>0</td>\n",
       "    </tr>\n",
       "  </tbody>\n",
       "</table>\n",
       "<p>5 rows × 39 columns</p>\n",
       "</div>"
      ],
      "text/plain": [
       "   building_id  geo_level_1_id  geo_level_2_id  geo_level_3_id  \\\n",
       "0       300051              17             596           11307   \n",
       "1        99355               6             141           11987   \n",
       "2       890251              22              19           10044   \n",
       "3       745817              26              39             633   \n",
       "4       421793              17             289            7970   \n",
       "\n",
       "   count_floors_pre_eq  age  area_percentage  height_percentage  \\\n",
       "0                    3   20                7                  6   \n",
       "1                    2   25               13                  5   \n",
       "2                    2    5                4                  5   \n",
       "3                    1    0               19                  3   \n",
       "4                    3   15                8                  7   \n",
       "\n",
       "  land_surface_condition foundation_type  ... has_secondary_use_agriculture  \\\n",
       "0                      t               r  ...                             0   \n",
       "1                      t               r  ...                             1   \n",
       "2                      t               r  ...                             0   \n",
       "3                      t               r  ...                             0   \n",
       "4                      t               r  ...                             0   \n",
       "\n",
       "  has_secondary_use_hotel has_secondary_use_rental  \\\n",
       "0                       0                        0   \n",
       "1                       0                        0   \n",
       "2                       0                        0   \n",
       "3                       0                        1   \n",
       "4                       0                        0   \n",
       "\n",
       "  has_secondary_use_institution has_secondary_use_school  \\\n",
       "0                             0                        0   \n",
       "1                             0                        0   \n",
       "2                             0                        0   \n",
       "3                             0                        0   \n",
       "4                             0                        0   \n",
       "\n",
       "   has_secondary_use_industry  has_secondary_use_health_post  \\\n",
       "0                           0                              0   \n",
       "1                           0                              0   \n",
       "2                           0                              0   \n",
       "3                           0                              0   \n",
       "4                           0                              0   \n",
       "\n",
       "   has_secondary_use_gov_office  has_secondary_use_use_police  \\\n",
       "0                             0                             0   \n",
       "1                             0                             0   \n",
       "2                             0                             0   \n",
       "3                             0                             0   \n",
       "4                             0                             0   \n",
       "\n",
       "   has_secondary_use_other  \n",
       "0                        0  \n",
       "1                        0  \n",
       "2                        0  \n",
       "3                        0  \n",
       "4                        0  \n",
       "\n",
       "[5 rows x 39 columns]"
      ]
     },
     "execution_count": 7,
     "metadata": {},
     "output_type": "execute_result"
    }
   ],
   "source": [
    "X_test.head()"
   ]
  },
  {
   "cell_type": "markdown",
   "metadata": {},
   "source": [
    "Check whether X and X_test have the same columns"
   ]
  },
  {
   "cell_type": "code",
   "execution_count": 8,
   "metadata": {},
   "outputs": [
    {
     "data": {
      "text/plain": [
       "Index(['building_id', 'geo_level_1_id', 'geo_level_2_id', 'geo_level_3_id',\n",
       "       'count_floors_pre_eq', 'age', 'area_percentage', 'height_percentage',\n",
       "       'land_surface_condition', 'foundation_type', 'roof_type',\n",
       "       'ground_floor_type', 'other_floor_type', 'position',\n",
       "       'plan_configuration', 'has_superstructure_adobe_mud',\n",
       "       'has_superstructure_mud_mortar_stone', 'has_superstructure_stone_flag',\n",
       "       'has_superstructure_cement_mortar_stone',\n",
       "       'has_superstructure_mud_mortar_brick',\n",
       "       'has_superstructure_cement_mortar_brick', 'has_superstructure_timber',\n",
       "       'has_superstructure_bamboo', 'has_superstructure_rc_non_engineered',\n",
       "       'has_superstructure_rc_engineered', 'has_superstructure_other',\n",
       "       'legal_ownership_status', 'count_families', 'has_secondary_use',\n",
       "       'has_secondary_use_agriculture', 'has_secondary_use_hotel',\n",
       "       'has_secondary_use_rental', 'has_secondary_use_institution',\n",
       "       'has_secondary_use_school', 'has_secondary_use_industry',\n",
       "       'has_secondary_use_health_post', 'has_secondary_use_gov_office',\n",
       "       'has_secondary_use_use_police', 'has_secondary_use_other'],\n",
       "      dtype='object')"
      ]
     },
     "execution_count": 8,
     "metadata": {},
     "output_type": "execute_result"
    }
   ],
   "source": [
    "X.columns"
   ]
  },
  {
   "cell_type": "code",
   "execution_count": 9,
   "metadata": {},
   "outputs": [
    {
     "name": "stdout",
     "output_type": "stream",
     "text": [
      "Both DataFrames have the same columns.\n"
     ]
    }
   ],
   "source": [
    "helper_functions.test_column_equality(X, X_test)"
   ]
  },
  {
   "cell_type": "code",
   "execution_count": 10,
   "metadata": {},
   "outputs": [
    {
     "data": {
      "text/plain": [
       "building_id                                int64\n",
       "geo_level_1_id                             int64\n",
       "geo_level_2_id                             int64\n",
       "geo_level_3_id                             int64\n",
       "count_floors_pre_eq                        int64\n",
       "age                                        int64\n",
       "area_percentage                            int64\n",
       "height_percentage                          int64\n",
       "land_surface_condition                    object\n",
       "foundation_type                           object\n",
       "roof_type                                 object\n",
       "ground_floor_type                         object\n",
       "other_floor_type                          object\n",
       "position                                  object\n",
       "plan_configuration                        object\n",
       "has_superstructure_adobe_mud               int64\n",
       "has_superstructure_mud_mortar_stone        int64\n",
       "has_superstructure_stone_flag              int64\n",
       "has_superstructure_cement_mortar_stone     int64\n",
       "has_superstructure_mud_mortar_brick        int64\n",
       "has_superstructure_cement_mortar_brick     int64\n",
       "has_superstructure_timber                  int64\n",
       "has_superstructure_bamboo                  int64\n",
       "has_superstructure_rc_non_engineered       int64\n",
       "has_superstructure_rc_engineered           int64\n",
       "has_superstructure_other                   int64\n",
       "legal_ownership_status                    object\n",
       "count_families                             int64\n",
       "has_secondary_use                          int64\n",
       "has_secondary_use_agriculture              int64\n",
       "has_secondary_use_hotel                    int64\n",
       "has_secondary_use_rental                   int64\n",
       "has_secondary_use_institution              int64\n",
       "has_secondary_use_school                   int64\n",
       "has_secondary_use_industry                 int64\n",
       "has_secondary_use_health_post              int64\n",
       "has_secondary_use_gov_office               int64\n",
       "has_secondary_use_use_police               int64\n",
       "has_secondary_use_other                    int64\n",
       "dtype: object"
      ]
     },
     "execution_count": 10,
     "metadata": {},
     "output_type": "execute_result"
    }
   ],
   "source": [
    "X.dtypes"
   ]
  },
  {
   "cell_type": "code",
   "execution_count": 11,
   "metadata": {},
   "outputs": [
    {
     "data": {
      "text/plain": [
       "building_id                               260601\n",
       "geo_level_1_id                                31\n",
       "geo_level_2_id                              1414\n",
       "geo_level_3_id                             11595\n",
       "count_floors_pre_eq                            9\n",
       "age                                           42\n",
       "area_percentage                               84\n",
       "height_percentage                             27\n",
       "land_surface_condition                         3\n",
       "foundation_type                                5\n",
       "roof_type                                      3\n",
       "ground_floor_type                              5\n",
       "other_floor_type                               4\n",
       "position                                       4\n",
       "plan_configuration                            10\n",
       "has_superstructure_adobe_mud                   2\n",
       "has_superstructure_mud_mortar_stone            2\n",
       "has_superstructure_stone_flag                  2\n",
       "has_superstructure_cement_mortar_stone         2\n",
       "has_superstructure_mud_mortar_brick            2\n",
       "has_superstructure_cement_mortar_brick         2\n",
       "has_superstructure_timber                      2\n",
       "has_superstructure_bamboo                      2\n",
       "has_superstructure_rc_non_engineered           2\n",
       "has_superstructure_rc_engineered               2\n",
       "has_superstructure_other                       2\n",
       "legal_ownership_status                         4\n",
       "count_families                                10\n",
       "has_secondary_use                              2\n",
       "has_secondary_use_agriculture                  2\n",
       "has_secondary_use_hotel                        2\n",
       "has_secondary_use_rental                       2\n",
       "has_secondary_use_institution                  2\n",
       "has_secondary_use_school                       2\n",
       "has_secondary_use_industry                     2\n",
       "has_secondary_use_health_post                  2\n",
       "has_secondary_use_gov_office                   2\n",
       "has_secondary_use_use_police                   2\n",
       "has_secondary_use_other                        2\n",
       "dtype: int64"
      ]
     },
     "execution_count": 11,
     "metadata": {},
     "output_type": "execute_result"
    }
   ],
   "source": [
    "X.nunique()"
   ]
  },
  {
   "cell_type": "markdown",
   "metadata": {},
   "source": [
    "From the description, we assume Geo Level 3 is the most precise whereas Geo Level 1 the least precise.\n",
    "Follow that logic, we expect more unique data points in Level 3 than Level 1."
   ]
  },
  {
   "cell_type": "code",
   "execution_count": 12,
   "metadata": {},
   "outputs": [
    {
     "name": "stdout",
     "output_type": "stream",
     "text": [
      "Unique data points in geo_level_1_id: 31\n",
      "Unique data points in geo_level_2_id: 1414\n",
      "Unique data points in geo_level_3_id: 11595\n"
     ]
    }
   ],
   "source": [
    "print(f\"Unique data points in geo_level_1_id: {X.loc[:, 'geo_level_1_id'].nunique()}\")\n",
    "print(f\"Unique data points in geo_level_2_id: {X.loc[:, 'geo_level_2_id'].nunique()}\")\n",
    "print(f\"Unique data points in geo_level_3_id: {X.loc[:, 'geo_level_3_id'].nunique()}\")"
   ]
  },
  {
   "cell_type": "markdown",
   "metadata": {},
   "source": [
    "Data Cleaning"
   ]
  },
  {
   "cell_type": "code",
   "execution_count": 13,
   "metadata": {},
   "outputs": [],
   "source": [
    "#First cleaning (before split - if required)"
   ]
  },
  {
   "cell_type": "code",
   "execution_count": 14,
   "metadata": {},
   "outputs": [],
   "source": [
    "y = y['damage_grade']"
   ]
  },
  {
   "cell_type": "code",
   "execution_count": 15,
   "metadata": {},
   "outputs": [],
   "source": [
    "# Split data in training and validation set\n",
    "X_train, X_valid, y_train, y_valid = train_test_split(X, y, test_size=0.2, random_state=42)"
   ]
  },
  {
   "cell_type": "code",
   "execution_count": 16,
   "metadata": {},
   "outputs": [],
   "source": [
    "#More cleaning (after split)"
   ]
  },
  {
   "cell_type": "markdown",
   "metadata": {},
   "source": [
    "Visualization"
   ]
  },
  {
   "cell_type": "code",
   "execution_count": null,
   "metadata": {},
   "outputs": [],
   "source": []
  },
  {
   "cell_type": "markdown",
   "metadata": {},
   "source": [
    "## Models"
   ]
  },
  {
   "cell_type": "code",
   "execution_count": 17,
   "metadata": {},
   "outputs": [],
   "source": [
    "#FOR NOW (to test tree gen) limit dataset to a few parameters only\n",
    "mask = ['has_superstructure_adobe_mud', 'age','count_floors_pre_eq','area_percentage','height_percentage','has_secondary_use',\n",
    "        'has_superstructure_cement_mortar_brick', 'has_superstructure_timber', 'has_superstructure_bamboo'] \n",
    "\n",
    "# apply mask\n",
    "X = X[mask]\n",
    "\n",
    "X_train = X_train[mask]\n",
    "X_valid = X_valid[mask]\n",
    "X_test_pred = X_test[mask]"
   ]
  },
  {
   "cell_type": "markdown",
   "metadata": {},
   "source": [
    "Simple estimation using regressionm"
   ]
  },
  {
   "cell_type": "code",
   "execution_count": 18,
   "metadata": {},
   "outputs": [
    {
     "name": "stderr",
     "output_type": "stream",
     "text": [
      "c:\\Users\\shopp\\anaconda3\\envs\\11_minicomp\\Lib\\site-packages\\sklearn\\linear_model\\_logistic.py:460: ConvergenceWarning: lbfgs failed to converge (status=1):\n",
      "STOP: TOTAL NO. of ITERATIONS REACHED LIMIT.\n",
      "\n",
      "Increase the number of iterations (max_iter) or scale the data as shown in:\n",
      "    https://scikit-learn.org/stable/modules/preprocessing.html\n",
      "Please also refer to the documentation for alternative solver options:\n",
      "    https://scikit-learn.org/stable/modules/linear_model.html#logistic-regression\n",
      "  n_iter_i = _check_optimize_result(\n"
     ]
    }
   ],
   "source": [
    "lr = log_regression.lr(X_train, y_train)\n",
    "y_valid_pred_lr = lr.make_prediction(X_valid)"
   ]
  },
  {
   "cell_type": "markdown",
   "metadata": {},
   "source": [
    "Generation of Random Forest and optimization"
   ]
  },
  {
   "cell_type": "code",
   "execution_count": 19,
   "metadata": {},
   "outputs": [
    {
     "name": "stderr",
     "output_type": "stream",
     "text": [
      "[I 2023-10-06 16:08:33,795] A new study created in memory with name: no-name-47e20f58-3214-4a43-8ba9-565ba4bdd150\n",
      "[I 2023-10-06 16:08:34,778] Trial 0 finished with value: 0.3020279733696591 and parameters: {'learning_rate': 0.07596524039650988, 'subsample': 0.7665867235123348, 'num_leaves': 60, 'min_data_in_leaf': 14, 'max_depth': 7, 'lambda_l2': 0.44341722296697694}. Best is trial 0 with value: 0.3020279733696591.\n",
      "[I 2023-10-06 16:08:35,522] Trial 1 finished with value: 0.2984017958212621 and parameters: {'learning_rate': 0.1401879756136447, 'subsample': 0.8233708123067554, 'num_leaves': 94, 'min_data_in_leaf': 19, 'max_depth': 7, 'lambda_l2': 0.7959182975786243}. Best is trial 0 with value: 0.3020279733696591.\n",
      "[I 2023-10-06 16:08:36,227] Trial 2 finished with value: 0.2960419024961148 and parameters: {'learning_rate': 0.22217241459460926, 'subsample': 0.8879553611946891, 'num_leaves': 57, 'min_data_in_leaf': 13, 'max_depth': 14, 'lambda_l2': 0.47284033298411465}. Best is trial 0 with value: 0.3020279733696591.\n",
      "[I 2023-10-06 16:08:37,028] Trial 3 finished with value: 0.29884307668694 and parameters: {'learning_rate': 0.14204778802036072, 'subsample': 0.8223650657671115, 'num_leaves': 53, 'min_data_in_leaf': 5, 'max_depth': 15, 'lambda_l2': 0.8343541691383016}. Best is trial 0 with value: 0.3020279733696591.\n",
      "[I 2023-10-06 16:08:38,103] Trial 4 finished with value: 0.2983058651982886 and parameters: {'learning_rate': 0.09245578376301967, 'subsample': 0.8439795669473589, 'num_leaves': 74, 'min_data_in_leaf': 18, 'max_depth': 13, 'lambda_l2': 0.8642354469411628}. Best is trial 0 with value: 0.3020279733696591.\n",
      "[I 2023-10-06 16:08:38,878] Trial 5 finished with value: 0.29116862684906275 and parameters: {'learning_rate': 0.2846222595387217, 'subsample': 0.9066749806075907, 'num_leaves': 100, 'min_data_in_leaf': 14, 'max_depth': 8, 'lambda_l2': 0.3512102555379194}. Best is trial 0 with value: 0.3020279733696591.\n",
      "[I 2023-10-06 16:08:39,745] Trial 6 finished with value: 0.2985360986934249 and parameters: {'learning_rate': 0.13182122485150788, 'subsample': 0.8813805491374226, 'num_leaves': 55, 'min_data_in_leaf': 14, 'max_depth': 13, 'lambda_l2': 0.12267082768271176}. Best is trial 0 with value: 0.3020279733696591.\n",
      "[I 2023-10-06 16:08:40,167] Trial 7 finished with value: 0.3005122695266783 and parameters: {'learning_rate': 0.2432016077986819, 'subsample': 0.9949718545113913, 'num_leaves': 34, 'min_data_in_leaf': 3, 'max_depth': 4, 'lambda_l2': 0.7239786585237272}. Best is trial 0 with value: 0.3020279733696591.\n",
      "[I 2023-10-06 16:08:40,958] Trial 8 finished with value: 0.2988238905623453 and parameters: {'learning_rate': 0.1880855109530801, 'subsample': 0.7433249343549034, 'num_leaves': 49, 'min_data_in_leaf': 4, 'max_depth': 6, 'lambda_l2': 0.10196769994712707}. Best is trial 0 with value: 0.3020279733696591.\n",
      "[I 2023-10-06 16:08:41,476] Trial 9 finished with value: 0.30480996143588956 and parameters: {'learning_rate': 0.10860829318513689, 'subsample': 0.9273946530566318, 'num_leaves': 21, 'min_data_in_leaf': 10, 'max_depth': 5, 'lambda_l2': 0.5727588414298579}. Best is trial 9 with value: 0.30480996143588956.\n",
      "[I 2023-10-06 16:08:42,068] Trial 10 finished with value: 0.34063045605418163 and parameters: {'learning_rate': 0.022082515896337196, 'subsample': 0.9615314835693154, 'num_leaves': 11, 'min_data_in_leaf': 9, 'max_depth': 3, 'lambda_l2': 0.6209232292756375}. Best is trial 10 with value: 0.34063045605418163.\n",
      "[I 2023-10-06 16:08:42,646] Trial 11 finished with value: 0.3350664799217206 and parameters: {'learning_rate': 0.010146845018598388, 'subsample': 0.9722330809311858, 'num_leaves': 12, 'min_data_in_leaf': 8, 'max_depth': 3, 'lambda_l2': 0.6148762557008038}. Best is trial 10 with value: 0.34063045605418163.\n",
      "[I 2023-10-06 16:08:43,045] Trial 12 finished with value: 0.3350664799217206 and parameters: {'learning_rate': 0.011226753052413392, 'subsample': 0.9995634448931885, 'num_leaves': 10, 'min_data_in_leaf': 8, 'max_depth': 3, 'lambda_l2': 0.6530469316259296}. Best is trial 10 with value: 0.34063045605418163.\n",
      "[I 2023-10-06 16:08:43,417] Trial 13 finished with value: 0.33915312446039025 and parameters: {'learning_rate': 0.020074701450119782, 'subsample': 0.9600174488942608, 'num_leaves': 11, 'min_data_in_leaf': 7, 'max_depth': 3, 'lambda_l2': 0.6232331801306279}. Best is trial 10 with value: 0.34063045605418163.\n",
      "[I 2023-10-06 16:08:44,200] Trial 14 finished with value: 0.30651752652481723 and parameters: {'learning_rate': 0.058917851487620784, 'subsample': 0.9499239347814016, 'num_leaves': 26, 'min_data_in_leaf': 7, 'max_depth': 10, 'lambda_l2': 0.9357765064145814}. Best is trial 10 with value: 0.34063045605418163.\n",
      "[I 2023-10-06 16:08:44,843] Trial 15 finished with value: 0.30542391742291974 and parameters: {'learning_rate': 0.04975853994352335, 'subsample': 0.9394870211654199, 'num_leaves': 36, 'min_data_in_leaf': 1, 'max_depth': 10, 'lambda_l2': 0.9867471332714746}. Best is trial 10 with value: 0.34063045605418163.\n",
      "[I 2023-10-06 16:08:45,348] Trial 16 finished with value: 0.30718904088563154 and parameters: {'learning_rate': 0.04273226384171386, 'subsample': 0.9616979265011486, 'num_leaves': 23, 'min_data_in_leaf': 11, 'max_depth': 5, 'lambda_l2': 0.7144787746539926}. Best is trial 10 with value: 0.34063045605418163.\n",
      "[I 2023-10-06 16:08:45,712] Trial 17 finished with value: 0.3080524164923927 and parameters: {'learning_rate': 0.10454679677743822, 'subsample': 0.9158478921711097, 'num_leaves': 40, 'min_data_in_leaf': 11, 'max_depth': 3, 'lambda_l2': 0.558530693684561}. Best is trial 10 with value: 0.34063045605418163.\n",
      "[I 2023-10-06 16:08:46,203] Trial 18 finished with value: 0.30901172272212735 and parameters: {'learning_rate': 0.04635557813521914, 'subsample': 0.9666068337266084, 'num_leaves': 18, 'min_data_in_leaf': 6, 'max_depth': 5, 'lambda_l2': 0.36242210208795955}. Best is trial 10 with value: 0.34063045605418163.\n",
      "[I 2023-10-06 16:08:47,413] Trial 19 finished with value: 0.31597628595000093 and parameters: {'learning_rate': 0.010454081684214125, 'subsample': 0.9332530894930419, 'num_leaves': 73, 'min_data_in_leaf': 9, 'max_depth': 9, 'lambda_l2': 0.7248738749549452}. Best is trial 10 with value: 0.34063045605418163.\n",
      "[I 2023-10-06 16:08:47,833] Trial 20 finished with value: 0.30590357053778705 and parameters: {'learning_rate': 0.07535124096707359, 'subsample': 0.8867371599575246, 'num_leaves': 28, 'min_data_in_leaf': 16, 'max_depth': 4, 'lambda_l2': 0.5220629356483386}. Best is trial 10 with value: 0.34063045605418163.\n",
      "[I 2023-10-06 16:08:48,405] Trial 21 finished with value: 0.34114848141823834 and parameters: {'learning_rate': 0.02515652880888307, 'subsample': 0.9698777034297976, 'num_leaves': 11, 'min_data_in_leaf': 8, 'max_depth': 3, 'lambda_l2': 0.6275680252174713}. Best is trial 21 with value: 0.34114848141823834.\n",
      "[I 2023-10-06 16:08:49,000] Trial 22 finished with value: 0.31467162947756183 and parameters: {'learning_rate': 0.03319844954396531, 'subsample': 0.9779176130784848, 'num_leaves': 10, 'min_data_in_leaf': 6, 'max_depth': 4, 'lambda_l2': 0.648637295347106}. Best is trial 21 with value: 0.34114848141823834.\n",
      "[I 2023-10-06 16:08:49,558] Trial 23 finished with value: 0.3089157920991539 and parameters: {'learning_rate': 0.034792203850232635, 'subsample': 0.9510729424181662, 'num_leaves': 17, 'min_data_in_leaf': 2, 'max_depth': 6, 'lambda_l2': 0.639746313465855}. Best is trial 21 with value: 0.34114848141823834.\n",
      "[I 2023-10-06 16:08:49,940] Trial 24 finished with value: 0.311908827535926 and parameters: {'learning_rate': 0.06715376195840884, 'subsample': 0.9989716904169176, 'num_leaves': 30, 'min_data_in_leaf': 12, 'max_depth': 3, 'lambda_l2': 0.7580622898287076}. Best is trial 21 with value: 0.34114848141823834.\n",
      "[I 2023-10-06 16:08:50,373] Trial 25 finished with value: 0.3177030371635233 and parameters: {'learning_rate': 0.029294061184756928, 'subsample': 0.9747310870736313, 'num_leaves': 44, 'min_data_in_leaf': 8, 'max_depth': 4, 'lambda_l2': 0.5457577588653703}. Best is trial 21 with value: 0.34114848141823834.\n",
      "[I 2023-10-06 16:08:50,830] Trial 26 finished with value: 0.30728497150860495 and parameters: {'learning_rate': 0.08057441091479656, 'subsample': 0.9424689699226582, 'num_leaves': 18, 'min_data_in_leaf': 10, 'max_depth': 6, 'lambda_l2': 0.8593172691105351}. Best is trial 21 with value: 0.34114848141823834.\n",
      "[I 2023-10-06 16:08:51,323] Trial 27 finished with value: 0.30822509161374495 and parameters: {'learning_rate': 0.054781759736535394, 'subsample': 0.9196977480676317, 'num_leaves': 16, 'min_data_in_leaf': 5, 'max_depth': 11, 'lambda_l2': 0.6905908941722654}. Best is trial 21 with value: 0.34114848141823834.\n",
      "[I 2023-10-06 16:08:51,856] Trial 28 finished with value: 0.31156347729322154 and parameters: {'learning_rate': 0.02859222287253811, 'subsample': 0.956979645308324, 'num_leaves': 31, 'min_data_in_leaf': 9, 'max_depth': 5, 'lambda_l2': 0.5973272346310533}. Best is trial 21 with value: 0.34114848141823834.\n",
      "[I 2023-10-06 16:08:52,710] Trial 29 finished with value: 0.2993035436772126 and parameters: {'learning_rate': 0.07331255860458771, 'subsample': 0.9817597854864453, 'num_leaves': 78, 'min_data_in_leaf': 16, 'max_depth': 8, 'lambda_l2': 0.4668112443578879}. Best is trial 21 with value: 0.34114848141823834.\n",
      "[I 2023-10-06 16:08:53,304] Trial 30 finished with value: 0.3059227566623818 and parameters: {'learning_rate': 0.09344376176619572, 'subsample': 0.90399732469172, 'num_leaves': 24, 'min_data_in_leaf': 7, 'max_depth': 7, 'lambda_l2': 0.7739986824990349}. Best is trial 21 with value: 0.34114848141823834.\n",
      "[I 2023-10-06 16:08:53,723] Trial 31 finished with value: 0.34053452543120816 and parameters: {'learning_rate': 0.02168225340661295, 'subsample': 0.9731905202175142, 'num_leaves': 10, 'min_data_in_leaf': 8, 'max_depth': 3, 'lambda_l2': 0.6362191339348692}. Best is trial 21 with value: 0.34114848141823834.\n",
      "[I 2023-10-06 16:08:54,136] Trial 32 finished with value: 0.3406112699295869 and parameters: {'learning_rate': 0.022717846272131782, 'subsample': 0.9603478810055543, 'num_leaves': 14, 'min_data_in_leaf': 9, 'max_depth': 3, 'lambda_l2': 0.6753614734214606}. Best is trial 21 with value: 0.34114848141823834.\n",
      "[I 2023-10-06 16:08:54,562] Trial 33 finished with value: 0.3120047581588995 and parameters: {'learning_rate': 0.044960950736627134, 'subsample': 0.9404765172559507, 'num_leaves': 16, 'min_data_in_leaf': 9, 'max_depth': 4, 'lambda_l2': 0.6770008980090554}. Best is trial 21 with value: 0.34114848141823834.\n",
      "[I 2023-10-06 16:08:54,968] Trial 34 finished with value: 0.3250129506341014 and parameters: {'learning_rate': 0.028547064924208287, 'subsample': 0.9861308666761156, 'num_leaves': 23, 'min_data_in_leaf': 12, 'max_depth': 3, 'lambda_l2': 0.8002269338224487}. Best is trial 21 with value: 0.34114848141823834.\n",
      "[I 2023-10-06 16:08:55,462] Trial 35 finished with value: 0.3095873064599681 and parameters: {'learning_rate': 0.05714307454527536, 'subsample': 0.9815876210556483, 'num_leaves': 66, 'min_data_in_leaf': 12, 'max_depth': 4, 'lambda_l2': 0.5075776775321414}. Best is trial 21 with value: 0.34114848141823834.\n",
      "[I 2023-10-06 16:08:55,949] Trial 36 finished with value: 0.31323267013295986 and parameters: {'learning_rate': 0.024233777473490266, 'subsample': 0.9610428686370273, 'num_leaves': 14, 'min_data_in_leaf': 5, 'max_depth': 5, 'lambda_l2': 0.4273476243052895}. Best is trial 21 with value: 0.34114848141823834.\n",
      "[I 2023-10-06 16:08:56,482] Trial 37 finished with value: 0.3063832236526544 and parameters: {'learning_rate': 0.06297348495558913, 'subsample': 0.8658083075162717, 'num_leaves': 19, 'min_data_in_leaf': 10, 'max_depth': 7, 'lambda_l2': 0.5738402462079278}. Best is trial 21 with value: 0.34114848141823834.\n",
      "[I 2023-10-06 16:08:56,848] Trial 38 finished with value: 0.32104142284299997 and parameters: {'learning_rate': 0.041070569064513535, 'subsample': 0.9044671704703608, 'num_leaves': 87, 'min_data_in_leaf': 13, 'max_depth': 3, 'lambda_l2': 0.8103026306610625}. Best is trial 21 with value: 0.34114848141823834.\n",
      "[I 2023-10-06 16:08:57,540] Trial 39 finished with value: 0.30402333032750717 and parameters: {'learning_rate': 0.08159512531699607, 'subsample': 0.83183193427183, 'num_leaves': 38, 'min_data_in_leaf': 20, 'max_depth': 6, 'lambda_l2': 0.6895521622413089}. Best is trial 21 with value: 0.34114848141823834.\n",
      "[I 2023-10-06 16:08:58,229] Trial 40 finished with value: 0.3018169259991174 and parameters: {'learning_rate': 0.11803478026182473, 'subsample': 0.9273976626065338, 'num_leaves': 47, 'min_data_in_leaf': 4, 'max_depth': 12, 'lambda_l2': 0.7738194243139089}. Best is trial 21 with value: 0.34114848141823834.\n",
      "[I 2023-10-06 16:08:58,605] Trial 41 finished with value: 0.338731029719307 and parameters: {'learning_rate': 0.019466714346383363, 'subsample': 0.9581942385159067, 'num_leaves': 10, 'min_data_in_leaf': 7, 'max_depth': 3, 'lambda_l2': 0.6167470266716727}. Best is trial 21 with value: 0.34114848141823834.\n",
      "[I 2023-10-06 16:08:59,052] Trial 42 finished with value: 0.3381746321060609 and parameters: {'learning_rate': 0.01914554712063157, 'subsample': 0.9868450951225399, 'num_leaves': 14, 'min_data_in_leaf': 6, 'max_depth': 4, 'lambda_l2': 0.6083541375376054}. Best is trial 21 with value: 0.34114848141823834.\n",
      "[I 2023-10-06 16:08:59,436] Trial 43 finished with value: 0.3350664799217206 and parameters: {'learning_rate': 0.010364622446466146, 'subsample': 0.9687702288721493, 'num_leaves': 21, 'min_data_in_leaf': 8, 'max_depth': 3, 'lambda_l2': 0.6579350181273198}. Best is trial 21 with value: 0.34114848141823834.\n",
      "[I 2023-10-06 16:08:59,832] Trial 44 finished with value: 0.31284894764106597 and parameters: {'learning_rate': 0.0368125561219297, 'subsample': 0.9506708619158444, 'num_leaves': 10, 'min_data_in_leaf': 9, 'max_depth': 4, 'lambda_l2': 0.7357545089759997}. Best is trial 21 with value: 0.34114848141823834.\n",
      "[I 2023-10-06 16:09:00,269] Trial 45 finished with value: 0.31353964812647495 and parameters: {'learning_rate': 0.05987431206476308, 'subsample': 0.9994298187253345, 'num_leaves': 14, 'min_data_in_leaf': 7, 'max_depth': 3, 'lambda_l2': 0.526957126422648}. Best is trial 21 with value: 0.34114848141823834.\n",
      "[I 2023-10-06 16:09:00,751] Trial 46 finished with value: 0.3015483202547917 and parameters: {'learning_rate': 0.15460158668390261, 'subsample': 0.9350432766869218, 'num_leaves': 26, 'min_data_in_leaf': 4, 'max_depth': 5, 'lambda_l2': 0.6113218722434351}. Best is trial 21 with value: 0.34114848141823834.\n",
      "[I 2023-10-06 16:09:01,491] Trial 47 finished with value: 0.30511693942940465 and parameters: {'learning_rate': 0.04948418878751198, 'subsample': 0.9696718499818975, 'num_leaves': 34, 'min_data_in_leaf': 10, 'max_depth': 14, 'lambda_l2': 0.6936218778474622}. Best is trial 21 with value: 0.34114848141823834.\n",
      "[I 2023-10-06 16:09:01,869] Trial 48 finished with value: 0.34063045605418163 and parameters: {'learning_rate': 0.021865282298424778, 'subsample': 0.9492085306468976, 'num_leaves': 21, 'min_data_in_leaf': 8, 'max_depth': 3, 'lambda_l2': 0.5690937363675989}. Best is trial 21 with value: 0.34114848141823834.\n",
      "[I 2023-10-06 16:09:02,354] Trial 49 finished with value: 0.3079948581186086 and parameters: {'learning_rate': 0.03866942715277627, 'subsample': 0.9181734951231293, 'num_leaves': 20, 'min_data_in_leaf': 11, 'max_depth': 5, 'lambda_l2': 0.4786081054225829}. Best is trial 21 with value: 0.34114848141823834.\n",
      "[I 2023-10-06 16:09:02,814] Trial 50 finished with value: 0.32326701329598434 and parameters: {'learning_rate': 0.024677439600700176, 'subsample': 0.9471763650166631, 'num_leaves': 31, 'min_data_in_leaf': 8, 'max_depth': 4, 'lambda_l2': 0.5827100498373405}. Best is trial 21 with value: 0.34114848141823834.\n",
      "[I 2023-10-06 16:09:03,200] Trial 51 finished with value: 0.3386926574701176 and parameters: {'learning_rate': 0.018951674827386477, 'subsample': 0.9609008862931563, 'num_leaves': 12, 'min_data_in_leaf': 9, 'max_depth': 3, 'lambda_l2': 0.6493350711858915}. Best is trial 21 with value: 0.34114848141823834.\n",
      "[I 2023-10-06 16:09:03,688] Trial 52 finished with value: 0.33573799428253487 and parameters: {'learning_rate': 0.01227236506214377, 'subsample': 0.9891416144860525, 'num_leaves': 14, 'min_data_in_leaf': 7, 'max_depth': 3, 'lambda_l2': 0.5623733547134595}. Best is trial 21 with value: 0.34114848141823834.\n",
      "[I 2023-10-06 16:09:04,106] Trial 53 finished with value: 0.3171082673010879 and parameters: {'learning_rate': 0.04586553455353869, 'subsample': 0.9728833449991294, 'num_leaves': 22, 'min_data_in_leaf': 6, 'max_depth': 3, 'lambda_l2': 0.7039684768424774}. Best is trial 21 with value: 0.34114848141823834.\n",
      "[I 2023-10-06 16:09:04,646] Trial 54 finished with value: 0.3166861725600046 and parameters: {'learning_rate': 0.03261204793391932, 'subsample': 0.9470724498440225, 'num_leaves': 59, 'min_data_in_leaf': 8, 'max_depth': 4, 'lambda_l2': 0.62861448496475}. Best is trial 21 with value: 0.34114848141823834.\n",
      "[I 2023-10-06 16:09:05,130] Trial 55 finished with value: 0.31066172943727094 and parameters: {'learning_rate': 0.05286134029997042, 'subsample': 0.9317698352031892, 'num_leaves': 10, 'min_data_in_leaf': 5, 'max_depth': 4, 'lambda_l2': 0.5406202623377702}. Best is trial 21 with value: 0.34114848141823834.\n",
      "[I 2023-10-06 16:09:05,535] Trial 56 finished with value: 0.34045778093282936 and parameters: {'learning_rate': 0.02174601363354108, 'subsample': 0.9909473551790431, 'num_leaves': 27, 'min_data_in_leaf': 11, 'max_depth': 3, 'lambda_l2': 0.7365615216772969}. Best is trial 21 with value: 0.34114848141823834.\n",
      "[I 2023-10-06 16:09:06,116] Trial 57 finished with value: 0.30590357053778705 and parameters: {'learning_rate': 0.06707842552768031, 'subsample': 0.9866798657156266, 'num_leaves': 26, 'min_data_in_leaf': 11, 'max_depth': 5, 'lambda_l2': 0.7407017057899751}. Best is trial 21 with value: 0.34114848141823834.\n",
      "[I 2023-10-06 16:09:06,651] Trial 58 finished with value: 0.30770706624968824 and parameters: {'learning_rate': 0.03625739925656798, 'subsample': 0.9754584371722868, 'num_leaves': 18, 'min_data_in_leaf': 13, 'max_depth': 6, 'lambda_l2': 0.7241547501448011}. Best is trial 21 with value: 0.34114848141823834.\n",
      "[I 2023-10-06 16:09:07,553] Trial 59 finished with value: 0.3123117361524146 and parameters: {'learning_rate': 0.02104803107864818, 'subsample': 0.993891905437222, 'num_leaves': 27, 'min_data_in_leaf': 10, 'max_depth': 8, 'lambda_l2': 0.6579579739839989}. Best is trial 21 with value: 0.34114848141823834.\n",
      "[I 2023-10-06 16:09:07,976] Trial 60 finished with value: 0.31685884768135686 and parameters: {'learning_rate': 0.049776571427406005, 'subsample': 0.9659497547452391, 'num_leaves': 15, 'min_data_in_leaf': 9, 'max_depth': 3, 'lambda_l2': 0.853897366736413}. Best is trial 21 with value: 0.34114848141823834.\n",
      "[I 2023-10-06 16:09:08,422] Trial 61 finished with value: 0.3389228909652539 and parameters: {'learning_rate': 0.01906417477564161, 'subsample': 0.9788969555158475, 'num_leaves': 13, 'min_data_in_leaf': 8, 'max_depth': 4, 'lambda_l2': 0.5864275672763185}. Best is trial 21 with value: 0.34114848141823834.\n",
      "[I 2023-10-06 16:09:08,818] Trial 62 finished with value: 0.3247635310143704 and parameters: {'learning_rate': 0.02959705771912058, 'subsample': 0.9556397136608958, 'num_leaves': 19, 'min_data_in_leaf': 11, 'max_depth': 3, 'lambda_l2': 0.632224914603855}. Best is trial 21 with value: 0.34114848141823834.\n",
      "[I 2023-10-06 16:09:09,207] Trial 63 finished with value: 0.320350722357591 and parameters: {'learning_rate': 0.03905179192067931, 'subsample': 0.9659430143926343, 'num_leaves': 24, 'min_data_in_leaf': 6, 'max_depth': 3, 'lambda_l2': 0.6839254108441286}. Best is trial 21 with value: 0.34114848141823834.\n",
      "[I 2023-10-06 16:09:09,744] Trial 64 finished with value: 0.33828974885362906 and parameters: {'learning_rate': 0.016701104736285166, 'subsample': 0.9436622542546979, 'num_leaves': 17, 'min_data_in_leaf': 9, 'max_depth': 4, 'lambda_l2': 0.7616803281637345}. Best is trial 21 with value: 0.34114848141823834.\n",
      "[I 2023-10-06 16:09:10,200] Trial 65 finished with value: 0.33495136317415247 and parameters: {'learning_rate': 0.010807100997022454, 'subsample': 0.9935697139175981, 'num_leaves': 12, 'min_data_in_leaf': 15, 'max_depth': 4, 'lambda_l2': 0.5736240208656339}. Best is trial 21 with value: 0.34114848141823834.\n",
      "[I 2023-10-06 16:09:10,576] Trial 66 finished with value: 0.32462922814220757 and parameters: {'learning_rate': 0.029370135516989675, 'subsample': 0.9538840461235941, 'num_leaves': 21, 'min_data_in_leaf': 8, 'max_depth': 3, 'lambda_l2': 0.6597865792677968}. Best is trial 21 with value: 0.34114848141823834.\n",
      "[I 2023-10-06 16:09:11,053] Trial 67 finished with value: 0.30787974137104046 and parameters: {'learning_rate': 0.04649925102163526, 'subsample': 0.9801010788961926, 'num_leaves': 16, 'min_data_in_leaf': 10, 'max_depth': 5, 'lambda_l2': 0.5388755987265599}. Best is trial 21 with value: 0.34114848141823834.\n",
      "[I 2023-10-06 16:09:11,430] Trial 68 finished with value: 0.33959440532606816 and parameters: {'learning_rate': 0.025906455055090736, 'subsample': 0.9418268911827069, 'num_leaves': 29, 'min_data_in_leaf': 7, 'max_depth': 3, 'lambda_l2': 0.7137431059473208}. Best is trial 21 with value: 0.34114848141823834.\n",
      "[I 2023-10-06 16:09:11,883] Trial 69 finished with value: 0.324974578384912 and parameters: {'learning_rate': 0.0242453899870927, 'subsample': 0.9348655929579421, 'num_leaves': 54, 'min_data_in_leaf': 7, 'max_depth': 4, 'lambda_l2': 0.8264631942323094}. Best is trial 21 with value: 0.34114848141823834.\n",
      "[I 2023-10-06 16:09:12,322] Trial 70 finished with value: 0.3140001151167476 and parameters: {'learning_rate': 0.058558564371662084, 'subsample': 0.9426003346085038, 'num_leaves': 43, 'min_data_in_leaf': 12, 'max_depth': 3, 'lambda_l2': 0.712513651501604}. Best is trial 21 with value: 0.34114848141823834.\n",
      "[I 2023-10-06 16:09:12,687] Trial 71 finished with value: 0.32464841426680224 and parameters: {'learning_rate': 0.0347842887000296, 'subsample': 0.9633218217150938, 'num_leaves': 29, 'min_data_in_leaf': 9, 'max_depth': 3, 'lambda_l2': 0.6079031115509799}. Best is trial 21 with value: 0.34114848141823834.\n",
      "[I 2023-10-06 16:09:13,453] Trial 72 finished with value: 0.33345484545576637 and parameters: {'learning_rate': 0.010005600790384081, 'subsample': 0.9727504951448989, 'num_leaves': 33, 'min_data_in_leaf': 7, 'max_depth': 9, 'lambda_l2': 0.6829232931789759}. Best is trial 21 with value: 0.34114848141823834.\n",
      "[I 2023-10-06 16:09:13,828] Trial 73 finished with value: 0.33972870819823103 and parameters: {'learning_rate': 0.025399716586507918, 'subsample': 0.9550901672172589, 'num_leaves': 12, 'min_data_in_leaf': 8, 'max_depth': 3, 'lambda_l2': 0.782375203672403}. Best is trial 21 with value: 0.34114848141823834.\n",
      "[I 2023-10-06 16:09:14,292] Trial 74 finished with value: 0.31284894764106597 and parameters: {'learning_rate': 0.04186809641117859, 'subsample': 0.923981111050717, 'num_leaves': 24, 'min_data_in_leaf': 8, 'max_depth': 4, 'lambda_l2': 0.7844055619793697}. Best is trial 21 with value: 0.34114848141823834.\n",
      "[I 2023-10-06 16:09:14,660] Trial 75 finished with value: 0.33972870819823103 and parameters: {'learning_rate': 0.02629253614836975, 'subsample': 0.9532849569196474, 'num_leaves': 12, 'min_data_in_leaf': 10, 'max_depth': 3, 'lambda_l2': 0.7438265096066391}. Best is trial 21 with value: 0.34114848141823834.\n",
      "[I 2023-10-06 16:09:15,123] Trial 76 finished with value: 0.30977916770591507 and parameters: {'learning_rate': 0.052595835557755356, 'subsample': 0.9560031370648173, 'num_leaves': 13, 'min_data_in_leaf': 10, 'max_depth': 4, 'lambda_l2': 0.757031554037974}. Best is trial 21 with value: 0.34114848141823834.\n",
      "[I 2023-10-06 16:09:15,633] Trial 77 finished with value: 0.31405767349053165 and parameters: {'learning_rate': 0.03243830362962119, 'subsample': 0.984773532368437, 'num_leaves': 10, 'min_data_in_leaf': 13, 'max_depth': 5, 'lambda_l2': 0.8069457316897084}. Best is trial 21 with value: 0.34114848141823834.\n",
      "[I 2023-10-06 16:09:16,082] Trial 78 finished with value: 0.3386926574701176 and parameters: {'learning_rate': 0.018652875146225018, 'subsample': 0.9739735952080407, 'num_leaves': 16, 'min_data_in_leaf': 11, 'max_depth': 3, 'lambda_l2': 0.7949030877937431}. Best is trial 21 with value: 0.34114848141823834.\n",
      "[I 2023-10-06 16:09:16,541] Trial 79 finished with value: 0.3117553385391685 and parameters: {'learning_rate': 0.06844670024604464, 'subsample': 0.9919346674358273, 'num_leaves': 65, 'min_data_in_leaf': 9, 'max_depth': 3, 'lambda_l2': 0.8880009720062974}. Best is trial 21 with value: 0.34114848141823834.\n",
      "[I 2023-10-06 16:09:17,179] Trial 80 finished with value: 0.3130408088870129 and parameters: {'learning_rate': 0.04088379590817211, 'subsample': 0.9490341045059909, 'num_leaves': 100, 'min_data_in_leaf': 12, 'max_depth': 4, 'lambda_l2': 0.755301244547216}. Best is trial 21 with value: 0.34114848141823834.\n",
      "[I 2023-10-06 16:09:17,688] Trial 81 finished with value: 0.33972870819823103 and parameters: {'learning_rate': 0.026199974716917557, 'subsample': 0.9642834334809929, 'num_leaves': 19, 'min_data_in_leaf': 9, 'max_depth': 3, 'lambda_l2': 0.727975060616801}. Best is trial 21 with value: 0.34114848141823834.\n",
      "[I 2023-10-06 16:09:18,149] Trial 82 finished with value: 0.33969033594904163 and parameters: {'learning_rate': 0.026514094651880843, 'subsample': 0.9666406655390687, 'num_leaves': 20, 'min_data_in_leaf': 10, 'max_depth': 3, 'lambda_l2': 0.6694815218885358}. Best is trial 21 with value: 0.34114848141823834.\n",
      "[I 2023-10-06 16:09:18,587] Trial 83 finished with value: 0.33652462539091726 and parameters: {'learning_rate': 0.015625838719436885, 'subsample': 0.9587747172535229, 'num_leaves': 18, 'min_data_in_leaf': 8, 'max_depth': 3, 'lambda_l2': 0.730791464784458}. Best is trial 21 with value: 0.34114848141823834.\n",
      "[I 2023-10-06 16:09:19,101] Trial 84 finished with value: 0.3270466798411389 and parameters: {'learning_rate': 0.023431679425490775, 'subsample': 0.9997360422514163, 'num_leaves': 12, 'min_data_in_leaf': 9, 'max_depth': 4, 'lambda_l2': 0.6417739280720421}. Best is trial 21 with value: 0.34114848141823834.\n",
      "[I 2023-10-06 16:09:19,605] Trial 85 finished with value: 0.32464841426680224 and parameters: {'learning_rate': 0.03462953076066162, 'subsample': 0.9804590664072526, 'num_leaves': 15, 'min_data_in_leaf': 10, 'max_depth': 3, 'lambda_l2': 0.7053727479538642}. Best is trial 21 with value: 0.34114848141823834.\n",
      "[I 2023-10-06 16:09:20,051] Trial 86 finished with value: 0.31906525200974656 and parameters: {'learning_rate': 0.04659962390569987, 'subsample': 0.9538688583903446, 'num_leaves': 22, 'min_data_in_leaf': 8, 'max_depth': 3, 'lambda_l2': 0.600275468105143}. Best is trial 21 with value: 0.34114848141823834.\n",
      "[I 2023-10-06 16:09:20,690] Trial 87 finished with value: 0.33804032923389804 and parameters: {'learning_rate': 0.01578347145391829, 'subsample': 0.9697955996139912, 'num_leaves': 17, 'min_data_in_leaf': 11, 'max_depth': 4, 'lambda_l2': 0.6736083551429323}. Best is trial 21 with value: 0.34114848141823834.\n",
      "[I 2023-10-06 16:09:21,140] Trial 88 finished with value: 0.3153047715891867 and parameters: {'learning_rate': 0.05454653962819658, 'subsample': 0.9361752229170598, 'num_leaves': 12, 'min_data_in_leaf': 9, 'max_depth': 3, 'lambda_l2': 0.6314531613767741}. Best is trial 21 with value: 0.34114848141823834.\n",
      "[I 2023-10-06 16:09:21,716] Trial 89 finished with value: 0.309971028951862 and parameters: {'learning_rate': 0.042616110759665884, 'subsample': 0.9260629172799485, 'num_leaves': 14, 'min_data_in_leaf': 6, 'max_depth': 10, 'lambda_l2': 0.7351063366084389}. Best is trial 21 with value: 0.34114848141823834.\n",
      "[I 2023-10-06 16:09:22,233] Trial 90 finished with value: 0.31781815391109147 and parameters: {'learning_rate': 0.02887095975731291, 'subsample': 0.9140151916721211, 'num_leaves': 10, 'min_data_in_leaf': 10, 'max_depth': 4, 'lambda_l2': 0.7872195166388669}. Best is trial 21 with value: 0.34114848141823834.\n",
      "[I 2023-10-06 16:09:22,674] Trial 91 finished with value: 0.3398438249457992 and parameters: {'learning_rate': 0.027096792997601038, 'subsample': 0.9624085339765912, 'num_leaves': 21, 'min_data_in_leaf': 10, 'max_depth': 3, 'lambda_l2': 0.6650674617457201}. Best is trial 21 with value: 0.34114848141823834.\n",
      "[I 2023-10-06 16:09:23,122] Trial 92 finished with value: 0.3406880144279657 and parameters: {'learning_rate': 0.022920003413829413, 'subsample': 0.9622949438661375, 'num_leaves': 20, 'min_data_in_leaf': 9, 'max_depth': 3, 'lambda_l2': 0.698184028523009}. Best is trial 21 with value: 0.34114848141823834.\n",
      "[I 2023-10-06 16:09:23,557] Trial 93 finished with value: 0.3368507895090271 and parameters: {'learning_rate': 0.015890593672178637, 'subsample': 0.9484883296994916, 'num_leaves': 22, 'min_data_in_leaf': 8, 'max_depth': 3, 'lambda_l2': 0.69872629889284}. Best is trial 21 with value: 0.34114848141823834.\n",
      "[I 2023-10-06 16:09:24,240] Trial 94 finished with value: 0.3079948581186086 and parameters: {'learning_rate': 0.038129495353028585, 'subsample': 0.977057855209608, 'num_leaves': 25, 'min_data_in_leaf': 18, 'max_depth': 15, 'lambda_l2': 0.6454326757634098}. Best is trial 21 with value: 0.34114848141823834.\n",
      "[I 2023-10-06 16:09:24,674] Trial 95 finished with value: 0.34055371155580283 and parameters: {'learning_rate': 0.022483289260386605, 'subsample': 0.9852221392753223, 'num_leaves': 15, 'min_data_in_leaf': 11, 'max_depth': 3, 'lambda_l2': 0.6208696780368507}. Best is trial 21 with value: 0.34114848141823834.\n",
      "[I 2023-10-06 16:09:25,198] Trial 96 finished with value: 0.3273920300838434 and parameters: {'learning_rate': 0.020464160428902405, 'subsample': 0.9887219529314377, 'num_leaves': 15, 'min_data_in_leaf': 11, 'max_depth': 4, 'lambda_l2': 0.5583307995086967}. Best is trial 21 with value: 0.34114848141823834.\n",
      "[I 2023-10-06 16:09:25,652] Trial 97 finished with value: 0.3243606223978818 and parameters: {'learning_rate': 0.03238009885129777, 'subsample': 0.9835718992697968, 'num_leaves': 85, 'min_data_in_leaf': 12, 'max_depth': 3, 'lambda_l2': 0.5916423073598948}. Best is trial 21 with value: 0.34114848141823834.\n",
      "[I 2023-10-06 16:09:26,181] Trial 98 finished with value: 0.3355077607873986 and parameters: {'learning_rate': 0.01033252968364431, 'subsample': 0.9933366806199548, 'num_leaves': 20, 'min_data_in_leaf': 7, 'max_depth': 4, 'lambda_l2': 0.6219897190115332}. Best is trial 21 with value: 0.34114848141823834.\n",
      "[I 2023-10-06 16:09:26,637] Trial 99 finished with value: 0.34053452543120816 and parameters: {'learning_rate': 0.021346640371229034, 'subsample': 0.9727939365266796, 'num_leaves': 51, 'min_data_in_leaf': 8, 'max_depth': 3, 'lambda_l2': 0.6716167898468705}. Best is trial 21 with value: 0.34114848141823834.\n"
     ]
    },
    {
     "name": "stdout",
     "output_type": "stream",
     "text": [
      "Number of finished trials: 100\n",
      "Best trial:\n",
      "--------------------------------\n",
      "Best F1 Score: 0.34114848141823834\n",
      "--------------------------------\n",
      "[LightGBM] [Warning] min_data_in_leaf is set=8, min_child_samples=20 will be ignored. Current value: min_data_in_leaf=8\n",
      "[LightGBM] [Warning] lambda_l2 is set=0.6275680252174713, reg_lambda=0.0 will be ignored. Current value: lambda_l2=0.6275680252174713\n",
      "[LightGBM] [Warning] min_data_in_leaf is set=8, min_child_samples=20 will be ignored. Current value: min_data_in_leaf=8\n",
      "[LightGBM] [Warning] lambda_l2 is set=0.6275680252174713, reg_lambda=0.0 will be ignored. Current value: lambda_l2=0.6275680252174713\n",
      "[LightGBM] [Info] Auto-choosing row-wise multi-threading, the overhead of testing was 0.003641 seconds.\n",
      "You can set `force_row_wise=true` to remove the overhead.\n",
      "And if memory is not enough, you can set `force_col_wise=true`.\n",
      "[LightGBM] [Info] Total Bins 152\n",
      "[LightGBM] [Info] Number of data points in the train set: 260601, number of used features: 9\n",
      "[LightGBM] [Info] Start training from score -2.339167\n",
      "[LightGBM] [Info] Start training from score -0.564030\n",
      "[LightGBM] [Info] Start training from score -1.094580\n",
      "[LightGBM] [Warning] No further splits with positive gain, best gain: -inf\n",
      "[LightGBM] [Warning] No further splits with positive gain, best gain: -inf\n",
      "[LightGBM] [Warning] No further splits with positive gain, best gain: -inf\n",
      "[LightGBM] [Warning] No further splits with positive gain, best gain: -inf\n"
     ]
    }
   ],
   "source": [
    "import lgb_optimized_CBN\n",
    "# Initiate and optimize model\n",
    "lgb = lgb_optimized_CBN.LGBM(X_train, X_valid, y_train, y_valid)"
   ]
  },
  {
   "cell_type": "code",
   "execution_count": 20,
   "metadata": {},
   "outputs": [
    {
     "name": "stdout",
     "output_type": "stream",
     "text": [
      "[LightGBM] [Warning] min_data_in_leaf is set=8, min_child_samples=20 will be ignored. Current value: min_data_in_leaf=8\n",
      "[LightGBM] [Warning] lambda_l2 is set=0.6275680252174713, reg_lambda=0.0 will be ignored. Current value: lambda_l2=0.6275680252174713\n"
     ]
    }
   ],
   "source": [
    "y_pred_lgb = lgb.make_prediction(X_valid)"
   ]
  },
  {
   "cell_type": "markdown",
   "metadata": {},
   "source": [
    "#### Evaluation"
   ]
  },
  {
   "cell_type": "markdown",
   "metadata": {},
   "source": [
    "f1 Score using Logistic Regression"
   ]
  },
  {
   "cell_type": "code",
   "execution_count": 21,
   "metadata": {},
   "outputs": [
    {
     "data": {
      "text/plain": [
       "0.2817870207071116"
      ]
     },
     "execution_count": 21,
     "metadata": {},
     "output_type": "execute_result"
    }
   ],
   "source": [
    "f1_lr = f1_score(y_valid, y_valid_pred_lr, average='macro')\n",
    "f1_lr"
   ]
  },
  {
   "cell_type": "markdown",
   "metadata": {},
   "source": [
    "f1 Score for Random Forest"
   ]
  },
  {
   "cell_type": "code",
   "execution_count": 22,
   "metadata": {},
   "outputs": [
    {
     "data": {
      "text/plain": [
       "0.3040032657323409"
      ]
     },
     "execution_count": 22,
     "metadata": {},
     "output_type": "execute_result"
    }
   ],
   "source": [
    "f1_lgb = f1_score(y_valid, y_pred_lgb, average='macro')\n",
    "f1_lgb"
   ]
  },
  {
   "cell_type": "markdown",
   "metadata": {},
   "source": [
    "### Create prediction on testset"
   ]
  },
  {
   "cell_type": "code",
   "execution_count": 23,
   "metadata": {},
   "outputs": [
    {
     "name": "stdout",
     "output_type": "stream",
     "text": [
      "[LightGBM] [Warning] min_data_in_leaf is set=8, min_child_samples=20 will be ignored. Current value: min_data_in_leaf=8\n",
      "[LightGBM] [Warning] lambda_l2 is set=0.6275680252174713, reg_lambda=0.0 will be ignored. Current value: lambda_l2=0.6275680252174713\n"
     ]
    }
   ],
   "source": [
    "y_pred_lgb = lgb.make_prediction(X_test_pred)"
   ]
  },
  {
   "cell_type": "markdown",
   "metadata": {},
   "source": [
    "Export"
   ]
  },
  {
   "cell_type": "code",
   "execution_count": 24,
   "metadata": {},
   "outputs": [],
   "source": [
    "# Export prediction to creat csv by DrivenData.org datastandards\n",
    "helper_functions.write_output(X_test, y_pred_lgb)"
   ]
  },
  {
   "cell_type": "code",
   "execution_count": 25,
   "metadata": {},
   "outputs": [
    {
     "data": {
      "text/html": [
       "<details>\n",
       "<summary>Click to view session information</summary>\n",
       "<pre>\n",
       "-----\n",
       "helper_functions    NA\n",
       "lgb_optimized       NA\n",
       "lgb_optimized_CBN   NA\n",
       "log_regression      NA\n",
       "pandas              2.1.1\n",
       "session_info        1.0.0\n",
       "sklearn             1.3.1\n",
       "-----\n",
       "</pre>\n",
       "<details>\n",
       "<summary>Click to view modules imported as dependencies</summary>\n",
       "<pre>\n",
       "PIL                 10.0.1\n",
       "asttokens           NA\n",
       "backcall            0.2.0\n",
       "colorama            0.4.6\n",
       "colorlog            NA\n",
       "comm                0.1.4\n",
       "cycler              0.12.0\n",
       "cython_runtime      NA\n",
       "dateutil            2.8.2\n",
       "debugpy             1.8.0\n",
       "decorator           5.1.1\n",
       "executing           1.2.0\n",
       "greenlet            3.0.0\n",
       "ipykernel           6.25.2\n",
       "ipywidgets          8.1.1\n",
       "jedi                0.19.1\n",
       "joblib              1.3.2\n",
       "kiwisolver          1.4.5\n",
       "lightgbm            4.1.0\n",
       "matplotlib          3.8.0\n",
       "nt                  NA\n",
       "numpy               1.26.0\n",
       "optuna              3.3.0\n",
       "packaging           23.2\n",
       "parso               0.8.3\n",
       "pickleshare         0.7.5\n",
       "platformdirs        3.11.0\n",
       "prompt_toolkit      3.0.39\n",
       "psutil              5.9.5\n",
       "pure_eval           0.2.2\n",
       "pydev_ipython       NA\n",
       "pydevconsole        NA\n",
       "pydevd              2.9.5\n",
       "pydevd_file_utils   NA\n",
       "pydevd_plugins      NA\n",
       "pydevd_tracing      NA\n",
       "pygments            2.16.1\n",
       "pyparsing           3.1.1\n",
       "pytz                2023.3.post1\n",
       "pywin32_bootstrap   NA\n",
       "pywin32_system32    NA\n",
       "scipy               1.11.3\n",
       "six                 1.16.0\n",
       "sqlalchemy          2.0.21\n",
       "stack_data          0.6.2\n",
       "threadpoolctl       3.2.0\n",
       "tornado             6.3.3\n",
       "tqdm                4.66.1\n",
       "traitlets           5.11.2\n",
       "typing_extensions   NA\n",
       "wcwidth             0.2.8\n",
       "zmq                 25.1.1\n",
       "zoneinfo            NA\n",
       "</pre>\n",
       "</details> <!-- seems like this ends pre, so might as well be explicit -->\n",
       "<pre>\n",
       "-----\n",
       "IPython             8.16.1\n",
       "jupyter_client      8.3.1\n",
       "jupyter_core        5.3.2\n",
       "-----\n",
       "Python 3.12.0 | packaged by Anaconda, Inc. | (main, Oct  2 2023, 17:20:38) [MSC v.1916 64 bit (AMD64)]\n",
       "Windows-11-10.0.22621-SP0\n",
       "-----\n",
       "Session information updated at 2023-10-06 16:09\n",
       "</pre>\n",
       "</details>"
      ],
      "text/plain": [
       "<IPython.core.display.HTML object>"
      ]
     },
     "execution_count": 25,
     "metadata": {},
     "output_type": "execute_result"
    }
   ],
   "source": [
    "import session_info\n",
    "session_info.show()"
   ]
  },
  {
   "cell_type": "code",
   "execution_count": null,
   "metadata": {},
   "outputs": [],
   "source": []
  },
  {
   "cell_type": "markdown",
   "metadata": {},
   "source": [
    "Export"
   ]
  },
  {
   "cell_type": "code",
   "execution_count": 27,
   "metadata": {},
   "outputs": [],
   "source": [
    "# Export prediction to creat csv by DrivenData.org datastandards\n",
    "helper_functions.write_output(X_test, y_pred_lgb)"
   ]
  }
 ],
 "metadata": {
  "kernelspec": {
   "display_name": "11_minicomp",
   "language": "python",
   "name": "python3"
  },
  "language_info": {
   "codemirror_mode": {
    "name": "ipython",
    "version": 3
   },
   "file_extension": ".py",
   "mimetype": "text/x-python",
   "name": "python",
   "nbconvert_exporter": "python",
   "pygments_lexer": "ipython3",
   "version": "3.11.6"
  }
 },
 "nbformat": 4,
 "nbformat_minor": 2
}
