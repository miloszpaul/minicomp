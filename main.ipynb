{
 "cells": [
  {
   "cell_type": "markdown",
   "metadata": {},
   "source": [
    "# Mini Competition: Richter's Predictor"
   ]
  },
  {
   "cell_type": "markdown",
   "metadata": {},
   "source": [
    "Import modules and data"
   ]
  },
  {
   "cell_type": "code",
   "execution_count": 1,
   "metadata": {},
   "outputs": [],
   "source": [
    "# Modules\n",
    "import pandas as pd\n",
    "from sklearn.model_selection import train_test_split\n",
    "from sklearn.metrics import f1_score"
   ]
  },
  {
   "cell_type": "code",
   "execution_count": 2,
   "metadata": {},
   "outputs": [
    {
     "name": "stderr",
     "output_type": "stream",
     "text": [
      "C:\\Users\\David\\AppData\\Local\\Packages\\PythonSoftwareFoundation.Python.3.11_qbz5n2kfra8p0\\LocalCache\\local-packages\\Python311\\site-packages\\tqdm\\auto.py:21: TqdmWarning: IProgress not found. Please update jupyter and ipywidgets. See https://ipywidgets.readthedocs.io/en/stable/user_install.html\n",
      "  from .autonotebook import tqdm as notebook_tqdm\n"
     ]
    }
   ],
   "source": [
    "# Import scripts\n",
    "import helper_functions # various helper functions\n",
    "import log_regression # Simple regression model\n",
    "import lgb_optimized # Random forest"
   ]
  },
  {
   "cell_type": "code",
   "execution_count": 3,
   "metadata": {},
   "outputs": [],
   "source": [
    "# Load data\n",
    "X, y, X_test = helper_functions.imports()"
   ]
  },
  {
   "cell_type": "markdown",
   "metadata": {},
   "source": [
    "### Data Analysis"
   ]
  },
  {
   "cell_type": "markdown",
   "metadata": {},
   "source": [
    "Start with a basic analysis of the data to get a general feeling of what we are dealing with."
   ]
  },
  {
   "cell_type": "code",
   "execution_count": 4,
   "metadata": {},
   "outputs": [
    {
     "name": "stdout",
     "output_type": "stream",
     "text": [
      "Proportions of the DataFrame X, containing the features for testing: (260601, 39)\n",
      "Proportions of the DataFrage y, containing the target value for testing: (260601, 2)\n",
      "Proportions of the DataFrame X, containing the features for the prediction: (86868, 39)\n"
     ]
    }
   ],
   "source": [
    "print(f\"Proportions of the DataFrame X, containing the features for testing: {X.shape}\")\n",
    "print(f\"Proportions of the DataFrage y, containing the target value for testing: {y.shape}\")\n",
    "print(f\"Proportions of the DataFrame X, containing the features for the prediction: {X_test.shape}\")"
   ]
  },
  {
   "cell_type": "code",
   "execution_count": 5,
   "metadata": {},
   "outputs": [
    {
     "data": {
      "text/html": [
       "<div>\n",
       "<style scoped>\n",
       "    .dataframe tbody tr th:only-of-type {\n",
       "        vertical-align: middle;\n",
       "    }\n",
       "\n",
       "    .dataframe tbody tr th {\n",
       "        vertical-align: top;\n",
       "    }\n",
       "\n",
       "    .dataframe thead th {\n",
       "        text-align: right;\n",
       "    }\n",
       "</style>\n",
       "<table border=\"1\" class=\"dataframe\">\n",
       "  <thead>\n",
       "    <tr style=\"text-align: right;\">\n",
       "      <th></th>\n",
       "      <th>building_id</th>\n",
       "      <th>geo_level_1_id</th>\n",
       "      <th>geo_level_2_id</th>\n",
       "      <th>geo_level_3_id</th>\n",
       "      <th>count_floors_pre_eq</th>\n",
       "      <th>age</th>\n",
       "      <th>area_percentage</th>\n",
       "      <th>height_percentage</th>\n",
       "      <th>land_surface_condition</th>\n",
       "      <th>foundation_type</th>\n",
       "      <th>...</th>\n",
       "      <th>has_secondary_use_agriculture</th>\n",
       "      <th>has_secondary_use_hotel</th>\n",
       "      <th>has_secondary_use_rental</th>\n",
       "      <th>has_secondary_use_institution</th>\n",
       "      <th>has_secondary_use_school</th>\n",
       "      <th>has_secondary_use_industry</th>\n",
       "      <th>has_secondary_use_health_post</th>\n",
       "      <th>has_secondary_use_gov_office</th>\n",
       "      <th>has_secondary_use_use_police</th>\n",
       "      <th>has_secondary_use_other</th>\n",
       "    </tr>\n",
       "  </thead>\n",
       "  <tbody>\n",
       "    <tr>\n",
       "      <th>0</th>\n",
       "      <td>802906</td>\n",
       "      <td>6</td>\n",
       "      <td>487</td>\n",
       "      <td>12198</td>\n",
       "      <td>2</td>\n",
       "      <td>30</td>\n",
       "      <td>6</td>\n",
       "      <td>5</td>\n",
       "      <td>t</td>\n",
       "      <td>r</td>\n",
       "      <td>...</td>\n",
       "      <td>0</td>\n",
       "      <td>0</td>\n",
       "      <td>0</td>\n",
       "      <td>0</td>\n",
       "      <td>0</td>\n",
       "      <td>0</td>\n",
       "      <td>0</td>\n",
       "      <td>0</td>\n",
       "      <td>0</td>\n",
       "      <td>0</td>\n",
       "    </tr>\n",
       "    <tr>\n",
       "      <th>1</th>\n",
       "      <td>28830</td>\n",
       "      <td>8</td>\n",
       "      <td>900</td>\n",
       "      <td>2812</td>\n",
       "      <td>2</td>\n",
       "      <td>10</td>\n",
       "      <td>8</td>\n",
       "      <td>7</td>\n",
       "      <td>o</td>\n",
       "      <td>r</td>\n",
       "      <td>...</td>\n",
       "      <td>0</td>\n",
       "      <td>0</td>\n",
       "      <td>0</td>\n",
       "      <td>0</td>\n",
       "      <td>0</td>\n",
       "      <td>0</td>\n",
       "      <td>0</td>\n",
       "      <td>0</td>\n",
       "      <td>0</td>\n",
       "      <td>0</td>\n",
       "    </tr>\n",
       "    <tr>\n",
       "      <th>2</th>\n",
       "      <td>94947</td>\n",
       "      <td>21</td>\n",
       "      <td>363</td>\n",
       "      <td>8973</td>\n",
       "      <td>2</td>\n",
       "      <td>10</td>\n",
       "      <td>5</td>\n",
       "      <td>5</td>\n",
       "      <td>t</td>\n",
       "      <td>r</td>\n",
       "      <td>...</td>\n",
       "      <td>0</td>\n",
       "      <td>0</td>\n",
       "      <td>0</td>\n",
       "      <td>0</td>\n",
       "      <td>0</td>\n",
       "      <td>0</td>\n",
       "      <td>0</td>\n",
       "      <td>0</td>\n",
       "      <td>0</td>\n",
       "      <td>0</td>\n",
       "    </tr>\n",
       "    <tr>\n",
       "      <th>3</th>\n",
       "      <td>590882</td>\n",
       "      <td>22</td>\n",
       "      <td>418</td>\n",
       "      <td>10694</td>\n",
       "      <td>2</td>\n",
       "      <td>10</td>\n",
       "      <td>6</td>\n",
       "      <td>5</td>\n",
       "      <td>t</td>\n",
       "      <td>r</td>\n",
       "      <td>...</td>\n",
       "      <td>0</td>\n",
       "      <td>0</td>\n",
       "      <td>0</td>\n",
       "      <td>0</td>\n",
       "      <td>0</td>\n",
       "      <td>0</td>\n",
       "      <td>0</td>\n",
       "      <td>0</td>\n",
       "      <td>0</td>\n",
       "      <td>0</td>\n",
       "    </tr>\n",
       "    <tr>\n",
       "      <th>4</th>\n",
       "      <td>201944</td>\n",
       "      <td>11</td>\n",
       "      <td>131</td>\n",
       "      <td>1488</td>\n",
       "      <td>3</td>\n",
       "      <td>30</td>\n",
       "      <td>8</td>\n",
       "      <td>9</td>\n",
       "      <td>t</td>\n",
       "      <td>r</td>\n",
       "      <td>...</td>\n",
       "      <td>0</td>\n",
       "      <td>0</td>\n",
       "      <td>0</td>\n",
       "      <td>0</td>\n",
       "      <td>0</td>\n",
       "      <td>0</td>\n",
       "      <td>0</td>\n",
       "      <td>0</td>\n",
       "      <td>0</td>\n",
       "      <td>0</td>\n",
       "    </tr>\n",
       "  </tbody>\n",
       "</table>\n",
       "<p>5 rows × 39 columns</p>\n",
       "</div>"
      ],
      "text/plain": [
       "   building_id  geo_level_1_id  geo_level_2_id  geo_level_3_id  \\\n",
       "0       802906               6             487           12198   \n",
       "1        28830               8             900            2812   \n",
       "2        94947              21             363            8973   \n",
       "3       590882              22             418           10694   \n",
       "4       201944              11             131            1488   \n",
       "\n",
       "   count_floors_pre_eq  age  area_percentage  height_percentage  \\\n",
       "0                    2   30                6                  5   \n",
       "1                    2   10                8                  7   \n",
       "2                    2   10                5                  5   \n",
       "3                    2   10                6                  5   \n",
       "4                    3   30                8                  9   \n",
       "\n",
       "  land_surface_condition foundation_type  ... has_secondary_use_agriculture  \\\n",
       "0                      t               r  ...                             0   \n",
       "1                      o               r  ...                             0   \n",
       "2                      t               r  ...                             0   \n",
       "3                      t               r  ...                             0   \n",
       "4                      t               r  ...                             0   \n",
       "\n",
       "  has_secondary_use_hotel has_secondary_use_rental  \\\n",
       "0                       0                        0   \n",
       "1                       0                        0   \n",
       "2                       0                        0   \n",
       "3                       0                        0   \n",
       "4                       0                        0   \n",
       "\n",
       "  has_secondary_use_institution has_secondary_use_school  \\\n",
       "0                             0                        0   \n",
       "1                             0                        0   \n",
       "2                             0                        0   \n",
       "3                             0                        0   \n",
       "4                             0                        0   \n",
       "\n",
       "   has_secondary_use_industry  has_secondary_use_health_post  \\\n",
       "0                           0                              0   \n",
       "1                           0                              0   \n",
       "2                           0                              0   \n",
       "3                           0                              0   \n",
       "4                           0                              0   \n",
       "\n",
       "   has_secondary_use_gov_office  has_secondary_use_use_police  \\\n",
       "0                             0                             0   \n",
       "1                             0                             0   \n",
       "2                             0                             0   \n",
       "3                             0                             0   \n",
       "4                             0                             0   \n",
       "\n",
       "   has_secondary_use_other  \n",
       "0                        0  \n",
       "1                        0  \n",
       "2                        0  \n",
       "3                        0  \n",
       "4                        0  \n",
       "\n",
       "[5 rows x 39 columns]"
      ]
     },
     "execution_count": 5,
     "metadata": {},
     "output_type": "execute_result"
    }
   ],
   "source": [
    "X.head()"
   ]
  },
  {
   "cell_type": "code",
   "execution_count": 6,
   "metadata": {},
   "outputs": [
    {
     "data": {
      "text/html": [
       "<div>\n",
       "<style scoped>\n",
       "    .dataframe tbody tr th:only-of-type {\n",
       "        vertical-align: middle;\n",
       "    }\n",
       "\n",
       "    .dataframe tbody tr th {\n",
       "        vertical-align: top;\n",
       "    }\n",
       "\n",
       "    .dataframe thead th {\n",
       "        text-align: right;\n",
       "    }\n",
       "</style>\n",
       "<table border=\"1\" class=\"dataframe\">\n",
       "  <thead>\n",
       "    <tr style=\"text-align: right;\">\n",
       "      <th></th>\n",
       "      <th>building_id</th>\n",
       "      <th>damage_grade</th>\n",
       "    </tr>\n",
       "  </thead>\n",
       "  <tbody>\n",
       "    <tr>\n",
       "      <th>0</th>\n",
       "      <td>802906</td>\n",
       "      <td>3</td>\n",
       "    </tr>\n",
       "    <tr>\n",
       "      <th>1</th>\n",
       "      <td>28830</td>\n",
       "      <td>2</td>\n",
       "    </tr>\n",
       "    <tr>\n",
       "      <th>2</th>\n",
       "      <td>94947</td>\n",
       "      <td>3</td>\n",
       "    </tr>\n",
       "    <tr>\n",
       "      <th>3</th>\n",
       "      <td>590882</td>\n",
       "      <td>2</td>\n",
       "    </tr>\n",
       "    <tr>\n",
       "      <th>4</th>\n",
       "      <td>201944</td>\n",
       "      <td>3</td>\n",
       "    </tr>\n",
       "  </tbody>\n",
       "</table>\n",
       "</div>"
      ],
      "text/plain": [
       "   building_id  damage_grade\n",
       "0       802906             3\n",
       "1        28830             2\n",
       "2        94947             3\n",
       "3       590882             2\n",
       "4       201944             3"
      ]
     },
     "execution_count": 6,
     "metadata": {},
     "output_type": "execute_result"
    }
   ],
   "source": [
    "y.head()"
   ]
  },
  {
   "cell_type": "code",
   "execution_count": 7,
   "metadata": {},
   "outputs": [
    {
     "data": {
      "text/html": [
       "<div>\n",
       "<style scoped>\n",
       "    .dataframe tbody tr th:only-of-type {\n",
       "        vertical-align: middle;\n",
       "    }\n",
       "\n",
       "    .dataframe tbody tr th {\n",
       "        vertical-align: top;\n",
       "    }\n",
       "\n",
       "    .dataframe thead th {\n",
       "        text-align: right;\n",
       "    }\n",
       "</style>\n",
       "<table border=\"1\" class=\"dataframe\">\n",
       "  <thead>\n",
       "    <tr style=\"text-align: right;\">\n",
       "      <th></th>\n",
       "      <th>building_id</th>\n",
       "      <th>geo_level_1_id</th>\n",
       "      <th>geo_level_2_id</th>\n",
       "      <th>geo_level_3_id</th>\n",
       "      <th>count_floors_pre_eq</th>\n",
       "      <th>age</th>\n",
       "      <th>area_percentage</th>\n",
       "      <th>height_percentage</th>\n",
       "      <th>land_surface_condition</th>\n",
       "      <th>foundation_type</th>\n",
       "      <th>...</th>\n",
       "      <th>has_secondary_use_agriculture</th>\n",
       "      <th>has_secondary_use_hotel</th>\n",
       "      <th>has_secondary_use_rental</th>\n",
       "      <th>has_secondary_use_institution</th>\n",
       "      <th>has_secondary_use_school</th>\n",
       "      <th>has_secondary_use_industry</th>\n",
       "      <th>has_secondary_use_health_post</th>\n",
       "      <th>has_secondary_use_gov_office</th>\n",
       "      <th>has_secondary_use_use_police</th>\n",
       "      <th>has_secondary_use_other</th>\n",
       "    </tr>\n",
       "  </thead>\n",
       "  <tbody>\n",
       "    <tr>\n",
       "      <th>0</th>\n",
       "      <td>300051</td>\n",
       "      <td>17</td>\n",
       "      <td>596</td>\n",
       "      <td>11307</td>\n",
       "      <td>3</td>\n",
       "      <td>20</td>\n",
       "      <td>7</td>\n",
       "      <td>6</td>\n",
       "      <td>t</td>\n",
       "      <td>r</td>\n",
       "      <td>...</td>\n",
       "      <td>0</td>\n",
       "      <td>0</td>\n",
       "      <td>0</td>\n",
       "      <td>0</td>\n",
       "      <td>0</td>\n",
       "      <td>0</td>\n",
       "      <td>0</td>\n",
       "      <td>0</td>\n",
       "      <td>0</td>\n",
       "      <td>0</td>\n",
       "    </tr>\n",
       "    <tr>\n",
       "      <th>1</th>\n",
       "      <td>99355</td>\n",
       "      <td>6</td>\n",
       "      <td>141</td>\n",
       "      <td>11987</td>\n",
       "      <td>2</td>\n",
       "      <td>25</td>\n",
       "      <td>13</td>\n",
       "      <td>5</td>\n",
       "      <td>t</td>\n",
       "      <td>r</td>\n",
       "      <td>...</td>\n",
       "      <td>1</td>\n",
       "      <td>0</td>\n",
       "      <td>0</td>\n",
       "      <td>0</td>\n",
       "      <td>0</td>\n",
       "      <td>0</td>\n",
       "      <td>0</td>\n",
       "      <td>0</td>\n",
       "      <td>0</td>\n",
       "      <td>0</td>\n",
       "    </tr>\n",
       "    <tr>\n",
       "      <th>2</th>\n",
       "      <td>890251</td>\n",
       "      <td>22</td>\n",
       "      <td>19</td>\n",
       "      <td>10044</td>\n",
       "      <td>2</td>\n",
       "      <td>5</td>\n",
       "      <td>4</td>\n",
       "      <td>5</td>\n",
       "      <td>t</td>\n",
       "      <td>r</td>\n",
       "      <td>...</td>\n",
       "      <td>0</td>\n",
       "      <td>0</td>\n",
       "      <td>0</td>\n",
       "      <td>0</td>\n",
       "      <td>0</td>\n",
       "      <td>0</td>\n",
       "      <td>0</td>\n",
       "      <td>0</td>\n",
       "      <td>0</td>\n",
       "      <td>0</td>\n",
       "    </tr>\n",
       "    <tr>\n",
       "      <th>3</th>\n",
       "      <td>745817</td>\n",
       "      <td>26</td>\n",
       "      <td>39</td>\n",
       "      <td>633</td>\n",
       "      <td>1</td>\n",
       "      <td>0</td>\n",
       "      <td>19</td>\n",
       "      <td>3</td>\n",
       "      <td>t</td>\n",
       "      <td>r</td>\n",
       "      <td>...</td>\n",
       "      <td>0</td>\n",
       "      <td>0</td>\n",
       "      <td>1</td>\n",
       "      <td>0</td>\n",
       "      <td>0</td>\n",
       "      <td>0</td>\n",
       "      <td>0</td>\n",
       "      <td>0</td>\n",
       "      <td>0</td>\n",
       "      <td>0</td>\n",
       "    </tr>\n",
       "    <tr>\n",
       "      <th>4</th>\n",
       "      <td>421793</td>\n",
       "      <td>17</td>\n",
       "      <td>289</td>\n",
       "      <td>7970</td>\n",
       "      <td>3</td>\n",
       "      <td>15</td>\n",
       "      <td>8</td>\n",
       "      <td>7</td>\n",
       "      <td>t</td>\n",
       "      <td>r</td>\n",
       "      <td>...</td>\n",
       "      <td>0</td>\n",
       "      <td>0</td>\n",
       "      <td>0</td>\n",
       "      <td>0</td>\n",
       "      <td>0</td>\n",
       "      <td>0</td>\n",
       "      <td>0</td>\n",
       "      <td>0</td>\n",
       "      <td>0</td>\n",
       "      <td>0</td>\n",
       "    </tr>\n",
       "  </tbody>\n",
       "</table>\n",
       "<p>5 rows × 39 columns</p>\n",
       "</div>"
      ],
      "text/plain": [
       "   building_id  geo_level_1_id  geo_level_2_id  geo_level_3_id  \\\n",
       "0       300051              17             596           11307   \n",
       "1        99355               6             141           11987   \n",
       "2       890251              22              19           10044   \n",
       "3       745817              26              39             633   \n",
       "4       421793              17             289            7970   \n",
       "\n",
       "   count_floors_pre_eq  age  area_percentage  height_percentage  \\\n",
       "0                    3   20                7                  6   \n",
       "1                    2   25               13                  5   \n",
       "2                    2    5                4                  5   \n",
       "3                    1    0               19                  3   \n",
       "4                    3   15                8                  7   \n",
       "\n",
       "  land_surface_condition foundation_type  ... has_secondary_use_agriculture  \\\n",
       "0                      t               r  ...                             0   \n",
       "1                      t               r  ...                             1   \n",
       "2                      t               r  ...                             0   \n",
       "3                      t               r  ...                             0   \n",
       "4                      t               r  ...                             0   \n",
       "\n",
       "  has_secondary_use_hotel has_secondary_use_rental  \\\n",
       "0                       0                        0   \n",
       "1                       0                        0   \n",
       "2                       0                        0   \n",
       "3                       0                        1   \n",
       "4                       0                        0   \n",
       "\n",
       "  has_secondary_use_institution has_secondary_use_school  \\\n",
       "0                             0                        0   \n",
       "1                             0                        0   \n",
       "2                             0                        0   \n",
       "3                             0                        0   \n",
       "4                             0                        0   \n",
       "\n",
       "   has_secondary_use_industry  has_secondary_use_health_post  \\\n",
       "0                           0                              0   \n",
       "1                           0                              0   \n",
       "2                           0                              0   \n",
       "3                           0                              0   \n",
       "4                           0                              0   \n",
       "\n",
       "   has_secondary_use_gov_office  has_secondary_use_use_police  \\\n",
       "0                             0                             0   \n",
       "1                             0                             0   \n",
       "2                             0                             0   \n",
       "3                             0                             0   \n",
       "4                             0                             0   \n",
       "\n",
       "   has_secondary_use_other  \n",
       "0                        0  \n",
       "1                        0  \n",
       "2                        0  \n",
       "3                        0  \n",
       "4                        0  \n",
       "\n",
       "[5 rows x 39 columns]"
      ]
     },
     "execution_count": 7,
     "metadata": {},
     "output_type": "execute_result"
    }
   ],
   "source": [
    "X_test.head()"
   ]
  },
  {
   "cell_type": "markdown",
   "metadata": {},
   "source": [
    "Check whether X and X_test have the same columns"
   ]
  },
  {
   "cell_type": "code",
   "execution_count": 8,
   "metadata": {},
   "outputs": [
    {
     "data": {
      "text/plain": [
       "Index(['building_id', 'geo_level_1_id', 'geo_level_2_id', 'geo_level_3_id',\n",
       "       'count_floors_pre_eq', 'age', 'area_percentage', 'height_percentage',\n",
       "       'land_surface_condition', 'foundation_type', 'roof_type',\n",
       "       'ground_floor_type', 'other_floor_type', 'position',\n",
       "       'plan_configuration', 'has_superstructure_adobe_mud',\n",
       "       'has_superstructure_mud_mortar_stone', 'has_superstructure_stone_flag',\n",
       "       'has_superstructure_cement_mortar_stone',\n",
       "       'has_superstructure_mud_mortar_brick',\n",
       "       'has_superstructure_cement_mortar_brick', 'has_superstructure_timber',\n",
       "       'has_superstructure_bamboo', 'has_superstructure_rc_non_engineered',\n",
       "       'has_superstructure_rc_engineered', 'has_superstructure_other',\n",
       "       'legal_ownership_status', 'count_families', 'has_secondary_use',\n",
       "       'has_secondary_use_agriculture', 'has_secondary_use_hotel',\n",
       "       'has_secondary_use_rental', 'has_secondary_use_institution',\n",
       "       'has_secondary_use_school', 'has_secondary_use_industry',\n",
       "       'has_secondary_use_health_post', 'has_secondary_use_gov_office',\n",
       "       'has_secondary_use_use_police', 'has_secondary_use_other'],\n",
       "      dtype='object')"
      ]
     },
     "execution_count": 8,
     "metadata": {},
     "output_type": "execute_result"
    }
   ],
   "source": [
    "X.columns"
   ]
  },
  {
   "cell_type": "code",
   "execution_count": 9,
   "metadata": {},
   "outputs": [
    {
     "name": "stdout",
     "output_type": "stream",
     "text": [
      "Both DataFrames have the same columns.\n"
     ]
    }
   ],
   "source": [
    "helper_functions.test_column_equality(X, X_test)"
   ]
  },
  {
   "cell_type": "code",
   "execution_count": 10,
   "metadata": {},
   "outputs": [
    {
     "data": {
      "text/plain": [
       "building_id                                int64\n",
       "geo_level_1_id                             int64\n",
       "geo_level_2_id                             int64\n",
       "geo_level_3_id                             int64\n",
       "count_floors_pre_eq                        int64\n",
       "age                                        int64\n",
       "area_percentage                            int64\n",
       "height_percentage                          int64\n",
       "land_surface_condition                    object\n",
       "foundation_type                           object\n",
       "roof_type                                 object\n",
       "ground_floor_type                         object\n",
       "other_floor_type                          object\n",
       "position                                  object\n",
       "plan_configuration                        object\n",
       "has_superstructure_adobe_mud               int64\n",
       "has_superstructure_mud_mortar_stone        int64\n",
       "has_superstructure_stone_flag              int64\n",
       "has_superstructure_cement_mortar_stone     int64\n",
       "has_superstructure_mud_mortar_brick        int64\n",
       "has_superstructure_cement_mortar_brick     int64\n",
       "has_superstructure_timber                  int64\n",
       "has_superstructure_bamboo                  int64\n",
       "has_superstructure_rc_non_engineered       int64\n",
       "has_superstructure_rc_engineered           int64\n",
       "has_superstructure_other                   int64\n",
       "legal_ownership_status                    object\n",
       "count_families                             int64\n",
       "has_secondary_use                          int64\n",
       "has_secondary_use_agriculture              int64\n",
       "has_secondary_use_hotel                    int64\n",
       "has_secondary_use_rental                   int64\n",
       "has_secondary_use_institution              int64\n",
       "has_secondary_use_school                   int64\n",
       "has_secondary_use_industry                 int64\n",
       "has_secondary_use_health_post              int64\n",
       "has_secondary_use_gov_office               int64\n",
       "has_secondary_use_use_police               int64\n",
       "has_secondary_use_other                    int64\n",
       "dtype: object"
      ]
     },
     "execution_count": 10,
     "metadata": {},
     "output_type": "execute_result"
    }
   ],
   "source": [
    "X.dtypes"
   ]
  },
  {
   "cell_type": "code",
   "execution_count": 11,
   "metadata": {},
   "outputs": [
    {
     "data": {
      "text/plain": [
       "building_id                               260601\n",
       "geo_level_1_id                                31\n",
       "geo_level_2_id                              1414\n",
       "geo_level_3_id                             11595\n",
       "count_floors_pre_eq                            9\n",
       "age                                           42\n",
       "area_percentage                               84\n",
       "height_percentage                             27\n",
       "land_surface_condition                         3\n",
       "foundation_type                                5\n",
       "roof_type                                      3\n",
       "ground_floor_type                              5\n",
       "other_floor_type                               4\n",
       "position                                       4\n",
       "plan_configuration                            10\n",
       "has_superstructure_adobe_mud                   2\n",
       "has_superstructure_mud_mortar_stone            2\n",
       "has_superstructure_stone_flag                  2\n",
       "has_superstructure_cement_mortar_stone         2\n",
       "has_superstructure_mud_mortar_brick            2\n",
       "has_superstructure_cement_mortar_brick         2\n",
       "has_superstructure_timber                      2\n",
       "has_superstructure_bamboo                      2\n",
       "has_superstructure_rc_non_engineered           2\n",
       "has_superstructure_rc_engineered               2\n",
       "has_superstructure_other                       2\n",
       "legal_ownership_status                         4\n",
       "count_families                                10\n",
       "has_secondary_use                              2\n",
       "has_secondary_use_agriculture                  2\n",
       "has_secondary_use_hotel                        2\n",
       "has_secondary_use_rental                       2\n",
       "has_secondary_use_institution                  2\n",
       "has_secondary_use_school                       2\n",
       "has_secondary_use_industry                     2\n",
       "has_secondary_use_health_post                  2\n",
       "has_secondary_use_gov_office                   2\n",
       "has_secondary_use_use_police                   2\n",
       "has_secondary_use_other                        2\n",
       "dtype: int64"
      ]
     },
     "execution_count": 11,
     "metadata": {},
     "output_type": "execute_result"
    }
   ],
   "source": [
    "X.nunique()"
   ]
  },
  {
   "cell_type": "markdown",
   "metadata": {},
   "source": [
    "From the description, we assume Geo Level 3 is the most precise whereas Geo Level 1 the least precise.\n",
    "Follow that logic, we expect more unique data points in Level 3 than Level 1."
   ]
  },
  {
   "cell_type": "code",
   "execution_count": 12,
   "metadata": {},
   "outputs": [
    {
     "name": "stdout",
     "output_type": "stream",
     "text": [
      "Unique data points in geo_level_1_id: 31\n",
      "Unique data points in geo_level_2_id: 1414\n",
      "Unique data points in geo_level_3_id: 11595\n"
     ]
    }
   ],
   "source": [
    "print(f\"Unique data points in geo_level_1_id: {X.loc[:, 'geo_level_1_id'].nunique()}\")\n",
    "print(f\"Unique data points in geo_level_2_id: {X.loc[:, 'geo_level_2_id'].nunique()}\")\n",
    "print(f\"Unique data points in geo_level_3_id: {X.loc[:, 'geo_level_3_id'].nunique()}\")"
   ]
  },
  {
   "cell_type": "markdown",
   "metadata": {},
   "source": [
    "## Data Cleaning"
   ]
  },
  {
   "cell_type": "code",
   "execution_count": 13,
   "metadata": {},
   "outputs": [
    {
     "name": "stdout",
     "output_type": "stream",
     "text": [
      "(260601, 39) False\n"
     ]
    },
    {
     "name": "stdout",
     "output_type": "stream",
     "text": [
      "(260601, 40) True\n",
      "['open', 'pd', 'train_test_split', 'f1_score', 'helper_functions', 'log_regression', 'lgb_optimized', 'X', 'y', 'X_test', 'ids', 'data', 'cols', 'col', 'building_id', 'damage_grade', 'geo_level_1_id', 'geo_level_2_id', 'geo_level_3_id', 'count_floors_pre_eq', 'age', 'area_percentage', 'height_percentage', 'land_surface_condition', 'foundation_type', 'roof_type', 'ground_floor_type', 'other_floor_type', 'position', 'plan_configuration', 'has_superstructure_adobe_mud', 'has_superstructure_mud_mortar_stone', 'has_superstructure_stone_flag', 'has_superstructure_cement_mortar_stone', 'has_superstructure_mud_mortar_brick', 'has_superstructure_cement_mortar_brick', 'has_superstructure_timber', 'has_superstructure_bamboo', 'has_superstructure_rc_non_engineered', 'has_superstructure_rc_engineered', 'has_superstructure_other', 'legal_ownership_status', 'count_families', 'has_secondary_use', 'has_secondary_use_agriculture', 'has_secondary_use_hotel', 'has_secondary_use_rental', 'has_secondary_use_institution', 'has_secondary_use_school', 'has_secondary_use_industry', 'has_secondary_use_health_post', 'has_secondary_use_gov_office', 'has_secondary_use_use_police', 'has_secondary_use_other']\n"
     ]
    }
   ],
   "source": [
    "# helper functions\n",
    "def ids():\n",
    "    ids = [id for id in globals().keys() if not id.startswith(\"_\")]\n",
    "    print(ids[5:])\n",
    "\n",
    "print(X.shape, 'damage_grade' in X.columns)\n",
    "data = pd.merge(left=y, right=X, on='building_id', how='inner')\n",
    "print(data.shape, 'damage_grade' in data.columns) #ok, one column was added\n",
    "\n",
    "cols = data.columns\n",
    "for col in cols:\n",
    "    globals()[col] = col\n",
    "ids()"
   ]
  },
  {
   "cell_type": "markdown",
   "metadata": {},
   "source": [
    "### `geo_level2` mean encoding"
   ]
  },
  {
   "cell_type": "code",
   "execution_count": 14,
   "metadata": {},
   "outputs": [
    {
     "name": "stdout",
     "output_type": "stream",
     "text": [
      "geo_level_1_id\n",
      "geo_level_2_id\n",
      "geo_level_3_id\n"
     ]
    }
   ],
   "source": [
    "geo_levels = []\n",
    "for col in filter(lambda col: col.startswith(\"geo\"), X):\n",
    "    print(str(col))\n",
    "    geo_levels.append(col)"
   ]
  },
  {
   "cell_type": "code",
   "execution_count": 15,
   "metadata": {},
   "outputs": [
    {
     "data": {
      "text/html": [
       "<div>\n",
       "<style scoped>\n",
       "    .dataframe tbody tr th:only-of-type {\n",
       "        vertical-align: middle;\n",
       "    }\n",
       "\n",
       "    .dataframe tbody tr th {\n",
       "        vertical-align: top;\n",
       "    }\n",
       "\n",
       "    .dataframe thead th {\n",
       "        text-align: right;\n",
       "    }\n",
       "</style>\n",
       "<table border=\"1\" class=\"dataframe\">\n",
       "  <thead>\n",
       "    <tr style=\"text-align: right;\">\n",
       "      <th></th>\n",
       "      <th>damage_grade</th>\n",
       "    </tr>\n",
       "    <tr>\n",
       "      <th>geo_level_2_id</th>\n",
       "      <th></th>\n",
       "    </tr>\n",
       "  </thead>\n",
       "  <tbody>\n",
       "    <tr>\n",
       "      <th>0</th>\n",
       "      <td>2.763158</td>\n",
       "    </tr>\n",
       "    <tr>\n",
       "      <th>1</th>\n",
       "      <td>2.348039</td>\n",
       "    </tr>\n",
       "    <tr>\n",
       "      <th>3</th>\n",
       "      <td>2.103896</td>\n",
       "    </tr>\n",
       "    <tr>\n",
       "      <th>4</th>\n",
       "      <td>2.520635</td>\n",
       "    </tr>\n",
       "    <tr>\n",
       "      <th>5</th>\n",
       "      <td>2.160000</td>\n",
       "    </tr>\n",
       "  </tbody>\n",
       "</table>\n",
       "</div>"
      ],
      "text/plain": [
       "                damage_grade\n",
       "geo_level_2_id              \n",
       "0                   2.763158\n",
       "1                   2.348039\n",
       "3                   2.103896\n",
       "4                   2.520635\n",
       "5                   2.160000"
      ]
     },
     "execution_count": 15,
     "metadata": {},
     "output_type": "execute_result"
    }
   ],
   "source": [
    "mean_encodings = data.groupby('geo_level_2_id')['damage_grade'].mean()\n",
    "pd.DataFrame(mean_encodings).head()"
   ]
  },
  {
   "cell_type": "code",
   "execution_count": 16,
   "metadata": {},
   "outputs": [],
   "source": [
    "for name,df in {\"X\":X, \"X_test\":X_test}.items():\n",
    "    df[\"geo_level_2_enc\"] = df['geo_level_2_id'].map(mean_encodings)"
   ]
  },
  {
   "cell_type": "code",
   "execution_count": 17,
   "metadata": {},
   "outputs": [
    {
     "name": "stdout",
     "output_type": "stream",
     "text": [
      "X\tIndex(['geo_level_2_id', 'geo_level_2_enc'], dtype='object')\n",
      "X_test\tIndex(['geo_level_2_id', 'geo_level_2_enc'], dtype='object')\n"
     ]
    }
   ],
   "source": [
    "for name,df in {\"X\":X, \"X_test\":X_test}.items():\n",
    "    geo_cols = [col for col in df.columns if col.startswith(\"geo_level_2\")]\n",
    "    print(name, df[geo_cols].columns, sep=\"\\t\")\n"
   ]
  },
  {
   "cell_type": "markdown",
   "metadata": {},
   "source": [
    "### Hot encodings"
   ]
  },
  {
   "cell_type": "code",
   "execution_count": 18,
   "metadata": {},
   "outputs": [],
   "source": [
    "for name,df in {\"X\":X, \"X_test\":X_test}.items():\n",
    "    encode_cols = [\"foundation_type\", \"roof_type\", \"ground_floor_type\", \"geo_level_1_id\"]\n",
    "    globals()[name] = pd.get_dummies(df, columns=encode_cols, drop_first=False)\n",
    "    globals()[name].drop(columns=['geo_level_2_id', 'geo_level_3_id'], inplace=True)\n",
    "    cols = [col for col in df.columns if any(map(col.startswith, encode_cols))]"
   ]
  },
  {
   "cell_type": "code",
   "execution_count": 19,
   "metadata": {},
   "outputs": [
    {
     "name": "stdout",
     "output_type": "stream",
     "text": [
      "<class 'pandas.core.frame.DataFrame'>\n",
      "RangeIndex: 260601 entries, 0 to 260600\n",
      "Data columns (total 78 columns):\n",
      " #   Column                                  Non-Null Count   Dtype  \n",
      "---  ------                                  --------------   -----  \n",
      " 0   building_id                             260601 non-null  int64  \n",
      " 1   count_floors_pre_eq                     260601 non-null  int64  \n",
      " 2   age                                     260601 non-null  int64  \n",
      " 3   area_percentage                         260601 non-null  int64  \n",
      " 4   height_percentage                       260601 non-null  int64  \n",
      " 5   land_surface_condition                  260601 non-null  object \n",
      " 6   other_floor_type                        260601 non-null  object \n",
      " 7   position                                260601 non-null  object \n",
      " 8   plan_configuration                      260601 non-null  object \n",
      " 9   has_superstructure_adobe_mud            260601 non-null  int64  \n",
      " 10  has_superstructure_mud_mortar_stone     260601 non-null  int64  \n",
      " 11  has_superstructure_stone_flag           260601 non-null  int64  \n",
      " 12  has_superstructure_cement_mortar_stone  260601 non-null  int64  \n",
      " 13  has_superstructure_mud_mortar_brick     260601 non-null  int64  \n",
      " 14  has_superstructure_cement_mortar_brick  260601 non-null  int64  \n",
      " 15  has_superstructure_timber               260601 non-null  int64  \n",
      " 16  has_superstructure_bamboo               260601 non-null  int64  \n",
      " 17  has_superstructure_rc_non_engineered    260601 non-null  int64  \n",
      " 18  has_superstructure_rc_engineered        260601 non-null  int64  \n",
      " 19  has_superstructure_other                260601 non-null  int64  \n",
      " 20  legal_ownership_status                  260601 non-null  object \n",
      " 21  count_families                          260601 non-null  int64  \n",
      " 22  has_secondary_use                       260601 non-null  int64  \n",
      " 23  has_secondary_use_agriculture           260601 non-null  int64  \n",
      " 24  has_secondary_use_hotel                 260601 non-null  int64  \n",
      " 25  has_secondary_use_rental                260601 non-null  int64  \n",
      " 26  has_secondary_use_institution           260601 non-null  int64  \n",
      " 27  has_secondary_use_school                260601 non-null  int64  \n",
      " 28  has_secondary_use_industry              260601 non-null  int64  \n",
      " 29  has_secondary_use_health_post           260601 non-null  int64  \n",
      " 30  has_secondary_use_gov_office            260601 non-null  int64  \n",
      " 31  has_secondary_use_use_police            260601 non-null  int64  \n",
      " 32  has_secondary_use_other                 260601 non-null  int64  \n",
      " 33  geo_level_2_enc                         260601 non-null  float64\n",
      " 34  foundation_type_h                       260601 non-null  bool   \n",
      " 35  foundation_type_i                       260601 non-null  bool   \n",
      " 36  foundation_type_r                       260601 non-null  bool   \n",
      " 37  foundation_type_u                       260601 non-null  bool   \n",
      " 38  foundation_type_w                       260601 non-null  bool   \n",
      " 39  roof_type_n                             260601 non-null  bool   \n",
      " 40  roof_type_q                             260601 non-null  bool   \n",
      " 41  roof_type_x                             260601 non-null  bool   \n",
      " 42  ground_floor_type_f                     260601 non-null  bool   \n",
      " 43  ground_floor_type_m                     260601 non-null  bool   \n",
      " 44  ground_floor_type_v                     260601 non-null  bool   \n",
      " 45  ground_floor_type_x                     260601 non-null  bool   \n",
      " 46  ground_floor_type_z                     260601 non-null  bool   \n",
      " 47  geo_level_1_id_0                        260601 non-null  bool   \n",
      " 48  geo_level_1_id_1                        260601 non-null  bool   \n",
      " 49  geo_level_1_id_2                        260601 non-null  bool   \n",
      " 50  geo_level_1_id_3                        260601 non-null  bool   \n",
      " 51  geo_level_1_id_4                        260601 non-null  bool   \n",
      " 52  geo_level_1_id_5                        260601 non-null  bool   \n",
      " 53  geo_level_1_id_6                        260601 non-null  bool   \n",
      " 54  geo_level_1_id_7                        260601 non-null  bool   \n",
      " 55  geo_level_1_id_8                        260601 non-null  bool   \n",
      " 56  geo_level_1_id_9                        260601 non-null  bool   \n",
      " 57  geo_level_1_id_10                       260601 non-null  bool   \n",
      " 58  geo_level_1_id_11                       260601 non-null  bool   \n",
      " 59  geo_level_1_id_12                       260601 non-null  bool   \n",
      " 60  geo_level_1_id_13                       260601 non-null  bool   \n",
      " 61  geo_level_1_id_14                       260601 non-null  bool   \n",
      " 62  geo_level_1_id_15                       260601 non-null  bool   \n",
      " 63  geo_level_1_id_16                       260601 non-null  bool   \n",
      " 64  geo_level_1_id_17                       260601 non-null  bool   \n",
      " 65  geo_level_1_id_18                       260601 non-null  bool   \n",
      " 66  geo_level_1_id_19                       260601 non-null  bool   \n",
      " 67  geo_level_1_id_20                       260601 non-null  bool   \n",
      " 68  geo_level_1_id_21                       260601 non-null  bool   \n",
      " 69  geo_level_1_id_22                       260601 non-null  bool   \n",
      " 70  geo_level_1_id_23                       260601 non-null  bool   \n",
      " 71  geo_level_1_id_24                       260601 non-null  bool   \n",
      " 72  geo_level_1_id_25                       260601 non-null  bool   \n",
      " 73  geo_level_1_id_26                       260601 non-null  bool   \n",
      " 74  geo_level_1_id_27                       260601 non-null  bool   \n",
      " 75  geo_level_1_id_28                       260601 non-null  bool   \n",
      " 76  geo_level_1_id_29                       260601 non-null  bool   \n",
      " 77  geo_level_1_id_30                       260601 non-null  bool   \n",
      "dtypes: bool(44), float64(1), int64(28), object(5)\n",
      "memory usage: 78.5+ MB\n",
      "(260601, 78) None\n",
      "<class 'pandas.core.frame.DataFrame'>\n",
      "RangeIndex: 86868 entries, 0 to 86867\n",
      "Data columns (total 78 columns):\n",
      " #   Column                                  Non-Null Count  Dtype  \n",
      "---  ------                                  --------------  -----  \n",
      " 0   building_id                             86868 non-null  int64  \n",
      " 1   count_floors_pre_eq                     86868 non-null  int64  \n",
      " 2   age                                     86868 non-null  int64  \n",
      " 3   area_percentage                         86868 non-null  int64  \n",
      " 4   height_percentage                       86868 non-null  int64  \n",
      " 5   land_surface_condition                  86868 non-null  object \n",
      " 6   other_floor_type                        86868 non-null  object \n",
      " 7   position                                86868 non-null  object \n",
      " 8   plan_configuration                      86868 non-null  object \n",
      " 9   has_superstructure_adobe_mud            86868 non-null  int64  \n",
      " 10  has_superstructure_mud_mortar_stone     86868 non-null  int64  \n",
      " 11  has_superstructure_stone_flag           86868 non-null  int64  \n",
      " 12  has_superstructure_cement_mortar_stone  86868 non-null  int64  \n",
      " 13  has_superstructure_mud_mortar_brick     86868 non-null  int64  \n",
      " 14  has_superstructure_cement_mortar_brick  86868 non-null  int64  \n",
      " 15  has_superstructure_timber               86868 non-null  int64  \n",
      " 16  has_superstructure_bamboo               86868 non-null  int64  \n",
      " 17  has_superstructure_rc_non_engineered    86868 non-null  int64  \n",
      " 18  has_superstructure_rc_engineered        86868 non-null  int64  \n",
      " 19  has_superstructure_other                86868 non-null  int64  \n",
      " 20  legal_ownership_status                  86868 non-null  object \n",
      " 21  count_families                          86868 non-null  int64  \n",
      " 22  has_secondary_use                       86868 non-null  int64  \n",
      " 23  has_secondary_use_agriculture           86868 non-null  int64  \n",
      " 24  has_secondary_use_hotel                 86868 non-null  int64  \n",
      " 25  has_secondary_use_rental                86868 non-null  int64  \n",
      " 26  has_secondary_use_institution           86868 non-null  int64  \n",
      " 27  has_secondary_use_school                86868 non-null  int64  \n",
      " 28  has_secondary_use_industry              86868 non-null  int64  \n",
      " 29  has_secondary_use_health_post           86868 non-null  int64  \n",
      " 30  has_secondary_use_gov_office            86868 non-null  int64  \n",
      " 31  has_secondary_use_use_police            86868 non-null  int64  \n",
      " 32  has_secondary_use_other                 86868 non-null  int64  \n",
      " 33  geo_level_2_enc                         86863 non-null  float64\n",
      " 34  foundation_type_h                       86868 non-null  bool   \n",
      " 35  foundation_type_i                       86868 non-null  bool   \n",
      " 36  foundation_type_r                       86868 non-null  bool   \n",
      " 37  foundation_type_u                       86868 non-null  bool   \n",
      " 38  foundation_type_w                       86868 non-null  bool   \n",
      " 39  roof_type_n                             86868 non-null  bool   \n",
      " 40  roof_type_q                             86868 non-null  bool   \n",
      " 41  roof_type_x                             86868 non-null  bool   \n",
      " 42  ground_floor_type_f                     86868 non-null  bool   \n",
      " 43  ground_floor_type_m                     86868 non-null  bool   \n",
      " 44  ground_floor_type_v                     86868 non-null  bool   \n",
      " 45  ground_floor_type_x                     86868 non-null  bool   \n",
      " 46  ground_floor_type_z                     86868 non-null  bool   \n",
      " 47  geo_level_1_id_0                        86868 non-null  bool   \n",
      " 48  geo_level_1_id_1                        86868 non-null  bool   \n",
      " 49  geo_level_1_id_2                        86868 non-null  bool   \n",
      " 50  geo_level_1_id_3                        86868 non-null  bool   \n",
      " 51  geo_level_1_id_4                        86868 non-null  bool   \n",
      " 52  geo_level_1_id_5                        86868 non-null  bool   \n",
      " 53  geo_level_1_id_6                        86868 non-null  bool   \n",
      " 54  geo_level_1_id_7                        86868 non-null  bool   \n",
      " 55  geo_level_1_id_8                        86868 non-null  bool   \n",
      " 56  geo_level_1_id_9                        86868 non-null  bool   \n",
      " 57  geo_level_1_id_10                       86868 non-null  bool   \n",
      " 58  geo_level_1_id_11                       86868 non-null  bool   \n",
      " 59  geo_level_1_id_12                       86868 non-null  bool   \n",
      " 60  geo_level_1_id_13                       86868 non-null  bool   \n",
      " 61  geo_level_1_id_14                       86868 non-null  bool   \n",
      " 62  geo_level_1_id_15                       86868 non-null  bool   \n",
      " 63  geo_level_1_id_16                       86868 non-null  bool   \n",
      " 64  geo_level_1_id_17                       86868 non-null  bool   \n",
      " 65  geo_level_1_id_18                       86868 non-null  bool   \n",
      " 66  geo_level_1_id_19                       86868 non-null  bool   \n",
      " 67  geo_level_1_id_20                       86868 non-null  bool   \n",
      " 68  geo_level_1_id_21                       86868 non-null  bool   \n",
      " 69  geo_level_1_id_22                       86868 non-null  bool   \n",
      " 70  geo_level_1_id_23                       86868 non-null  bool   \n",
      " 71  geo_level_1_id_24                       86868 non-null  bool   \n",
      " 72  geo_level_1_id_25                       86868 non-null  bool   \n",
      " 73  geo_level_1_id_26                       86868 non-null  bool   \n",
      " 74  geo_level_1_id_27                       86868 non-null  bool   \n",
      " 75  geo_level_1_id_28                       86868 non-null  bool   \n",
      " 76  geo_level_1_id_29                       86868 non-null  bool   \n",
      " 77  geo_level_1_id_30                       86868 non-null  bool   \n",
      "dtypes: bool(44), float64(1), int64(28), object(5)\n",
      "memory usage: 26.2+ MB\n",
      "(86868, 78) None\n"
     ]
    }
   ],
   "source": [
    "for df in X, X_test:\n",
    "    print(\n",
    "        df.shape,\n",
    "        # df.columns,\n",
    "        df.info()\n",
    "    )"
   ]
  },
  {
   "cell_type": "markdown",
   "metadata": {},
   "source": [
    "### Prepare data for analysis"
   ]
  },
  {
   "cell_type": "code",
   "execution_count": 20,
   "metadata": {},
   "outputs": [],
   "source": [
    "# set index to building_id\n",
    "for df in y, X, X_test:\n",
    "    df.set_index(\"building_id\", inplace=True)\n",
    "\n",
    "drop_cols = [\"land_surface_condition\", \"other_floor_type\", \"position\", \n",
    "             \"plan_configuration\", \"legal_ownership_status\"]\n",
    "for df in X, X_test:\n",
    "    df.drop(columns=drop_cols, inplace=True)\n"
   ]
  },
  {
   "cell_type": "code",
   "execution_count": 21,
   "metadata": {},
   "outputs": [
    {
     "name": "stdout",
     "output_type": "stream",
     "text": [
      "X\t260601\t72\n",
      "X_train\t208480\t72\n",
      "X_valid\t52121\t72\n",
      "X_test\t86868\t72\n"
     ]
    }
   ],
   "source": [
    "X_train, X_valid, y_train, y_valid = train_test_split(X, y, test_size=0.2, random_state=42)\n",
    "X_test_pred = X_test\n",
    "\n",
    "# for k,v in {\"X\":X, X_train, X_valid, X_test}:\n",
    "for name,df in {\"X\":X, \"X_train\":X_train, \"X_valid\": X_valid, \"X_test\": X_test}.items():\n",
    "    print(name, *df.shape, sep=\"\\t\")\n"
   ]
  },
  {
   "cell_type": "markdown",
   "metadata": {},
   "source": [
    "Visualization"
   ]
  },
  {
   "cell_type": "code",
   "execution_count": null,
   "metadata": {},
   "outputs": [],
   "source": []
  },
  {
   "cell_type": "markdown",
   "metadata": {},
   "source": [
    "## Models"
   ]
  },
  {
   "cell_type": "markdown",
   "metadata": {},
   "source": [
    "Simple estimation using regressionm"
   ]
  },
  {
   "cell_type": "code",
   "execution_count": 22,
   "metadata": {},
   "outputs": [
    {
     "name": "stderr",
     "output_type": "stream",
     "text": [
      "C:\\Users\\David\\AppData\\Local\\Packages\\PythonSoftwareFoundation.Python.3.11_qbz5n2kfra8p0\\LocalCache\\local-packages\\Python311\\site-packages\\sklearn\\utils\\validation.py:1183: DataConversionWarning: A column-vector y was passed when a 1d array was expected. Please change the shape of y to (n_samples, ), for example using ravel().\n",
      "  y = column_or_1d(y, warn=True)\n",
      "C:\\Users\\David\\AppData\\Local\\Packages\\PythonSoftwareFoundation.Python.3.11_qbz5n2kfra8p0\\LocalCache\\local-packages\\Python311\\site-packages\\sklearn\\linear_model\\_logistic.py:460: ConvergenceWarning: lbfgs failed to converge (status=1):\n",
      "STOP: TOTAL NO. of ITERATIONS REACHED LIMIT.\n",
      "\n",
      "Increase the number of iterations (max_iter) or scale the data as shown in:\n",
      "    https://scikit-learn.org/stable/modules/preprocessing.html\n",
      "Please also refer to the documentation for alternative solver options:\n",
      "    https://scikit-learn.org/stable/modules/linear_model.html#logistic-regression\n",
      "  n_iter_i = _check_optimize_result(\n"
     ]
    }
   ],
   "source": [
    "lr = log_regression.lr(X_train, y_train)\n",
    "y_valid_pred_lr = lr.make_prediction(X_valid)"
   ]
  },
  {
   "cell_type": "markdown",
   "metadata": {},
   "source": [
    "Generation of Random Forest and optimization"
   ]
  },
  {
   "cell_type": "code",
   "execution_count": 23,
   "metadata": {},
   "outputs": [],
   "source": [
    "import warnings\n",
    "warnings.filterwarnings('ignore', category=UserWarning)"
   ]
  },
  {
   "cell_type": "code",
   "execution_count": 24,
   "metadata": {},
   "outputs": [
    {
     "name": "stderr",
     "output_type": "stream",
     "text": [
      "[I 2023-10-07 13:10:59,491] A new study created in memory with name: no-name-0b4843f9-dc97-4573-b46d-db871b85c635\n"
     ]
    },
    {
     "name": "stderr",
     "output_type": "stream",
     "text": [
      "[I 2023-10-07 13:11:11,555] Trial 0 finished with value: 0.14842385986454595 and parameters: {'learning_rate': 0.21451327827769648, 'subsample': 0.8471857561855202, 'num_leaves': 90, 'min_data_in_leaf': 17, 'max_depth': 14, 'lambda_l2': 0.07000585101162204}. Best is trial 0 with value: 0.14842385986454595.\n",
      "[I 2023-10-07 13:11:20,033] Trial 1 finished with value: 0.1570000575583738 and parameters: {'learning_rate': 0.023810249614973685, 'subsample': 0.7105701555978243, 'num_leaves': 15, 'min_data_in_leaf': 6, 'max_depth': 15, 'lambda_l2': 0.8938144503389756}. Best is trial 1 with value: 0.1570000575583738.\n"
     ]
    },
    {
     "name": "stdout",
     "output_type": "stream",
     "text": [
      "Number of finished trials: 2\n",
      "Best trial:\n",
      "--------------------------------\n",
      "Best F1 Score: 0.1570000575583738\n",
      "--------------------------------\n",
      "[LightGBM] [Warning] min_data_in_leaf is set=6, min_child_samples=20 will be ignored. Current value: min_data_in_leaf=6\n",
      "[LightGBM] [Warning] lambda_l2 is set=0.8938144503389756, reg_lambda=0.0 will be ignored. Current value: lambda_l2=0.8938144503389756\n",
      "[LightGBM] [Warning] min_data_in_leaf is set=6, min_child_samples=20 will be ignored. Current value: min_data_in_leaf=6\n",
      "[LightGBM] [Warning] lambda_l2 is set=0.8938144503389756, reg_lambda=0.0 will be ignored. Current value: lambda_l2=0.8938144503389756\n",
      "[LightGBM] [Info] Auto-choosing row-wise multi-threading, the overhead of testing was 0.061704 seconds.\n",
      "You can set `force_row_wise=true` to remove the overhead.\n",
      "And if memory is not enough, you can set `force_col_wise=true`.\n",
      "[LightGBM] [Info] Total Bins 538\n",
      "[LightGBM] [Info] Number of data points in the train set: 260601, number of used features: 72\n",
      "[LightGBM] [Info] Start training from score -2.339167\n",
      "[LightGBM] [Info] Start training from score -0.564030\n",
      "[LightGBM] [Info] Start training from score -1.094580\n"
     ]
    }
   ],
   "source": [
    "import lgb_optimized\n",
    "# Initiate and optimize model\n",
    "lgb = lgb_optimized.LGBM(X_train, X_valid, y_train, y_valid)"
   ]
  },
  {
   "cell_type": "code",
   "execution_count": 25,
   "metadata": {},
   "outputs": [
    {
     "name": "stdout",
     "output_type": "stream",
     "text": [
      "[LightGBM] [Warning] min_data_in_leaf is set=6, min_child_samples=20 will be ignored. Current value: min_data_in_leaf=6\n",
      "[LightGBM] [Warning] lambda_l2 is set=0.8938144503389756, reg_lambda=0.0 will be ignored. Current value: lambda_l2=0.8938144503389756\n"
     ]
    }
   ],
   "source": [
    "y_pred_lgb = lgb.make_prediction(X_valid)"
   ]
  },
  {
   "cell_type": "markdown",
   "metadata": {},
   "source": [
    "#### Evaluation"
   ]
  },
  {
   "cell_type": "markdown",
   "metadata": {},
   "source": [
    "f1 Score using Logistic Regression"
   ]
  },
  {
   "cell_type": "code",
   "execution_count": 26,
   "metadata": {},
   "outputs": [
    {
     "data": {
      "text/plain": [
       "0.5804127107812219"
      ]
     },
     "execution_count": 26,
     "metadata": {},
     "output_type": "execute_result"
    }
   ],
   "source": [
    "f1_lr = f1_score(y_valid, y_valid_pred_lr, average='macro')\n",
    "f1_lr"
   ]
  },
  {
   "cell_type": "markdown",
   "metadata": {},
   "source": [
    "f1 Score for Random Forest"
   ]
  },
  {
   "cell_type": "code",
   "execution_count": 27,
   "metadata": {},
   "outputs": [
    {
     "data": {
      "text/plain": [
       "0.6341965454776005"
      ]
     },
     "execution_count": 27,
     "metadata": {},
     "output_type": "execute_result"
    }
   ],
   "source": [
    "f1_lgb = f1_score(y_valid, y_pred_lgb, average='macro')\n",
    "f1_lgb"
   ]
  },
  {
   "cell_type": "markdown",
   "metadata": {},
   "source": [
    "### Create prediction on testset"
   ]
  },
  {
   "cell_type": "code",
   "execution_count": 28,
   "metadata": {},
   "outputs": [
    {
     "name": "stdout",
     "output_type": "stream",
     "text": [
      "[LightGBM] [Warning] min_data_in_leaf is set=6, min_child_samples=20 will be ignored. Current value: min_data_in_leaf=6\n",
      "[LightGBM] [Warning] lambda_l2 is set=0.8938144503389756, reg_lambda=0.0 will be ignored. Current value: lambda_l2=0.8938144503389756\n"
     ]
    }
   ],
   "source": [
    "y_pred_lgb = lgb.make_prediction(X_test_pred)"
   ]
  },
  {
   "cell_type": "markdown",
   "metadata": {},
   "source": [
    "Export"
   ]
  },
  {
   "cell_type": "code",
   "execution_count": 29,
   "metadata": {},
   "outputs": [],
   "source": [
    "# Export prediction to create csv by DrivenData.org datastandards\n",
    "X_test.reset_index(inplace=True)\n",
    "\n",
    "helper_functions.write_output(X_test, y_pred_lgb)"
   ]
  },
  {
   "cell_type": "code",
   "execution_count": 30,
   "metadata": {},
   "outputs": [
    {
     "name": "stdout",
     "output_type": "stream",
     "text": [
      "(260601, 72)\n",
      "(208480, 72)\n",
      "(52121, 72)\n",
      "(86868, 73)\n"
     ]
    },
    {
     "data": {
      "text/plain": [
       "Index(['building_id', 'count_floors_pre_eq', 'age', 'area_percentage',\n",
       "       'height_percentage', 'has_superstructure_adobe_mud',\n",
       "       'has_superstructure_mud_mortar_stone', 'has_superstructure_stone_flag',\n",
       "       'has_superstructure_cement_mortar_stone',\n",
       "       'has_superstructure_mud_mortar_brick',\n",
       "       'has_superstructure_cement_mortar_brick', 'has_superstructure_timber',\n",
       "       'has_superstructure_bamboo', 'has_superstructure_rc_non_engineered',\n",
       "       'has_superstructure_rc_engineered', 'has_superstructure_other',\n",
       "       'count_families', 'has_secondary_use', 'has_secondary_use_agriculture',\n",
       "       'has_secondary_use_hotel', 'has_secondary_use_rental',\n",
       "       'has_secondary_use_institution', 'has_secondary_use_school',\n",
       "       'has_secondary_use_industry', 'has_secondary_use_health_post',\n",
       "       'has_secondary_use_gov_office', 'has_secondary_use_use_police',\n",
       "       'has_secondary_use_other', 'geo_level_2_enc', 'foundation_type_h',\n",
       "       'foundation_type_i', 'foundation_type_r', 'foundation_type_u',\n",
       "       'foundation_type_w', 'roof_type_n', 'roof_type_q', 'roof_type_x',\n",
       "       'ground_floor_type_f', 'ground_floor_type_m', 'ground_floor_type_v',\n",
       "       'ground_floor_type_x', 'ground_floor_type_z', 'geo_level_1_id_0',\n",
       "       'geo_level_1_id_1', 'geo_level_1_id_2', 'geo_level_1_id_3',\n",
       "       'geo_level_1_id_4', 'geo_level_1_id_5', 'geo_level_1_id_6',\n",
       "       'geo_level_1_id_7', 'geo_level_1_id_8', 'geo_level_1_id_9',\n",
       "       'geo_level_1_id_10', 'geo_level_1_id_11', 'geo_level_1_id_12',\n",
       "       'geo_level_1_id_13', 'geo_level_1_id_14', 'geo_level_1_id_15',\n",
       "       'geo_level_1_id_16', 'geo_level_1_id_17', 'geo_level_1_id_18',\n",
       "       'geo_level_1_id_19', 'geo_level_1_id_20', 'geo_level_1_id_21',\n",
       "       'geo_level_1_id_22', 'geo_level_1_id_23', 'geo_level_1_id_24',\n",
       "       'geo_level_1_id_25', 'geo_level_1_id_26', 'geo_level_1_id_27',\n",
       "       'geo_level_1_id_28', 'geo_level_1_id_29', 'geo_level_1_id_30'],\n",
       "      dtype='object')"
      ]
     },
     "execution_count": 30,
     "metadata": {},
     "output_type": "execute_result"
    }
   ],
   "source": [
    "for df in X,X_train,X_valid,X_test:\n",
    "    print(df.shape)\n",
    "\n",
    "X_test.columns"
   ]
  },
  {
   "cell_type": "code",
   "execution_count": null,
   "metadata": {},
   "outputs": [],
   "source": [
    "import session_info\n",
    "session_info.show()"
   ]
  }
 ],
 "metadata": {
  "kernelspec": {
   "display_name": "11_minicomp",
   "language": "python",
   "name": "python3"
  },
  "language_info": {
   "codemirror_mode": {
    "name": "ipython",
    "version": 3
   },
   "file_extension": ".py",
   "mimetype": "text/x-python",
   "name": "python",
   "nbconvert_exporter": "python",
   "pygments_lexer": "ipython3",
   "version": "3.11.6"
  }
 },
 "nbformat": 4,
 "nbformat_minor": 2
}
