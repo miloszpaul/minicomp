{
 "cells": [
  {
   "cell_type": "markdown",
   "metadata": {},
   "source": [
    "# Mini Competition: Richter's Predictor"
   ]
  },
  {
   "cell_type": "markdown",
   "metadata": {},
   "source": [
    "Import modules and data"
   ]
  },
  {
   "cell_type": "code",
   "execution_count": 1,
   "metadata": {},
   "outputs": [],
   "source": [
    "# Modules\n",
    "import pandas as pd\n",
    "from sklearn.model_selection import train_test_split"
   ]
  },
  {
   "cell_type": "code",
   "execution_count": 2,
   "metadata": {},
   "outputs": [],
   "source": [
    "# Import scripts\n",
    "import helper_functions # various helper functions\n",
    "import lgb_optimized # Random forest"
   ]
  },
  {
   "cell_type": "code",
   "execution_count": 3,
   "metadata": {},
   "outputs": [],
   "source": [
    "# Load data\n",
    "X, y, X_test = helper_functions.imports()"
   ]
  },
  {
   "cell_type": "markdown",
   "metadata": {},
   "source": [
    "Data Analysis"
   ]
  },
  {
   "cell_type": "code",
   "execution_count": null,
   "metadata": {},
   "outputs": [],
   "source": []
  },
  {
   "cell_type": "markdown",
   "metadata": {},
   "source": [
    "Data Cleaning"
   ]
  },
  {
   "cell_type": "code",
   "execution_count": 4,
   "metadata": {},
   "outputs": [],
   "source": [
    "#First cleaning (before split - if required)"
   ]
  },
  {
   "cell_type": "code",
   "execution_count": 5,
   "metadata": {},
   "outputs": [],
   "source": [
    "y = y['damage_grade']"
   ]
  },
  {
   "cell_type": "code",
   "execution_count": 6,
   "metadata": {},
   "outputs": [],
   "source": [
    "# Split data in training and validation set\n",
    "X_train, X_valid, y_train, y_valid = train_test_split(X, y, test_size=0.2, random_state=42)"
   ]
  },
  {
   "cell_type": "code",
   "execution_count": 7,
   "metadata": {},
   "outputs": [],
   "source": [
    "#More cleaning (after split)"
   ]
  },
  {
   "cell_type": "markdown",
   "metadata": {},
   "source": [
    "Visualization"
   ]
  },
  {
   "cell_type": "code",
   "execution_count": null,
   "metadata": {},
   "outputs": [],
   "source": []
  },
  {
   "cell_type": "markdown",
   "metadata": {},
   "source": [
    "Generation of Random Forest and optimization"
   ]
  },
  {
   "cell_type": "code",
   "execution_count": 8,
   "metadata": {},
   "outputs": [],
   "source": [
    "#FOR NOW (to test tree gen) limit dataset to a few parameters only\n",
    "mask = ['has_superstructure_adobe_mud', 'age','count_floors_pre_eq','area_percentage','height_percentage','has_secondary_use',\n",
    "        'has_superstructure_cement_mortar_brick', 'has_superstructure_timber', 'has_superstructure_bamboo'] \n",
    "\n",
    "\n",
    "# apply mask\n",
    "X = X[mask]\n",
    "\n",
    "X_train = X_train[mask]\n",
    "X_valid = X_valid[mask]\n",
    "\n",
    "# Cut off 'building_id' from X_test!\n",
    "X_test_pred = X_test[mask]"
   ]
  },
  {
   "cell_type": "code",
   "execution_count": 9,
   "metadata": {},
   "outputs": [
    {
     "name": "stderr",
     "output_type": "stream",
     "text": [
      "[I 2023-10-06 10:28:53,152] A new study created in memory with name: no-name-8b040bdf-eff2-40d9-8c22-96a4f18a9f10\n",
      "[I 2023-10-06 10:28:53,691] Trial 0 finished with value: 0.3044454250685904 and parameters: {'learning_rate': 0.0947737966249032, 'subsample': 0.9750568587397936, 'num_leaves': 24, 'min_data_in_leaf': 20, 'max_depth': 11, 'lambda_l2': 0.42295073416393547}. Best is trial 0 with value: 0.3044454250685904.\n",
      "[I 2023-10-06 10:28:54,209] Trial 1 finished with value: 0.3063064791542756 and parameters: {'learning_rate': 0.06199892367750183, 'subsample': 0.8543124278277143, 'num_leaves': 33, 'min_data_in_leaf': 18, 'max_depth': 5, 'lambda_l2': 0.8291011074085208}. Best is trial 1 with value: 0.3063064791542756.\n",
      "[I 2023-10-06 10:28:54,941] Trial 2 finished with value: 0.2978070259588266 and parameters: {'learning_rate': 0.12307119946603033, 'subsample': 0.8652606561284283, 'num_leaves': 72, 'min_data_in_leaf': 8, 'max_depth': 8, 'lambda_l2': 0.4268508109125617}. Best is trial 1 with value: 0.3063064791542756.\n",
      "[I 2023-10-06 10:28:55,625] Trial 3 finished with value: 0.2929913086855586 and parameters: {'learning_rate': 0.27836714661105544, 'subsample': 0.7389665420674394, 'num_leaves': 74, 'min_data_in_leaf': 20, 'max_depth': 8, 'lambda_l2': 0.18632619773067094}. Best is trial 1 with value: 0.3063064791542756.\n",
      "[I 2023-10-06 10:28:56,063] Trial 4 finished with value: 0.3051361255539993 and parameters: {'learning_rate': 0.12297451310406321, 'subsample': 0.8104322801964379, 'num_leaves': 16, 'min_data_in_leaf': 11, 'max_depth': 13, 'lambda_l2': 0.939928932533984}. Best is trial 1 with value: 0.3063064791542756.\n",
      "[I 2023-10-06 10:28:56,586] Trial 5 finished with value: 0.29897737955910286 and parameters: {'learning_rate': 0.2517153997256832, 'subsample': 0.9939281069311482, 'num_leaves': 37, 'min_data_in_leaf': 8, 'max_depth': 10, 'lambda_l2': 0.5284724400413305}. Best is trial 1 with value: 0.3063064791542756.\n",
      "[I 2023-10-06 10:28:57,234] Trial 6 finished with value: 0.30653671264941196 and parameters: {'learning_rate': 0.0426433273483215, 'subsample': 0.9252047678479106, 'num_leaves': 44, 'min_data_in_leaf': 6, 'max_depth': 6, 'lambda_l2': 0.40223910596055}. Best is trial 6 with value: 0.30653671264941196.\n",
      "[I 2023-10-06 10:28:57,666] Trial 7 finished with value: 0.30287216285182555 and parameters: {'learning_rate': 0.1510882987703692, 'subsample': 0.9114309759563652, 'num_leaves': 18, 'min_data_in_leaf': 5, 'max_depth': 12, 'lambda_l2': 0.2424814395073127}. Best is trial 6 with value: 0.30653671264941196.\n",
      "[I 2023-10-06 10:28:58,158] Trial 8 finished with value: 0.29820993457531514 and parameters: {'learning_rate': 0.25257079149657785, 'subsample': 0.9956834956588123, 'num_leaves': 39, 'min_data_in_leaf': 1, 'max_depth': 5, 'lambda_l2': 0.11502923489447248}. Best is trial 6 with value: 0.30653671264941196.\n",
      "[I 2023-10-06 10:28:58,887] Trial 9 finished with value: 0.2941424761612402 and parameters: {'learning_rate': 0.189195993982916, 'subsample': 0.7061257874206573, 'num_leaves': 71, 'min_data_in_leaf': 19, 'max_depth': 15, 'lambda_l2': 0.9286698668838527}. Best is trial 6 with value: 0.30653671264941196.\n",
      "[I 2023-10-06 10:28:59,288] Trial 10 finished with value: 0.3396519636998523 and parameters: {'learning_rate': 0.02467873058021053, 'subsample': 0.9208652292780357, 'num_leaves': 98, 'min_data_in_leaf': 13, 'max_depth': 3, 'lambda_l2': 0.6763705832533802}. Best is trial 10 with value: 0.3396519636998523.\n",
      "[I 2023-10-06 10:28:59,663] Trial 11 finished with value: 0.3369275340074058 and parameters: {'learning_rate': 0.017162524426347293, 'subsample': 0.9252960817250148, 'num_leaves': 99, 'min_data_in_leaf': 14, 'max_depth': 3, 'lambda_l2': 0.6937541013931818}. Best is trial 10 with value: 0.3396519636998523.\n",
      "[I 2023-10-06 10:29:00,051] Trial 12 finished with value: 0.3351240382955047 and parameters: {'learning_rate': 0.011379248334602049, 'subsample': 0.9247582174558029, 'num_leaves': 100, 'min_data_in_leaf': 14, 'max_depth': 3, 'lambda_l2': 0.6961058432749804}. Best is trial 10 with value: 0.3396519636998523.\n",
      "[I 2023-10-06 10:29:00,455] Trial 13 finished with value: 0.3360257861514553 and parameters: {'learning_rate': 0.01426925528853823, 'subsample': 0.8933899348675711, 'num_leaves': 98, 'min_data_in_leaf': 14, 'max_depth': 3, 'lambda_l2': 0.6949522040130193}. Best is trial 10 with value: 0.3396519636998523.\n",
      "[I 2023-10-06 10:29:00,825] Trial 14 finished with value: 0.31515128259242914 and parameters: {'learning_rate': 0.061583800591193116, 'subsample': 0.9592939306008742, 'num_leaves': 87, 'min_data_in_leaf': 15, 'max_depth': 3, 'lambda_l2': 0.6506321817669699}. Best is trial 10 with value: 0.3396519636998523.\n",
      "[I 2023-10-06 10:29:01,629] Trial 15 finished with value: 0.30621054853130214 and parameters: {'learning_rate': 0.04239987047134294, 'subsample': 0.9488102695528845, 'num_leaves': 84, 'min_data_in_leaf': 11, 'max_depth': 6, 'lambda_l2': 0.7943621083477923}. Best is trial 10 with value: 0.3396519636998523.\n",
      "[I 2023-10-06 10:29:02,253] Trial 16 finished with value: 0.3047524030621055 and parameters: {'learning_rate': 0.08373965432950937, 'subsample': 0.8966406899352141, 'num_leaves': 58, 'min_data_in_leaf': 16, 'max_depth': 5, 'lambda_l2': 0.5726227150757109}. Best is trial 10 with value: 0.3396519636998523.\n",
      "[I 2023-10-06 10:29:03,182] Trial 17 finished with value: 0.3169931505535197 and parameters: {'learning_rate': 0.014075140744611164, 'subsample': 0.9457362655877737, 'num_leaves': 90, 'min_data_in_leaf': 12, 'max_depth': 7, 'lambda_l2': 0.00806973331144123}. Best is trial 10 with value: 0.3396519636998523.\n",
      "[I 2023-10-06 10:29:03,603] Trial 18 finished with value: 0.3051361255539993 and parameters: {'learning_rate': 0.08937691087567219, 'subsample': 0.8326664657500156, 'num_leaves': 59, 'min_data_in_leaf': 17, 'max_depth': 4, 'lambda_l2': 0.7804059842928656}. Best is trial 10 with value: 0.3396519636998523.\n",
      "[I 2023-10-06 10:29:04,550] Trial 19 finished with value: 0.30314076859615124 and parameters: {'learning_rate': 0.035157391619704624, 'subsample': 0.8836023634994938, 'num_leaves': 80, 'min_data_in_leaf': 13, 'max_depth': 9, 'lambda_l2': 0.6059818485979026}. Best is trial 10 with value: 0.3396519636998523.\n",
      "[I 2023-10-06 10:29:04,970] Trial 20 finished with value: 0.30818671936455555 and parameters: {'learning_rate': 0.07150796233063902, 'subsample': 0.9303592036077754, 'num_leaves': 94, 'min_data_in_leaf': 9, 'max_depth': 4, 'lambda_l2': 0.9830082650848422}. Best is trial 10 with value: 0.3396519636998523.\n",
      "[I 2023-10-06 10:29:05,353] Trial 21 finished with value: 0.3373496287484891 and parameters: {'learning_rate': 0.016940517895971077, 'subsample': 0.8984441050621989, 'num_leaves': 100, 'min_data_in_leaf': 15, 'max_depth': 3, 'lambda_l2': 0.6937869604102946}. Best is trial 10 with value: 0.3396519636998523.\n",
      "[I 2023-10-06 10:29:05,782] Trial 22 finished with value: 0.313347786880528 and parameters: {'learning_rate': 0.037164590006825704, 'subsample': 0.9072721079275415, 'num_leaves': 92, 'min_data_in_leaf': 16, 'max_depth': 4, 'lambda_l2': 0.7192584726589856}. Best is trial 10 with value: 0.3396519636998523.\n",
      "[I 2023-10-06 10:29:06,164] Trial 23 finished with value: 0.33652462539091726 and parameters: {'learning_rate': 0.015432762958731888, 'subsample': 0.8779778345226026, 'num_leaves': 100, 'min_data_in_leaf': 13, 'max_depth': 3, 'lambda_l2': 0.5898745214536661}. Best is trial 10 with value: 0.3396519636998523.\n",
      "[I 2023-10-06 10:29:06,838] Trial 24 finished with value: 0.30624892078049154 and parameters: {'learning_rate': 0.052061654000010296, 'subsample': 0.9694839369669676, 'num_leaves': 77, 'min_data_in_leaf': 10, 'max_depth': 6, 'lambda_l2': 0.8524255824731788}. Best is trial 10 with value: 0.3396519636998523.\n",
      "[I 2023-10-06 10:29:07,345] Trial 25 finished with value: 0.3180483874062278 and parameters: {'learning_rate': 0.030376216562103923, 'subsample': 0.9372868426143669, 'num_leaves': 66, 'min_data_in_leaf': 15, 'max_depth': 4, 'lambda_l2': 0.7430603716561047}. Best is trial 10 with value: 0.3396519636998523.\n",
      "[I 2023-10-06 10:29:07,862] Trial 26 finished with value: 0.3048867059342683 and parameters: {'learning_rate': 0.06277891517712905, 'subsample': 0.9128273680592578, 'num_leaves': 84, 'min_data_in_leaf': 18, 'max_depth': 5, 'lambda_l2': 0.6554350886016613}. Best is trial 10 with value: 0.3396519636998523.\n",
      "[I 2023-10-06 10:29:08,586] Trial 27 finished with value: 0.3059611289115712 and parameters: {'learning_rate': 0.03161929313041372, 'subsample': 0.869191968311517, 'num_leaves': 49, 'min_data_in_leaf': 12, 'max_depth': 7, 'lambda_l2': 0.5192384706727261}. Best is trial 10 with value: 0.3396519636998523.\n",
      "[I 2023-10-06 10:29:08,957] Trial 28 finished with value: 0.3350664799217206 and parameters: {'learning_rate': 0.01045215048307044, 'subsample': 0.9485408153109096, 'num_leaves': 94, 'min_data_in_leaf': 16, 'max_depth': 3, 'lambda_l2': 0.8498988511071687}. Best is trial 10 with value: 0.3396519636998523.\n",
      "[I 2023-10-06 10:29:09,389] Trial 29 finished with value: 0.306095431783734 and parameters: {'learning_rate': 0.08150607646068847, 'subsample': 0.9671883226309886, 'num_leaves': 83, 'min_data_in_leaf': 14, 'max_depth': 4, 'lambda_l2': 0.6369045801740364}. Best is trial 10 with value: 0.3396519636998523.\n",
      "[I 2023-10-06 10:29:10,122] Trial 30 finished with value: 0.29901575180829226 and parameters: {'learning_rate': 0.11356818806699162, 'subsample': 0.9789399180261188, 'num_leaves': 96, 'min_data_in_leaf': 17, 'max_depth': 7, 'lambda_l2': 0.44177533961813276}. Best is trial 10 with value: 0.3396519636998523.\n",
      "[I 2023-10-06 10:29:10,504] Trial 31 finished with value: 0.3161873333205426 and parameters: {'learning_rate': 0.05213910555514637, 'subsample': 0.8850107808052128, 'num_leaves': 100, 'min_data_in_leaf': 13, 'max_depth': 3, 'lambda_l2': 0.5791973691070031}. Best is trial 10 with value: 0.3396519636998523.\n",
      "[I 2023-10-06 10:29:10,870] Trial 32 finished with value: 0.32495539226031733 and parameters: {'learning_rate': 0.0282660325278597, 'subsample': 0.8757958455416796, 'num_leaves': 90, 'min_data_in_leaf': 12, 'max_depth': 3, 'lambda_l2': 0.7657576007912311}. Best is trial 10 with value: 0.3396519636998523.\n",
      "[I 2023-10-06 10:29:11,395] Trial 33 finished with value: 0.30484833368507896 and parameters: {'learning_rate': 0.06714838409890414, 'subsample': 0.8565803027195548, 'num_leaves': 88, 'min_data_in_leaf': 13, 'max_depth': 5, 'lambda_l2': 0.6952457565857476}. Best is trial 10 with value: 0.3396519636998523.\n",
      "[I 2023-10-06 10:29:11,899] Trial 34 finished with value: 0.3096256787091575 and parameters: {'learning_rate': 0.05480903224816403, 'subsample': 0.9063258307806542, 'num_leaves': 99, 'min_data_in_leaf': 14, 'max_depth': 4, 'lambda_l2': 0.596624132813967}. Best is trial 10 with value: 0.3396519636998523.\n",
      "[I 2023-10-06 10:29:12,447] Trial 35 finished with value: 0.3118896414113313 and parameters: {'learning_rate': 0.024836839894543866, 'subsample': 0.8554532182213048, 'num_leaves': 67, 'min_data_in_leaf': 10, 'max_depth': 5, 'lambda_l2': 0.8136850701233522}. Best is trial 10 with value: 0.3396519636998523.\n",
      "[I 2023-10-06 10:29:12,809] Trial 36 finished with value: 0.31916118263272003 and parameters: {'learning_rate': 0.044746091766808535, 'subsample': 0.8399100048895182, 'num_leaves': 29, 'min_data_in_leaf': 18, 'max_depth': 3, 'lambda_l2': 0.492094717344155}. Best is trial 10 with value: 0.3396519636998523.\n",
      "[I 2023-10-06 10:29:13,801] Trial 37 finished with value: 0.31622570556973195 and parameters: {'learning_rate': 0.010353082629483297, 'subsample': 0.9223966125819779, 'num_leaves': 79, 'min_data_in_leaf': 15, 'max_depth': 15, 'lambda_l2': 0.7311218101885302}. Best is trial 10 with value: 0.3396519636998523.\n",
      "[I 2023-10-06 10:29:14,703] Trial 38 finished with value: 0.29592678574854664 and parameters: {'learning_rate': 0.10580115718446598, 'subsample': 0.8885716107471159, 'num_leaves': 94, 'min_data_in_leaf': 20, 'max_depth': 11, 'lambda_l2': 0.6629785923299535}. Best is trial 10 with value: 0.3396519636998523.\n",
      "[I 2023-10-06 10:29:15,145] Trial 39 finished with value: 0.30901172272212735 and parameters: {'learning_rate': 0.0754187157812075, 'subsample': 0.9037164996275777, 'num_leaves': 12, 'min_data_in_leaf': 8, 'max_depth': 8, 'lambda_l2': 0.6300982888268216}. Best is trial 10 with value: 0.3396519636998523.\n",
      "[I 2023-10-06 10:29:15,878] Trial 40 finished with value: 0.30876230310239633 and parameters: {'learning_rate': 0.025405671732706796, 'subsample': 0.8635455511792534, 'num_leaves': 86, 'min_data_in_leaf': 6, 'max_depth': 6, 'lambda_l2': 0.8717587480423904}. Best is trial 10 with value: 0.3396519636998523.\n",
      "[I 2023-10-06 10:29:16,281] Trial 41 finished with value: 0.3405153393066135 and parameters: {'learning_rate': 0.02200769213679691, 'subsample': 0.8827258606196452, 'num_leaves': 97, 'min_data_in_leaf': 14, 'max_depth': 3, 'lambda_l2': 0.6984127084704486}. Best is trial 41 with value: 0.3405153393066135.\n",
      "[I 2023-10-06 10:29:16,777] Trial 42 finished with value: 0.31173615241457375 and parameters: {'learning_rate': 0.04749797031328723, 'subsample': 0.8747217558793463, 'num_leaves': 100, 'min_data_in_leaf': 12, 'max_depth': 4, 'lambda_l2': 0.5610101370907825}. Best is trial 41 with value: 0.3405153393066135.\n",
      "[I 2023-10-06 10:29:17,150] Trial 43 finished with value: 0.3395176608276894 and parameters: {'learning_rate': 0.02500544628503281, 'subsample': 0.9182847209551973, 'num_leaves': 94, 'min_data_in_leaf': 13, 'max_depth': 3, 'lambda_l2': 0.7581857865572333}. Best is trial 41 with value: 0.3405153393066135.\n",
      "[I 2023-10-06 10:29:18,244] Trial 44 finished with value: 0.30480996143588956 and parameters: {'learning_rate': 0.02655292368359378, 'subsample': 0.919326330857784, 'num_leaves': 91, 'min_data_in_leaf': 1, 'max_depth': 13, 'lambda_l2': 0.7550128402952963}. Best is trial 41 with value: 0.3405153393066135.\n",
      "[I 2023-10-06 10:29:18,606] Trial 45 finished with value: 0.32102223671840524 and parameters: {'learning_rate': 0.04163314315712779, 'subsample': 0.9345459518059424, 'num_leaves': 95, 'min_data_in_leaf': 11, 'max_depth': 3, 'lambda_l2': 0.8132288029645875}. Best is trial 41 with value: 0.3405153393066135.\n",
      "[I 2023-10-06 10:29:19,148] Trial 46 finished with value: 0.30528961455075687 and parameters: {'learning_rate': 0.06092719381975659, 'subsample': 0.8986044252382149, 'num_leaves': 96, 'min_data_in_leaf': 15, 'max_depth': 5, 'lambda_l2': 0.677676240125604}. Best is trial 41 with value: 0.3405153393066135.\n",
      "[I 2023-10-06 10:29:19,556] Trial 47 finished with value: 0.3047524030621055 and parameters: {'learning_rate': 0.09499815529527772, 'subsample': 0.9164012933673408, 'num_leaves': 76, 'min_data_in_leaf': 14, 'max_depth': 4, 'lambda_l2': 0.7142138210308099}. Best is trial 41 with value: 0.3405153393066135.\n",
      "[I 2023-10-06 10:29:19,983] Trial 48 finished with value: 0.34049615318201876 and parameters: {'learning_rate': 0.022283026998201276, 'subsample': 0.893332160517302, 'num_leaves': 82, 'min_data_in_leaf': 3, 'max_depth': 3, 'lambda_l2': 0.7643622640122723}. Best is trial 41 with value: 0.3405153393066135.\n",
      "[I 2023-10-06 10:29:20,711] Trial 49 finished with value: 0.30870474472861226 and parameters: {'learning_rate': 0.03788881756029436, 'subsample': 0.8950746202295693, 'num_leaves': 83, 'min_data_in_leaf': 3, 'max_depth': 5, 'lambda_l2': 0.9039290506981728}. Best is trial 41 with value: 0.3405153393066135.\n",
      "[I 2023-10-06 10:29:21,159] Trial 50 finished with value: 0.32714261046411236 and parameters: {'learning_rate': 0.022774049229386275, 'subsample': 0.9403968196142949, 'num_leaves': 73, 'min_data_in_leaf': 4, 'max_depth': 4, 'lambda_l2': 0.7815147847238815}. Best is trial 41 with value: 0.3405153393066135.\n",
      "[I 2023-10-06 10:29:21,532] Trial 51 finished with value: 0.338731029719307 and parameters: {'learning_rate': 0.019114210581149954, 'subsample': 0.9268971049803658, 'num_leaves': 89, 'min_data_in_leaf': 11, 'max_depth': 3, 'lambda_l2': 0.7495030651421368}. Best is trial 41 with value: 0.3405153393066135.\n",
      "[I 2023-10-06 10:29:21,971] Trial 52 finished with value: 0.3174919897929817 and parameters: {'learning_rate': 0.0505084022396416, 'subsample': 0.9157227921426221, 'num_leaves': 88, 'min_data_in_leaf': 9, 'max_depth': 3, 'lambda_l2': 0.8161281334752645}. Best is trial 41 with value: 0.3405153393066135.\n",
      "[I 2023-10-06 10:29:22,349] Trial 53 finished with value: 0.3387502158439017 and parameters: {'learning_rate': 0.01943937759412989, 'subsample': 0.8924229095249979, 'num_leaves': 91, 'min_data_in_leaf': 11, 'max_depth': 3, 'lambda_l2': 0.7356467521680311}. Best is trial 41 with value: 0.3405153393066135.\n",
      "[I 2023-10-06 10:29:22,775] Trial 54 finished with value: 0.31329022850674393 and parameters: {'learning_rate': 0.03641322278422675, 'subsample': 0.9303748820369975, 'num_leaves': 91, 'min_data_in_leaf': 7, 'max_depth': 4, 'lambda_l2': 0.7698277315585598}. Best is trial 41 with value: 0.3405153393066135.\n",
      "[I 2023-10-06 10:29:23,158] Trial 55 finished with value: 0.34063045605418163 and parameters: {'learning_rate': 0.0227713346179517, 'subsample': 0.8876960154859451, 'num_leaves': 81, 'min_data_in_leaf': 9, 'max_depth': 3, 'lambda_l2': 0.8844493878729586}. Best is trial 55 with value: 0.34063045605418163.\n",
      "[I 2023-10-06 10:29:23,571] Trial 56 finished with value: 0.3080524164923927 and parameters: {'learning_rate': 0.06956581803793589, 'subsample': 0.867344684051403, 'num_leaves': 69, 'min_data_in_leaf': 2, 'max_depth': 4, 'lambda_l2': 0.8890333390287218}. Best is trial 55 with value: 0.34063045605418163.\n",
      "[I 2023-10-06 10:29:24,294] Trial 57 finished with value: 0.30622973465589687 and parameters: {'learning_rate': 0.0417344418204398, 'subsample': 0.8859289855897907, 'num_leaves': 80, 'min_data_in_leaf': 9, 'max_depth': 6, 'lambda_l2': 0.841605724173862}. Best is trial 55 with value: 0.34063045605418163.\n",
      "[I 2023-10-06 10:29:24,657] Trial 58 finished with value: 0.3406880144279657 and parameters: {'learning_rate': 0.02263893162181335, 'subsample': 0.8888417653439746, 'num_leaves': 63, 'min_data_in_leaf': 5, 'max_depth': 3, 'lambda_l2': 0.9326787124592743}. Best is trial 58 with value: 0.3406880144279657.\n",
      "[I 2023-10-06 10:29:25,015] Trial 59 finished with value: 0.31601465819919033 and parameters: {'learning_rate': 0.05877243345041084, 'subsample': 0.8428071639801861, 'num_leaves': 62, 'min_data_in_leaf': 4, 'max_depth': 3, 'lambda_l2': 0.93997746996466}. Best is trial 58 with value: 0.3406880144279657.\n",
      "[I 2023-10-06 10:29:25,865] Trial 60 finished with value: 0.30421519157345406 and parameters: {'learning_rate': 0.03302068470993354, 'subsample': 0.9079999818994493, 'num_leaves': 64, 'min_data_in_leaf': 5, 'max_depth': 10, 'lambda_l2': 0.9690194558061883}. Best is trial 58 with value: 0.3406880144279657.\n",
      "[I 2023-10-06 10:29:26,241] Trial 61 finished with value: 0.34041940868364 and parameters: {'learning_rate': 0.021200773493970836, 'subsample': 0.894992175479481, 'num_leaves': 53, 'min_data_in_leaf': 2, 'max_depth': 3, 'lambda_l2': 0.8914840733811145}. Best is trial 58 with value: 0.3406880144279657.\n",
      "[I 2023-10-06 10:29:26,667] Trial 62 finished with value: 0.3355077607873986 and parameters: {'learning_rate': 0.01074684777407073, 'subsample': 0.8859942083685028, 'num_leaves': 51, 'min_data_in_leaf': 2, 'max_depth': 4, 'lambda_l2': 0.9080237115359138}. Best is trial 58 with value: 0.3406880144279657.\n",
      "[I 2023-10-06 10:29:27,030] Trial 63 finished with value: 0.3396519636998523 and parameters: {'learning_rate': 0.02551040475645618, 'subsample': 0.8988003716304385, 'num_leaves': 41, 'min_data_in_leaf': 3, 'max_depth': 3, 'lambda_l2': 0.9540380019415066}. Best is trial 58 with value: 0.3406880144279657.\n",
      "[I 2023-10-06 10:29:27,447] Trial 64 finished with value: 0.3116210356670056 and parameters: {'learning_rate': 0.046455165101751, 'subsample': 0.8795481348103411, 'num_leaves': 38, 'min_data_in_leaf': 2, 'max_depth': 4, 'lambda_l2': 0.9922411652041948}. Best is trial 58 with value: 0.3406880144279657.\n",
      "[I 2023-10-06 10:29:27,809] Trial 65 finished with value: 0.3243989946470712 and parameters: {'learning_rate': 0.030976605797119878, 'subsample': 0.9022490783234909, 'num_leaves': 46, 'min_data_in_leaf': 3, 'max_depth': 3, 'lambda_l2': 0.9426906914446889}. Best is trial 58 with value: 0.3406880144279657.\n",
      "[I 2023-10-06 10:29:28,371] Trial 66 finished with value: 0.316283263943516 and parameters: {'learning_rate': 0.019556599090396087, 'subsample': 0.8725016662304393, 'num_leaves': 55, 'min_data_in_leaf': 4, 'max_depth': 5, 'lambda_l2': 0.8682279432464531}. Best is trial 58 with value: 0.3406880144279657.\n",
      "[I 2023-10-06 10:29:28,796] Trial 67 finished with value: 0.3092419562172637 and parameters: {'learning_rate': 0.05563026519083418, 'subsample': 0.8928332527033754, 'num_leaves': 34, 'min_data_in_leaf': 3, 'max_depth': 4, 'lambda_l2': 0.9188215633523235}. Best is trial 58 with value: 0.3406880144279657.\n",
      "[I 2023-10-06 10:29:29,174] Trial 68 finished with value: 0.32459085589301817 and parameters: {'learning_rate': 0.034316933486958384, 'subsample': 0.8620915986712337, 'num_leaves': 54, 'min_data_in_leaf': 5, 'max_depth': 3, 'lambda_l2': 0.8731047529869989}. Best is trial 58 with value: 0.3406880144279657.\n",
      "[I 2023-10-06 10:29:29,531] Trial 69 finished with value: 0.3350664799217206 and parameters: {'learning_rate': 0.010007791659920093, 'subsample': 0.9042327851814105, 'num_leaves': 44, 'min_data_in_leaf': 1, 'max_depth': 3, 'lambda_l2': 0.956167399880107}. Best is trial 58 with value: 0.3406880144279657.\n",
      "[I 2023-10-06 10:29:29,956] Trial 70 finished with value: 0.31302162276241824 and parameters: {'learning_rate': 0.04368436604293228, 'subsample': 0.8751784738353693, 'num_leaves': 41, 'min_data_in_leaf': 6, 'max_depth': 4, 'lambda_l2': 0.9967137635964934}. Best is trial 58 with value: 0.3406880144279657.\n",
      "[I 2023-10-06 10:29:30,368] Trial 71 finished with value: 0.34105255079526486 and parameters: {'learning_rate': 0.02436755446148246, 'subsample': 0.9153417156437949, 'num_leaves': 59, 'min_data_in_leaf': 7, 'max_depth': 3, 'lambda_l2': 0.7975816809990208}. Best is trial 71 with value: 0.34105255079526486.\n",
      "[I 2023-10-06 10:29:30,811] Trial 72 finished with value: 0.338980449339038 and parameters: {'learning_rate': 0.019727159164718473, 'subsample': 0.9113565742849776, 'num_leaves': 62, 'min_data_in_leaf': 7, 'max_depth': 3, 'lambda_l2': 0.8018103291799076}. Best is trial 71 with value: 0.34105255079526486.\n",
      "[I 2023-10-06 10:29:31,338] Trial 73 finished with value: 0.31881583239001554 and parameters: {'learning_rate': 0.02833155852178889, 'subsample': 0.882762520376509, 'num_leaves': 59, 'min_data_in_leaf': 7, 'max_depth': 4, 'lambda_l2': 0.8352953323856973}. Best is trial 71 with value: 0.34105255079526486.\n",
      "[I 2023-10-06 10:29:31,765] Trial 74 finished with value: 0.3206960726002955 and parameters: {'learning_rate': 0.03732947494133883, 'subsample': 0.8942317581009109, 'num_leaves': 51, 'min_data_in_leaf': 8, 'max_depth': 3, 'lambda_l2': 0.9175579615851599}. Best is trial 71 with value: 0.34105255079526486.\n",
      "[I 2023-10-06 10:29:32,280] Trial 75 finished with value: 0.3376757928665989 and parameters: {'learning_rate': 0.01832038867913647, 'subsample': 0.9110509188750431, 'num_leaves': 26, 'min_data_in_leaf': 5, 'max_depth': 3, 'lambda_l2': 0.8873329406191365}. Best is trial 71 with value: 0.34105255079526486.\n",
      "[I 2023-10-06 10:29:32,902] Trial 76 finished with value: 0.30628729302968094 and parameters: {'learning_rate': 0.05229700497698073, 'subsample': 0.9015547975361924, 'num_leaves': 70, 'min_data_in_leaf': 3, 'max_depth': 5, 'lambda_l2': 0.9622963262280014}. Best is trial 71 with value: 0.34105255079526486.\n",
      "[I 2023-10-06 10:29:33,409] Trial 77 finished with value: 0.30814834711536615 and parameters: {'learning_rate': 0.0638077220857638, 'subsample': 0.9242131751042457, 'num_leaves': 75, 'min_data_in_leaf': 4, 'max_depth': 4, 'lambda_l2': 0.8416887597351158}. Best is trial 71 with value: 0.34105255079526486.\n",
      "[I 2023-10-06 10:29:33,834] Trial 78 finished with value: 0.3243606223978818 and parameters: {'learning_rate': 0.031683218887661305, 'subsample': 0.8875730059419958, 'num_leaves': 57, 'min_data_in_leaf': 2, 'max_depth': 3, 'lambda_l2': 0.7841782337440498}. Best is trial 71 with value: 0.34105255079526486.\n",
      "[I 2023-10-06 10:29:34,295] Trial 79 finished with value: 0.3409949924214808 and parameters: {'learning_rate': 0.024087293941523157, 'subsample': 0.9415887909392819, 'num_leaves': 47, 'min_data_in_leaf': 6, 'max_depth': 3, 'lambda_l2': 0.9260585331742686}. Best is trial 71 with value: 0.34105255079526486.\n",
      "[I 2023-10-06 10:29:35,133] Trial 80 finished with value: 0.3044454250685904 and parameters: {'learning_rate': 0.04825161241067215, 'subsample': 0.9420816574793875, 'num_leaves': 47, 'min_data_in_leaf': 6, 'max_depth': 14, 'lambda_l2': 0.8548031485770596}. Best is trial 71 with value: 0.34105255079526486.\n",
      "[I 2023-10-06 10:29:35,561] Trial 81 finished with value: 0.33970952207363636 and parameters: {'learning_rate': 0.026615804626099634, 'subsample': 0.9537113413072221, 'num_leaves': 40, 'min_data_in_leaf': 5, 'max_depth': 3, 'lambda_l2': 0.9307551813359994}. Best is trial 71 with value: 0.34105255079526486.\n",
      "[I 2023-10-06 10:29:35,992] Trial 82 finished with value: 0.3376182344928148 and parameters: {'learning_rate': 0.017485356206294288, 'subsample': 0.9497349231434731, 'num_leaves': 51, 'min_data_in_leaf': 5, 'max_depth': 3, 'lambda_l2': 0.8911043327740423}. Best is trial 71 with value: 0.34105255079526486.\n",
      "[I 2023-10-06 10:29:36,498] Trial 83 finished with value: 0.313098367260797 and parameters: {'learning_rate': 0.03906227656494701, 'subsample': 0.9350316223769257, 'num_leaves': 36, 'min_data_in_leaf': 6, 'max_depth': 4, 'lambda_l2': 0.9311967576274635}. Best is trial 71 with value: 0.34105255079526486.\n",
      "[I 2023-10-06 10:29:36,932] Trial 84 finished with value: 0.33976708044742043 and parameters: {'learning_rate': 0.027014321190135776, 'subsample': 0.9569858443946926, 'num_leaves': 43, 'min_data_in_leaf': 8, 'max_depth': 3, 'lambda_l2': 0.8210553114338255}. Best is trial 71 with value: 0.34105255079526486.\n",
      "[I 2023-10-06 10:29:37,377] Trial 85 finished with value: 0.33600660002686056 and parameters: {'learning_rate': 0.014293076255429296, 'subsample': 0.9552963182308349, 'num_leaves': 43, 'min_data_in_leaf': 8, 'max_depth': 3, 'lambda_l2': 0.8238743871476932}. Best is trial 71 with value: 0.34105255079526486.\n",
      "[I 2023-10-06 10:29:37,961] Trial 86 finished with value: 0.3184896682719058 and parameters: {'learning_rate': 0.029177387074669936, 'subsample': 0.9776552034017685, 'num_leaves': 47, 'min_data_in_leaf': 7, 'max_depth': 4, 'lambda_l2': 0.7977995557084873}. Best is trial 71 with value: 0.34105255079526486.\n",
      "[I 2023-10-06 10:29:38,651] Trial 87 finished with value: 0.3130599950116076 and parameters: {'learning_rate': 0.040583102827315656, 'subsample': 0.9583269519541869, 'num_leaves': 31, 'min_data_in_leaf': 8, 'max_depth': 4, 'lambda_l2': 0.8667611556557681}. Best is trial 71 with value: 0.34105255079526486.\n",
      "[I 2023-10-06 10:29:39,156] Trial 88 finished with value: 0.3406112699295869 and parameters: {'learning_rate': 0.023225539795204496, 'subsample': 0.9293532647627508, 'num_leaves': 54, 'min_data_in_leaf': 10, 'max_depth': 3, 'lambda_l2': 0.9089557647058155}. Best is trial 71 with value: 0.34105255079526486.\n",
      "[I 2023-10-06 10:29:40,258] Trial 89 finished with value: 0.3328600755933309 and parameters: {'learning_rate': 0.010195015153977376, 'subsample': 0.9298520035409886, 'num_leaves': 57, 'min_data_in_leaf': 10, 'max_depth': 8, 'lambda_l2': 0.9071308305920203}. Best is trial 71 with value: 0.34105255079526486.\n",
      "[I 2023-10-06 10:29:40,911] Trial 90 finished with value: 0.3124460390245774 and parameters: {'learning_rate': 0.023046391027817397, 'subsample': 0.9459669675549525, 'num_leaves': 53, 'min_data_in_leaf': 9, 'max_depth': 5, 'lambda_l2': 0.8283687163737674}. Best is trial 71 with value: 0.34105255079526486.\n",
      "[I 2023-10-06 10:29:41,361] Trial 91 finished with value: 0.3243222501486925 and parameters: {'learning_rate': 0.03220836552041315, 'subsample': 0.9206078187145551, 'num_leaves': 60, 'min_data_in_leaf': 7, 'max_depth': 3, 'lambda_l2': 0.9293139445309551}. Best is trial 71 with value: 0.34105255079526486.\n",
      "[I 2023-10-06 10:29:41,798] Trial 92 finished with value: 0.34053452543120816 and parameters: {'learning_rate': 0.022163479075811537, 'subsample': 0.9381772133871891, 'num_leaves': 49, 'min_data_in_leaf': 10, 'max_depth': 3, 'lambda_l2': 0.9748926232330857}. Best is trial 71 with value: 0.34105255079526486.\n",
      "[I 2023-10-06 10:29:42,304] Trial 93 finished with value: 0.3373304426238944 and parameters: {'learning_rate': 0.01701146733911038, 'subsample': 0.9399176120042029, 'num_leaves': 49, 'min_data_in_leaf': 10, 'max_depth': 3, 'lambda_l2': 0.9864840101570518}. Best is trial 71 with value: 0.34105255079526486.\n",
      "[I 2023-10-06 10:29:42,741] Trial 94 finished with value: 0.3175687342913605 and parameters: {'learning_rate': 0.0471726575894663, 'subsample': 0.9629365577190412, 'num_leaves': 49, 'min_data_in_leaf': 9, 'max_depth': 3, 'lambda_l2': 0.8849259784545951}. Best is trial 71 with value: 0.34105255079526486.\n",
      "[I 2023-10-06 10:29:43,276] Trial 95 finished with value: 0.31353964812647495 and parameters: {'learning_rate': 0.03674190714650283, 'subsample': 0.9148340999849733, 'num_leaves': 53, 'min_data_in_leaf': 10, 'max_depth': 4, 'lambda_l2': 0.9771659577207439}. Best is trial 71 with value: 0.34105255079526486.\n",
      "[I 2023-10-06 10:29:44,420] Trial 96 finished with value: 0.3069204351413058 and parameters: {'learning_rate': 0.02249059504377275, 'subsample': 0.9277892770012217, 'num_leaves': 66, 'min_data_in_leaf': 9, 'max_depth': 9, 'lambda_l2': 0.8565175898637863}. Best is trial 71 with value: 0.34105255079526486.\n",
      "[I 2023-10-06 10:29:44,873] Trial 97 finished with value: 0.31488267684810345 and parameters: {'learning_rate': 0.05845130573704462, 'subsample': 0.9338006360994795, 'num_leaves': 56, 'min_data_in_leaf': 8, 'max_depth': 3, 'lambda_l2': 0.8989732805811521}. Best is trial 71 with value: 0.34105255079526486.\n",
      "[I 2023-10-06 10:29:45,468] Trial 98 finished with value: 0.3380595153584927 and parameters: {'learning_rate': 0.015891404482631197, 'subsample': 0.9122372575504052, 'num_leaves': 61, 'min_data_in_leaf': 11, 'max_depth': 4, 'lambda_l2': 0.9606019744689925}. Best is trial 71 with value: 0.34105255079526486.\n",
      "[I 2023-10-06 10:29:45,958] Trial 99 finished with value: 0.31992862761650775 and parameters: {'learning_rate': 0.04348057581312627, 'subsample': 0.9211080704213905, 'num_leaves': 64, 'min_data_in_leaf': 6, 'max_depth': 3, 'lambda_l2': 0.8076231029548785}. Best is trial 71 with value: 0.34105255079526486.\n"
     ]
    },
    {
     "name": "stdout",
     "output_type": "stream",
     "text": [
      "Number of finished trials: 100\n",
      "Best trial:\n",
      "--------------------------------\n",
      "Best F1 Score: 0.34105255079526486\n",
      "--------------------------------\n",
      "[LightGBM] [Warning] min_data_in_leaf is set=7, min_child_samples=20 will be ignored. Current value: min_data_in_leaf=7\n",
      "[LightGBM] [Warning] lambda_l2 is set=0.7975816809990208, reg_lambda=0.0 will be ignored. Current value: lambda_l2=0.7975816809990208\n",
      "[LightGBM] [Warning] min_data_in_leaf is set=7, min_child_samples=20 will be ignored. Current value: min_data_in_leaf=7\n",
      "[LightGBM] [Warning] lambda_l2 is set=0.7975816809990208, reg_lambda=0.0 will be ignored. Current value: lambda_l2=0.7975816809990208\n",
      "[LightGBM] [Info] Auto-choosing row-wise multi-threading, the overhead of testing was 0.003777 seconds.\n",
      "You can set `force_row_wise=true` to remove the overhead.\n",
      "And if memory is not enough, you can set `force_col_wise=true`.\n",
      "[LightGBM] [Info] Total Bins 157\n",
      "[LightGBM] [Info] Number of data points in the train set: 260601, number of used features: 9\n",
      "[LightGBM] [Info] Start training from score -2.339167\n",
      "[LightGBM] [Info] Start training from score -0.564030\n",
      "[LightGBM] [Info] Start training from score -1.094580\n",
      "[LightGBM] [Warning] No further splits with positive gain, best gain: -inf\n",
      "[LightGBM] [Warning] No further splits with positive gain, best gain: -inf\n",
      "[LightGBM] [Warning] No further splits with positive gain, best gain: -inf\n",
      "[LightGBM] [Warning] No further splits with positive gain, best gain: -inf\n",
      "[LightGBM] [Warning] min_data_in_leaf is set=7, min_child_samples=20 will be ignored. Current value: min_data_in_leaf=7\n",
      "[LightGBM] [Warning] lambda_l2 is set=0.7975816809990208, reg_lambda=0.0 will be ignored. Current value: lambda_l2=0.7975816809990208\n"
     ]
    }
   ],
   "source": [
    "# Initiate model\n",
    "model = lgb_optimized.LGBM(X_train, X_valid, y_train, y_valid)\n",
    "# Generate and optimize Random Forest, feed with test data to create prediction\n",
    "\n",
    "y_pred = model.optimization(X, y, X_test_pred)"
   ]
  },
  {
   "cell_type": "markdown",
   "metadata": {},
   "source": [
    "Evaluation"
   ]
  },
  {
   "cell_type": "code",
   "execution_count": null,
   "metadata": {},
   "outputs": [],
   "source": []
  },
  {
   "cell_type": "markdown",
   "metadata": {},
   "source": [
    "Export"
   ]
  },
  {
   "cell_type": "code",
   "execution_count": 10,
   "metadata": {},
   "outputs": [],
   "source": [
    "# Export prediction to creat csv by DrivenData.org datastandards\n",
    "helper_functions.write_output(X_test, y_pred)"
   ]
  }
 ],
 "metadata": {
  "kernelspec": {
   "display_name": "11_minicomp",
   "language": "python",
   "name": "python3"
  },
  "language_info": {
   "codemirror_mode": {
    "name": "ipython",
    "version": 3
   },
   "file_extension": ".py",
   "mimetype": "text/x-python",
   "name": "python",
   "nbconvert_exporter": "python",
   "pygments_lexer": "ipython3",
   "version": "3.12.0"
  }
 },
 "nbformat": 4,
 "nbformat_minor": 2
}
