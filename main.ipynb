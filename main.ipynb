{
 "cells": [
  {
   "cell_type": "markdown",
   "metadata": {},
   "source": [
    "# Mini Competition: Richter's Predictor"
   ]
  },
  {
   "cell_type": "markdown",
   "metadata": {},
   "source": [
    "Import modules and data"
   ]
  },
  {
   "cell_type": "code",
   "execution_count": 1,
   "metadata": {},
   "outputs": [],
   "source": [
    "# Modules\n",
    "import pandas as pd\n",
    "from sklearn.model_selection import train_test_split\n",
    "from sklearn.metrics import f1_score"
   ]
  },
  {
   "cell_type": "code",
   "execution_count": 2,
   "metadata": {},
   "outputs": [],
   "source": [
    "# Import scripts\n",
    "import helper_functions # various helper functions\n",
    "import log_regression # Simple regression model\n",
    "import lgb_optimized # Random forest"
   ]
  },
  {
   "cell_type": "code",
   "execution_count": 3,
   "metadata": {},
   "outputs": [],
   "source": [
    "# Load data\n",
    "X, y, X_test = helper_functions.imports()"
   ]
  },
  {
   "cell_type": "markdown",
   "metadata": {},
   "source": [
    "### Data Analysis"
   ]
  },
  {
   "cell_type": "markdown",
   "metadata": {},
   "source": [
    "Start with a basic analysis of the data to get a general feeling of what we are dealing with."
   ]
  },
  {
   "cell_type": "code",
   "execution_count": 4,
   "metadata": {},
   "outputs": [
    {
     "name": "stdout",
     "output_type": "stream",
     "text": [
      "Proportions of the DataFrame X, containing the features for testing: (260601, 39)\n",
      "Proportions of the DataFrage y, containing the target value for testing: (260601, 2)\n",
      "Proportions of the DataFrame X, containing the features for the prediction: (86868, 39)\n"
     ]
    }
   ],
   "source": [
    "print(f\"Proportions of the DataFrame X, containing the features for testing: {X.shape}\")\n",
    "print(f\"Proportions of the DataFrage y, containing the target value for testing: {y.shape}\")\n",
    "print(f\"Proportions of the DataFrame X, containing the features for the prediction: {X_test.shape}\")"
   ]
  },
  {
   "cell_type": "code",
   "execution_count": 5,
   "metadata": {},
   "outputs": [
    {
     "data": {
      "text/html": [
       "<div>\n",
       "<style scoped>\n",
       "    .dataframe tbody tr th:only-of-type {\n",
       "        vertical-align: middle;\n",
       "    }\n",
       "\n",
       "    .dataframe tbody tr th {\n",
       "        vertical-align: top;\n",
       "    }\n",
       "\n",
       "    .dataframe thead th {\n",
       "        text-align: right;\n",
       "    }\n",
       "</style>\n",
       "<table border=\"1\" class=\"dataframe\">\n",
       "  <thead>\n",
       "    <tr style=\"text-align: right;\">\n",
       "      <th></th>\n",
       "      <th>building_id</th>\n",
       "      <th>geo_level_1_id</th>\n",
       "      <th>geo_level_2_id</th>\n",
       "      <th>geo_level_3_id</th>\n",
       "      <th>count_floors_pre_eq</th>\n",
       "      <th>age</th>\n",
       "      <th>area_percentage</th>\n",
       "      <th>height_percentage</th>\n",
       "      <th>land_surface_condition</th>\n",
       "      <th>foundation_type</th>\n",
       "      <th>...</th>\n",
       "      <th>has_secondary_use_agriculture</th>\n",
       "      <th>has_secondary_use_hotel</th>\n",
       "      <th>has_secondary_use_rental</th>\n",
       "      <th>has_secondary_use_institution</th>\n",
       "      <th>has_secondary_use_school</th>\n",
       "      <th>has_secondary_use_industry</th>\n",
       "      <th>has_secondary_use_health_post</th>\n",
       "      <th>has_secondary_use_gov_office</th>\n",
       "      <th>has_secondary_use_use_police</th>\n",
       "      <th>has_secondary_use_other</th>\n",
       "    </tr>\n",
       "  </thead>\n",
       "  <tbody>\n",
       "    <tr>\n",
       "      <th>0</th>\n",
       "      <td>802906</td>\n",
       "      <td>6</td>\n",
       "      <td>487</td>\n",
       "      <td>12198</td>\n",
       "      <td>2</td>\n",
       "      <td>30</td>\n",
       "      <td>6</td>\n",
       "      <td>5</td>\n",
       "      <td>t</td>\n",
       "      <td>r</td>\n",
       "      <td>...</td>\n",
       "      <td>0</td>\n",
       "      <td>0</td>\n",
       "      <td>0</td>\n",
       "      <td>0</td>\n",
       "      <td>0</td>\n",
       "      <td>0</td>\n",
       "      <td>0</td>\n",
       "      <td>0</td>\n",
       "      <td>0</td>\n",
       "      <td>0</td>\n",
       "    </tr>\n",
       "    <tr>\n",
       "      <th>1</th>\n",
       "      <td>28830</td>\n",
       "      <td>8</td>\n",
       "      <td>900</td>\n",
       "      <td>2812</td>\n",
       "      <td>2</td>\n",
       "      <td>10</td>\n",
       "      <td>8</td>\n",
       "      <td>7</td>\n",
       "      <td>o</td>\n",
       "      <td>r</td>\n",
       "      <td>...</td>\n",
       "      <td>0</td>\n",
       "      <td>0</td>\n",
       "      <td>0</td>\n",
       "      <td>0</td>\n",
       "      <td>0</td>\n",
       "      <td>0</td>\n",
       "      <td>0</td>\n",
       "      <td>0</td>\n",
       "      <td>0</td>\n",
       "      <td>0</td>\n",
       "    </tr>\n",
       "    <tr>\n",
       "      <th>2</th>\n",
       "      <td>94947</td>\n",
       "      <td>21</td>\n",
       "      <td>363</td>\n",
       "      <td>8973</td>\n",
       "      <td>2</td>\n",
       "      <td>10</td>\n",
       "      <td>5</td>\n",
       "      <td>5</td>\n",
       "      <td>t</td>\n",
       "      <td>r</td>\n",
       "      <td>...</td>\n",
       "      <td>0</td>\n",
       "      <td>0</td>\n",
       "      <td>0</td>\n",
       "      <td>0</td>\n",
       "      <td>0</td>\n",
       "      <td>0</td>\n",
       "      <td>0</td>\n",
       "      <td>0</td>\n",
       "      <td>0</td>\n",
       "      <td>0</td>\n",
       "    </tr>\n",
       "    <tr>\n",
       "      <th>3</th>\n",
       "      <td>590882</td>\n",
       "      <td>22</td>\n",
       "      <td>418</td>\n",
       "      <td>10694</td>\n",
       "      <td>2</td>\n",
       "      <td>10</td>\n",
       "      <td>6</td>\n",
       "      <td>5</td>\n",
       "      <td>t</td>\n",
       "      <td>r</td>\n",
       "      <td>...</td>\n",
       "      <td>0</td>\n",
       "      <td>0</td>\n",
       "      <td>0</td>\n",
       "      <td>0</td>\n",
       "      <td>0</td>\n",
       "      <td>0</td>\n",
       "      <td>0</td>\n",
       "      <td>0</td>\n",
       "      <td>0</td>\n",
       "      <td>0</td>\n",
       "    </tr>\n",
       "    <tr>\n",
       "      <th>4</th>\n",
       "      <td>201944</td>\n",
       "      <td>11</td>\n",
       "      <td>131</td>\n",
       "      <td>1488</td>\n",
       "      <td>3</td>\n",
       "      <td>30</td>\n",
       "      <td>8</td>\n",
       "      <td>9</td>\n",
       "      <td>t</td>\n",
       "      <td>r</td>\n",
       "      <td>...</td>\n",
       "      <td>0</td>\n",
       "      <td>0</td>\n",
       "      <td>0</td>\n",
       "      <td>0</td>\n",
       "      <td>0</td>\n",
       "      <td>0</td>\n",
       "      <td>0</td>\n",
       "      <td>0</td>\n",
       "      <td>0</td>\n",
       "      <td>0</td>\n",
       "    </tr>\n",
       "  </tbody>\n",
       "</table>\n",
       "<p>5 rows × 39 columns</p>\n",
       "</div>"
      ],
      "text/plain": [
       "   building_id  geo_level_1_id  geo_level_2_id  geo_level_3_id  \\\n",
       "0       802906               6             487           12198   \n",
       "1        28830               8             900            2812   \n",
       "2        94947              21             363            8973   \n",
       "3       590882              22             418           10694   \n",
       "4       201944              11             131            1488   \n",
       "\n",
       "   count_floors_pre_eq  age  area_percentage  height_percentage  \\\n",
       "0                    2   30                6                  5   \n",
       "1                    2   10                8                  7   \n",
       "2                    2   10                5                  5   \n",
       "3                    2   10                6                  5   \n",
       "4                    3   30                8                  9   \n",
       "\n",
       "  land_surface_condition foundation_type  ... has_secondary_use_agriculture  \\\n",
       "0                      t               r  ...                             0   \n",
       "1                      o               r  ...                             0   \n",
       "2                      t               r  ...                             0   \n",
       "3                      t               r  ...                             0   \n",
       "4                      t               r  ...                             0   \n",
       "\n",
       "  has_secondary_use_hotel has_secondary_use_rental  \\\n",
       "0                       0                        0   \n",
       "1                       0                        0   \n",
       "2                       0                        0   \n",
       "3                       0                        0   \n",
       "4                       0                        0   \n",
       "\n",
       "  has_secondary_use_institution has_secondary_use_school  \\\n",
       "0                             0                        0   \n",
       "1                             0                        0   \n",
       "2                             0                        0   \n",
       "3                             0                        0   \n",
       "4                             0                        0   \n",
       "\n",
       "   has_secondary_use_industry  has_secondary_use_health_post  \\\n",
       "0                           0                              0   \n",
       "1                           0                              0   \n",
       "2                           0                              0   \n",
       "3                           0                              0   \n",
       "4                           0                              0   \n",
       "\n",
       "   has_secondary_use_gov_office  has_secondary_use_use_police  \\\n",
       "0                             0                             0   \n",
       "1                             0                             0   \n",
       "2                             0                             0   \n",
       "3                             0                             0   \n",
       "4                             0                             0   \n",
       "\n",
       "   has_secondary_use_other  \n",
       "0                        0  \n",
       "1                        0  \n",
       "2                        0  \n",
       "3                        0  \n",
       "4                        0  \n",
       "\n",
       "[5 rows x 39 columns]"
      ]
     },
     "execution_count": 5,
     "metadata": {},
     "output_type": "execute_result"
    }
   ],
   "source": [
    "X.head()"
   ]
  },
  {
   "cell_type": "code",
   "execution_count": 6,
   "metadata": {},
   "outputs": [
    {
     "data": {
      "text/html": [
       "<div>\n",
       "<style scoped>\n",
       "    .dataframe tbody tr th:only-of-type {\n",
       "        vertical-align: middle;\n",
       "    }\n",
       "\n",
       "    .dataframe tbody tr th {\n",
       "        vertical-align: top;\n",
       "    }\n",
       "\n",
       "    .dataframe thead th {\n",
       "        text-align: right;\n",
       "    }\n",
       "</style>\n",
       "<table border=\"1\" class=\"dataframe\">\n",
       "  <thead>\n",
       "    <tr style=\"text-align: right;\">\n",
       "      <th></th>\n",
       "      <th>building_id</th>\n",
       "      <th>damage_grade</th>\n",
       "    </tr>\n",
       "  </thead>\n",
       "  <tbody>\n",
       "    <tr>\n",
       "      <th>0</th>\n",
       "      <td>802906</td>\n",
       "      <td>3</td>\n",
       "    </tr>\n",
       "    <tr>\n",
       "      <th>1</th>\n",
       "      <td>28830</td>\n",
       "      <td>2</td>\n",
       "    </tr>\n",
       "    <tr>\n",
       "      <th>2</th>\n",
       "      <td>94947</td>\n",
       "      <td>3</td>\n",
       "    </tr>\n",
       "    <tr>\n",
       "      <th>3</th>\n",
       "      <td>590882</td>\n",
       "      <td>2</td>\n",
       "    </tr>\n",
       "    <tr>\n",
       "      <th>4</th>\n",
       "      <td>201944</td>\n",
       "      <td>3</td>\n",
       "    </tr>\n",
       "  </tbody>\n",
       "</table>\n",
       "</div>"
      ],
      "text/plain": [
       "   building_id  damage_grade\n",
       "0       802906             3\n",
       "1        28830             2\n",
       "2        94947             3\n",
       "3       590882             2\n",
       "4       201944             3"
      ]
     },
     "execution_count": 6,
     "metadata": {},
     "output_type": "execute_result"
    }
   ],
   "source": [
    "y.head()"
   ]
  },
  {
   "cell_type": "code",
   "execution_count": 7,
   "metadata": {},
   "outputs": [
    {
     "data": {
      "text/html": [
       "<div>\n",
       "<style scoped>\n",
       "    .dataframe tbody tr th:only-of-type {\n",
       "        vertical-align: middle;\n",
       "    }\n",
       "\n",
       "    .dataframe tbody tr th {\n",
       "        vertical-align: top;\n",
       "    }\n",
       "\n",
       "    .dataframe thead th {\n",
       "        text-align: right;\n",
       "    }\n",
       "</style>\n",
       "<table border=\"1\" class=\"dataframe\">\n",
       "  <thead>\n",
       "    <tr style=\"text-align: right;\">\n",
       "      <th></th>\n",
       "      <th>building_id</th>\n",
       "      <th>geo_level_1_id</th>\n",
       "      <th>geo_level_2_id</th>\n",
       "      <th>geo_level_3_id</th>\n",
       "      <th>count_floors_pre_eq</th>\n",
       "      <th>age</th>\n",
       "      <th>area_percentage</th>\n",
       "      <th>height_percentage</th>\n",
       "      <th>land_surface_condition</th>\n",
       "      <th>foundation_type</th>\n",
       "      <th>...</th>\n",
       "      <th>has_secondary_use_agriculture</th>\n",
       "      <th>has_secondary_use_hotel</th>\n",
       "      <th>has_secondary_use_rental</th>\n",
       "      <th>has_secondary_use_institution</th>\n",
       "      <th>has_secondary_use_school</th>\n",
       "      <th>has_secondary_use_industry</th>\n",
       "      <th>has_secondary_use_health_post</th>\n",
       "      <th>has_secondary_use_gov_office</th>\n",
       "      <th>has_secondary_use_use_police</th>\n",
       "      <th>has_secondary_use_other</th>\n",
       "    </tr>\n",
       "  </thead>\n",
       "  <tbody>\n",
       "    <tr>\n",
       "      <th>0</th>\n",
       "      <td>300051</td>\n",
       "      <td>17</td>\n",
       "      <td>596</td>\n",
       "      <td>11307</td>\n",
       "      <td>3</td>\n",
       "      <td>20</td>\n",
       "      <td>7</td>\n",
       "      <td>6</td>\n",
       "      <td>t</td>\n",
       "      <td>r</td>\n",
       "      <td>...</td>\n",
       "      <td>0</td>\n",
       "      <td>0</td>\n",
       "      <td>0</td>\n",
       "      <td>0</td>\n",
       "      <td>0</td>\n",
       "      <td>0</td>\n",
       "      <td>0</td>\n",
       "      <td>0</td>\n",
       "      <td>0</td>\n",
       "      <td>0</td>\n",
       "    </tr>\n",
       "    <tr>\n",
       "      <th>1</th>\n",
       "      <td>99355</td>\n",
       "      <td>6</td>\n",
       "      <td>141</td>\n",
       "      <td>11987</td>\n",
       "      <td>2</td>\n",
       "      <td>25</td>\n",
       "      <td>13</td>\n",
       "      <td>5</td>\n",
       "      <td>t</td>\n",
       "      <td>r</td>\n",
       "      <td>...</td>\n",
       "      <td>1</td>\n",
       "      <td>0</td>\n",
       "      <td>0</td>\n",
       "      <td>0</td>\n",
       "      <td>0</td>\n",
       "      <td>0</td>\n",
       "      <td>0</td>\n",
       "      <td>0</td>\n",
       "      <td>0</td>\n",
       "      <td>0</td>\n",
       "    </tr>\n",
       "    <tr>\n",
       "      <th>2</th>\n",
       "      <td>890251</td>\n",
       "      <td>22</td>\n",
       "      <td>19</td>\n",
       "      <td>10044</td>\n",
       "      <td>2</td>\n",
       "      <td>5</td>\n",
       "      <td>4</td>\n",
       "      <td>5</td>\n",
       "      <td>t</td>\n",
       "      <td>r</td>\n",
       "      <td>...</td>\n",
       "      <td>0</td>\n",
       "      <td>0</td>\n",
       "      <td>0</td>\n",
       "      <td>0</td>\n",
       "      <td>0</td>\n",
       "      <td>0</td>\n",
       "      <td>0</td>\n",
       "      <td>0</td>\n",
       "      <td>0</td>\n",
       "      <td>0</td>\n",
       "    </tr>\n",
       "    <tr>\n",
       "      <th>3</th>\n",
       "      <td>745817</td>\n",
       "      <td>26</td>\n",
       "      <td>39</td>\n",
       "      <td>633</td>\n",
       "      <td>1</td>\n",
       "      <td>0</td>\n",
       "      <td>19</td>\n",
       "      <td>3</td>\n",
       "      <td>t</td>\n",
       "      <td>r</td>\n",
       "      <td>...</td>\n",
       "      <td>0</td>\n",
       "      <td>0</td>\n",
       "      <td>1</td>\n",
       "      <td>0</td>\n",
       "      <td>0</td>\n",
       "      <td>0</td>\n",
       "      <td>0</td>\n",
       "      <td>0</td>\n",
       "      <td>0</td>\n",
       "      <td>0</td>\n",
       "    </tr>\n",
       "    <tr>\n",
       "      <th>4</th>\n",
       "      <td>421793</td>\n",
       "      <td>17</td>\n",
       "      <td>289</td>\n",
       "      <td>7970</td>\n",
       "      <td>3</td>\n",
       "      <td>15</td>\n",
       "      <td>8</td>\n",
       "      <td>7</td>\n",
       "      <td>t</td>\n",
       "      <td>r</td>\n",
       "      <td>...</td>\n",
       "      <td>0</td>\n",
       "      <td>0</td>\n",
       "      <td>0</td>\n",
       "      <td>0</td>\n",
       "      <td>0</td>\n",
       "      <td>0</td>\n",
       "      <td>0</td>\n",
       "      <td>0</td>\n",
       "      <td>0</td>\n",
       "      <td>0</td>\n",
       "    </tr>\n",
       "  </tbody>\n",
       "</table>\n",
       "<p>5 rows × 39 columns</p>\n",
       "</div>"
      ],
      "text/plain": [
       "   building_id  geo_level_1_id  geo_level_2_id  geo_level_3_id  \\\n",
       "0       300051              17             596           11307   \n",
       "1        99355               6             141           11987   \n",
       "2       890251              22              19           10044   \n",
       "3       745817              26              39             633   \n",
       "4       421793              17             289            7970   \n",
       "\n",
       "   count_floors_pre_eq  age  area_percentage  height_percentage  \\\n",
       "0                    3   20                7                  6   \n",
       "1                    2   25               13                  5   \n",
       "2                    2    5                4                  5   \n",
       "3                    1    0               19                  3   \n",
       "4                    3   15                8                  7   \n",
       "\n",
       "  land_surface_condition foundation_type  ... has_secondary_use_agriculture  \\\n",
       "0                      t               r  ...                             0   \n",
       "1                      t               r  ...                             1   \n",
       "2                      t               r  ...                             0   \n",
       "3                      t               r  ...                             0   \n",
       "4                      t               r  ...                             0   \n",
       "\n",
       "  has_secondary_use_hotel has_secondary_use_rental  \\\n",
       "0                       0                        0   \n",
       "1                       0                        0   \n",
       "2                       0                        0   \n",
       "3                       0                        1   \n",
       "4                       0                        0   \n",
       "\n",
       "  has_secondary_use_institution has_secondary_use_school  \\\n",
       "0                             0                        0   \n",
       "1                             0                        0   \n",
       "2                             0                        0   \n",
       "3                             0                        0   \n",
       "4                             0                        0   \n",
       "\n",
       "   has_secondary_use_industry  has_secondary_use_health_post  \\\n",
       "0                           0                              0   \n",
       "1                           0                              0   \n",
       "2                           0                              0   \n",
       "3                           0                              0   \n",
       "4                           0                              0   \n",
       "\n",
       "   has_secondary_use_gov_office  has_secondary_use_use_police  \\\n",
       "0                             0                             0   \n",
       "1                             0                             0   \n",
       "2                             0                             0   \n",
       "3                             0                             0   \n",
       "4                             0                             0   \n",
       "\n",
       "   has_secondary_use_other  \n",
       "0                        0  \n",
       "1                        0  \n",
       "2                        0  \n",
       "3                        0  \n",
       "4                        0  \n",
       "\n",
       "[5 rows x 39 columns]"
      ]
     },
     "execution_count": 7,
     "metadata": {},
     "output_type": "execute_result"
    }
   ],
   "source": [
    "X_test.head()"
   ]
  },
  {
   "cell_type": "markdown",
   "metadata": {},
   "source": [
    "Check whether X and X_test have the same columns"
   ]
  },
  {
   "cell_type": "code",
   "execution_count": 8,
   "metadata": {},
   "outputs": [
    {
     "data": {
      "text/plain": [
       "Index(['building_id', 'geo_level_1_id', 'geo_level_2_id', 'geo_level_3_id',\n",
       "       'count_floors_pre_eq', 'age', 'area_percentage', 'height_percentage',\n",
       "       'land_surface_condition', 'foundation_type', 'roof_type',\n",
       "       'ground_floor_type', 'other_floor_type', 'position',\n",
       "       'plan_configuration', 'has_superstructure_adobe_mud',\n",
       "       'has_superstructure_mud_mortar_stone', 'has_superstructure_stone_flag',\n",
       "       'has_superstructure_cement_mortar_stone',\n",
       "       'has_superstructure_mud_mortar_brick',\n",
       "       'has_superstructure_cement_mortar_brick', 'has_superstructure_timber',\n",
       "       'has_superstructure_bamboo', 'has_superstructure_rc_non_engineered',\n",
       "       'has_superstructure_rc_engineered', 'has_superstructure_other',\n",
       "       'legal_ownership_status', 'count_families', 'has_secondary_use',\n",
       "       'has_secondary_use_agriculture', 'has_secondary_use_hotel',\n",
       "       'has_secondary_use_rental', 'has_secondary_use_institution',\n",
       "       'has_secondary_use_school', 'has_secondary_use_industry',\n",
       "       'has_secondary_use_health_post', 'has_secondary_use_gov_office',\n",
       "       'has_secondary_use_use_police', 'has_secondary_use_other'],\n",
       "      dtype='object')"
      ]
     },
     "execution_count": 8,
     "metadata": {},
     "output_type": "execute_result"
    }
   ],
   "source": [
    "X.columns"
   ]
  },
  {
   "cell_type": "code",
   "execution_count": 9,
   "metadata": {},
   "outputs": [
    {
     "name": "stdout",
     "output_type": "stream",
     "text": [
      "Both DataFrames have the same columns.\n"
     ]
    }
   ],
   "source": [
    "helper_functions.test_column_equality(X, X_test)"
   ]
  },
  {
   "cell_type": "code",
   "execution_count": 10,
   "metadata": {},
   "outputs": [
    {
     "data": {
      "text/plain": [
       "building_id                                int64\n",
       "geo_level_1_id                             int64\n",
       "geo_level_2_id                             int64\n",
       "geo_level_3_id                             int64\n",
       "count_floors_pre_eq                        int64\n",
       "age                                        int64\n",
       "area_percentage                            int64\n",
       "height_percentage                          int64\n",
       "land_surface_condition                    object\n",
       "foundation_type                           object\n",
       "roof_type                                 object\n",
       "ground_floor_type                         object\n",
       "other_floor_type                          object\n",
       "position                                  object\n",
       "plan_configuration                        object\n",
       "has_superstructure_adobe_mud               int64\n",
       "has_superstructure_mud_mortar_stone        int64\n",
       "has_superstructure_stone_flag              int64\n",
       "has_superstructure_cement_mortar_stone     int64\n",
       "has_superstructure_mud_mortar_brick        int64\n",
       "has_superstructure_cement_mortar_brick     int64\n",
       "has_superstructure_timber                  int64\n",
       "has_superstructure_bamboo                  int64\n",
       "has_superstructure_rc_non_engineered       int64\n",
       "has_superstructure_rc_engineered           int64\n",
       "has_superstructure_other                   int64\n",
       "legal_ownership_status                    object\n",
       "count_families                             int64\n",
       "has_secondary_use                          int64\n",
       "has_secondary_use_agriculture              int64\n",
       "has_secondary_use_hotel                    int64\n",
       "has_secondary_use_rental                   int64\n",
       "has_secondary_use_institution              int64\n",
       "has_secondary_use_school                   int64\n",
       "has_secondary_use_industry                 int64\n",
       "has_secondary_use_health_post              int64\n",
       "has_secondary_use_gov_office               int64\n",
       "has_secondary_use_use_police               int64\n",
       "has_secondary_use_other                    int64\n",
       "dtype: object"
      ]
     },
     "execution_count": 10,
     "metadata": {},
     "output_type": "execute_result"
    }
   ],
   "source": [
    "X.dtypes"
   ]
  },
  {
   "cell_type": "code",
   "execution_count": 11,
   "metadata": {},
   "outputs": [
    {
     "data": {
      "text/plain": [
       "building_id                               260601\n",
       "geo_level_1_id                                31\n",
       "geo_level_2_id                              1414\n",
       "geo_level_3_id                             11595\n",
       "count_floors_pre_eq                            9\n",
       "age                                           42\n",
       "area_percentage                               84\n",
       "height_percentage                             27\n",
       "land_surface_condition                         3\n",
       "foundation_type                                5\n",
       "roof_type                                      3\n",
       "ground_floor_type                              5\n",
       "other_floor_type                               4\n",
       "position                                       4\n",
       "plan_configuration                            10\n",
       "has_superstructure_adobe_mud                   2\n",
       "has_superstructure_mud_mortar_stone            2\n",
       "has_superstructure_stone_flag                  2\n",
       "has_superstructure_cement_mortar_stone         2\n",
       "has_superstructure_mud_mortar_brick            2\n",
       "has_superstructure_cement_mortar_brick         2\n",
       "has_superstructure_timber                      2\n",
       "has_superstructure_bamboo                      2\n",
       "has_superstructure_rc_non_engineered           2\n",
       "has_superstructure_rc_engineered               2\n",
       "has_superstructure_other                       2\n",
       "legal_ownership_status                         4\n",
       "count_families                                10\n",
       "has_secondary_use                              2\n",
       "has_secondary_use_agriculture                  2\n",
       "has_secondary_use_hotel                        2\n",
       "has_secondary_use_rental                       2\n",
       "has_secondary_use_institution                  2\n",
       "has_secondary_use_school                       2\n",
       "has_secondary_use_industry                     2\n",
       "has_secondary_use_health_post                  2\n",
       "has_secondary_use_gov_office                   2\n",
       "has_secondary_use_use_police                   2\n",
       "has_secondary_use_other                        2\n",
       "dtype: int64"
      ]
     },
     "execution_count": 11,
     "metadata": {},
     "output_type": "execute_result"
    }
   ],
   "source": [
    "X.nunique()"
   ]
  },
  {
   "cell_type": "markdown",
   "metadata": {},
   "source": [
    "From the description, we assume Geo Level 3 is the most precise whereas Geo Level 1 the least precise.\n",
    "Follow that logic, we expect more unique data points in Level 3 than Level 1."
   ]
  },
  {
   "cell_type": "code",
   "execution_count": 12,
   "metadata": {},
   "outputs": [
    {
     "name": "stdout",
     "output_type": "stream",
     "text": [
      "Unique data points in geo_level_1_id: 31\n",
      "Unique data points in geo_level_2_id: 1414\n",
      "Unique data points in geo_level_3_id: 11595\n"
     ]
    }
   ],
   "source": [
    "print(f\"Unique data points in geo_level_1_id: {X.loc[:, 'geo_level_1_id'].nunique()}\")\n",
    "print(f\"Unique data points in geo_level_2_id: {X.loc[:, 'geo_level_2_id'].nunique()}\")\n",
    "print(f\"Unique data points in geo_level_3_id: {X.loc[:, 'geo_level_3_id'].nunique()}\")"
   ]
  },
  {
   "cell_type": "markdown",
   "metadata": {},
   "source": [
    "Data Cleaning"
   ]
  },
  {
   "cell_type": "code",
   "execution_count": 13,
   "metadata": {},
   "outputs": [],
   "source": [
    "#First cleaning (before split - if required)"
   ]
  },
  {
   "cell_type": "code",
   "execution_count": 14,
   "metadata": {},
   "outputs": [],
   "source": [
    "y = y['damage_grade']"
   ]
  },
  {
   "cell_type": "code",
   "execution_count": 15,
   "metadata": {},
   "outputs": [],
   "source": [
    "# Split data in training and validation set\n",
    "X_train, X_valid, y_train, y_valid = train_test_split(X, y, test_size=0.2, random_state=42)"
   ]
  },
  {
   "cell_type": "code",
   "execution_count": 16,
   "metadata": {},
   "outputs": [],
   "source": [
    "#More cleaning (after split)"
   ]
  },
  {
   "cell_type": "markdown",
   "metadata": {},
   "source": [
    "Visualization"
   ]
  },
  {
   "cell_type": "code",
   "execution_count": null,
   "metadata": {},
   "outputs": [],
   "source": []
  },
  {
   "cell_type": "markdown",
   "metadata": {},
   "source": [
    "## Models"
   ]
  },
  {
   "cell_type": "code",
   "execution_count": 17,
   "metadata": {},
   "outputs": [],
   "source": [
    "#FOR NOW (to test tree gen) limit dataset to a few parameters only\n",
    "mask = ['has_superstructure_adobe_mud', 'age','count_floors_pre_eq','area_percentage','height_percentage','has_secondary_use',\n",
    "        'has_superstructure_cement_mortar_brick', 'has_superstructure_timber', 'has_superstructure_bamboo'] \n",
    "\n",
    "# apply mask\n",
    "X = X[mask]\n",
    "\n",
    "X_train = X_train[mask]\n",
    "X_valid = X_valid[mask]\n",
    "X_test_pred = X_test[mask]"
   ]
  },
  {
   "cell_type": "markdown",
   "metadata": {},
   "source": [
    "Simple estimation using regressionm"
   ]
  },
  {
   "cell_type": "code",
   "execution_count": 18,
   "metadata": {},
   "outputs": [
    {
     "name": "stderr",
     "output_type": "stream",
     "text": [
      "c:\\Users\\shopp\\anaconda3\\envs\\11_minicomp\\Lib\\site-packages\\sklearn\\linear_model\\_logistic.py:460: ConvergenceWarning: lbfgs failed to converge (status=1):\n",
      "STOP: TOTAL NO. of ITERATIONS REACHED LIMIT.\n",
      "\n",
      "Increase the number of iterations (max_iter) or scale the data as shown in:\n",
      "    https://scikit-learn.org/stable/modules/preprocessing.html\n",
      "Please also refer to the documentation for alternative solver options:\n",
      "    https://scikit-learn.org/stable/modules/linear_model.html#logistic-regression\n",
      "  n_iter_i = _check_optimize_result(\n"
     ]
    }
   ],
   "source": [
    "lr = log_regression.lr(X_train, y_train)\n",
    "y_valid_pred_lr = lr.make_prediction(X_valid)"
   ]
  },
  {
   "cell_type": "markdown",
   "metadata": {},
   "source": [
    "Generation of Random Forest and optimization"
   ]
  },
  {
   "cell_type": "code",
   "execution_count": 19,
   "metadata": {},
   "outputs": [
    {
     "name": "stderr",
     "output_type": "stream",
     "text": [
      "[I 2023-10-06 16:13:48,155] A new study created in memory with name: no-name-419a1665-88f5-4db5-add2-e4645e420a7a\n",
      "[I 2023-10-06 16:13:48,520] Trial 0 finished with value: 0.31781815391109147 and parameters: {'learning_rate': 0.045392378026945304, 'subsample': 0.9837792215094328, 'num_leaves': 71, 'min_data_in_leaf': 12, 'max_depth': 3, 'lambda_l2': 0.8119975017829981}. Best is trial 0 with value: 0.31781815391109147.\n",
      "[I 2023-10-06 16:13:49,044] Trial 1 finished with value: 0.3002052915331632 and parameters: {'learning_rate': 0.16097515905446716, 'subsample': 0.911177202944674, 'num_leaves': 26, 'min_data_in_leaf': 14, 'max_depth': 5, 'lambda_l2': 0.08525582570227397}. Best is trial 0 with value: 0.31781815391109147.\n",
      "[I 2023-10-06 16:13:49,966] Trial 2 finished with value: 0.2930488670593427 and parameters: {'learning_rate': 0.1655167422583641, 'subsample': 0.7956127147375285, 'num_leaves': 97, 'min_data_in_leaf': 16, 'max_depth': 14, 'lambda_l2': 0.9119374346974505}. Best is trial 0 with value: 0.31781815391109147.\n",
      "[I 2023-10-06 16:13:50,914] Trial 3 finished with value: 0.2911494407244681 and parameters: {'learning_rate': 0.2684587630788744, 'subsample': 0.7953619433811845, 'num_leaves': 92, 'min_data_in_leaf': 17, 'max_depth': 9, 'lambda_l2': 0.28288440026049133}. Best is trial 0 with value: 0.31781815391109147.\n",
      "[I 2023-10-06 16:13:51,586] Trial 4 finished with value: 0.301030294890735 and parameters: {'learning_rate': 0.1814125926855889, 'subsample': 0.9949627248365898, 'num_leaves': 24, 'min_data_in_leaf': 6, 'max_depth': 7, 'lambda_l2': 0.880884724201794}. Best is trial 0 with value: 0.31781815391109147.\n",
      "[I 2023-10-06 16:13:52,008] Trial 5 finished with value: 0.30218146236641663 and parameters: {'learning_rate': 0.1849958144626257, 'subsample': 0.9325508355529406, 'num_leaves': 35, 'min_data_in_leaf': 5, 'max_depth': 4, 'lambda_l2': 0.16828516985245945}. Best is trial 0 with value: 0.31781815391109147.\n",
      "[I 2023-10-06 16:13:52,862] Trial 6 finished with value: 0.29535120201070586 and parameters: {'learning_rate': 0.14531340287434633, 'subsample': 0.8294800816055319, 'num_leaves': 89, 'min_data_in_leaf': 16, 'max_depth': 9, 'lambda_l2': 0.4763411839833297}. Best is trial 0 with value: 0.31781815391109147.\n",
      "[I 2023-10-06 16:13:53,428] Trial 7 finished with value: 0.3059611289115712 and parameters: {'learning_rate': 0.05425605181339775, 'subsample': 0.7942487825167023, 'num_leaves': 70, 'min_data_in_leaf': 15, 'max_depth': 5, 'lambda_l2': 0.9637910906038857}. Best is trial 0 with value: 0.31781815391109147.\n",
      "[I 2023-10-06 16:13:54,310] Trial 8 finished with value: 0.29790295658180005 and parameters: {'learning_rate': 0.21018603651948825, 'subsample': 0.8002938200336263, 'num_leaves': 40, 'min_data_in_leaf': 15, 'max_depth': 7, 'lambda_l2': 0.6531132069520937}. Best is trial 0 with value: 0.31781815391109147.\n",
      "[I 2023-10-06 16:13:55,060] Trial 9 finished with value: 0.29398898716448263 and parameters: {'learning_rate': 0.2910000386933692, 'subsample': 0.8809846062877486, 'num_leaves': 47, 'min_data_in_leaf': 17, 'max_depth': 13, 'lambda_l2': 0.7616816952197417}. Best is trial 0 with value: 0.31781815391109147.\n",
      "[I 2023-10-06 16:13:55,431] Trial 10 finished with value: 0.3359298555284818 and parameters: {'learning_rate': 0.013700791794662145, 'subsample': 0.7155191087097419, 'num_leaves': 64, 'min_data_in_leaf': 10, 'max_depth': 3, 'lambda_l2': 0.5960188502389292}. Best is trial 10 with value: 0.3359298555284818.\n",
      "[I 2023-10-06 16:13:55,861] Trial 11 finished with value: 0.3406496421787763 and parameters: {'learning_rate': 0.023037328626284895, 'subsample': 0.7087673991826181, 'num_leaves': 66, 'min_data_in_leaf': 10, 'max_depth': 3, 'lambda_l2': 0.6055581384349285}. Best is trial 11 with value: 0.3406496421787763.\n",
      "[I 2023-10-06 16:13:56,240] Trial 12 finished with value: 0.31873908789163674 and parameters: {'learning_rate': 0.048046282339224866, 'subsample': 0.7026239458893797, 'num_leaves': 65, 'min_data_in_leaf': 9, 'max_depth': 3, 'lambda_l2': 0.5485885148411486}. Best is trial 11 with value: 0.3406496421787763.\n",
      "[I 2023-10-06 16:13:57,261] Trial 13 finished with value: 0.33307112296387253 and parameters: {'learning_rate': 0.010018334691685686, 'subsample': 0.7001946176103003, 'num_leaves': 58, 'min_data_in_leaf': 1, 'max_depth': 11, 'lambda_l2': 0.42347153455437075}. Best is trial 11 with value: 0.3406496421787763.\n",
      "[I 2023-10-06 16:13:57,905] Trial 14 finished with value: 0.3029872795993937 and parameters: {'learning_rate': 0.09408198385910896, 'subsample': 0.7345022476518713, 'num_leaves': 80, 'min_data_in_leaf': 9, 'max_depth': 6, 'lambda_l2': 0.6787835309035165}. Best is trial 11 with value: 0.3406496421787763.\n",
      "[I 2023-10-06 16:13:58,280] Trial 15 finished with value: 0.3080907887415821 and parameters: {'learning_rate': 0.1006026403046106, 'subsample': 0.7527012630757245, 'num_leaves': 53, 'min_data_in_leaf': 11, 'max_depth': 3, 'lambda_l2': 0.6322968054977358}. Best is trial 11 with value: 0.3406496421787763.\n",
      "[I 2023-10-06 16:13:59,174] Trial 16 finished with value: 0.33345484545576637 and parameters: {'learning_rate': 0.011077442114360729, 'subsample': 0.7384924378218721, 'num_leaves': 80, 'min_data_in_leaf': 6, 'max_depth': 7, 'lambda_l2': 0.4186419944927646}. Best is trial 11 with value: 0.3406496421787763.\n",
      "[I 2023-10-06 16:13:59,665] Trial 17 finished with value: 0.303409374340477 and parameters: {'learning_rate': 0.08865096420930235, 'subsample': 0.7550346906181613, 'num_leaves': 56, 'min_data_in_leaf': 20, 'max_depth': 5, 'lambda_l2': 0.5226157291134629}. Best is trial 11 with value: 0.3406496421787763.\n",
      "[I 2023-10-06 16:14:00,771] Trial 18 finished with value: 0.29696283647666005 and parameters: {'learning_rate': 0.12028922002973756, 'subsample': 0.7009241395339212, 'num_leaves': 79, 'min_data_in_leaf': 8, 'max_depth': 11, 'lambda_l2': 0.7416512924113201}. Best is trial 11 with value: 0.3406496421787763.\n",
      "[I 2023-10-06 16:14:01,212] Trial 19 finished with value: 0.3102396346961877 and parameters: {'learning_rate': 0.054353494789498365, 'subsample': 0.7658178398302962, 'num_leaves': 11, 'min_data_in_leaf': 2, 'max_depth': 4, 'lambda_l2': 0.3548357203906279}. Best is trial 11 with value: 0.3406496421787763.\n",
      "[I 2023-10-06 16:14:02,131] Trial 20 finished with value: 0.3050018226818365 and parameters: {'learning_rate': 0.024799938388211776, 'subsample': 0.8458948051599413, 'num_leaves': 64, 'min_data_in_leaf': 12, 'max_depth': 11, 'lambda_l2': 0.5695133291925534}. Best is trial 11 with value: 0.3406496421787763.\n",
      "[I 2023-10-06 16:14:03,038] Trial 21 finished with value: 0.3192379271310988 and parameters: {'learning_rate': 0.012225245905719363, 'subsample': 0.7301190835756514, 'num_leaves': 81, 'min_data_in_leaf': 6, 'max_depth': 7, 'lambda_l2': 0.42629719591149784}. Best is trial 11 with value: 0.3406496421787763.\n",
      "[I 2023-10-06 16:14:03,766] Trial 22 finished with value: 0.30707392413806334 and parameters: {'learning_rate': 0.03419501349013983, 'subsample': 0.7316729931917194, 'num_leaves': 74, 'min_data_in_leaf': 3, 'max_depth': 6, 'lambda_l2': 0.5954762141550349}. Best is trial 11 with value: 0.3406496421787763.\n",
      "[I 2023-10-06 16:14:04,957] Trial 23 finished with value: 0.3002052915331632 and parameters: {'learning_rate': 0.07016478138581979, 'subsample': 0.7237376144672524, 'num_leaves': 85, 'min_data_in_leaf': 8, 'max_depth': 8, 'lambda_l2': 0.48608526100499344}. Best is trial 11 with value: 0.3406496421787763.\n",
      "[I 2023-10-06 16:14:05,406] Trial 24 finished with value: 0.3186239711440686 and parameters: {'learning_rate': 0.02779810956764566, 'subsample': 0.7675087665975113, 'num_leaves': 64, 'min_data_in_leaf': 4, 'max_depth': 4, 'lambda_l2': 0.6934650670098996}. Best is trial 11 with value: 0.3406496421787763.\n",
      "[I 2023-10-06 16:14:05,792] Trial 25 finished with value: 0.3350664799217206 and parameters: {'learning_rate': 0.010076347597091442, 'subsample': 0.7248823210039402, 'num_leaves': 48, 'min_data_in_leaf': 7, 'max_depth': 3, 'lambda_l2': 0.31477530499297934}. Best is trial 11 with value: 0.3406496421787763.\n",
      "[I 2023-10-06 16:14:06,168] Trial 26 finished with value: 0.315036165844861 and parameters: {'learning_rate': 0.0662179058246886, 'subsample': 0.7173333674395919, 'num_leaves': 47, 'min_data_in_leaf': 11, 'max_depth': 3, 'lambda_l2': 0.2699023431765736}. Best is trial 11 with value: 0.3406496421787763.\n",
      "[I 2023-10-06 16:14:06,608] Trial 27 finished with value: 0.31467162947756183 and parameters: {'learning_rate': 0.03356252482454794, 'subsample': 0.7531733035321521, 'num_leaves': 51, 'min_data_in_leaf': 9, 'max_depth': 4, 'lambda_l2': 0.5792832537704151}. Best is trial 11 with value: 0.3406496421787763.\n",
      "[I 2023-10-06 16:14:07,158] Trial 28 finished with value: 0.30494426430805244 and parameters: {'learning_rate': 0.06991138731757995, 'subsample': 0.7163502830567567, 'num_leaves': 40, 'min_data_in_leaf': 7, 'max_depth': 5, 'lambda_l2': 0.32206421644626426}. Best is trial 11 with value: 0.3406496421787763.\n",
      "[I 2023-10-06 16:14:07,526] Trial 29 finished with value: 0.3208879338462424 and parameters: {'learning_rate': 0.03917718824233431, 'subsample': 0.7698290728953011, 'num_leaves': 72, 'min_data_in_leaf': 13, 'max_depth': 3, 'lambda_l2': 0.8145690502730905}. Best is trial 11 with value: 0.3406496421787763.\n",
      "[I 2023-10-06 16:14:07,922] Trial 30 finished with value: 0.31772222328811806 and parameters: {'learning_rate': 0.04940025463583739, 'subsample': 0.7399676842424774, 'num_leaves': 34, 'min_data_in_leaf': 10, 'max_depth': 3, 'lambda_l2': 0.015355727612599845}. Best is trial 11 with value: 0.3406496421787763.\n",
      "[I 2023-10-06 16:14:08,666] Trial 31 finished with value: 0.3340496153182019 and parameters: {'learning_rate': 0.01198425783392289, 'subsample': 0.7168236334559832, 'num_leaves': 61, 'min_data_in_leaf': 7, 'max_depth': 6, 'lambda_l2': 0.38360968318248956}. Best is trial 11 with value: 0.3406496421787763.\n",
      "[I 2023-10-06 16:14:09,397] Trial 32 finished with value: 0.3086471863548282 and parameters: {'learning_rate': 0.024646461562604298, 'subsample': 0.712847071885929, 'num_leaves': 60, 'min_data_in_leaf': 12, 'max_depth': 6, 'lambda_l2': 0.5178739695370871}. Best is trial 11 with value: 0.3406496421787763.\n",
      "[I 2023-10-06 16:14:10,000] Trial 33 finished with value: 0.33548857466280385 and parameters: {'learning_rate': 0.011036820634905395, 'subsample': 0.7243313671208053, 'num_leaves': 68, 'min_data_in_leaf': 10, 'max_depth': 4, 'lambda_l2': 0.1834400569551202}. Best is trial 11 with value: 0.3406496421787763.\n",
      "[I 2023-10-06 16:14:10,433] Trial 34 finished with value: 0.31327104238214926 and parameters: {'learning_rate': 0.03942261115551546, 'subsample': 0.7434166920219122, 'num_leaves': 69, 'min_data_in_leaf': 10, 'max_depth': 4, 'lambda_l2': 0.2132012008544057}. Best is trial 11 with value: 0.3406496421787763.\n",
      "[I 2023-10-06 16:14:10,815] Trial 35 finished with value: 0.33970952207363636 and parameters: {'learning_rate': 0.026846611178787644, 'subsample': 0.7776718312540954, 'num_leaves': 48, 'min_data_in_leaf': 13, 'max_depth': 3, 'lambda_l2': 0.15957952784624885}. Best is trial 11 with value: 0.3406496421787763.\n",
      "[I 2023-10-06 16:14:11,239] Trial 36 finished with value: 0.3074192743807678 and parameters: {'learning_rate': 0.07718964755986901, 'subsample': 0.7832343138045754, 'num_leaves': 75, 'min_data_in_leaf': 14, 'max_depth': 4, 'lambda_l2': 0.1285733813768444}. Best is trial 11 with value: 0.3406496421787763.\n",
      "[I 2023-10-06 16:14:11,763] Trial 37 finished with value: 0.30567333704265076 and parameters: {'learning_rate': 0.05129408481828068, 'subsample': 0.7450652851279757, 'num_leaves': 94, 'min_data_in_leaf': 13, 'max_depth': 5, 'lambda_l2': 0.0815755761581185}. Best is trial 11 with value: 0.3406496421787763.\n",
      "[I 2023-10-06 16:14:12,322] Trial 38 finished with value: 0.31181289691295255 and parameters: {'learning_rate': 0.027810232884364607, 'subsample': 0.8137945700721596, 'num_leaves': 100, 'min_data_in_leaf': 13, 'max_depth': 5, 'lambda_l2': 0.21801182573781713}. Best is trial 11 with value: 0.3406496421787763.\n",
      "[I 2023-10-06 16:14:13,226] Trial 39 finished with value: 0.3022965791139848 and parameters: {'learning_rate': 0.05961718694547187, 'subsample': 0.774920994657454, 'num_leaves': 68, 'min_data_in_leaf': 11, 'max_depth': 15, 'lambda_l2': 0.015350195664151245}. Best is trial 11 with value: 0.3406496421787763.\n",
      "[I 2023-10-06 16:14:13,655] Trial 40 finished with value: 0.31294487826403944 and parameters: {'learning_rate': 0.04274718266776753, 'subsample': 0.7853397936343208, 'num_leaves': 24, 'min_data_in_leaf': 12, 'max_depth': 4, 'lambda_l2': 0.4717588925535642}. Best is trial 11 with value: 0.3406496421787763.\n",
      "[I 2023-10-06 16:14:14,042] Trial 41 finished with value: 0.3384048656011972 and parameters: {'learning_rate': 0.018241820255461887, 'subsample': 0.7243162685952974, 'num_leaves': 49, 'min_data_in_leaf': 8, 'max_depth': 3, 'lambda_l2': 0.2731938486565276}. Best is trial 11 with value: 0.3406496421787763.\n",
      "[I 2023-10-06 16:14:14,420] Trial 42 finished with value: 0.3397478943228257 and parameters: {'learning_rate': 0.025150988237938925, 'subsample': 0.7599771842516372, 'num_leaves': 55, 'min_data_in_leaf': 10, 'max_depth': 3, 'lambda_l2': 0.16591674742610235}. Best is trial 11 with value: 0.3406496421787763.\n",
      "[I 2023-10-06 16:14:14,797] Trial 43 finished with value: 0.313347786880528 and parameters: {'learning_rate': 0.06066660270921943, 'subsample': 0.7611572959934361, 'num_leaves': 41, 'min_data_in_leaf': 8, 'max_depth': 3, 'lambda_l2': 0.25179037304745916}. Best is trial 11 with value: 0.3406496421787763.\n",
      "[I 2023-10-06 16:14:15,228] Trial 44 finished with value: 0.320350722357591 and parameters: {'learning_rate': 0.043444291289826714, 'subsample': 0.7486870754495446, 'num_leaves': 54, 'min_data_in_leaf': 9, 'max_depth': 3, 'lambda_l2': 0.1357328130574167}. Best is trial 11 with value: 0.3406496421787763.\n",
      "[I 2023-10-06 16:14:15,819] Trial 45 finished with value: 0.3111221964275436 and parameters: {'learning_rate': 0.022669880695364273, 'subsample': 0.8060653499905496, 'num_leaves': 43, 'min_data_in_leaf': 14, 'max_depth': 5, 'lambda_l2': 0.0733319530219362}. Best is trial 11 with value: 0.3406496421787763.\n",
      "[I 2023-10-06 16:14:16,504] Trial 46 finished with value: 0.3064024097772491 and parameters: {'learning_rate': 0.03889944410389832, 'subsample': 0.7852985766092454, 'num_leaves': 34, 'min_data_in_leaf': 18, 'max_depth': 10, 'lambda_l2': 0.24513542529841603}. Best is trial 11 with value: 0.3406496421787763.\n",
      "[I 2023-10-06 16:14:16,905] Trial 47 finished with value: 0.3396519636998523 and parameters: {'learning_rate': 0.024716876064348796, 'subsample': 0.7011073197713686, 'num_leaves': 50, 'min_data_in_leaf': 11, 'max_depth': 3, 'lambda_l2': 0.14598272615359664}. Best is trial 11 with value: 0.3406496421787763.\n",
      "[I 2023-10-06 16:14:17,329] Trial 48 finished with value: 0.30580763991481363 and parameters: {'learning_rate': 0.08246394757547876, 'subsample': 0.7069378158920488, 'num_leaves': 51, 'min_data_in_leaf': 15, 'max_depth': 4, 'lambda_l2': 0.16469975945134516}. Best is trial 11 with value: 0.3406496421787763.\n",
      "[I 2023-10-06 16:14:17,697] Trial 49 finished with value: 0.31426872086107327 and parameters: {'learning_rate': 0.05958070334942106, 'subsample': 0.7006298865445433, 'num_leaves': 45, 'min_data_in_leaf': 11, 'max_depth': 3, 'lambda_l2': 0.29915674069895315}. Best is trial 11 with value: 0.3406496421787763.\n",
      "[I 2023-10-06 16:14:18,556] Trial 50 finished with value: 0.3055774064196773 and parameters: {'learning_rate': 0.025238338491767705, 'subsample': 0.7337100557617966, 'num_leaves': 57, 'min_data_in_leaf': 16, 'max_depth': 13, 'lambda_l2': 0.1830345155308349}. Best is trial 11 with value: 0.3406496421787763.\n",
      "[I 2023-10-06 16:14:18,935] Trial 51 finished with value: 0.3172809424224401 and parameters: {'learning_rate': 0.04858279152316833, 'subsample': 0.7117769412272884, 'num_leaves': 52, 'min_data_in_leaf': 10, 'max_depth': 3, 'lambda_l2': 0.11334949750800635}. Best is trial 11 with value: 0.3406496421787763.\n",
      "[I 2023-10-06 16:14:19,367] Trial 52 finished with value: 0.33807870148308744 and parameters: {'learning_rate': 0.018777406502922388, 'subsample': 0.7552163825650537, 'num_leaves': 60, 'min_data_in_leaf': 9, 'max_depth': 4, 'lambda_l2': 0.06279531454619472}. Best is trial 11 with value: 0.3406496421787763.\n",
      "[I 2023-10-06 16:14:19,815] Trial 53 finished with value: 0.32317108267301087 and parameters: {'learning_rate': 0.025144380928342383, 'subsample': 0.7582424055114121, 'num_leaves': 60, 'min_data_in_leaf': 8, 'max_depth': 4, 'lambda_l2': 0.06402670662572656}. Best is trial 11 with value: 0.3406496421787763.\n",
      "[I 2023-10-06 16:14:20,348] Trial 54 finished with value: 0.3088582337253698 and parameters: {'learning_rate': 0.034982016833366575, 'subsample': 0.7402703896751188, 'num_leaves': 39, 'min_data_in_leaf': 9, 'max_depth': 5, 'lambda_l2': 0.14638940680408313}. Best is trial 11 with value: 0.3406496421787763.\n",
      "[I 2023-10-06 16:14:20,792] Trial 55 finished with value: 0.33830893497822373 and parameters: {'learning_rate': 0.018143025763732838, 'subsample': 0.7266936278205774, 'num_leaves': 57, 'min_data_in_leaf': 12, 'max_depth': 4, 'lambda_l2': 0.0993597859835996}. Best is trial 11 with value: 0.3406496421787763.\n",
      "[I 2023-10-06 16:14:21,202] Trial 56 finished with value: 0.3245716697684235 and parameters: {'learning_rate': 0.03275631953959177, 'subsample': 0.7297549465783152, 'num_leaves': 49, 'min_data_in_leaf': 12, 'max_depth': 3, 'lambda_l2': 0.10892178085497776}. Best is trial 11 with value: 0.3406496421787763.\n",
      "[I 2023-10-06 16:14:21,586] Trial 57 finished with value: 0.31605303044837973 and parameters: {'learning_rate': 0.05186529678151078, 'subsample': 0.707714647961291, 'num_leaves': 55, 'min_data_in_leaf': 13, 'max_depth': 3, 'lambda_l2': 0.22718586652620756}. Best is trial 11 with value: 0.3406496421787763.\n",
      "[I 2023-10-06 16:14:22,042] Trial 58 finished with value: 0.32798679994627883 and parameters: {'learning_rate': 0.020367507447125358, 'subsample': 0.7194563202077094, 'num_leaves': 36, 'min_data_in_leaf': 11, 'max_depth': 4, 'lambda_l2': 0.16743957691395664}. Best is trial 11 with value: 0.3406496421787763.\n",
      "[I 2023-10-06 16:14:22,735] Trial 59 finished with value: 0.30283379060263615 and parameters: {'learning_rate': 0.11094902683636135, 'subsample': 0.7279627640478095, 'num_leaves': 30, 'min_data_in_leaf': 5, 'max_depth': 9, 'lambda_l2': 0.20881364518436266}. Best is trial 11 with value: 0.3406496421787763.\n",
      "[I 2023-10-06 16:14:23,126] Trial 60 finished with value: 0.31181289691295255 and parameters: {'learning_rate': 0.07566682584251469, 'subsample': 0.7000458018419298, 'num_leaves': 45, 'min_data_in_leaf': 14, 'max_depth': 3, 'lambda_l2': 0.2666478475396375}. Best is trial 11 with value: 0.3406496421787763.\n",
      "[I 2023-10-06 16:14:23,569] Trial 61 finished with value: 0.3380978876076821 and parameters: {'learning_rate': 0.019026654019860444, 'subsample': 0.7547499000940993, 'num_leaves': 62, 'min_data_in_leaf': 9, 'max_depth': 4, 'lambda_l2': 0.10771556756060674}. Best is trial 11 with value: 0.3406496421787763.\n",
      "[I 2023-10-06 16:14:24,060] Trial 62 finished with value: 0.3380595153584927 and parameters: {'learning_rate': 0.018713877668439915, 'subsample': 0.7453218840804613, 'num_leaves': 57, 'min_data_in_leaf': 10, 'max_depth': 4, 'lambda_l2': 0.09938445031900692}. Best is trial 11 with value: 0.3406496421787763.\n",
      "[I 2023-10-06 16:14:24,592] Trial 63 finished with value: 0.3091076533451008 and parameters: {'learning_rate': 0.03424908779562238, 'subsample': 0.7337106201972823, 'num_leaves': 65, 'min_data_in_leaf': 12, 'max_depth': 5, 'lambda_l2': 0.14011783332391098}. Best is trial 11 with value: 0.3406496421787763.\n",
      "[I 2023-10-06 16:14:24,982] Trial 64 finished with value: 0.3195065328754245 and parameters: {'learning_rate': 0.04448457111141575, 'subsample': 0.7623336069671038, 'num_leaves': 62, 'min_data_in_leaf': 7, 'max_depth': 3, 'lambda_l2': 0.1648410920141557}. Best is trial 11 with value: 0.3406496421787763.\n",
      "[I 2023-10-06 16:14:25,485] Trial 65 finished with value: 0.3178565261602809 and parameters: {'learning_rate': 0.02971308586988506, 'subsample': 0.722359001984894, 'num_leaves': 50, 'min_data_in_leaf': 11, 'max_depth': 4, 'lambda_l2': 0.11052773846773745}. Best is trial 11 with value: 0.3406496421787763.\n",
      "[I 2023-10-06 16:14:26,233] Trial 66 finished with value: 0.31315592563458106 and parameters: {'learning_rate': 0.018021367965007532, 'subsample': 0.7738744625552401, 'num_leaves': 53, 'min_data_in_leaf': 8, 'max_depth': 6, 'lambda_l2': 0.189304901328607}. Best is trial 11 with value: 0.3406496421787763.\n",
      "[I 2023-10-06 16:14:26,941] Trial 67 finished with value: 0.30427274994723813 and parameters: {'learning_rate': 0.06402352243382428, 'subsample': 0.7122536399459581, 'num_leaves': 47, 'min_data_in_leaf': 9, 'max_depth': 8, 'lambda_l2': 0.03627700684534656}. Best is trial 11 with value: 0.3406496421787763.\n",
      "[I 2023-10-06 16:14:27,353] Trial 68 finished with value: 0.3373112564992997 and parameters: {'learning_rate': 0.017494172368347643, 'subsample': 0.7502056663956684, 'num_leaves': 18, 'min_data_in_leaf': 6, 'max_depth': 3, 'lambda_l2': 0.04961489051163602}. Best is trial 11 with value: 0.3406496421787763.\n",
      "[I 2023-10-06 16:14:27,890] Trial 69 finished with value: 0.3051744978031887 and parameters: {'learning_rate': 0.055768573142489765, 'subsample': 0.7375799564520412, 'num_leaves': 58, 'min_data_in_leaf': 12, 'max_depth': 5, 'lambda_l2': 0.007590879656775712}. Best is trial 11 with value: 0.3406496421787763.\n",
      "[I 2023-10-06 16:14:28,266] Trial 70 finished with value: 0.3350664799217206 and parameters: {'learning_rate': 0.010332421152314402, 'subsample': 0.7230188053806818, 'num_leaves': 76, 'min_data_in_leaf': 13, 'max_depth': 3, 'lambda_l2': 0.08886036500153863}. Best is trial 11 with value: 0.3406496421787763.\n",
      "[I 2023-10-06 16:14:28,719] Trial 71 finished with value: 0.3295025037892596 and parameters: {'learning_rate': 0.01968735627528322, 'subsample': 0.7500345136032582, 'num_leaves': 62, 'min_data_in_leaf': 9, 'max_depth': 4, 'lambda_l2': 0.0928726154037281}. Best is trial 11 with value: 0.3406496421787763.\n",
      "[I 2023-10-06 16:14:29,184] Trial 72 finished with value: 0.31735768692081884 and parameters: {'learning_rate': 0.0313627264337972, 'subsample': 0.7534074334753016, 'num_leaves': 67, 'min_data_in_leaf': 10, 'max_depth': 4, 'lambda_l2': 0.04248999192648542}. Best is trial 11 with value: 0.3406496421787763.\n",
      "[I 2023-10-06 16:14:29,693] Trial 73 finished with value: 0.3134437175035015 and parameters: {'learning_rate': 0.04018131453055124, 'subsample': 0.7613560671315597, 'num_leaves': 72, 'min_data_in_leaf': 8, 'max_depth': 4, 'lambda_l2': 0.06830762988625072}. Best is trial 11 with value: 0.3406496421787763.\n",
      "[I 2023-10-06 16:14:30,160] Trial 74 finished with value: 0.3386926574701176 and parameters: {'learning_rate': 0.018785718778590244, 'subsample': 0.7353435561986764, 'num_leaves': 59, 'min_data_in_leaf': 9, 'max_depth': 3, 'lambda_l2': 0.14696063619218527}. Best is trial 11 with value: 0.3406496421787763.\n",
      "[I 2023-10-06 16:14:30,597] Trial 75 finished with value: 0.3292147119203392 and parameters: {'learning_rate': 0.028181870458424026, 'subsample': 0.709538126454407, 'num_leaves': 54, 'min_data_in_leaf': 11, 'max_depth': 3, 'lambda_l2': 0.13846831611438154}. Best is trial 11 with value: 0.3406496421787763.\n",
      "[I 2023-10-06 16:14:31,065] Trial 76 finished with value: 0.3163600084418948 and parameters: {'learning_rate': 0.04842278666085799, 'subsample': 0.7376665001934928, 'num_leaves': 66, 'min_data_in_leaf': 10, 'max_depth': 3, 'lambda_l2': 0.19938300396780523}. Best is trial 11 with value: 0.3406496421787763.\n",
      "[I 2023-10-06 16:14:31,569] Trial 77 finished with value: 0.3208111893478636 and parameters: {'learning_rate': 0.038484848412697586, 'subsample': 0.7263688614872369, 'num_leaves': 44, 'min_data_in_leaf': 7, 'max_depth': 3, 'lambda_l2': 0.23744951335099043}. Best is trial 11 with value: 0.3406496421787763.\n",
      "[I 2023-10-06 16:14:32,062] Trial 78 finished with value: 0.3364670670171332 and parameters: {'learning_rate': 0.015474876853087668, 'subsample': 0.717305635425416, 'num_leaves': 56, 'min_data_in_leaf': 9, 'max_depth': 3, 'lambda_l2': 0.2778300231508555}. Best is trial 11 with value: 0.3406496421787763.\n",
      "[I 2023-10-06 16:14:32,740] Trial 79 finished with value: 0.31181289691295255 and parameters: {'learning_rate': 0.02650537183806776, 'subsample': 0.74297144093849, 'num_leaves': 63, 'min_data_in_leaf': 12, 'max_depth': 5, 'lambda_l2': 0.16272803670394315}. Best is trial 11 with value: 0.3406496421787763.\n",
      "[I 2023-10-06 16:14:33,187] Trial 80 finished with value: 0.3350664799217206 and parameters: {'learning_rate': 0.010689446935558029, 'subsample': 0.769071958024374, 'num_leaves': 48, 'min_data_in_leaf': 11, 'max_depth': 3, 'lambda_l2': 0.11690372805870274}. Best is trial 11 with value: 0.3406496421787763.\n",
      "[I 2023-10-06 16:14:33,711] Trial 81 finished with value: 0.3276414497035744 and parameters: {'learning_rate': 0.021001965425373567, 'subsample': 0.7323547841729169, 'num_leaves': 59, 'min_data_in_leaf': 9, 'max_depth': 4, 'lambda_l2': 0.07997444783099789}. Best is trial 11 with value: 0.3406496421787763.\n",
      "[I 2023-10-06 16:14:34,347] Trial 82 finished with value: 0.3161489610713532 and parameters: {'learning_rate': 0.032811215837306014, 'subsample': 0.7579440538524308, 'num_leaves': 59, 'min_data_in_leaf': 8, 'max_depth': 4, 'lambda_l2': 0.1447847437957391}. Best is trial 11 with value: 0.3406496421787763.\n",
      "[I 2023-10-06 16:14:34,981] Trial 83 finished with value: 0.3379252124863299 and parameters: {'learning_rate': 0.018127315144772036, 'subsample': 0.7766275427492486, 'num_leaves': 52, 'min_data_in_leaf': 10, 'max_depth': 4, 'lambda_l2': 0.19637475673082785}. Best is trial 11 with value: 0.3406496421787763.\n",
      "[I 2023-10-06 16:14:35,504] Trial 84 finished with value: 0.3197751386197502 and parameters: {'learning_rate': 0.04437784877967259, 'subsample': 0.7069977139187387, 'num_leaves': 61, 'min_data_in_leaf': 9, 'max_depth': 3, 'lambda_l2': 0.03543003871551987}. Best is trial 11 with value: 0.3406496421787763.\n",
      "[I 2023-10-06 16:14:36,057] Trial 85 finished with value: 0.3231518965484162 and parameters: {'learning_rate': 0.02511508988536887, 'subsample': 0.7182007098767322, 'num_leaves': 71, 'min_data_in_leaf': 8, 'max_depth': 4, 'lambda_l2': 0.11774155562852419}. Best is trial 11 with value: 0.3406496421787763.\n",
      "[I 2023-10-06 16:14:37,134] Trial 86 finished with value: 0.3041192609504806 and parameters: {'learning_rate': 0.03532666236395443, 'subsample': 0.7448283455753479, 'num_leaves': 56, 'min_data_in_leaf': 10, 'max_depth': 12, 'lambda_l2': 0.2126200247548065}. Best is trial 11 with value: 0.3406496421787763.\n",
      "[I 2023-10-06 16:14:37,901] Trial 87 finished with value: 0.3221542180694921 and parameters: {'learning_rate': 0.016434813424240052, 'subsample': 0.7543552947146979, 'num_leaves': 50, 'min_data_in_leaf': 11, 'max_depth': 5, 'lambda_l2': 0.18031337870039416}. Best is trial 11 with value: 0.3406496421787763.\n",
      "[I 2023-10-06 16:14:38,701] Trial 88 finished with value: 0.3063640375280597 and parameters: {'learning_rate': 0.05252565056532006, 'subsample': 0.7291175579365821, 'num_leaves': 54, 'min_data_in_leaf': 5, 'max_depth': 6, 'lambda_l2': 0.0008571830784964846}. Best is trial 11 with value: 0.3406496421787763.\n",
      "[I 2023-10-06 16:14:39,178] Trial 89 finished with value: 0.3201204888624547 and parameters: {'learning_rate': 0.04477815695319719, 'subsample': 0.7648289456954868, 'num_leaves': 64, 'min_data_in_leaf': 7, 'max_depth': 3, 'lambda_l2': 0.06794036972611182}. Best is trial 11 with value: 0.3406496421787763.\n",
      "[I 2023-10-06 16:14:39,777] Trial 90 finished with value: 0.3202931639838069 and parameters: {'learning_rate': 0.028156556796128343, 'subsample': 0.7353137111673517, 'num_leaves': 58, 'min_data_in_leaf': 14, 'max_depth': 4, 'lambda_l2': 0.09293907818822594}. Best is trial 11 with value: 0.3406496421787763.\n",
      "[I 2023-10-06 16:14:40,324] Trial 91 finished with value: 0.32806354444465763 and parameters: {'learning_rate': 0.020086144814878512, 'subsample': 0.7495181911166771, 'num_leaves': 46, 'min_data_in_leaf': 10, 'max_depth': 4, 'lambda_l2': 0.1027868259370604}. Best is trial 11 with value: 0.3406496421787763.\n",
      "[I 2023-10-06 16:14:40,796] Trial 92 finished with value: 0.33612171677442876 and parameters: {'learning_rate': 0.01497334813220274, 'subsample': 0.742760515989752, 'num_leaves': 57, 'min_data_in_leaf': 9, 'max_depth': 3, 'lambda_l2': 0.15709264987208854}. Best is trial 11 with value: 0.3406496421787763.\n",
      "[I 2023-10-06 16:14:41,647] Trial 93 finished with value: 0.3140001151167476 and parameters: {'learning_rate': 0.022403499051704277, 'subsample': 0.7060771365209266, 'num_leaves': 60, 'min_data_in_leaf': 12, 'max_depth': 5, 'lambda_l2': 0.12614566443867437}. Best is trial 11 with value: 0.3406496421787763.\n",
      "[I 2023-10-06 16:14:42,243] Trial 94 finished with value: 0.32079200322326895 and parameters: {'learning_rate': 0.0374606446015076, 'subsample': 0.7148240569707927, 'num_leaves': 42, 'min_data_in_leaf': 10, 'max_depth': 3, 'lambda_l2': 0.1463770318488754}. Best is trial 11 with value: 0.3406496421787763.\n",
      "[I 2023-10-06 16:14:42,963] Trial 95 finished with value: 0.33548857466280385 and parameters: {'learning_rate': 0.010940445693587935, 'subsample': 0.7239645122971761, 'num_leaves': 49, 'min_data_in_leaf': 13, 'max_depth': 4, 'lambda_l2': 0.06197045782197927}. Best is trial 11 with value: 0.3406496421787763.\n",
      "[I 2023-10-06 16:14:44,213] Trial 96 finished with value: 0.30511693942940465 and parameters: {'learning_rate': 0.03090762541859024, 'subsample': 0.7566732422910322, 'num_leaves': 69, 'min_data_in_leaf': 8, 'max_depth': 10, 'lambda_l2': 0.22941931498580526}. Best is trial 11 with value: 0.3406496421787763.\n",
      "[I 2023-10-06 16:14:44,864] Trial 97 finished with value: 0.3272960994608699 and parameters: {'learning_rate': 0.02252411186853842, 'subsample': 0.7405928371594708, 'num_leaves': 52, 'min_data_in_leaf': 11, 'max_depth': 4, 'lambda_l2': 0.09886592917467679}. Best is trial 11 with value: 0.3406496421787763.\n",
      "[I 2023-10-06 16:14:45,350] Trial 98 finished with value: 0.3208303754724583 and parameters: {'learning_rate': 0.042282407566588256, 'subsample': 0.7298113503049001, 'num_leaves': 63, 'min_data_in_leaf': 10, 'max_depth': 3, 'lambda_l2': 0.12576376953577822}. Best is trial 11 with value: 0.3406496421787763.\n",
      "[I 2023-10-06 16:14:46,066] Trial 99 finished with value: 0.30528961455075687 and parameters: {'learning_rate': 0.05573584905408761, 'subsample': 0.7459670924304154, 'num_leaves': 66, 'min_data_in_leaf': 15, 'max_depth': 5, 'lambda_l2': 0.18068486690779748}. Best is trial 11 with value: 0.3406496421787763.\n"
     ]
    },
    {
     "name": "stdout",
     "output_type": "stream",
     "text": [
      "Number of finished trials: 100\n",
      "Best trial:\n",
      "--------------------------------\n",
      "Best F1 Score: 0.3406496421787763\n",
      "--------------------------------\n",
      "[LightGBM] [Warning] min_data_in_leaf is set=10, min_child_samples=20 will be ignored. Current value: min_data_in_leaf=10\n",
      "[LightGBM] [Warning] lambda_l2 is set=0.6055581384349285, reg_lambda=0.0 will be ignored. Current value: lambda_l2=0.6055581384349285\n",
      "[LightGBM] [Warning] min_data_in_leaf is set=10, min_child_samples=20 will be ignored. Current value: min_data_in_leaf=10\n",
      "[LightGBM] [Warning] lambda_l2 is set=0.6055581384349285, reg_lambda=0.0 will be ignored. Current value: lambda_l2=0.6055581384349285\n",
      "[LightGBM] [Info] Auto-choosing row-wise multi-threading, the overhead of testing was 0.004218 seconds.\n",
      "You can set `force_row_wise=true` to remove the overhead.\n",
      "And if memory is not enough, you can set `force_col_wise=true`.\n",
      "[LightGBM] [Info] Total Bins 152\n",
      "[LightGBM] [Info] Number of data points in the train set: 260601, number of used features: 9\n",
      "[LightGBM] [Info] Start training from score -2.339167\n",
      "[LightGBM] [Info] Start training from score -0.564030\n",
      "[LightGBM] [Info] Start training from score -1.094580\n",
      "[LightGBM] [Warning] No further splits with positive gain, best gain: -inf\n",
      "[LightGBM] [Warning] No further splits with positive gain, best gain: -inf\n",
      "[LightGBM] [Warning] No further splits with positive gain, best gain: -inf\n",
      "[LightGBM] [Warning] No further splits with positive gain, best gain: -inf\n"
     ]
    }
   ],
   "source": [
    "import lgb_optimized\n",
    "# Initiate and optimize model\n",
    "lgb = lgb_optimized.LGBM(X_train, X_valid, y_train, y_valid)"
   ]
  },
  {
   "cell_type": "code",
   "execution_count": 20,
   "metadata": {},
   "outputs": [
    {
     "name": "stdout",
     "output_type": "stream",
     "text": [
      "[LightGBM] [Warning] min_data_in_leaf is set=10, min_child_samples=20 will be ignored. Current value: min_data_in_leaf=10\n",
      "[LightGBM] [Warning] lambda_l2 is set=0.6055581384349285, reg_lambda=0.0 will be ignored. Current value: lambda_l2=0.6055581384349285\n"
     ]
    }
   ],
   "source": [
    "y_pred_lgb = lgb.make_prediction(X_valid)"
   ]
  },
  {
   "cell_type": "markdown",
   "metadata": {},
   "source": [
    "#### Evaluation"
   ]
  },
  {
   "cell_type": "markdown",
   "metadata": {},
   "source": [
    "f1 Score using Logistic Regression"
   ]
  },
  {
   "cell_type": "code",
   "execution_count": 21,
   "metadata": {},
   "outputs": [
    {
     "data": {
      "text/plain": [
       "0.2817870207071116"
      ]
     },
     "execution_count": 21,
     "metadata": {},
     "output_type": "execute_result"
    }
   ],
   "source": [
    "f1_lr = f1_score(y_valid, y_valid_pred_lr, average='macro')\n",
    "f1_lr"
   ]
  },
  {
   "cell_type": "markdown",
   "metadata": {},
   "source": [
    "f1 Score for Random Forest"
   ]
  },
  {
   "cell_type": "code",
   "execution_count": 22,
   "metadata": {},
   "outputs": [
    {
     "data": {
      "text/plain": [
       "0.29989041750315176"
      ]
     },
     "execution_count": 22,
     "metadata": {},
     "output_type": "execute_result"
    }
   ],
   "source": [
    "f1_lgb = f1_score(y_valid, y_pred_lgb, average='macro')\n",
    "f1_lgb"
   ]
  },
  {
   "cell_type": "markdown",
   "metadata": {},
   "source": [
    "### Create prediction on testset"
   ]
  },
  {
   "cell_type": "code",
   "execution_count": 23,
   "metadata": {},
   "outputs": [
    {
     "name": "stdout",
     "output_type": "stream",
     "text": [
      "[LightGBM] [Warning] min_data_in_leaf is set=10, min_child_samples=20 will be ignored. Current value: min_data_in_leaf=10\n",
      "[LightGBM] [Warning] lambda_l2 is set=0.6055581384349285, reg_lambda=0.0 will be ignored. Current value: lambda_l2=0.6055581384349285\n"
     ]
    }
   ],
   "source": [
    "y_pred_lgb = lgb.make_prediction(X_test_pred)"
   ]
  },
  {
   "cell_type": "markdown",
   "metadata": {},
   "source": [
    "Export"
   ]
  },
  {
   "cell_type": "code",
   "execution_count": 24,
   "metadata": {},
   "outputs": [],
   "source": [
    "# Export prediction to creat csv by DrivenData.org datastandards\n",
    "helper_functions.write_output(X_test, y_pred_lgb)"
   ]
  },
  {
   "cell_type": "code",
   "execution_count": 25,
   "metadata": {},
   "outputs": [
    {
     "data": {
      "text/html": [
       "<details>\n",
       "<summary>Click to view session information</summary>\n",
       "<pre>\n",
       "-----\n",
       "helper_functions    NA\n",
       "lgb_optimized       NA\n",
       "log_regression      NA\n",
       "pandas              2.1.1\n",
       "session_info        1.0.0\n",
       "sklearn             1.3.1\n",
       "-----\n",
       "</pre>\n",
       "<details>\n",
       "<summary>Click to view modules imported as dependencies</summary>\n",
       "<pre>\n",
       "PIL                 10.0.1\n",
       "asttokens           NA\n",
       "backcall            0.2.0\n",
       "colorama            0.4.6\n",
       "colorlog            NA\n",
       "comm                0.1.4\n",
       "cycler              0.12.0\n",
       "cython_runtime      NA\n",
       "dateutil            2.8.2\n",
       "debugpy             1.8.0\n",
       "decorator           5.1.1\n",
       "executing           1.2.0\n",
       "greenlet            3.0.0\n",
       "ipykernel           6.25.2\n",
       "ipywidgets          8.1.1\n",
       "jedi                0.19.1\n",
       "joblib              1.3.2\n",
       "kiwisolver          1.4.5\n",
       "lightgbm            4.1.0\n",
       "matplotlib          3.8.0\n",
       "nt                  NA\n",
       "numpy               1.26.0\n",
       "optuna              3.3.0\n",
       "packaging           23.2\n",
       "parso               0.8.3\n",
       "pickleshare         0.7.5\n",
       "platformdirs        3.11.0\n",
       "prompt_toolkit      3.0.39\n",
       "psutil              5.9.5\n",
       "pure_eval           0.2.2\n",
       "pydev_ipython       NA\n",
       "pydevconsole        NA\n",
       "pydevd              2.9.5\n",
       "pydevd_file_utils   NA\n",
       "pydevd_plugins      NA\n",
       "pydevd_tracing      NA\n",
       "pygments            2.16.1\n",
       "pyparsing           3.1.1\n",
       "pytz                2023.3.post1\n",
       "pywin32_bootstrap   NA\n",
       "pywin32_system32    NA\n",
       "scipy               1.11.3\n",
       "six                 1.16.0\n",
       "sqlalchemy          2.0.21\n",
       "stack_data          0.6.2\n",
       "threadpoolctl       3.2.0\n",
       "tornado             6.3.3\n",
       "tqdm                4.66.1\n",
       "traitlets           5.11.2\n",
       "typing_extensions   NA\n",
       "wcwidth             0.2.8\n",
       "zmq                 25.1.1\n",
       "zoneinfo            NA\n",
       "</pre>\n",
       "</details> <!-- seems like this ends pre, so might as well be explicit -->\n",
       "<pre>\n",
       "-----\n",
       "IPython             8.16.1\n",
       "jupyter_client      8.3.1\n",
       "jupyter_core        5.3.2\n",
       "-----\n",
       "Python 3.12.0 | packaged by Anaconda, Inc. | (main, Oct  2 2023, 17:20:38) [MSC v.1916 64 bit (AMD64)]\n",
       "Windows-11-10.0.22621-SP0\n",
       "-----\n",
       "Session information updated at 2023-10-06 16:14\n",
       "</pre>\n",
       "</details>"
      ],
      "text/plain": [
       "<IPython.core.display.HTML object>"
      ]
     },
     "execution_count": 25,
     "metadata": {},
     "output_type": "execute_result"
    }
   ],
   "source": [
    "import session_info\n",
    "session_info.show()"
   ]
  }
 ],
 "metadata": {
  "kernelspec": {
   "display_name": "11_minicomp",
   "language": "python",
   "name": "python3"
  },
  "language_info": {
   "codemirror_mode": {
    "name": "ipython",
    "version": 3
   },
   "file_extension": ".py",
   "mimetype": "text/x-python",
   "name": "python",
   "nbconvert_exporter": "python",
   "pygments_lexer": "ipython3",
   "version": "3.11.6"
  }
 },
 "nbformat": 4,
 "nbformat_minor": 2
}
